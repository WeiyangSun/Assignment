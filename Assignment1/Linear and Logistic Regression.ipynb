{
 "cells": [
  {
   "cell_type": "code",
   "execution_count": 1,
   "metadata": {},
   "outputs": [
    {
     "name": "stderr",
     "output_type": "stream",
     "text": [
      "/Users/Weiyang/anaconda3/lib/python3.6/site-packages/statsmodels/compat/pandas.py:56: FutureWarning: The pandas.core.datetools module is deprecated and will be removed in a future version. Please use the pandas.tseries module instead.\n",
      "  from pandas.core import datetools\n"
     ]
    }
   ],
   "source": [
    "import pandas as pd\n",
    "import numpy as np\n",
    "import matplotlib.pyplot as plt\n",
    "\n",
    "import os\n",
    "import seaborn as sns\n",
    "\n",
    "from sklearn.model_selection import train_test_split\n",
    "from sklearn.linear_model import LogisticRegression\n",
    "from sklearn.linear_model import LinearRegression, Lasso, Ridge\n",
    "from sklearn.preprocessing import MinMaxScaler\n",
    "from sklearn.metrics import confusion_matrix, mean_squared_error, r2_score, mean_absolute_error\n",
    "\n",
    "import statsmodels.api as sm\n",
    "\n",
    "from sklearn.decomposition import FactorAnalysis"
   ]
  },
  {
   "cell_type": "code",
   "execution_count": 2,
   "metadata": {
    "collapsed": true
   },
   "outputs": [],
   "source": [
    "%matplotlib inline"
   ]
  },
  {
   "cell_type": "code",
   "execution_count": 3,
   "metadata": {
    "collapsed": true
   },
   "outputs": [],
   "source": [
    "pd.set_option('display.width', 4000)\n",
    "pd.set_option('max_colwidth', 4000)\n",
    "pd.set_option('max_columns', 200)\n",
    "pd.set_option('max_rows', 200)"
   ]
  },
  {
   "cell_type": "code",
   "execution_count": 4,
   "metadata": {
    "collapsed": true
   },
   "outputs": [],
   "source": [
    "os.chdir('/Users/Weiyang/Desktop/Git/Assignment/Assignment1/Data')"
   ]
  },
  {
   "cell_type": "code",
   "execution_count": 5,
   "metadata": {
    "collapsed": true
   },
   "outputs": [],
   "source": [
    "dataset = pd.read_csv('student-mat.csv', delimiter = ';')"
   ]
  },
  {
   "cell_type": "markdown",
   "metadata": {},
   "source": [
    "### Inspecting Data"
   ]
  },
  {
   "cell_type": "code",
   "execution_count": 6,
   "metadata": {},
   "outputs": [
    {
     "data": {
      "text/html": [
       "<div>\n",
       "<style>\n",
       "    .dataframe thead tr:only-child th {\n",
       "        text-align: right;\n",
       "    }\n",
       "\n",
       "    .dataframe thead th {\n",
       "        text-align: left;\n",
       "    }\n",
       "\n",
       "    .dataframe tbody tr th {\n",
       "        vertical-align: top;\n",
       "    }\n",
       "</style>\n",
       "<table border=\"1\" class=\"dataframe\">\n",
       "  <thead>\n",
       "    <tr style=\"text-align: right;\">\n",
       "      <th></th>\n",
       "      <th>school</th>\n",
       "      <th>sex</th>\n",
       "      <th>age</th>\n",
       "      <th>address</th>\n",
       "      <th>famsize</th>\n",
       "      <th>Pstatus</th>\n",
       "      <th>Medu</th>\n",
       "      <th>Fedu</th>\n",
       "      <th>Mjob</th>\n",
       "      <th>Fjob</th>\n",
       "      <th>reason</th>\n",
       "      <th>guardian</th>\n",
       "      <th>traveltime</th>\n",
       "      <th>studytime</th>\n",
       "      <th>failures</th>\n",
       "      <th>schoolsup</th>\n",
       "      <th>famsup</th>\n",
       "      <th>paid</th>\n",
       "      <th>activities</th>\n",
       "      <th>nursery</th>\n",
       "      <th>higher</th>\n",
       "      <th>internet</th>\n",
       "      <th>romantic</th>\n",
       "      <th>famrel</th>\n",
       "      <th>freetime</th>\n",
       "      <th>goout</th>\n",
       "      <th>Dalc</th>\n",
       "      <th>Walc</th>\n",
       "      <th>health</th>\n",
       "      <th>absences</th>\n",
       "      <th>G1</th>\n",
       "      <th>G2</th>\n",
       "      <th>G3</th>\n",
       "    </tr>\n",
       "  </thead>\n",
       "  <tbody>\n",
       "    <tr>\n",
       "      <th>0</th>\n",
       "      <td>GP</td>\n",
       "      <td>F</td>\n",
       "      <td>18</td>\n",
       "      <td>U</td>\n",
       "      <td>GT3</td>\n",
       "      <td>A</td>\n",
       "      <td>4</td>\n",
       "      <td>4</td>\n",
       "      <td>at_home</td>\n",
       "      <td>teacher</td>\n",
       "      <td>course</td>\n",
       "      <td>mother</td>\n",
       "      <td>2</td>\n",
       "      <td>2</td>\n",
       "      <td>0</td>\n",
       "      <td>yes</td>\n",
       "      <td>no</td>\n",
       "      <td>no</td>\n",
       "      <td>no</td>\n",
       "      <td>yes</td>\n",
       "      <td>yes</td>\n",
       "      <td>no</td>\n",
       "      <td>no</td>\n",
       "      <td>4</td>\n",
       "      <td>3</td>\n",
       "      <td>4</td>\n",
       "      <td>1</td>\n",
       "      <td>1</td>\n",
       "      <td>3</td>\n",
       "      <td>6</td>\n",
       "      <td>5</td>\n",
       "      <td>6</td>\n",
       "      <td>6</td>\n",
       "    </tr>\n",
       "    <tr>\n",
       "      <th>1</th>\n",
       "      <td>GP</td>\n",
       "      <td>F</td>\n",
       "      <td>17</td>\n",
       "      <td>U</td>\n",
       "      <td>GT3</td>\n",
       "      <td>T</td>\n",
       "      <td>1</td>\n",
       "      <td>1</td>\n",
       "      <td>at_home</td>\n",
       "      <td>other</td>\n",
       "      <td>course</td>\n",
       "      <td>father</td>\n",
       "      <td>1</td>\n",
       "      <td>2</td>\n",
       "      <td>0</td>\n",
       "      <td>no</td>\n",
       "      <td>yes</td>\n",
       "      <td>no</td>\n",
       "      <td>no</td>\n",
       "      <td>no</td>\n",
       "      <td>yes</td>\n",
       "      <td>yes</td>\n",
       "      <td>no</td>\n",
       "      <td>5</td>\n",
       "      <td>3</td>\n",
       "      <td>3</td>\n",
       "      <td>1</td>\n",
       "      <td>1</td>\n",
       "      <td>3</td>\n",
       "      <td>4</td>\n",
       "      <td>5</td>\n",
       "      <td>5</td>\n",
       "      <td>6</td>\n",
       "    </tr>\n",
       "    <tr>\n",
       "      <th>2</th>\n",
       "      <td>GP</td>\n",
       "      <td>F</td>\n",
       "      <td>15</td>\n",
       "      <td>U</td>\n",
       "      <td>LE3</td>\n",
       "      <td>T</td>\n",
       "      <td>1</td>\n",
       "      <td>1</td>\n",
       "      <td>at_home</td>\n",
       "      <td>other</td>\n",
       "      <td>other</td>\n",
       "      <td>mother</td>\n",
       "      <td>1</td>\n",
       "      <td>2</td>\n",
       "      <td>3</td>\n",
       "      <td>yes</td>\n",
       "      <td>no</td>\n",
       "      <td>yes</td>\n",
       "      <td>no</td>\n",
       "      <td>yes</td>\n",
       "      <td>yes</td>\n",
       "      <td>yes</td>\n",
       "      <td>no</td>\n",
       "      <td>4</td>\n",
       "      <td>3</td>\n",
       "      <td>2</td>\n",
       "      <td>2</td>\n",
       "      <td>3</td>\n",
       "      <td>3</td>\n",
       "      <td>10</td>\n",
       "      <td>7</td>\n",
       "      <td>8</td>\n",
       "      <td>10</td>\n",
       "    </tr>\n",
       "    <tr>\n",
       "      <th>3</th>\n",
       "      <td>GP</td>\n",
       "      <td>F</td>\n",
       "      <td>15</td>\n",
       "      <td>U</td>\n",
       "      <td>GT3</td>\n",
       "      <td>T</td>\n",
       "      <td>4</td>\n",
       "      <td>2</td>\n",
       "      <td>health</td>\n",
       "      <td>services</td>\n",
       "      <td>home</td>\n",
       "      <td>mother</td>\n",
       "      <td>1</td>\n",
       "      <td>3</td>\n",
       "      <td>0</td>\n",
       "      <td>no</td>\n",
       "      <td>yes</td>\n",
       "      <td>yes</td>\n",
       "      <td>yes</td>\n",
       "      <td>yes</td>\n",
       "      <td>yes</td>\n",
       "      <td>yes</td>\n",
       "      <td>yes</td>\n",
       "      <td>3</td>\n",
       "      <td>2</td>\n",
       "      <td>2</td>\n",
       "      <td>1</td>\n",
       "      <td>1</td>\n",
       "      <td>5</td>\n",
       "      <td>2</td>\n",
       "      <td>15</td>\n",
       "      <td>14</td>\n",
       "      <td>15</td>\n",
       "    </tr>\n",
       "    <tr>\n",
       "      <th>4</th>\n",
       "      <td>GP</td>\n",
       "      <td>F</td>\n",
       "      <td>16</td>\n",
       "      <td>U</td>\n",
       "      <td>GT3</td>\n",
       "      <td>T</td>\n",
       "      <td>3</td>\n",
       "      <td>3</td>\n",
       "      <td>other</td>\n",
       "      <td>other</td>\n",
       "      <td>home</td>\n",
       "      <td>father</td>\n",
       "      <td>1</td>\n",
       "      <td>2</td>\n",
       "      <td>0</td>\n",
       "      <td>no</td>\n",
       "      <td>yes</td>\n",
       "      <td>yes</td>\n",
       "      <td>no</td>\n",
       "      <td>yes</td>\n",
       "      <td>yes</td>\n",
       "      <td>no</td>\n",
       "      <td>no</td>\n",
       "      <td>4</td>\n",
       "      <td>3</td>\n",
       "      <td>2</td>\n",
       "      <td>1</td>\n",
       "      <td>2</td>\n",
       "      <td>5</td>\n",
       "      <td>4</td>\n",
       "      <td>6</td>\n",
       "      <td>10</td>\n",
       "      <td>10</td>\n",
       "    </tr>\n",
       "  </tbody>\n",
       "</table>\n",
       "</div>"
      ],
      "text/plain": [
       "  school sex  age address famsize Pstatus  Medu  Fedu     Mjob      Fjob  reason guardian  traveltime  studytime  failures schoolsup famsup paid activities nursery higher internet romantic  famrel  freetime  goout  Dalc  Walc  health  absences  G1  G2  G3\n",
       "0     GP   F   18       U     GT3       A     4     4  at_home   teacher  course   mother           2          2         0       yes     no   no         no     yes    yes       no       no       4         3      4     1     1       3         6   5   6   6\n",
       "1     GP   F   17       U     GT3       T     1     1  at_home     other  course   father           1          2         0        no    yes   no         no      no    yes      yes       no       5         3      3     1     1       3         4   5   5   6\n",
       "2     GP   F   15       U     LE3       T     1     1  at_home     other   other   mother           1          2         3       yes     no  yes         no     yes    yes      yes       no       4         3      2     2     3       3        10   7   8  10\n",
       "3     GP   F   15       U     GT3       T     4     2   health  services    home   mother           1          3         0        no    yes  yes        yes     yes    yes      yes      yes       3         2      2     1     1       5         2  15  14  15\n",
       "4     GP   F   16       U     GT3       T     3     3    other     other    home   father           1          2         0        no    yes  yes         no     yes    yes       no       no       4         3      2     1     2       5         4   6  10  10"
      ]
     },
     "execution_count": 6,
     "metadata": {},
     "output_type": "execute_result"
    }
   ],
   "source": [
    "dataset.head()"
   ]
  },
  {
   "cell_type": "code",
   "execution_count": 7,
   "metadata": {},
   "outputs": [
    {
     "data": {
      "text/html": [
       "<div>\n",
       "<style>\n",
       "    .dataframe thead tr:only-child th {\n",
       "        text-align: right;\n",
       "    }\n",
       "\n",
       "    .dataframe thead th {\n",
       "        text-align: left;\n",
       "    }\n",
       "\n",
       "    .dataframe tbody tr th {\n",
       "        vertical-align: top;\n",
       "    }\n",
       "</style>\n",
       "<table border=\"1\" class=\"dataframe\">\n",
       "  <thead>\n",
       "    <tr style=\"text-align: right;\">\n",
       "      <th></th>\n",
       "      <th>age</th>\n",
       "      <th>Medu</th>\n",
       "      <th>Fedu</th>\n",
       "      <th>traveltime</th>\n",
       "      <th>studytime</th>\n",
       "      <th>failures</th>\n",
       "      <th>famrel</th>\n",
       "      <th>freetime</th>\n",
       "      <th>goout</th>\n",
       "      <th>Dalc</th>\n",
       "      <th>Walc</th>\n",
       "      <th>health</th>\n",
       "      <th>absences</th>\n",
       "      <th>G1</th>\n",
       "      <th>G2</th>\n",
       "      <th>G3</th>\n",
       "    </tr>\n",
       "  </thead>\n",
       "  <tbody>\n",
       "    <tr>\n",
       "      <th>count</th>\n",
       "      <td>395.000000</td>\n",
       "      <td>395.000000</td>\n",
       "      <td>395.000000</td>\n",
       "      <td>395.000000</td>\n",
       "      <td>395.000000</td>\n",
       "      <td>395.000000</td>\n",
       "      <td>395.000000</td>\n",
       "      <td>395.000000</td>\n",
       "      <td>395.000000</td>\n",
       "      <td>395.000000</td>\n",
       "      <td>395.000000</td>\n",
       "      <td>395.000000</td>\n",
       "      <td>395.000000</td>\n",
       "      <td>395.000000</td>\n",
       "      <td>395.000000</td>\n",
       "      <td>395.000000</td>\n",
       "    </tr>\n",
       "    <tr>\n",
       "      <th>mean</th>\n",
       "      <td>16.696203</td>\n",
       "      <td>2.749367</td>\n",
       "      <td>2.521519</td>\n",
       "      <td>1.448101</td>\n",
       "      <td>2.035443</td>\n",
       "      <td>0.334177</td>\n",
       "      <td>3.944304</td>\n",
       "      <td>3.235443</td>\n",
       "      <td>3.108861</td>\n",
       "      <td>1.481013</td>\n",
       "      <td>2.291139</td>\n",
       "      <td>3.554430</td>\n",
       "      <td>5.708861</td>\n",
       "      <td>10.908861</td>\n",
       "      <td>10.713924</td>\n",
       "      <td>10.415190</td>\n",
       "    </tr>\n",
       "    <tr>\n",
       "      <th>std</th>\n",
       "      <td>1.276043</td>\n",
       "      <td>1.094735</td>\n",
       "      <td>1.088201</td>\n",
       "      <td>0.697505</td>\n",
       "      <td>0.839240</td>\n",
       "      <td>0.743651</td>\n",
       "      <td>0.896659</td>\n",
       "      <td>0.998862</td>\n",
       "      <td>1.113278</td>\n",
       "      <td>0.890741</td>\n",
       "      <td>1.287897</td>\n",
       "      <td>1.390303</td>\n",
       "      <td>8.003096</td>\n",
       "      <td>3.319195</td>\n",
       "      <td>3.761505</td>\n",
       "      <td>4.581443</td>\n",
       "    </tr>\n",
       "    <tr>\n",
       "      <th>min</th>\n",
       "      <td>15.000000</td>\n",
       "      <td>0.000000</td>\n",
       "      <td>0.000000</td>\n",
       "      <td>1.000000</td>\n",
       "      <td>1.000000</td>\n",
       "      <td>0.000000</td>\n",
       "      <td>1.000000</td>\n",
       "      <td>1.000000</td>\n",
       "      <td>1.000000</td>\n",
       "      <td>1.000000</td>\n",
       "      <td>1.000000</td>\n",
       "      <td>1.000000</td>\n",
       "      <td>0.000000</td>\n",
       "      <td>3.000000</td>\n",
       "      <td>0.000000</td>\n",
       "      <td>0.000000</td>\n",
       "    </tr>\n",
       "    <tr>\n",
       "      <th>25%</th>\n",
       "      <td>16.000000</td>\n",
       "      <td>2.000000</td>\n",
       "      <td>2.000000</td>\n",
       "      <td>1.000000</td>\n",
       "      <td>1.000000</td>\n",
       "      <td>0.000000</td>\n",
       "      <td>4.000000</td>\n",
       "      <td>3.000000</td>\n",
       "      <td>2.000000</td>\n",
       "      <td>1.000000</td>\n",
       "      <td>1.000000</td>\n",
       "      <td>3.000000</td>\n",
       "      <td>0.000000</td>\n",
       "      <td>8.000000</td>\n",
       "      <td>9.000000</td>\n",
       "      <td>8.000000</td>\n",
       "    </tr>\n",
       "    <tr>\n",
       "      <th>50%</th>\n",
       "      <td>17.000000</td>\n",
       "      <td>3.000000</td>\n",
       "      <td>2.000000</td>\n",
       "      <td>1.000000</td>\n",
       "      <td>2.000000</td>\n",
       "      <td>0.000000</td>\n",
       "      <td>4.000000</td>\n",
       "      <td>3.000000</td>\n",
       "      <td>3.000000</td>\n",
       "      <td>1.000000</td>\n",
       "      <td>2.000000</td>\n",
       "      <td>4.000000</td>\n",
       "      <td>4.000000</td>\n",
       "      <td>11.000000</td>\n",
       "      <td>11.000000</td>\n",
       "      <td>11.000000</td>\n",
       "    </tr>\n",
       "    <tr>\n",
       "      <th>75%</th>\n",
       "      <td>18.000000</td>\n",
       "      <td>4.000000</td>\n",
       "      <td>3.000000</td>\n",
       "      <td>2.000000</td>\n",
       "      <td>2.000000</td>\n",
       "      <td>0.000000</td>\n",
       "      <td>5.000000</td>\n",
       "      <td>4.000000</td>\n",
       "      <td>4.000000</td>\n",
       "      <td>2.000000</td>\n",
       "      <td>3.000000</td>\n",
       "      <td>5.000000</td>\n",
       "      <td>8.000000</td>\n",
       "      <td>13.000000</td>\n",
       "      <td>13.000000</td>\n",
       "      <td>14.000000</td>\n",
       "    </tr>\n",
       "    <tr>\n",
       "      <th>max</th>\n",
       "      <td>22.000000</td>\n",
       "      <td>4.000000</td>\n",
       "      <td>4.000000</td>\n",
       "      <td>4.000000</td>\n",
       "      <td>4.000000</td>\n",
       "      <td>3.000000</td>\n",
       "      <td>5.000000</td>\n",
       "      <td>5.000000</td>\n",
       "      <td>5.000000</td>\n",
       "      <td>5.000000</td>\n",
       "      <td>5.000000</td>\n",
       "      <td>5.000000</td>\n",
       "      <td>75.000000</td>\n",
       "      <td>19.000000</td>\n",
       "      <td>19.000000</td>\n",
       "      <td>20.000000</td>\n",
       "    </tr>\n",
       "  </tbody>\n",
       "</table>\n",
       "</div>"
      ],
      "text/plain": [
       "              age        Medu        Fedu  traveltime   studytime    failures      famrel    freetime       goout        Dalc        Walc      health    absences          G1          G2          G3\n",
       "count  395.000000  395.000000  395.000000  395.000000  395.000000  395.000000  395.000000  395.000000  395.000000  395.000000  395.000000  395.000000  395.000000  395.000000  395.000000  395.000000\n",
       "mean    16.696203    2.749367    2.521519    1.448101    2.035443    0.334177    3.944304    3.235443    3.108861    1.481013    2.291139    3.554430    5.708861   10.908861   10.713924   10.415190\n",
       "std      1.276043    1.094735    1.088201    0.697505    0.839240    0.743651    0.896659    0.998862    1.113278    0.890741    1.287897    1.390303    8.003096    3.319195    3.761505    4.581443\n",
       "min     15.000000    0.000000    0.000000    1.000000    1.000000    0.000000    1.000000    1.000000    1.000000    1.000000    1.000000    1.000000    0.000000    3.000000    0.000000    0.000000\n",
       "25%     16.000000    2.000000    2.000000    1.000000    1.000000    0.000000    4.000000    3.000000    2.000000    1.000000    1.000000    3.000000    0.000000    8.000000    9.000000    8.000000\n",
       "50%     17.000000    3.000000    2.000000    1.000000    2.000000    0.000000    4.000000    3.000000    3.000000    1.000000    2.000000    4.000000    4.000000   11.000000   11.000000   11.000000\n",
       "75%     18.000000    4.000000    3.000000    2.000000    2.000000    0.000000    5.000000    4.000000    4.000000    2.000000    3.000000    5.000000    8.000000   13.000000   13.000000   14.000000\n",
       "max     22.000000    4.000000    4.000000    4.000000    4.000000    3.000000    5.000000    5.000000    5.000000    5.000000    5.000000    5.000000   75.000000   19.000000   19.000000   20.000000"
      ]
     },
     "execution_count": 7,
     "metadata": {},
     "output_type": "execute_result"
    }
   ],
   "source": [
    "dataset.describe()"
   ]
  },
  {
   "cell_type": "code",
   "execution_count": 8,
   "metadata": {},
   "outputs": [
    {
     "data": {
      "text/html": [
       "<div>\n",
       "<style>\n",
       "    .dataframe thead tr:only-child th {\n",
       "        text-align: right;\n",
       "    }\n",
       "\n",
       "    .dataframe thead th {\n",
       "        text-align: left;\n",
       "    }\n",
       "\n",
       "    .dataframe tbody tr th {\n",
       "        vertical-align: top;\n",
       "    }\n",
       "</style>\n",
       "<table border=\"1\" class=\"dataframe\">\n",
       "  <thead>\n",
       "    <tr style=\"text-align: right;\">\n",
       "      <th></th>\n",
       "      <th>school</th>\n",
       "      <th>sex</th>\n",
       "      <th>address</th>\n",
       "      <th>famsize</th>\n",
       "      <th>Pstatus</th>\n",
       "      <th>Mjob</th>\n",
       "      <th>Fjob</th>\n",
       "      <th>reason</th>\n",
       "      <th>guardian</th>\n",
       "      <th>schoolsup</th>\n",
       "      <th>famsup</th>\n",
       "      <th>paid</th>\n",
       "      <th>activities</th>\n",
       "      <th>nursery</th>\n",
       "      <th>higher</th>\n",
       "      <th>internet</th>\n",
       "      <th>romantic</th>\n",
       "    </tr>\n",
       "  </thead>\n",
       "  <tbody>\n",
       "    <tr>\n",
       "      <th>count</th>\n",
       "      <td>395</td>\n",
       "      <td>395</td>\n",
       "      <td>395</td>\n",
       "      <td>395</td>\n",
       "      <td>395</td>\n",
       "      <td>395</td>\n",
       "      <td>395</td>\n",
       "      <td>395</td>\n",
       "      <td>395</td>\n",
       "      <td>395</td>\n",
       "      <td>395</td>\n",
       "      <td>395</td>\n",
       "      <td>395</td>\n",
       "      <td>395</td>\n",
       "      <td>395</td>\n",
       "      <td>395</td>\n",
       "      <td>395</td>\n",
       "    </tr>\n",
       "    <tr>\n",
       "      <th>unique</th>\n",
       "      <td>2</td>\n",
       "      <td>2</td>\n",
       "      <td>2</td>\n",
       "      <td>2</td>\n",
       "      <td>2</td>\n",
       "      <td>5</td>\n",
       "      <td>5</td>\n",
       "      <td>4</td>\n",
       "      <td>3</td>\n",
       "      <td>2</td>\n",
       "      <td>2</td>\n",
       "      <td>2</td>\n",
       "      <td>2</td>\n",
       "      <td>2</td>\n",
       "      <td>2</td>\n",
       "      <td>2</td>\n",
       "      <td>2</td>\n",
       "    </tr>\n",
       "    <tr>\n",
       "      <th>top</th>\n",
       "      <td>GP</td>\n",
       "      <td>F</td>\n",
       "      <td>U</td>\n",
       "      <td>GT3</td>\n",
       "      <td>T</td>\n",
       "      <td>other</td>\n",
       "      <td>other</td>\n",
       "      <td>course</td>\n",
       "      <td>mother</td>\n",
       "      <td>no</td>\n",
       "      <td>yes</td>\n",
       "      <td>no</td>\n",
       "      <td>yes</td>\n",
       "      <td>yes</td>\n",
       "      <td>yes</td>\n",
       "      <td>yes</td>\n",
       "      <td>no</td>\n",
       "    </tr>\n",
       "    <tr>\n",
       "      <th>freq</th>\n",
       "      <td>349</td>\n",
       "      <td>208</td>\n",
       "      <td>307</td>\n",
       "      <td>281</td>\n",
       "      <td>354</td>\n",
       "      <td>141</td>\n",
       "      <td>217</td>\n",
       "      <td>145</td>\n",
       "      <td>273</td>\n",
       "      <td>344</td>\n",
       "      <td>242</td>\n",
       "      <td>214</td>\n",
       "      <td>201</td>\n",
       "      <td>314</td>\n",
       "      <td>375</td>\n",
       "      <td>329</td>\n",
       "      <td>263</td>\n",
       "    </tr>\n",
       "  </tbody>\n",
       "</table>\n",
       "</div>"
      ],
      "text/plain": [
       "       school  sex address famsize Pstatus   Mjob   Fjob  reason guardian schoolsup famsup paid activities nursery higher internet romantic\n",
       "count     395  395     395     395     395    395    395     395      395       395    395  395        395     395    395      395      395\n",
       "unique      2    2       2       2       2      5      5       4        3         2      2    2          2       2      2        2        2\n",
       "top        GP    F       U     GT3       T  other  other  course   mother        no    yes   no        yes     yes    yes      yes       no\n",
       "freq      349  208     307     281     354    141    217     145      273       344    242  214        201     314    375      329      263"
      ]
     },
     "execution_count": 8,
     "metadata": {},
     "output_type": "execute_result"
    }
   ],
   "source": [
    "dataset.describe(include=['O'])"
   ]
  },
  {
   "cell_type": "code",
   "execution_count": 9,
   "metadata": {},
   "outputs": [
    {
     "data": {
      "text/plain": [
       "school        object\n",
       "sex           object\n",
       "age            int64\n",
       "address       object\n",
       "famsize       object\n",
       "Pstatus       object\n",
       "Medu           int64\n",
       "Fedu           int64\n",
       "Mjob          object\n",
       "Fjob          object\n",
       "reason        object\n",
       "guardian      object\n",
       "traveltime     int64\n",
       "studytime      int64\n",
       "failures       int64\n",
       "schoolsup     object\n",
       "famsup        object\n",
       "paid          object\n",
       "activities    object\n",
       "nursery       object\n",
       "higher        object\n",
       "internet      object\n",
       "romantic      object\n",
       "famrel         int64\n",
       "freetime       int64\n",
       "goout          int64\n",
       "Dalc           int64\n",
       "Walc           int64\n",
       "health         int64\n",
       "absences       int64\n",
       "G1             int64\n",
       "G2             int64\n",
       "G3             int64\n",
       "dtype: object"
      ]
     },
     "execution_count": 9,
     "metadata": {},
     "output_type": "execute_result"
    }
   ],
   "source": [
    "dataset.dtypes"
   ]
  },
  {
   "cell_type": "code",
   "execution_count": 10,
   "metadata": {},
   "outputs": [
    {
     "name": "stdout",
     "output_type": "stream",
     "text": [
      "<class 'pandas.core.frame.DataFrame'>\n",
      "RangeIndex: 395 entries, 0 to 394\n",
      "Data columns (total 33 columns):\n",
      "school        395 non-null object\n",
      "sex           395 non-null object\n",
      "age           395 non-null int64\n",
      "address       395 non-null object\n",
      "famsize       395 non-null object\n",
      "Pstatus       395 non-null object\n",
      "Medu          395 non-null int64\n",
      "Fedu          395 non-null int64\n",
      "Mjob          395 non-null object\n",
      "Fjob          395 non-null object\n",
      "reason        395 non-null object\n",
      "guardian      395 non-null object\n",
      "traveltime    395 non-null int64\n",
      "studytime     395 non-null int64\n",
      "failures      395 non-null int64\n",
      "schoolsup     395 non-null object\n",
      "famsup        395 non-null object\n",
      "paid          395 non-null object\n",
      "activities    395 non-null object\n",
      "nursery       395 non-null object\n",
      "higher        395 non-null object\n",
      "internet      395 non-null object\n",
      "romantic      395 non-null object\n",
      "famrel        395 non-null int64\n",
      "freetime      395 non-null int64\n",
      "goout         395 non-null int64\n",
      "Dalc          395 non-null int64\n",
      "Walc          395 non-null int64\n",
      "health        395 non-null int64\n",
      "absences      395 non-null int64\n",
      "G1            395 non-null int64\n",
      "G2            395 non-null int64\n",
      "G3            395 non-null int64\n",
      "dtypes: int64(16), object(17)\n",
      "memory usage: 101.9+ KB\n"
     ]
    }
   ],
   "source": [
    "dataset.info()"
   ]
  },
  {
   "cell_type": "markdown",
   "metadata": {},
   "source": [
    "##### Comments:\n",
    "\n",
    "##### 1) Since there are no unique IDs to identify students, each row shall be assumed as an individual (i.e. 395 students)\n",
    "\n",
    "##### 2) There are no null values in the dataset"
   ]
  },
  {
   "cell_type": "code",
   "execution_count": 11,
   "metadata": {
    "collapsed": true
   },
   "outputs": [],
   "source": [
    "def unique_counts(dataset):\n",
    "    for i in dataset.columns:\n",
    "        count = dataset[i].nunique()\n",
    "        print('There are {} unique values in {}.'.format(count, i))"
   ]
  },
  {
   "cell_type": "code",
   "execution_count": 12,
   "metadata": {},
   "outputs": [
    {
     "name": "stdout",
     "output_type": "stream",
     "text": [
      "There are 2 unique values in school.\n",
      "There are 2 unique values in sex.\n",
      "There are 8 unique values in age.\n",
      "There are 2 unique values in address.\n",
      "There are 2 unique values in famsize.\n",
      "There are 2 unique values in Pstatus.\n",
      "There are 5 unique values in Medu.\n",
      "There are 5 unique values in Fedu.\n",
      "There are 5 unique values in Mjob.\n",
      "There are 5 unique values in Fjob.\n",
      "There are 4 unique values in reason.\n",
      "There are 3 unique values in guardian.\n",
      "There are 4 unique values in traveltime.\n",
      "There are 4 unique values in studytime.\n",
      "There are 4 unique values in failures.\n",
      "There are 2 unique values in schoolsup.\n",
      "There are 2 unique values in famsup.\n",
      "There are 2 unique values in paid.\n",
      "There are 2 unique values in activities.\n",
      "There are 2 unique values in nursery.\n",
      "There are 2 unique values in higher.\n",
      "There are 2 unique values in internet.\n",
      "There are 2 unique values in romantic.\n",
      "There are 5 unique values in famrel.\n",
      "There are 5 unique values in freetime.\n",
      "There are 5 unique values in goout.\n",
      "There are 5 unique values in Dalc.\n",
      "There are 5 unique values in Walc.\n",
      "There are 5 unique values in health.\n",
      "There are 34 unique values in absences.\n",
      "There are 17 unique values in G1.\n",
      "There are 17 unique values in G2.\n",
      "There are 18 unique values in G3.\n"
     ]
    }
   ],
   "source": [
    "unique_counts(dataset)"
   ]
  },
  {
   "cell_type": "markdown",
   "metadata": {},
   "source": [
    "### Copy Dataset out"
   ]
  },
  {
   "cell_type": "code",
   "execution_count": 13,
   "metadata": {
    "collapsed": true
   },
   "outputs": [],
   "source": [
    "sample_dataset = dataset.copy()"
   ]
  },
  {
   "cell_type": "markdown",
   "metadata": {},
   "source": [
    "### Data Pre-processing"
   ]
  },
  {
   "cell_type": "code",
   "execution_count": 14,
   "metadata": {
    "collapsed": true
   },
   "outputs": [],
   "source": [
    "for i in list(dataset.columns.values):\n",
    "    \n",
    "    if dataset[i].dtypes == 'object':\n",
    "        \n",
    "        df = pd.get_dummies(dataset[i], prefix=i)\n",
    "        dataset = pd.concat([dataset, df], axis = 1)\n",
    "        dataset = dataset.drop(i, axis = 1)"
   ]
  },
  {
   "cell_type": "code",
   "execution_count": 15,
   "metadata": {},
   "outputs": [
    {
     "data": {
      "text/html": [
       "<div>\n",
       "<style>\n",
       "    .dataframe thead tr:only-child th {\n",
       "        text-align: right;\n",
       "    }\n",
       "\n",
       "    .dataframe thead th {\n",
       "        text-align: left;\n",
       "    }\n",
       "\n",
       "    .dataframe tbody tr th {\n",
       "        vertical-align: top;\n",
       "    }\n",
       "</style>\n",
       "<table border=\"1\" class=\"dataframe\">\n",
       "  <thead>\n",
       "    <tr style=\"text-align: right;\">\n",
       "      <th></th>\n",
       "      <th>age</th>\n",
       "      <th>Medu</th>\n",
       "      <th>Fedu</th>\n",
       "      <th>traveltime</th>\n",
       "      <th>studytime</th>\n",
       "      <th>failures</th>\n",
       "      <th>famrel</th>\n",
       "      <th>freetime</th>\n",
       "      <th>goout</th>\n",
       "      <th>Dalc</th>\n",
       "      <th>Walc</th>\n",
       "      <th>health</th>\n",
       "      <th>absences</th>\n",
       "      <th>G1</th>\n",
       "      <th>G2</th>\n",
       "      <th>G3</th>\n",
       "      <th>school_GP</th>\n",
       "      <th>school_MS</th>\n",
       "      <th>sex_F</th>\n",
       "      <th>sex_M</th>\n",
       "      <th>address_R</th>\n",
       "      <th>address_U</th>\n",
       "      <th>famsize_GT3</th>\n",
       "      <th>famsize_LE3</th>\n",
       "      <th>Pstatus_A</th>\n",
       "      <th>Pstatus_T</th>\n",
       "      <th>Mjob_at_home</th>\n",
       "      <th>Mjob_health</th>\n",
       "      <th>Mjob_other</th>\n",
       "      <th>Mjob_services</th>\n",
       "      <th>Mjob_teacher</th>\n",
       "      <th>Fjob_at_home</th>\n",
       "      <th>Fjob_health</th>\n",
       "      <th>Fjob_other</th>\n",
       "      <th>Fjob_services</th>\n",
       "      <th>Fjob_teacher</th>\n",
       "      <th>reason_course</th>\n",
       "      <th>reason_home</th>\n",
       "      <th>reason_other</th>\n",
       "      <th>reason_reputation</th>\n",
       "      <th>guardian_father</th>\n",
       "      <th>guardian_mother</th>\n",
       "      <th>guardian_other</th>\n",
       "      <th>schoolsup_no</th>\n",
       "      <th>schoolsup_yes</th>\n",
       "      <th>famsup_no</th>\n",
       "      <th>famsup_yes</th>\n",
       "      <th>paid_no</th>\n",
       "      <th>paid_yes</th>\n",
       "      <th>activities_no</th>\n",
       "      <th>activities_yes</th>\n",
       "      <th>nursery_no</th>\n",
       "      <th>nursery_yes</th>\n",
       "      <th>higher_no</th>\n",
       "      <th>higher_yes</th>\n",
       "      <th>internet_no</th>\n",
       "      <th>internet_yes</th>\n",
       "      <th>romantic_no</th>\n",
       "      <th>romantic_yes</th>\n",
       "    </tr>\n",
       "  </thead>\n",
       "  <tbody>\n",
       "    <tr>\n",
       "      <th>0</th>\n",
       "      <td>18</td>\n",
       "      <td>4</td>\n",
       "      <td>4</td>\n",
       "      <td>2</td>\n",
       "      <td>2</td>\n",
       "      <td>0</td>\n",
       "      <td>4</td>\n",
       "      <td>3</td>\n",
       "      <td>4</td>\n",
       "      <td>1</td>\n",
       "      <td>1</td>\n",
       "      <td>3</td>\n",
       "      <td>6</td>\n",
       "      <td>5</td>\n",
       "      <td>6</td>\n",
       "      <td>6</td>\n",
       "      <td>1</td>\n",
       "      <td>0</td>\n",
       "      <td>1</td>\n",
       "      <td>0</td>\n",
       "      <td>0</td>\n",
       "      <td>1</td>\n",
       "      <td>1</td>\n",
       "      <td>0</td>\n",
       "      <td>1</td>\n",
       "      <td>0</td>\n",
       "      <td>1</td>\n",
       "      <td>0</td>\n",
       "      <td>0</td>\n",
       "      <td>0</td>\n",
       "      <td>0</td>\n",
       "      <td>0</td>\n",
       "      <td>0</td>\n",
       "      <td>0</td>\n",
       "      <td>0</td>\n",
       "      <td>1</td>\n",
       "      <td>1</td>\n",
       "      <td>0</td>\n",
       "      <td>0</td>\n",
       "      <td>0</td>\n",
       "      <td>0</td>\n",
       "      <td>1</td>\n",
       "      <td>0</td>\n",
       "      <td>0</td>\n",
       "      <td>1</td>\n",
       "      <td>1</td>\n",
       "      <td>0</td>\n",
       "      <td>1</td>\n",
       "      <td>0</td>\n",
       "      <td>1</td>\n",
       "      <td>0</td>\n",
       "      <td>0</td>\n",
       "      <td>1</td>\n",
       "      <td>0</td>\n",
       "      <td>1</td>\n",
       "      <td>1</td>\n",
       "      <td>0</td>\n",
       "      <td>1</td>\n",
       "      <td>0</td>\n",
       "    </tr>\n",
       "    <tr>\n",
       "      <th>1</th>\n",
       "      <td>17</td>\n",
       "      <td>1</td>\n",
       "      <td>1</td>\n",
       "      <td>1</td>\n",
       "      <td>2</td>\n",
       "      <td>0</td>\n",
       "      <td>5</td>\n",
       "      <td>3</td>\n",
       "      <td>3</td>\n",
       "      <td>1</td>\n",
       "      <td>1</td>\n",
       "      <td>3</td>\n",
       "      <td>4</td>\n",
       "      <td>5</td>\n",
       "      <td>5</td>\n",
       "      <td>6</td>\n",
       "      <td>1</td>\n",
       "      <td>0</td>\n",
       "      <td>1</td>\n",
       "      <td>0</td>\n",
       "      <td>0</td>\n",
       "      <td>1</td>\n",
       "      <td>1</td>\n",
       "      <td>0</td>\n",
       "      <td>0</td>\n",
       "      <td>1</td>\n",
       "      <td>1</td>\n",
       "      <td>0</td>\n",
       "      <td>0</td>\n",
       "      <td>0</td>\n",
       "      <td>0</td>\n",
       "      <td>0</td>\n",
       "      <td>0</td>\n",
       "      <td>1</td>\n",
       "      <td>0</td>\n",
       "      <td>0</td>\n",
       "      <td>1</td>\n",
       "      <td>0</td>\n",
       "      <td>0</td>\n",
       "      <td>0</td>\n",
       "      <td>1</td>\n",
       "      <td>0</td>\n",
       "      <td>0</td>\n",
       "      <td>1</td>\n",
       "      <td>0</td>\n",
       "      <td>0</td>\n",
       "      <td>1</td>\n",
       "      <td>1</td>\n",
       "      <td>0</td>\n",
       "      <td>1</td>\n",
       "      <td>0</td>\n",
       "      <td>1</td>\n",
       "      <td>0</td>\n",
       "      <td>0</td>\n",
       "      <td>1</td>\n",
       "      <td>0</td>\n",
       "      <td>1</td>\n",
       "      <td>1</td>\n",
       "      <td>0</td>\n",
       "    </tr>\n",
       "    <tr>\n",
       "      <th>2</th>\n",
       "      <td>15</td>\n",
       "      <td>1</td>\n",
       "      <td>1</td>\n",
       "      <td>1</td>\n",
       "      <td>2</td>\n",
       "      <td>3</td>\n",
       "      <td>4</td>\n",
       "      <td>3</td>\n",
       "      <td>2</td>\n",
       "      <td>2</td>\n",
       "      <td>3</td>\n",
       "      <td>3</td>\n",
       "      <td>10</td>\n",
       "      <td>7</td>\n",
       "      <td>8</td>\n",
       "      <td>10</td>\n",
       "      <td>1</td>\n",
       "      <td>0</td>\n",
       "      <td>1</td>\n",
       "      <td>0</td>\n",
       "      <td>0</td>\n",
       "      <td>1</td>\n",
       "      <td>0</td>\n",
       "      <td>1</td>\n",
       "      <td>0</td>\n",
       "      <td>1</td>\n",
       "      <td>1</td>\n",
       "      <td>0</td>\n",
       "      <td>0</td>\n",
       "      <td>0</td>\n",
       "      <td>0</td>\n",
       "      <td>0</td>\n",
       "      <td>0</td>\n",
       "      <td>1</td>\n",
       "      <td>0</td>\n",
       "      <td>0</td>\n",
       "      <td>0</td>\n",
       "      <td>0</td>\n",
       "      <td>1</td>\n",
       "      <td>0</td>\n",
       "      <td>0</td>\n",
       "      <td>1</td>\n",
       "      <td>0</td>\n",
       "      <td>0</td>\n",
       "      <td>1</td>\n",
       "      <td>1</td>\n",
       "      <td>0</td>\n",
       "      <td>0</td>\n",
       "      <td>1</td>\n",
       "      <td>1</td>\n",
       "      <td>0</td>\n",
       "      <td>0</td>\n",
       "      <td>1</td>\n",
       "      <td>0</td>\n",
       "      <td>1</td>\n",
       "      <td>0</td>\n",
       "      <td>1</td>\n",
       "      <td>1</td>\n",
       "      <td>0</td>\n",
       "    </tr>\n",
       "    <tr>\n",
       "      <th>3</th>\n",
       "      <td>15</td>\n",
       "      <td>4</td>\n",
       "      <td>2</td>\n",
       "      <td>1</td>\n",
       "      <td>3</td>\n",
       "      <td>0</td>\n",
       "      <td>3</td>\n",
       "      <td>2</td>\n",
       "      <td>2</td>\n",
       "      <td>1</td>\n",
       "      <td>1</td>\n",
       "      <td>5</td>\n",
       "      <td>2</td>\n",
       "      <td>15</td>\n",
       "      <td>14</td>\n",
       "      <td>15</td>\n",
       "      <td>1</td>\n",
       "      <td>0</td>\n",
       "      <td>1</td>\n",
       "      <td>0</td>\n",
       "      <td>0</td>\n",
       "      <td>1</td>\n",
       "      <td>1</td>\n",
       "      <td>0</td>\n",
       "      <td>0</td>\n",
       "      <td>1</td>\n",
       "      <td>0</td>\n",
       "      <td>1</td>\n",
       "      <td>0</td>\n",
       "      <td>0</td>\n",
       "      <td>0</td>\n",
       "      <td>0</td>\n",
       "      <td>0</td>\n",
       "      <td>0</td>\n",
       "      <td>1</td>\n",
       "      <td>0</td>\n",
       "      <td>0</td>\n",
       "      <td>1</td>\n",
       "      <td>0</td>\n",
       "      <td>0</td>\n",
       "      <td>0</td>\n",
       "      <td>1</td>\n",
       "      <td>0</td>\n",
       "      <td>1</td>\n",
       "      <td>0</td>\n",
       "      <td>0</td>\n",
       "      <td>1</td>\n",
       "      <td>0</td>\n",
       "      <td>1</td>\n",
       "      <td>0</td>\n",
       "      <td>1</td>\n",
       "      <td>0</td>\n",
       "      <td>1</td>\n",
       "      <td>0</td>\n",
       "      <td>1</td>\n",
       "      <td>0</td>\n",
       "      <td>1</td>\n",
       "      <td>0</td>\n",
       "      <td>1</td>\n",
       "    </tr>\n",
       "    <tr>\n",
       "      <th>4</th>\n",
       "      <td>16</td>\n",
       "      <td>3</td>\n",
       "      <td>3</td>\n",
       "      <td>1</td>\n",
       "      <td>2</td>\n",
       "      <td>0</td>\n",
       "      <td>4</td>\n",
       "      <td>3</td>\n",
       "      <td>2</td>\n",
       "      <td>1</td>\n",
       "      <td>2</td>\n",
       "      <td>5</td>\n",
       "      <td>4</td>\n",
       "      <td>6</td>\n",
       "      <td>10</td>\n",
       "      <td>10</td>\n",
       "      <td>1</td>\n",
       "      <td>0</td>\n",
       "      <td>1</td>\n",
       "      <td>0</td>\n",
       "      <td>0</td>\n",
       "      <td>1</td>\n",
       "      <td>1</td>\n",
       "      <td>0</td>\n",
       "      <td>0</td>\n",
       "      <td>1</td>\n",
       "      <td>0</td>\n",
       "      <td>0</td>\n",
       "      <td>1</td>\n",
       "      <td>0</td>\n",
       "      <td>0</td>\n",
       "      <td>0</td>\n",
       "      <td>0</td>\n",
       "      <td>1</td>\n",
       "      <td>0</td>\n",
       "      <td>0</td>\n",
       "      <td>0</td>\n",
       "      <td>1</td>\n",
       "      <td>0</td>\n",
       "      <td>0</td>\n",
       "      <td>1</td>\n",
       "      <td>0</td>\n",
       "      <td>0</td>\n",
       "      <td>1</td>\n",
       "      <td>0</td>\n",
       "      <td>0</td>\n",
       "      <td>1</td>\n",
       "      <td>0</td>\n",
       "      <td>1</td>\n",
       "      <td>1</td>\n",
       "      <td>0</td>\n",
       "      <td>0</td>\n",
       "      <td>1</td>\n",
       "      <td>0</td>\n",
       "      <td>1</td>\n",
       "      <td>1</td>\n",
       "      <td>0</td>\n",
       "      <td>1</td>\n",
       "      <td>0</td>\n",
       "    </tr>\n",
       "  </tbody>\n",
       "</table>\n",
       "</div>"
      ],
      "text/plain": [
       "   age  Medu  Fedu  traveltime  studytime  failures  famrel  freetime  goout  Dalc  Walc  health  absences  G1  G2  G3  school_GP  school_MS  sex_F  sex_M  address_R  address_U  famsize_GT3  famsize_LE3  Pstatus_A  Pstatus_T  Mjob_at_home  Mjob_health  Mjob_other  Mjob_services  Mjob_teacher  Fjob_at_home  Fjob_health  Fjob_other  Fjob_services  Fjob_teacher  reason_course  reason_home  reason_other  reason_reputation  guardian_father  guardian_mother  guardian_other  schoolsup_no  schoolsup_yes  famsup_no  famsup_yes  paid_no  paid_yes  activities_no  activities_yes  nursery_no  nursery_yes  higher_no  higher_yes  internet_no  internet_yes  romantic_no  romantic_yes\n",
       "0   18     4     4           2          2         0       4         3      4     1     1       3         6   5   6   6          1          0      1      0          0          1            1            0          1          0             1            0           0              0             0             0            0           0              0             1              1            0             0                  0                0                1               0             0              1          1           0        1         0              1               0           0            1          0           1            1             0            1             0\n",
       "1   17     1     1           1          2         0       5         3      3     1     1       3         4   5   5   6          1          0      1      0          0          1            1            0          0          1             1            0           0              0             0             0            0           1              0             0              1            0             0                  0                1                0               0             1              0          0           1        1         0              1               0           1            0          0           1            0             1            1             0\n",
       "2   15     1     1           1          2         3       4         3      2     2     3       3        10   7   8  10          1          0      1      0          0          1            0            1          0          1             1            0           0              0             0             0            0           1              0             0              0            0             1                  0                0                1               0             0              1          1           0        0         1              1               0           0            1          0           1            0             1            1             0\n",
       "3   15     4     2           1          3         0       3         2      2     1     1       5         2  15  14  15          1          0      1      0          0          1            1            0          0          1             0            1           0              0             0             0            0           0              1             0              0            1             0                  0                0                1               0             1              0          0           1        0         1              0               1           0            1          0           1            0             1            0             1\n",
       "4   16     3     3           1          2         0       4         3      2     1     2       5         4   6  10  10          1          0      1      0          0          1            1            0          0          1             0            0           1              0             0             0            0           1              0             0              0            1             0                  0                1                0               0             1              0          0           1        0         1              1               0           0            1          0           1            1             0            1             0"
      ]
     },
     "execution_count": 15,
     "metadata": {},
     "output_type": "execute_result"
    }
   ],
   "source": [
    "dataset.head()"
   ]
  },
  {
   "cell_type": "markdown",
   "metadata": {},
   "source": [
    "#### For dummies variables:\n",
    "\n",
    "#### 1) Base reference for school = school_MS (Mousinho)\n",
    "\n",
    "#### 2) Base reference for sex = sex_M (Male)\n",
    "\n",
    "#### 3) Base reference for address = address_R (Rural)\n",
    "\n",
    "#### 4) Base reference for family size = famsize_LE3 (Equal or less than 3)\n",
    "\n",
    "#### 5) Base reference for parent cohabitation status = Pstatus_A (Apart)\n",
    "\n",
    "#### 6) Base reference for mother's job = Mjob_teacher (Teacher)\n",
    "\n",
    "#### 7) Base reference for father's job = Fjob_teacher (Teacher)\n",
    "\n",
    "#### 8) Base reference for choosing school = reason_other (Others)\n",
    "\n",
    "#### 9) Base reference for guardian = guardian_other (Others)"
   ]
  },
  {
   "cell_type": "code",
   "execution_count": 16,
   "metadata": {},
   "outputs": [
    {
     "data": {
      "text/html": [
       "<div>\n",
       "<style>\n",
       "    .dataframe thead tr:only-child th {\n",
       "        text-align: right;\n",
       "    }\n",
       "\n",
       "    .dataframe thead th {\n",
       "        text-align: left;\n",
       "    }\n",
       "\n",
       "    .dataframe tbody tr th {\n",
       "        vertical-align: top;\n",
       "    }\n",
       "</style>\n",
       "<table border=\"1\" class=\"dataframe\">\n",
       "  <thead>\n",
       "    <tr style=\"text-align: right;\">\n",
       "      <th></th>\n",
       "      <th>age</th>\n",
       "      <th>Medu</th>\n",
       "      <th>Fedu</th>\n",
       "      <th>traveltime</th>\n",
       "      <th>studytime</th>\n",
       "      <th>failures</th>\n",
       "      <th>famrel</th>\n",
       "      <th>freetime</th>\n",
       "      <th>goout</th>\n",
       "      <th>Dalc</th>\n",
       "      <th>Walc</th>\n",
       "      <th>health</th>\n",
       "      <th>absences</th>\n",
       "      <th>G1</th>\n",
       "      <th>G2</th>\n",
       "      <th>G3</th>\n",
       "      <th>school_GP</th>\n",
       "      <th>school_MS</th>\n",
       "      <th>sex_F</th>\n",
       "      <th>sex_M</th>\n",
       "      <th>address_R</th>\n",
       "      <th>address_U</th>\n",
       "      <th>famsize_GT3</th>\n",
       "      <th>famsize_LE3</th>\n",
       "      <th>Pstatus_A</th>\n",
       "      <th>Pstatus_T</th>\n",
       "      <th>Mjob_at_home</th>\n",
       "      <th>Mjob_health</th>\n",
       "      <th>Mjob_other</th>\n",
       "      <th>Mjob_services</th>\n",
       "      <th>Mjob_teacher</th>\n",
       "      <th>Fjob_at_home</th>\n",
       "      <th>Fjob_health</th>\n",
       "      <th>Fjob_other</th>\n",
       "      <th>Fjob_services</th>\n",
       "      <th>Fjob_teacher</th>\n",
       "      <th>reason_course</th>\n",
       "      <th>reason_home</th>\n",
       "      <th>reason_other</th>\n",
       "      <th>reason_reputation</th>\n",
       "      <th>guardian_father</th>\n",
       "      <th>guardian_mother</th>\n",
       "      <th>guardian_other</th>\n",
       "      <th>schoolsup_no</th>\n",
       "      <th>schoolsup_yes</th>\n",
       "      <th>famsup_no</th>\n",
       "      <th>famsup_yes</th>\n",
       "      <th>paid_no</th>\n",
       "      <th>paid_yes</th>\n",
       "      <th>activities_no</th>\n",
       "      <th>activities_yes</th>\n",
       "      <th>nursery_no</th>\n",
       "      <th>nursery_yes</th>\n",
       "      <th>higher_no</th>\n",
       "      <th>higher_yes</th>\n",
       "      <th>internet_no</th>\n",
       "      <th>internet_yes</th>\n",
       "      <th>romantic_no</th>\n",
       "      <th>romantic_yes</th>\n",
       "    </tr>\n",
       "  </thead>\n",
       "  <tbody>\n",
       "    <tr>\n",
       "      <th>0</th>\n",
       "      <td>18</td>\n",
       "      <td>4</td>\n",
       "      <td>4</td>\n",
       "      <td>2</td>\n",
       "      <td>2</td>\n",
       "      <td>0</td>\n",
       "      <td>4</td>\n",
       "      <td>3</td>\n",
       "      <td>4</td>\n",
       "      <td>1</td>\n",
       "      <td>1</td>\n",
       "      <td>3</td>\n",
       "      <td>6</td>\n",
       "      <td>5</td>\n",
       "      <td>6</td>\n",
       "      <td>6</td>\n",
       "      <td>1</td>\n",
       "      <td>0</td>\n",
       "      <td>1</td>\n",
       "      <td>0</td>\n",
       "      <td>0</td>\n",
       "      <td>1</td>\n",
       "      <td>1</td>\n",
       "      <td>0</td>\n",
       "      <td>1</td>\n",
       "      <td>0</td>\n",
       "      <td>1</td>\n",
       "      <td>0</td>\n",
       "      <td>0</td>\n",
       "      <td>0</td>\n",
       "      <td>0</td>\n",
       "      <td>0</td>\n",
       "      <td>0</td>\n",
       "      <td>0</td>\n",
       "      <td>0</td>\n",
       "      <td>1</td>\n",
       "      <td>1</td>\n",
       "      <td>0</td>\n",
       "      <td>0</td>\n",
       "      <td>0</td>\n",
       "      <td>0</td>\n",
       "      <td>1</td>\n",
       "      <td>0</td>\n",
       "      <td>0</td>\n",
       "      <td>1</td>\n",
       "      <td>1</td>\n",
       "      <td>0</td>\n",
       "      <td>1</td>\n",
       "      <td>0</td>\n",
       "      <td>1</td>\n",
       "      <td>0</td>\n",
       "      <td>0</td>\n",
       "      <td>1</td>\n",
       "      <td>0</td>\n",
       "      <td>1</td>\n",
       "      <td>1</td>\n",
       "      <td>0</td>\n",
       "      <td>1</td>\n",
       "      <td>0</td>\n",
       "    </tr>\n",
       "    <tr>\n",
       "      <th>1</th>\n",
       "      <td>17</td>\n",
       "      <td>1</td>\n",
       "      <td>1</td>\n",
       "      <td>1</td>\n",
       "      <td>2</td>\n",
       "      <td>0</td>\n",
       "      <td>5</td>\n",
       "      <td>3</td>\n",
       "      <td>3</td>\n",
       "      <td>1</td>\n",
       "      <td>1</td>\n",
       "      <td>3</td>\n",
       "      <td>4</td>\n",
       "      <td>5</td>\n",
       "      <td>5</td>\n",
       "      <td>6</td>\n",
       "      <td>1</td>\n",
       "      <td>0</td>\n",
       "      <td>1</td>\n",
       "      <td>0</td>\n",
       "      <td>0</td>\n",
       "      <td>1</td>\n",
       "      <td>1</td>\n",
       "      <td>0</td>\n",
       "      <td>0</td>\n",
       "      <td>1</td>\n",
       "      <td>1</td>\n",
       "      <td>0</td>\n",
       "      <td>0</td>\n",
       "      <td>0</td>\n",
       "      <td>0</td>\n",
       "      <td>0</td>\n",
       "      <td>0</td>\n",
       "      <td>1</td>\n",
       "      <td>0</td>\n",
       "      <td>0</td>\n",
       "      <td>1</td>\n",
       "      <td>0</td>\n",
       "      <td>0</td>\n",
       "      <td>0</td>\n",
       "      <td>1</td>\n",
       "      <td>0</td>\n",
       "      <td>0</td>\n",
       "      <td>1</td>\n",
       "      <td>0</td>\n",
       "      <td>0</td>\n",
       "      <td>1</td>\n",
       "      <td>1</td>\n",
       "      <td>0</td>\n",
       "      <td>1</td>\n",
       "      <td>0</td>\n",
       "      <td>1</td>\n",
       "      <td>0</td>\n",
       "      <td>0</td>\n",
       "      <td>1</td>\n",
       "      <td>0</td>\n",
       "      <td>1</td>\n",
       "      <td>1</td>\n",
       "      <td>0</td>\n",
       "    </tr>\n",
       "    <tr>\n",
       "      <th>2</th>\n",
       "      <td>15</td>\n",
       "      <td>1</td>\n",
       "      <td>1</td>\n",
       "      <td>1</td>\n",
       "      <td>2</td>\n",
       "      <td>3</td>\n",
       "      <td>4</td>\n",
       "      <td>3</td>\n",
       "      <td>2</td>\n",
       "      <td>2</td>\n",
       "      <td>3</td>\n",
       "      <td>3</td>\n",
       "      <td>10</td>\n",
       "      <td>7</td>\n",
       "      <td>8</td>\n",
       "      <td>10</td>\n",
       "      <td>1</td>\n",
       "      <td>0</td>\n",
       "      <td>1</td>\n",
       "      <td>0</td>\n",
       "      <td>0</td>\n",
       "      <td>1</td>\n",
       "      <td>0</td>\n",
       "      <td>1</td>\n",
       "      <td>0</td>\n",
       "      <td>1</td>\n",
       "      <td>1</td>\n",
       "      <td>0</td>\n",
       "      <td>0</td>\n",
       "      <td>0</td>\n",
       "      <td>0</td>\n",
       "      <td>0</td>\n",
       "      <td>0</td>\n",
       "      <td>1</td>\n",
       "      <td>0</td>\n",
       "      <td>0</td>\n",
       "      <td>0</td>\n",
       "      <td>0</td>\n",
       "      <td>1</td>\n",
       "      <td>0</td>\n",
       "      <td>0</td>\n",
       "      <td>1</td>\n",
       "      <td>0</td>\n",
       "      <td>0</td>\n",
       "      <td>1</td>\n",
       "      <td>1</td>\n",
       "      <td>0</td>\n",
       "      <td>0</td>\n",
       "      <td>1</td>\n",
       "      <td>1</td>\n",
       "      <td>0</td>\n",
       "      <td>0</td>\n",
       "      <td>1</td>\n",
       "      <td>0</td>\n",
       "      <td>1</td>\n",
       "      <td>0</td>\n",
       "      <td>1</td>\n",
       "      <td>1</td>\n",
       "      <td>0</td>\n",
       "    </tr>\n",
       "    <tr>\n",
       "      <th>3</th>\n",
       "      <td>15</td>\n",
       "      <td>4</td>\n",
       "      <td>2</td>\n",
       "      <td>1</td>\n",
       "      <td>3</td>\n",
       "      <td>0</td>\n",
       "      <td>3</td>\n",
       "      <td>2</td>\n",
       "      <td>2</td>\n",
       "      <td>1</td>\n",
       "      <td>1</td>\n",
       "      <td>5</td>\n",
       "      <td>2</td>\n",
       "      <td>15</td>\n",
       "      <td>14</td>\n",
       "      <td>15</td>\n",
       "      <td>1</td>\n",
       "      <td>0</td>\n",
       "      <td>1</td>\n",
       "      <td>0</td>\n",
       "      <td>0</td>\n",
       "      <td>1</td>\n",
       "      <td>1</td>\n",
       "      <td>0</td>\n",
       "      <td>0</td>\n",
       "      <td>1</td>\n",
       "      <td>0</td>\n",
       "      <td>1</td>\n",
       "      <td>0</td>\n",
       "      <td>0</td>\n",
       "      <td>0</td>\n",
       "      <td>0</td>\n",
       "      <td>0</td>\n",
       "      <td>0</td>\n",
       "      <td>1</td>\n",
       "      <td>0</td>\n",
       "      <td>0</td>\n",
       "      <td>1</td>\n",
       "      <td>0</td>\n",
       "      <td>0</td>\n",
       "      <td>0</td>\n",
       "      <td>1</td>\n",
       "      <td>0</td>\n",
       "      <td>1</td>\n",
       "      <td>0</td>\n",
       "      <td>0</td>\n",
       "      <td>1</td>\n",
       "      <td>0</td>\n",
       "      <td>1</td>\n",
       "      <td>0</td>\n",
       "      <td>1</td>\n",
       "      <td>0</td>\n",
       "      <td>1</td>\n",
       "      <td>0</td>\n",
       "      <td>1</td>\n",
       "      <td>0</td>\n",
       "      <td>1</td>\n",
       "      <td>0</td>\n",
       "      <td>1</td>\n",
       "    </tr>\n",
       "    <tr>\n",
       "      <th>4</th>\n",
       "      <td>16</td>\n",
       "      <td>3</td>\n",
       "      <td>3</td>\n",
       "      <td>1</td>\n",
       "      <td>2</td>\n",
       "      <td>0</td>\n",
       "      <td>4</td>\n",
       "      <td>3</td>\n",
       "      <td>2</td>\n",
       "      <td>1</td>\n",
       "      <td>2</td>\n",
       "      <td>5</td>\n",
       "      <td>4</td>\n",
       "      <td>6</td>\n",
       "      <td>10</td>\n",
       "      <td>10</td>\n",
       "      <td>1</td>\n",
       "      <td>0</td>\n",
       "      <td>1</td>\n",
       "      <td>0</td>\n",
       "      <td>0</td>\n",
       "      <td>1</td>\n",
       "      <td>1</td>\n",
       "      <td>0</td>\n",
       "      <td>0</td>\n",
       "      <td>1</td>\n",
       "      <td>0</td>\n",
       "      <td>0</td>\n",
       "      <td>1</td>\n",
       "      <td>0</td>\n",
       "      <td>0</td>\n",
       "      <td>0</td>\n",
       "      <td>0</td>\n",
       "      <td>1</td>\n",
       "      <td>0</td>\n",
       "      <td>0</td>\n",
       "      <td>0</td>\n",
       "      <td>1</td>\n",
       "      <td>0</td>\n",
       "      <td>0</td>\n",
       "      <td>1</td>\n",
       "      <td>0</td>\n",
       "      <td>0</td>\n",
       "      <td>1</td>\n",
       "      <td>0</td>\n",
       "      <td>0</td>\n",
       "      <td>1</td>\n",
       "      <td>0</td>\n",
       "      <td>1</td>\n",
       "      <td>1</td>\n",
       "      <td>0</td>\n",
       "      <td>0</td>\n",
       "      <td>1</td>\n",
       "      <td>0</td>\n",
       "      <td>1</td>\n",
       "      <td>1</td>\n",
       "      <td>0</td>\n",
       "      <td>1</td>\n",
       "      <td>0</td>\n",
       "    </tr>\n",
       "  </tbody>\n",
       "</table>\n",
       "</div>"
      ],
      "text/plain": [
       "   age  Medu  Fedu  traveltime  studytime  failures  famrel  freetime  goout  Dalc  Walc  health  absences  G1  G2  G3  school_GP  school_MS  sex_F  sex_M  address_R  address_U  famsize_GT3  famsize_LE3  Pstatus_A  Pstatus_T  Mjob_at_home  Mjob_health  Mjob_other  Mjob_services  Mjob_teacher  Fjob_at_home  Fjob_health  Fjob_other  Fjob_services  Fjob_teacher  reason_course  reason_home  reason_other  reason_reputation  guardian_father  guardian_mother  guardian_other  schoolsup_no  schoolsup_yes  famsup_no  famsup_yes  paid_no  paid_yes  activities_no  activities_yes  nursery_no  nursery_yes  higher_no  higher_yes  internet_no  internet_yes  romantic_no  romantic_yes\n",
       "0   18     4     4           2          2         0       4         3      4     1     1       3         6   5   6   6          1          0      1      0          0          1            1            0          1          0             1            0           0              0             0             0            0           0              0             1              1            0             0                  0                0                1               0             0              1          1           0        1         0              1               0           0            1          0           1            1             0            1             0\n",
       "1   17     1     1           1          2         0       5         3      3     1     1       3         4   5   5   6          1          0      1      0          0          1            1            0          0          1             1            0           0              0             0             0            0           1              0             0              1            0             0                  0                1                0               0             1              0          0           1        1         0              1               0           1            0          0           1            0             1            1             0\n",
       "2   15     1     1           1          2         3       4         3      2     2     3       3        10   7   8  10          1          0      1      0          0          1            0            1          0          1             1            0           0              0             0             0            0           1              0             0              0            0             1                  0                0                1               0             0              1          1           0        0         1              1               0           0            1          0           1            0             1            1             0\n",
       "3   15     4     2           1          3         0       3         2      2     1     1       5         2  15  14  15          1          0      1      0          0          1            1            0          0          1             0            1           0              0             0             0            0           0              1             0              0            1             0                  0                0                1               0             1              0          0           1        0         1              0               1           0            1          0           1            0             1            0             1\n",
       "4   16     3     3           1          2         0       4         3      2     1     2       5         4   6  10  10          1          0      1      0          0          1            1            0          0          1             0            0           1              0             0             0            0           1              0             0              0            1             0                  0                1                0               0             1              0          0           1        0         1              1               0           0            1          0           1            1             0            1             0"
      ]
     },
     "execution_count": 16,
     "metadata": {},
     "output_type": "execute_result"
    }
   ],
   "source": [
    "dataset.head()"
   ]
  },
  {
   "cell_type": "code",
   "execution_count": 17,
   "metadata": {
    "collapsed": true
   },
   "outputs": [],
   "source": [
    "dataset = dataset.drop(['school_MS', 'sex_M', 'address_R', 'famsize_LE3', 'Pstatus_A', 'Mjob_teacher', 'Fjob_teacher' , 'reason_other', 'guardian_other', 'schoolsup_no', 'famsup_no', 'paid_no', 'activities_no', 'nursery_no', 'higher_no', 'internet_no', 'romantic_no'], axis = 1)"
   ]
  },
  {
   "cell_type": "markdown",
   "metadata": {},
   "source": [
    "### Subsetting the Data based on requirements"
   ]
  },
  {
   "cell_type": "code",
   "execution_count": 18,
   "metadata": {
    "collapsed": true
   },
   "outputs": [],
   "source": [
    "not_interested = ['G1', 'G2']"
   ]
  },
  {
   "cell_type": "code",
   "execution_count": 19,
   "metadata": {
    "collapsed": true
   },
   "outputs": [],
   "source": [
    "interested = [col for col in dataset.columns if col not in not_interested]"
   ]
  },
  {
   "cell_type": "code",
   "execution_count": 20,
   "metadata": {
    "collapsed": true
   },
   "outputs": [],
   "source": [
    "interested_dataset = dataset[interested]"
   ]
  },
  {
   "cell_type": "markdown",
   "metadata": {},
   "source": [
    "#### Plotting grades using Histograms"
   ]
  },
  {
   "cell_type": "code",
   "execution_count": 21,
   "metadata": {},
   "outputs": [
    {
     "data": {
      "image/png": "[encoded data removed]",
      "text/plain": [
       "<matplotlib.figure.Figure at 0x109b53400>"
      ]
     },
     "metadata": {},
     "output_type": "display_data"
    }
   ],
   "source": [
    "plt.hist(interested_dataset['G3'], bins = 18)\n",
    "plt.xlabel('Grades')\n",
    "plt.ylabel('Count')\n",
    "plt.show()"
   ]
  },
  {
   "cell_type": "code",
   "execution_count": 22,
   "metadata": {
    "scrolled": true
   },
   "outputs": [
    {
     "data": {
      "image/png": "[encoded data removed]",
      "text/plain": [
       "<matplotlib.figure.Figure at 0x10ac754e0>"
      ]
     },
     "metadata": {},
     "output_type": "display_data"
    },
    {
     "data": {
      "image/png": "[encoded data removed]",
      "text/plain": [
       "<matplotlib.figure.Figure at 0x10acd0c88>"
      ]
     },
     "metadata": {},
     "output_type": "display_data"
    },
    {
     "data": {
      "image/png": "[encoded data removed]",
      "text/plain": [
       "<matplotlib.figure.Figure at 0x10ad9a828>"
      ]
     },
     "metadata": {},
     "output_type": "display_data"
    },
    {
     "data": {
      "image/png": "[encoded data removed]",
      "text/plain": [
       "<matplotlib.figure.Figure at 0x1c11ef3048>"
      ]
     },
     "metadata": {},
     "output_type": "display_data"
    },
    {
     "data": {
      "image/png": "[encoded data removed]",
      "text/plain": [
       "<matplotlib.figure.Figure at 0x1c12227e80>"
      ]
     },
     "metadata": {},
     "output_type": "display_data"
    },
    {
     "data": {
      "image/png": "[encoded data removed]",
      "text/plain": [
       "<matplotlib.figure.Figure at 0x1c122f5630>"
      ]
     },
     "metadata": {},
     "output_type": "display_data"
    },
    {
     "data": {
      "image/png": "[encoded data removed]",
      "text/plain": [
       "<matplotlib.figure.Figure at 0x1c11ff6eb8>"
      ]
     },
     "metadata": {},
     "output_type": "display_data"
    },
    {
     "data": {
      "image/png": "[encoded data removed]",
      "text/plain": [
       "<matplotlib.figure.Figure at 0x10ac89cc0>"
      ]
     },
     "metadata": {},
     "output_type": "display_data"
    },
    {
     "data": {
      "image/png": "[encoded data removed]",
      "text/plain": [
       "<matplotlib.figure.Figure at 0x1c11cdcb00>"
      ]
     },
     "metadata": {},
     "output_type": "display_data"
    },
    {
     "data": {
      "image/png": "[encoded data removed]",
      "text/plain": [
       "<matplotlib.figure.Figure at 0x1c1239d438>"
      ]
     },
     "metadata": {},
     "output_type": "display_data"
    },
    {
     "data": {
      "image/png": "[encoded data removed]",
      "text/plain": [
       "<matplotlib.figure.Figure at 0x1c12337da0>"
      ]
     },
     "metadata": {},
     "output_type": "display_data"
    },
    {
     "data": {
      "image/png": "[encoded data removed]",
      "text/plain": [
       "<matplotlib.figure.Figure at 0x10ace0390>"
      ]
     },
     "metadata": {},
     "output_type": "display_data"
    },
    {
     "data": {
      "image/png": "[encoded data removed]",
      "text/plain": [
       "<matplotlib.figure.Figure at 0x10acd4c88>"
      ]
     },
     "metadata": {},
     "output_type": "display_data"
    },
    {
     "data": {
      "image/png": "[encoded data removed]",
      "text/plain": [
       "<matplotlib.figure.Figure at 0x1c12561588>"
      ]
     },
     "metadata": {},
     "output_type": "display_data"
    },
    {
     "data": {
      "image/png": "[encoded data removed]",
      "text/plain": [
       "<matplotlib.figure.Figure at 0x1c11ed44a8>"
      ]
     },
     "metadata": {},
     "output_type": "display_data"
    },
    {
     "data": {
      "image/png": "[encoded data removed]",
      "text/plain": [
       "<matplotlib.figure.Figure at 0x1c1207af98>"
      ]
     },
     "metadata": {},
     "output_type": "display_data"
    },
    {
     "data": {
      "image/png": "[encoded data removed]",
      "text/plain": [
       "<matplotlib.figure.Figure at 0x1c122b3b70>"
      ]
     },
     "metadata": {},
     "output_type": "display_data"
    },
    {
     "data": {
      "image/png": "[encoded data removed]",
      "text/plain": [
       "<matplotlib.figure.Figure at 0x10acfe160>"
      ]
     },
     "metadata": {},
     "output_type": "display_data"
    },
    {
     "data": {
      "image/png": "[encoded data removed]",
      "text/plain": [
       "<matplotlib.figure.Figure at 0x1c12088630>"
      ]
     },
     "metadata": {},
     "output_type": "display_data"
    },
    {
     "data": {
      "image/png": "[encoded data removed]",
      "text/plain": [
       "<matplotlib.figure.Figure at 0x1c11e6d748>"
      ]
     },
     "metadata": {},
     "output_type": "display_data"
    },
    {
     "data": {
      "image/png": "[encoded data removed]",
      "text/plain": [
       "<matplotlib.figure.Figure at 0x10aca9f98>"
      ]
     },
     "metadata": {},
     "output_type": "display_data"
    },
    {
     "data": {
      "image/png": "[encoded data removed]",
      "text/plain": [
       "<matplotlib.figure.Figure at 0x1c124914a8>"
      ]
     },
     "metadata": {},
     "output_type": "display_data"
    },
    {
     "data": {
      "image/png": "[encoded data removed]",
      "text/plain": [
       "<matplotlib.figure.Figure at 0x1c12343ba8>"
      ]
     },
     "metadata": {},
     "output_type": "display_data"
    },
    {
     "data": {
      "image/png": "[encoded data removed]",
      "text/plain": [
       "<matplotlib.figure.Figure at 0x109b81ba8>"
      ]
     },
     "metadata": {},
     "output_type": "display_data"
    },
    {
     "data": {
      "image/png": "[encoded data removed]",
      "text/plain": [
       "<matplotlib.figure.Figure at 0x1c12300b00>"
      ]
     },
     "metadata": {},
     "output_type": "display_data"
    },
    {
     "data": {
      "image/png": "[encoded data removed]",
      "text/plain": [
       "<matplotlib.figure.Figure at 0x1c122e1828>"
      ]
     },
     "metadata": {},
     "output_type": "display_data"
    },
    {
     "data": {
      "image/png": "[encoded data removed]",
      "text/plain": [
       "<matplotlib.figure.Figure at 0x1c122226d8>"
      ]
     },
     "metadata": {},
     "output_type": "display_data"
    },
    {
     "data": {
      "image/png": "[encoded data removed]",
      "text/plain": [
       "<matplotlib.figure.Figure at 0x1c11e7ee48>"
      ]
     },
     "metadata": {},
     "output_type": "display_data"
    },
    {
     "data": {
      "image/png": "[encoded data removed]",
      "text/plain": [
       "<matplotlib.figure.Figure at 0x1c11ed8208>"
      ]
     },
     "metadata": {},
     "output_type": "display_data"
    },
    {
     "data": {
      "image/png": "[encoded data removed]",
      "text/plain": [
       "<matplotlib.figure.Figure at 0x111273c18>"
      ]
     },
     "metadata": {},
     "output_type": "display_data"
    },
    {
     "data": {
      "image/png": "[encoded data removed]",
      "text/plain": [
       "<matplotlib.figure.Figure at 0x1c11e7e860>"
      ]
     },
     "metadata": {},
     "output_type": "display_data"
    },
    {
     "data": {
      "image/png": "[encoded data removed]",
      "text/plain": [
       "<matplotlib.figure.Figure at 0x1c12559a90>"
      ]
     },
     "metadata": {},
     "output_type": "display_data"
    },
    {
     "data": {
      "image/png": "[encoded data removed]",
      "text/plain": [
       "<matplotlib.figure.Figure at 0x1c11f9efd0>"
      ]
     },
     "metadata": {},
     "output_type": "display_data"
    },
    {
     "data": {
      "image/png": "[encoded data removed]",
      "text/plain": [
       "<matplotlib.figure.Figure at 0x10ac824a8>"
      ]
     },
     "metadata": {},
     "output_type": "display_data"
    },
    {
     "data": {
      "image/png": "[encoded data removed]",
      "text/plain": [
       "<matplotlib.figure.Figure at 0x1c124bb438>"
      ]
     },
     "metadata": {},
     "output_type": "display_data"
    },
    {
     "data": {
      "image/png": "[encoded data removed]",
      "text/plain": [
       "<matplotlib.figure.Figure at 0x10acfa5f8>"
      ]
     },
     "metadata": {},
     "output_type": "display_data"
    },
    {
     "data": {
      "image/png": "[encoded data removed]",
      "text/plain": [
       "<matplotlib.figure.Figure at 0x1c11f619b0>"
      ]
     },
     "metadata": {},
     "output_type": "display_data"
    },
    {
     "data": {
      "image/png": "[encoded data removed]",
      "text/plain": [
       "<matplotlib.figure.Figure at 0x1c11ee0a90>"
      ]
     },
     "metadata": {},
     "output_type": "display_data"
    },
    {
     "data": {
      "image/png": "[encoded data removed]",
      "text/plain": [
       "<matplotlib.figure.Figure at 0x10ac85668>"
      ]
     },
     "metadata": {},
     "output_type": "display_data"
    },
    {
     "data": {
      "image/png": "[encoded data removed]",
      "text/plain": [
       "<matplotlib.figure.Figure at 0x1c11fb6208>"
      ]
     },
     "metadata": {},
     "output_type": "display_data"
    }
   ],
   "source": [
    "for i in interested_dataset.columns:\n",
    "    plt.hist(interested_dataset[i], bins = 18)\n",
    "    plt.xlabel(i)\n",
    "    plt.ylabel('Count')\n",
    "    plt.show()   "
   ]
  },
  {
   "cell_type": "code",
   "execution_count": 23,
   "metadata": {},
   "outputs": [
    {
     "data": {
      "text/plain": [
       "count    395.000000\n",
       "mean      10.415190\n",
       "std        4.581443\n",
       "min        0.000000\n",
       "25%        8.000000\n",
       "50%       11.000000\n",
       "75%       14.000000\n",
       "max       20.000000\n",
       "Name: G3, dtype: float64"
      ]
     },
     "execution_count": 23,
     "metadata": {},
     "output_type": "execute_result"
    }
   ],
   "source": [
    "interested_dataset['G3'].describe()"
   ]
  },
  {
   "cell_type": "code",
   "execution_count": 24,
   "metadata": {},
   "outputs": [
    {
     "data": {
      "text/plain": [
       "10    56\n",
       "11    47\n",
       "0     38\n",
       "15    33\n",
       "8     32\n",
       "13    31\n",
       "12    31\n",
       "9     28\n",
       "14    27\n",
       "16    16\n",
       "6     15\n",
       "18    12\n",
       "7      9\n",
       "5      7\n",
       "17     6\n",
       "19     5\n",
       "4      1\n",
       "20     1\n",
       "Name: G3, dtype: int64"
      ]
     },
     "execution_count": 24,
     "metadata": {},
     "output_type": "execute_result"
    }
   ],
   "source": [
    "interested_dataset['G3'].value_counts()"
   ]
  },
  {
   "cell_type": "markdown",
   "metadata": {},
   "source": [
    "##### Comments:\n",
    "\n",
    "##### 1) There are 38 students who scored 0.\n",
    "\n",
    "##### 2) The median value is 11 points.\n",
    "\n",
    "##### 3) The mean value is 10.415 points."
   ]
  },
  {
   "cell_type": "markdown",
   "metadata": {},
   "source": [
    "# Performing Linear Regression (using all variables)"
   ]
  },
  {
   "cell_type": "code",
   "execution_count": 25,
   "metadata": {
    "collapsed": true
   },
   "outputs": [],
   "source": [
    "labels = 'G3'\n",
    "\n",
    "y_labels = interested_dataset[labels]\n",
    "\n",
    "new_list = [i for i in interested_dataset if i != labels]        \n",
    "\n",
    "data = interested_dataset[new_list]"
   ]
  },
  {
   "cell_type": "markdown",
   "metadata": {},
   "source": [
    "### Feature Scaling using Min-Max"
   ]
  },
  {
   "cell_type": "code",
   "execution_count": 26,
   "metadata": {},
   "outputs": [
    {
     "name": "stderr",
     "output_type": "stream",
     "text": [
      "/Users/Weiyang/anaconda3/lib/python3.6/site-packages/sklearn/utils/validation.py:444: DataConversionWarning: Data with input dtype int64 was converted to float64 by MinMaxScaler.\n",
      "  warnings.warn(msg, DataConversionWarning)\n"
     ]
    }
   ],
   "source": [
    "x = data.values #returns a numpy array\n",
    "min_max_scaler = MinMaxScaler()\n",
    "x_scaled = min_max_scaler.fit_transform(x)\n",
    "data = pd.DataFrame(x_scaled,columns=data.columns)"
   ]
  },
  {
   "cell_type": "code",
   "execution_count": 27,
   "metadata": {
    "collapsed": true
   },
   "outputs": [],
   "source": [
    "x_train, x_test, y_train, y_test = train_test_split(data, y_labels, test_size = 0.33, random_state = 777)"
   ]
  },
  {
   "cell_type": "code",
   "execution_count": 28,
   "metadata": {},
   "outputs": [
    {
     "name": "stdout",
     "output_type": "stream",
     "text": [
      "(264, 39)\n"
     ]
    }
   ],
   "source": [
    "print(x_train.shape)"
   ]
  },
  {
   "cell_type": "code",
   "execution_count": 29,
   "metadata": {},
   "outputs": [
    {
     "name": "stdout",
     "output_type": "stream",
     "text": [
      "(131, 39)\n"
     ]
    }
   ],
   "source": [
    "print(x_test.shape)"
   ]
  },
  {
   "cell_type": "markdown",
   "metadata": {},
   "source": [
    "### Linear Regression using scikit-learn"
   ]
  },
  {
   "cell_type": "code",
   "execution_count": 30,
   "metadata": {},
   "outputs": [
    {
     "data": {
      "text/plain": [
       "LinearRegression(copy_X=True, fit_intercept=True, n_jobs=1, normalize=True)"
      ]
     },
     "execution_count": 30,
     "metadata": {},
     "output_type": "execute_result"
    }
   ],
   "source": [
    "linreg = LinearRegression(fit_intercept = True, normalize = True)\n",
    "linreg.fit(x_train, y_train)"
   ]
  },
  {
   "cell_type": "markdown",
   "metadata": {},
   "source": [
    "### Seeing coefficients"
   ]
  },
  {
   "cell_type": "code",
   "execution_count": 31,
   "metadata": {},
   "outputs": [
    {
     "name": "stdout",
     "output_type": "stream",
     "text": [
      "Estimated Intercept:  14.829601306463568\n"
     ]
    }
   ],
   "source": [
    "print('Estimated Intercept: ', linreg.intercept_)"
   ]
  },
  {
   "cell_type": "code",
   "execution_count": 32,
   "metadata": {},
   "outputs": [
    {
     "name": "stdout",
     "output_type": "stream",
     "text": [
      "Number of Coefficient:  39\n"
     ]
    }
   ],
   "source": [
    "print('Number of Coefficient: ', len(linreg.coef_))"
   ]
  },
  {
   "cell_type": "code",
   "execution_count": 33,
   "metadata": {},
   "outputs": [
    {
     "data": {
      "text/html": [
       "<div>\n",
       "<style>\n",
       "    .dataframe thead tr:only-child th {\n",
       "        text-align: right;\n",
       "    }\n",
       "\n",
       "    .dataframe thead th {\n",
       "        text-align: left;\n",
       "    }\n",
       "\n",
       "    .dataframe tbody tr th {\n",
       "        vertical-align: top;\n",
       "    }\n",
       "</style>\n",
       "<table border=\"1\" class=\"dataframe\">\n",
       "  <thead>\n",
       "    <tr style=\"text-align: right;\">\n",
       "      <th></th>\n",
       "      <th>Features</th>\n",
       "      <th>Coefficients</th>\n",
       "    </tr>\n",
       "  </thead>\n",
       "  <tbody>\n",
       "    <tr>\n",
       "      <th>0</th>\n",
       "      <td>age</td>\n",
       "      <td>-3.412688</td>\n",
       "    </tr>\n",
       "    <tr>\n",
       "      <th>1</th>\n",
       "      <td>Medu</td>\n",
       "      <td>1.850584</td>\n",
       "    </tr>\n",
       "    <tr>\n",
       "      <th>2</th>\n",
       "      <td>Fedu</td>\n",
       "      <td>0.318145</td>\n",
       "    </tr>\n",
       "    <tr>\n",
       "      <th>3</th>\n",
       "      <td>traveltime</td>\n",
       "      <td>-0.352997</td>\n",
       "    </tr>\n",
       "    <tr>\n",
       "      <th>4</th>\n",
       "      <td>studytime</td>\n",
       "      <td>0.969380</td>\n",
       "    </tr>\n",
       "    <tr>\n",
       "      <th>5</th>\n",
       "      <td>failures</td>\n",
       "      <td>-4.559917</td>\n",
       "    </tr>\n",
       "    <tr>\n",
       "      <th>6</th>\n",
       "      <td>famrel</td>\n",
       "      <td>0.990160</td>\n",
       "    </tr>\n",
       "    <tr>\n",
       "      <th>7</th>\n",
       "      <td>freetime</td>\n",
       "      <td>0.236519</td>\n",
       "    </tr>\n",
       "    <tr>\n",
       "      <th>8</th>\n",
       "      <td>goout</td>\n",
       "      <td>-1.169254</td>\n",
       "    </tr>\n",
       "    <tr>\n",
       "      <th>9</th>\n",
       "      <td>Dalc</td>\n",
       "      <td>-1.738117</td>\n",
       "    </tr>\n",
       "    <tr>\n",
       "      <th>10</th>\n",
       "      <td>Walc</td>\n",
       "      <td>0.485329</td>\n",
       "    </tr>\n",
       "    <tr>\n",
       "      <th>11</th>\n",
       "      <td>health</td>\n",
       "      <td>-0.680229</td>\n",
       "    </tr>\n",
       "    <tr>\n",
       "      <th>12</th>\n",
       "      <td>absences</td>\n",
       "      <td>3.289175</td>\n",
       "    </tr>\n",
       "    <tr>\n",
       "      <th>13</th>\n",
       "      <td>G3</td>\n",
       "      <td>-0.141257</td>\n",
       "    </tr>\n",
       "    <tr>\n",
       "      <th>14</th>\n",
       "      <td>school_GP</td>\n",
       "      <td>-1.419642</td>\n",
       "    </tr>\n",
       "    <tr>\n",
       "      <th>15</th>\n",
       "      <td>sex_F</td>\n",
       "      <td>0.334110</td>\n",
       "    </tr>\n",
       "    <tr>\n",
       "      <th>16</th>\n",
       "      <td>address_U</td>\n",
       "      <td>-0.937791</td>\n",
       "    </tr>\n",
       "    <tr>\n",
       "      <th>17</th>\n",
       "      <td>famsize_GT3</td>\n",
       "      <td>-1.047128</td>\n",
       "    </tr>\n",
       "    <tr>\n",
       "      <th>18</th>\n",
       "      <td>Pstatus_T</td>\n",
       "      <td>1.422536</td>\n",
       "    </tr>\n",
       "    <tr>\n",
       "      <th>19</th>\n",
       "      <td>Mjob_at_home</td>\n",
       "      <td>1.734419</td>\n",
       "    </tr>\n",
       "    <tr>\n",
       "      <th>20</th>\n",
       "      <td>Mjob_health</td>\n",
       "      <td>0.447778</td>\n",
       "    </tr>\n",
       "    <tr>\n",
       "      <th>21</th>\n",
       "      <td>Mjob_other</td>\n",
       "      <td>1.493292</td>\n",
       "    </tr>\n",
       "    <tr>\n",
       "      <th>22</th>\n",
       "      <td>Mjob_services</td>\n",
       "      <td>-0.623619</td>\n",
       "    </tr>\n",
       "    <tr>\n",
       "      <th>23</th>\n",
       "      <td>Fjob_at_home</td>\n",
       "      <td>-0.199237</td>\n",
       "    </tr>\n",
       "    <tr>\n",
       "      <th>24</th>\n",
       "      <td>Fjob_health</td>\n",
       "      <td>-2.055792</td>\n",
       "    </tr>\n",
       "    <tr>\n",
       "      <th>25</th>\n",
       "      <td>Fjob_other</td>\n",
       "      <td>-1.556319</td>\n",
       "    </tr>\n",
       "    <tr>\n",
       "      <th>26</th>\n",
       "      <td>Fjob_services</td>\n",
       "      <td>-1.014458</td>\n",
       "    </tr>\n",
       "    <tr>\n",
       "      <th>27</th>\n",
       "      <td>reason_course</td>\n",
       "      <td>-0.001194</td>\n",
       "    </tr>\n",
       "    <tr>\n",
       "      <th>28</th>\n",
       "      <td>reason_home</td>\n",
       "      <td>-0.330703</td>\n",
       "    </tr>\n",
       "    <tr>\n",
       "      <th>29</th>\n",
       "      <td>reason_reputation</td>\n",
       "      <td>-1.277575</td>\n",
       "    </tr>\n",
       "    <tr>\n",
       "      <th>30</th>\n",
       "      <td>guardian_father</td>\n",
       "      <td>-1.443903</td>\n",
       "    </tr>\n",
       "    <tr>\n",
       "      <th>31</th>\n",
       "      <td>guardian_mother</td>\n",
       "      <td>-2.336143</td>\n",
       "    </tr>\n",
       "    <tr>\n",
       "      <th>32</th>\n",
       "      <td>schoolsup_yes</td>\n",
       "      <td>-0.590184</td>\n",
       "    </tr>\n",
       "    <tr>\n",
       "      <th>33</th>\n",
       "      <td>famsup_yes</td>\n",
       "      <td>-0.428407</td>\n",
       "    </tr>\n",
       "    <tr>\n",
       "      <th>34</th>\n",
       "      <td>paid_yes</td>\n",
       "      <td>-0.449470</td>\n",
       "    </tr>\n",
       "    <tr>\n",
       "      <th>35</th>\n",
       "      <td>activities_yes</td>\n",
       "      <td>-0.607037</td>\n",
       "    </tr>\n",
       "    <tr>\n",
       "      <th>36</th>\n",
       "      <td>nursery_yes</td>\n",
       "      <td>1.627449</td>\n",
       "    </tr>\n",
       "    <tr>\n",
       "      <th>37</th>\n",
       "      <td>higher_yes</td>\n",
       "      <td>0.481267</td>\n",
       "    </tr>\n",
       "    <tr>\n",
       "      <th>38</th>\n",
       "      <td>internet_yes</td>\n",
       "      <td>-1.453885</td>\n",
       "    </tr>\n",
       "  </tbody>\n",
       "</table>\n",
       "</div>"
      ],
      "text/plain": [
       "             Features  Coefficients\n",
       "0                 age     -3.412688\n",
       "1                Medu      1.850584\n",
       "2                Fedu      0.318145\n",
       "3          traveltime     -0.352997\n",
       "4           studytime      0.969380\n",
       "5            failures     -4.559917\n",
       "6              famrel      0.990160\n",
       "7            freetime      0.236519\n",
       "8               goout     -1.169254\n",
       "9                Dalc     -1.738117\n",
       "10               Walc      0.485329\n",
       "11             health     -0.680229\n",
       "12           absences      3.289175\n",
       "13                 G3     -0.141257\n",
       "14          school_GP     -1.419642\n",
       "15              sex_F      0.334110\n",
       "16          address_U     -0.937791\n",
       "17        famsize_GT3     -1.047128\n",
       "18          Pstatus_T      1.422536\n",
       "19       Mjob_at_home      1.734419\n",
       "20        Mjob_health      0.447778\n",
       "21         Mjob_other      1.493292\n",
       "22      Mjob_services     -0.623619\n",
       "23       Fjob_at_home     -0.199237\n",
       "24        Fjob_health     -2.055792\n",
       "25         Fjob_other     -1.556319\n",
       "26      Fjob_services     -1.014458\n",
       "27      reason_course     -0.001194\n",
       "28        reason_home     -0.330703\n",
       "29  reason_reputation     -1.277575\n",
       "30    guardian_father     -1.443903\n",
       "31    guardian_mother     -2.336143\n",
       "32      schoolsup_yes     -0.590184\n",
       "33         famsup_yes     -0.428407\n",
       "34           paid_yes     -0.449470\n",
       "35     activities_yes     -0.607037\n",
       "36        nursery_yes      1.627449\n",
       "37         higher_yes      0.481267\n",
       "38       internet_yes     -1.453885"
      ]
     },
     "execution_count": 33,
     "metadata": {},
     "output_type": "execute_result"
    }
   ],
   "source": [
    "pd.DataFrame(list(zip(interested_dataset.columns, linreg.coef_)), columns = ['Features', 'Coefficients'])"
   ]
  },
  {
   "cell_type": "code",
   "execution_count": 34,
   "metadata": {
    "collapsed": true
   },
   "outputs": [],
   "source": [
    "predictions = linreg.predict(x_test)"
   ]
  },
  {
   "cell_type": "markdown",
   "metadata": {},
   "source": [
    "### Evaluating Performance"
   ]
  },
  {
   "cell_type": "code",
   "execution_count": 35,
   "metadata": {},
   "outputs": [
    {
     "name": "stdout",
     "output_type": "stream",
     "text": [
      "Mean squared error: 18.01\n",
      "Mean absolute error: 3.24\n",
      "Root mean squared error: 4.24\n",
      "r_2 statistic: 0.142\n"
     ]
    }
   ],
   "source": [
    "print(\"Mean squared error: %.2f\" % mean_squared_error(y_test, predictions))\n",
    "print('Mean absolute error: %.2f' % mean_absolute_error(y_test, predictions))\n",
    "print('Root mean squared error: %.2f' % np.sqrt(mean_squared_error(y_test, predictions)))\n",
    "print('r_2 statistic: %.3f' % r2_score(y_test, predictions))"
   ]
  },
  {
   "cell_type": "markdown",
   "metadata": {},
   "source": [
    "### Storing Results"
   ]
  },
  {
   "cell_type": "code",
   "execution_count": 36,
   "metadata": {
    "collapsed": true
   },
   "outputs": [],
   "source": [
    "results = pd.DataFrame({'Actual' : y_test, 'Predicted':predictions})"
   ]
  },
  {
   "cell_type": "code",
   "execution_count": 37,
   "metadata": {},
   "outputs": [
    {
     "data": {
      "image/png": "[encoded data removed]",
      "text/plain": [
       "<matplotlib.figure.Figure at 0x1112561d0>"
      ]
     },
     "metadata": {},
     "output_type": "display_data"
    }
   ],
   "source": [
    "plt.scatter(y_test, predictions)\n",
    "plt.show()"
   ]
  },
  {
   "cell_type": "markdown",
   "metadata": {},
   "source": [
    "### Using statsmodel to run linear regression"
   ]
  },
  {
   "cell_type": "code",
   "execution_count": 38,
   "metadata": {},
   "outputs": [
    {
     "name": "stdout",
     "output_type": "stream",
     "text": [
      "                            OLS Regression Results                            \n",
      "==============================================================================\n",
      "Dep. Variable:                     G3   R-squared:                       0.277\n",
      "Model:                            OLS   Adj. R-squared:                  0.151\n",
      "Method:                 Least Squares   F-statistic:                     2.201\n",
      "Date:                Sat, 15 Sep 2018   Prob (F-statistic):           0.000185\n",
      "Time:                        10:01:10   Log-Likelihood:                -733.08\n",
      "No. Observations:                 264   AIC:                             1546.\n",
      "Df Residuals:                     224   BIC:                             1689.\n",
      "Df Model:                          39                                         \n",
      "Covariance Type:            nonrobust                                         \n",
      "=====================================================================================\n",
      "                        coef    std err          t      P>|t|      [0.025      0.975]\n",
      "-------------------------------------------------------------------------------------\n",
      "const                14.8296      3.685      4.025      0.000       7.569      22.091\n",
      "age                  -3.4127      2.157     -1.582      0.115      -7.663       0.837\n",
      "Medu                  1.8506      1.630      1.136      0.257      -1.361       5.062\n",
      "Fedu                  0.3181      1.355      0.235      0.815      -2.352       2.988\n",
      "traveltime           -0.3530      1.267     -0.279      0.781      -2.850       2.144\n",
      "studytime             0.9694      1.041      0.931      0.353      -1.082       3.020\n",
      "failures             -4.5599      1.294     -3.523      0.001      -7.111      -2.009\n",
      "famrel                0.9902      1.240      0.799      0.425      -1.453       3.433\n",
      "freetime              0.2365      1.221      0.194      0.847      -2.170       2.643\n",
      "goout                -1.1693      1.190     -0.982      0.327      -3.515       1.176\n",
      "Dalc                 -1.7381      1.952     -0.891      0.374      -5.584       2.108\n",
      "Walc                  0.4853      1.322      0.367      0.714      -2.119       3.090\n",
      "health               -0.6802      0.794     -0.857      0.392      -2.245       0.884\n",
      "absences              3.2892      2.591      1.269      0.206      -1.817       8.395\n",
      "school_GP            -0.1413      1.039     -0.136      0.892      -2.189       1.906\n",
      "sex_F                -1.4196      0.625     -2.273      0.024      -2.651      -0.189\n",
      "address_U             0.3341      0.705      0.474      0.636      -1.054       1.723\n",
      "famsize_GT3          -0.9378      0.625     -1.501      0.135      -2.169       0.294\n",
      "Pstatus_T            -1.0471      0.921     -1.137      0.257      -2.863       0.768\n",
      "Mjob_at_home          1.4225      1.383      1.029      0.305      -1.303       4.148\n",
      "Mjob_health           1.7344      1.278      1.357      0.176      -0.784       4.253\n",
      "Mjob_other            0.4478      1.099      0.408      0.684      -1.717       2.613\n",
      "Mjob_services         1.4933      1.007      1.484      0.139      -0.490       3.477\n",
      "Fjob_at_home         -0.6236      1.693     -0.368      0.713      -3.960       2.713\n",
      "Fjob_health          -0.1992      1.594     -0.125      0.901      -3.340       2.942\n",
      "Fjob_other           -2.0558      1.167     -1.762      0.079      -4.355       0.244\n",
      "Fjob_services        -1.5563      1.200     -1.297      0.196      -3.922       0.809\n",
      "reason_course        -1.0145      1.115     -0.910      0.364      -3.212       1.183\n",
      "reason_home          -0.0012      1.173     -0.001      0.999      -2.313       2.311\n",
      "reason_reputation    -0.3307      1.146     -0.289      0.773      -2.590       1.928\n",
      "guardian_father      -1.2776      1.339     -0.954      0.341      -3.917       1.362\n",
      "guardian_mother      -1.4439      1.249     -1.156      0.249      -3.905       1.017\n",
      "schoolsup_yes        -2.3361      0.805     -2.902      0.004      -3.922      -0.750\n",
      "famsup_yes           -0.5902      0.608     -0.970      0.333      -1.789       0.608\n",
      "paid_yes             -0.4284      0.619     -0.692      0.490      -1.648       0.791\n",
      "activities_yes       -0.4495      0.561     -0.802      0.424      -1.554       0.655\n",
      "nursery_yes          -0.6070      0.710     -0.855      0.393      -2.006       0.792\n",
      "higher_yes            1.6274      1.443      1.128      0.261      -1.217       4.472\n",
      "internet_yes          0.4813      0.797      0.604      0.547      -1.089       2.052\n",
      "romantic_yes         -1.4539      0.629     -2.313      0.022      -2.692      -0.215\n",
      "==============================================================================\n",
      "Omnibus:                       19.425   Durbin-Watson:                   1.923\n",
      "Prob(Omnibus):                  0.000   Jarque-Bera (JB):               21.517\n",
      "Skew:                          -0.658   Prob(JB):                     2.13e-05\n",
      "Kurtosis:                       3.475   Cond. No.                         55.5\n",
      "==============================================================================\n",
      "\n",
      "Warnings:\n",
      "[1] Standard Errors assume that the covariance matrix of the errors is correctly specified.\n"
     ]
    }
   ],
   "source": [
    "X2 = sm.add_constant(x_train)\n",
    "est = sm.OLS(y_train, X2)\n",
    "est2 = est.fit()\n",
    "print(est2.summary())"
   ]
  },
  {
   "cell_type": "markdown",
   "metadata": {},
   "source": [
    "### Visualizing Residuals"
   ]
  },
  {
   "cell_type": "code",
   "execution_count": 39,
   "metadata": {},
   "outputs": [
    {
     "data": {
      "image/png": "[encoded data removed]",
      "text/plain": [
       "<matplotlib.figure.Figure at 0x1c11ee7e10>"
      ]
     },
     "metadata": {},
     "output_type": "display_data"
    }
   ],
   "source": [
    "plt.figure(figsize = (10,10))\n",
    "\n",
    "plt.scatter(linreg.predict(x_train), linreg.predict(x_train) - y_train, c = 'blue', alpha = 0.5)\n",
    "plt.scatter(linreg.predict(x_test), linreg.predict(x_test) - y_test, c = 'red', alpha = 0.5)\n",
    "plt.ylabel('Residuals')\n",
    "plt.title('Residual plots of Training - Blue and Test - Red Data')\n",
    "plt.show()"
   ]
  },
  {
   "cell_type": "markdown",
   "metadata": {},
   "source": [
    "## Changing the number of variables"
   ]
  },
  {
   "cell_type": "code",
   "execution_count": 40,
   "metadata": {},
   "outputs": [],
   "source": [
    "min_features = 1\n",
    "max_features = 30\n",
    "\n",
    "r_squared = []\n",
    "adj_r_squared = []\n",
    "error_term = []\n",
    "mean_squared_errors_residuals = []\n",
    "mean_squared_errors_total = []\n",
    "aic_train = []\n",
    "bic_train = []\n",
    "\n",
    "\n",
    "for features in range(min_features, max_features+1):\n",
    "    Y = sample_dataset['G3']\n",
    "    X = sample_dataset.drop(['G1', 'G2', 'G3'], axis = 1)\n",
    "    X = X.sample(features, axis = 1, random_state = 777)\n",
    "    X = pd.get_dummies(X)\n",
    "    min_max_scaler = MinMaxScaler()\n",
    "    X_scaled = min_max_scaler.fit_transform(X)\n",
    "    X_scaled = pd.DataFrame(X_scaled,columns=X.columns)\n",
    "    X_train, X_test, Y_train, Y_test = train_test_split(X, Y, test_size = 0.33, random_state = 777)\n",
    "    results = sm.OLS(Y_train, X_train).fit()\n",
    "    predictions = results.predict(X_test)\n",
    "    score = r2_score(Y_test, predictions)\n",
    "    \n",
    "    error_term.append(score)\n",
    "    mean_squared_errors_residuals.append(results.mse_resid)\n",
    "    mean_squared_errors_total.append(results.mse_total)\n",
    "    aic_train.append(results.aic)\n",
    "    bic_train.append(results.bic)\n",
    "    r_squared.append(results.rsquared)\n",
    "    adj_r_squared.append(results.rsquared_adj)"
   ]
  },
  {
   "cell_type": "code",
   "execution_count": 41,
   "metadata": {},
   "outputs": [
    {
     "data": {
      "image/png": "[encoded data removed]",
      "text/plain": [
       "<matplotlib.figure.Figure at 0x1c123b52e8>"
      ]
     },
     "metadata": {},
     "output_type": "display_data"
    }
   ],
   "source": [
    "plt.plot(r_squared, color='blue', label='$R^2$ train')\n",
    "plt.plot(adj_r_squared, color='red', label='$R^2$ adj train')\n",
    "plt.plot(error_term, color = 'green', label = '$R^2$ test')\n",
    "plt.title('$R^2$ / $R^2$ adjusted ~ # features')\n",
    "plt.xlabel('# features')\n",
    "plt.ylabel('score')\n",
    "plt.xlim(1,30)\n",
    "plt.ylim(0, 0.5)\n",
    "plt.legend()\n",
    "plt.grid();"
   ]
  },
  {
   "cell_type": "code",
   "execution_count": 42,
   "metadata": {},
   "outputs": [
    {
     "data": {
      "image/png": "[encoded data removed]",
      "text/plain": [
       "<matplotlib.figure.Figure at 0x111269438>"
      ]
     },
     "metadata": {},
     "output_type": "display_data"
    }
   ],
   "source": [
    "plt.plot(mean_squared_errors_residuals, color='blue', label='MSE residuals')\n",
    "plt.plot(mean_squared_errors_total, color='red', label='MSE total')\n",
    "plt.title('MSE residuals / MSE total ~ # features')\n",
    "plt.xlabel('# features')\n",
    "plt.ylabel('score')\n",
    "plt.xlim(1,30)\n",
    "plt.ylim(0, 30)\n",
    "plt.legend()\n",
    "plt.grid();"
   ]
  },
  {
   "cell_type": "code",
   "execution_count": 43,
   "metadata": {},
   "outputs": [
    {
     "data": {
      "image/png": "[encoded data removed]",
      "text/plain": [
       "<matplotlib.figure.Figure at 0x1c11e6d5c0>"
      ]
     },
     "metadata": {},
     "output_type": "display_data"
    }
   ],
   "source": [
    "plt.plot(aic_train, color='blue', label='AIC train')\n",
    "plt.plot(bic_train, color='red', label='BIC train')\n",
    "plt.title('AIC / BIC train ~ # features')\n",
    "plt.xlabel('# features')\n",
    "plt.ylabel('score')\n",
    "plt.xlim(1,30)\n",
    "plt.ylim(1200, 1800)\n",
    "plt.legend()\n",
    "plt.grid();"
   ]
  },
  {
   "cell_type": "markdown",
   "metadata": {},
   "source": [
    "## Changing Learning Rates"
   ]
  },
  {
   "cell_type": "code",
   "execution_count": 44,
   "metadata": {
    "scrolled": false
   },
   "outputs": [
    {
     "name": "stderr",
     "output_type": "stream",
     "text": [
      "/Users/Weiyang/anaconda3/lib/python3.6/site-packages/ipykernel_launcher.py:35: UserWarning: With alpha=0, this algorithm does not converge well. You are advised to use the LinearRegression estimator\n",
      "/Users/Weiyang/anaconda3/lib/python3.6/site-packages/sklearn/linear_model/coordinate_descent.py:477: UserWarning: Coordinate descent with no regularization may lead to unexpected results and is discouraged.\n",
      "  positive)\n",
      "/Users/Weiyang/anaconda3/lib/python3.6/site-packages/sklearn/linear_model/coordinate_descent.py:491: ConvergenceWarning: Objective did not converge. You might want to increase the number of iterations. Fitting data with very small alpha may cause precision problems.\n",
      "  ConvergenceWarning)\n",
      "/Users/Weiyang/anaconda3/lib/python3.6/site-packages/scipy/linalg/basic.py:223: RuntimeWarning: scipy.linalg.solve\n",
      "Ill-conditioned matrix detected. Result is not guaranteed to be accurate.\n",
      "Reciprocal condition number: 3.2051394858153964e-20\n",
      "  ' condition number: {}'.format(rcond), RuntimeWarning)\n"
     ]
    }
   ],
   "source": [
    "learning_rates = np.linspace(0,10,1000,endpoint=False)\n",
    "\n",
    "r_squared_train_lr = []\n",
    "r_squared_test_lr = []\n",
    "mean_2_error_lr = []\n",
    "\n",
    "r_squared_train_lasso = []\n",
    "r_squared_test_lasso = []\n",
    "mean_2_error_lasso = []\n",
    "\n",
    "r_squared_train_ridge = []\n",
    "r_squared_test_ridge = []\n",
    "mean_2_error_ridge = []\n",
    "\n",
    "for learning_rate in learning_rates:\n",
    "    \n",
    "    Y = sample_dataset['G3']\n",
    "    X = sample_dataset.drop(['G1', 'G2', 'G3'], axis = 1)\n",
    "    X = pd.get_dummies(X)\n",
    "    min_max_scaler = MinMaxScaler()\n",
    "    X_scaled = min_max_scaler.fit_transform(X)\n",
    "    X_scaled = pd.DataFrame(X_scaled,columns=X.columns)\n",
    "    X_train, X_test, Y_train, Y_test = train_test_split(X, Y, test_size = 0.33, random_state = 777)\n",
    "    \n",
    "    linear_regression = LinearRegression()\n",
    "    lasso = Lasso(alpha = learning_rate, random_state = 777, max_iter = 10000)\n",
    "    ridge = Ridge(alpha = learning_rate, random_state = 777, max_iter = 10000)\n",
    "    \n",
    "    linear_regression.fit(X_train, Y_train)\n",
    "    \n",
    "    r_squared_train_lr.append(linear_regression.score(X_train, Y_train))\n",
    "    r_squared_test_lr.append(linear_regression.score(X_test, Y_test))\n",
    "    mean_2_error_lr.append(mean_squared_error(Y_test, linear_regression.predict(X_test)))\n",
    "    \n",
    "    lasso.fit(X_train, Y_train)\n",
    "    \n",
    "    r_squared_train_lasso.append(lasso.score(X_train, Y_train))\n",
    "    r_squared_test_lasso.append(lasso.score(X_test, Y_test))\n",
    "    mean_2_error_lasso.append(mean_squared_error(Y_test, lasso.predict(X_test)))\n",
    "    \n",
    "    ridge.fit(X_train, Y_train)\n",
    "    \n",
    "    r_squared_train_ridge.append(ridge.score(X_train, Y_train))\n",
    "    r_squared_test_ridge.append(ridge.score(X_test, Y_test))\n",
    "    mean_2_error_ridge.append(mean_squared_error(Y_test, ridge.predict(X_test)))               "
   ]
  },
  {
   "cell_type": "code",
   "execution_count": 45,
   "metadata": {},
   "outputs": [
    {
     "data": {
      "image/png": "[encoded data removed]",
      "text/plain": [
       "<matplotlib.figure.Figure at 0x1c11ed8b38>"
      ]
     },
     "metadata": {},
     "output_type": "display_data"
    }
   ],
   "source": [
    "plt.plot(r_squared_train_lasso, color='blue', label='$R^2$ train')\n",
    "plt.plot(r_squared_test_lasso, color='red', label='$R^2$ test')\n",
    "plt.title('$R^2$ train / $R^2$ test ~ Learning Rate')\n",
    "plt.xlabel('Learning Rate')\n",
    "plt.ylabel('score')\n",
    "plt.xlim(0,10)\n",
    "plt.ylim(0,0.3)\n",
    "plt.legend()\n",
    "plt.grid();"
   ]
  },
  {
   "cell_type": "code",
   "execution_count": 46,
   "metadata": {},
   "outputs": [
    {
     "data": {
      "image/png": "[encoded data removed]",
      "text/plain": [
       "<matplotlib.figure.Figure at 0x1c12304eb8>"
      ]
     },
     "metadata": {},
     "output_type": "display_data"
    }
   ],
   "source": [
    "plt.plot(r_squared_train_ridge, color='blue', label='$R^2$ train')\n",
    "plt.plot(r_squared_test_ridge, color='red', label='$R^2$ test')\n",
    "plt.title('$R^2$ train / $R^2$ test ~ Learning Rate')\n",
    "plt.xlabel('Learning Rate')\n",
    "plt.ylabel('score')\n",
    "plt.xlim(0,10)\n",
    "plt.ylim(0,0.3)\n",
    "plt.legend()\n",
    "plt.grid();"
   ]
  },
  {
   "cell_type": "code",
   "execution_count": 47,
   "metadata": {},
   "outputs": [
    {
     "data": {
      "image/png": "[encoded data removed]",
      "text/plain": [
       "<matplotlib.figure.Figure at 0x1c123375c0>"
      ]
     },
     "metadata": {},
     "output_type": "display_data"
    }
   ],
   "source": [
    "plt.plot(mean_2_error_lr, color='blue', label='$MSE$ Linear Regression')\n",
    "plt.plot(mean_2_error_lasso, color='red', label='$MSE$ Lasso Regression')\n",
    "plt.plot(mean_2_error_ridge, color='green', label='$MSE$ Ridge Regression')\n",
    "plt.title('$MSE$ Linear / $MSE$ Lasso / $MSE$ Ridge ~ Learning Rate')\n",
    "plt.xlabel('Learning Rate')\n",
    "plt.ylabel('score')\n",
    "plt.xlim(0,10)\n",
    "plt.ylim(17, 18.2)\n",
    "plt.legend()\n",
    "plt.grid();"
   ]
  },
  {
   "cell_type": "code",
   "execution_count": 48,
   "metadata": {},
   "outputs": [
    {
     "data": {
      "image/png": "[encoded data removed]",
      "text/plain": [
       "<matplotlib.figure.Figure at 0x1c12123f98>"
      ]
     },
     "metadata": {},
     "output_type": "display_data"
    }
   ],
   "source": [
    "fig, axes = plt.subplots(1, 3, sharex=False, sharey=False)\n",
    "fig.suptitle('[Residual Plots]')\n",
    "fig.set_size_inches(18,5)\n",
    "axes[0].plot(linear_regression.predict(X_test), (Y_test - linear_regression.predict(X_test)), 'bo')\n",
    "axes[0].axhline(y=0, color='k')\n",
    "axes[0].grid()\n",
    "axes[0].set_title('Linear')\n",
    "axes[0].set_xlabel('predicted values')\n",
    "axes[0].set_ylabel('residuals')\n",
    "axes[1].plot(lasso.predict(X_test), (Y_test - lasso.predict(X_test)), 'go')\n",
    "axes[1].axhline(y=0, color='k')\n",
    "axes[1].grid()\n",
    "axes[1].set_title('Lasso')\n",
    "axes[1].set_xlabel('predicted values')\n",
    "axes[1].set_ylabel('residuals')\n",
    "axes[2].plot(ridge.predict(X_test), (Y_test - ridge.predict(X_test)), 'ro')\n",
    "axes[2].axhline(y=0, color='k')\n",
    "axes[2].grid()\n",
    "axes[2].set_title('Ridge')\n",
    "axes[2].set_xlabel('predicted values')\n",
    "axes[2].set_ylabel('residuals');"
   ]
  },
  {
   "cell_type": "markdown",
   "metadata": {
    "collapsed": true
   },
   "source": [
    "### Writing own linear regression function (Single Variate)"
   ]
  },
  {
   "cell_type": "code",
   "execution_count": 49,
   "metadata": {
    "collapsed": true
   },
   "outputs": [],
   "source": [
    "cost_history = []\n",
    "theta_history = []\n",
    "\n",
    "def linear_regression(x, y, m_current = 0, b_current = 0, epochs = 1000, learning_rate = 0.0001):\n",
    "    \n",
    "    x = np.array(x, dtype=np.float64)\n",
    "    y = np.array(y, dtype=np.float64)\n",
    "    \n",
    "    N = float(len(y))\n",
    "    \n",
    "    for i in range(epochs):\n",
    "        \n",
    "        ### Hypothesis Function\n",
    "        y_current = (m_current*x) + b_current\n",
    "        \n",
    "        ### Cost Function - Sum of Squares\n",
    "        cost = sum([data**2 for data in (y - y_current)])*(1/(N))\n",
    "        \n",
    "        ### Gradient Descent\n",
    "        m_gradient = -(2/(N)) * sum(x * (y - y_current))\n",
    "        b_gradient = -(2/(N)) * sum(y - y_current)\n",
    "        \n",
    "        m_current = m_current - (learning_rate * m_gradient)\n",
    "        b_current = b_current - (learning_rate * b_gradient)\n",
    "        \n",
    "        theta = np.array([[m_current], [b_current]])\n",
    "        cost_history.append(cost)\n",
    "        theta_history.append(theta)\n",
    "        \n",
    "        #if i in (14,epochs):\n",
    "        #    plt.plot(x, m_current*x + b_current)\n",
    "        #    plt.suptitle('Linear Regression by gradient descent')\n",
    "        #    plt.xlabel('x')\n",
    "        #    plt.ylabel('y')\n",
    "        #    plt.show()\n",
    "        \n",
    "        if i in range(1,epochs,50):\n",
    "            plt.plot(x, m_current*x + b_current)\n",
    "            plt.suptitle('Linear Regression by Gradient Descent')\n",
    "            plt.xlabel('Age')\n",
    "            plt.ylabel('G3')\n",
    "            \n",
    "    return m_current, b_current, cost"
   ]
  },
  {
   "cell_type": "code",
   "execution_count": 50,
   "metadata": {
    "scrolled": false
   },
   "outputs": [
    {
     "data": {
      "text/plain": [
       "(0.4128580919433818, 1.878936352745626, 92.30411950107678)"
      ]
     },
     "execution_count": 50,
     "metadata": {},
     "output_type": "execute_result"
    },
    {
     "data": {
      "image/png": "[encoded data removed]",
      "text/plain": [
       "<matplotlib.figure.Figure at 0x1c123b51d0>"
      ]
     },
     "metadata": {},
     "output_type": "display_data"
    }
   ],
   "source": [
    "linear_regression(x_train['age'], y_train)"
   ]
  },
  {
   "cell_type": "markdown",
   "metadata": {},
   "source": [
    "## Randomly Selecting 10 parameters"
   ]
  },
  {
   "cell_type": "code",
   "execution_count": 51,
   "metadata": {
    "collapsed": true
   },
   "outputs": [],
   "source": [
    "y_sample = sample_dataset['G3']\n",
    "sample_set = sample_dataset.drop(['G1', 'G2', 'G3'], axis = 1)\n",
    "sample_10 = sample_set.sample(10,axis=1, random_state = 777)\n",
    "sample_10_dummies = pd.get_dummies(sample_10)"
   ]
  },
  {
   "cell_type": "markdown",
   "metadata": {},
   "source": [
    "### Setting Reference Level for dummy variable interpretation"
   ]
  },
  {
   "cell_type": "code",
   "execution_count": 52,
   "metadata": {},
   "outputs": [],
   "source": [
    "sample_10_dummies = sample_10_dummies.drop(['Mjob_teacher', 'famsup_no', 'reason_home', 'address_R', 'Fjob_teacher', 'nursery_no'], axis = 1)"
   ]
  },
  {
   "cell_type": "code",
   "execution_count": 53,
   "metadata": {},
   "outputs": [
    {
     "name": "stderr",
     "output_type": "stream",
     "text": [
      "/Users/Weiyang/anaconda3/lib/python3.6/site-packages/sklearn/utils/validation.py:444: DataConversionWarning: Data with input dtype int64 was converted to float64 by MinMaxScaler.\n",
      "  warnings.warn(msg, DataConversionWarning)\n"
     ]
    }
   ],
   "source": [
    "sample_10_dummies_values = sample_10_dummies.values\n",
    "min_max_scaler = MinMaxScaler()\n",
    "sample_10_dummies_scaled = min_max_scaler.fit_transform(sample_10_dummies_values)\n",
    "sample_10_dummies_scaled = pd.DataFrame(sample_10_dummies_scaled,columns=sample_10_dummies.columns)\n",
    "\n",
    "x_train, x_test, y_train, y_test = train_test_split(sample_10_dummies_scaled, y_sample, test_size = 0.33, random_state = 777)"
   ]
  },
  {
   "cell_type": "markdown",
   "metadata": {},
   "source": [
    "### Linear Regression using Stats Model"
   ]
  },
  {
   "cell_type": "code",
   "execution_count": 54,
   "metadata": {},
   "outputs": [
    {
     "name": "stdout",
     "output_type": "stream",
     "text": [
      "                            OLS Regression Results                            \n",
      "==============================================================================\n",
      "Dep. Variable:                     G3   R-squared:                       0.093\n",
      "Model:                            OLS   Adj. R-squared:                  0.027\n",
      "Method:                 Least Squares   F-statistic:                     1.399\n",
      "Date:                Sat, 15 Sep 2018   Prob (F-statistic):              0.132\n",
      "Time:                        10:01:43   Log-Likelihood:                -762.99\n",
      "No. Observations:                 264   AIC:                             1564.\n",
      "Df Residuals:                     245   BIC:                             1632.\n",
      "Df Model:                          18                                         \n",
      "Covariance Type:            nonrobust                                         \n",
      "=====================================================================================\n",
      "                        coef    std err          t      P>|t|      [0.025      0.975]\n",
      "-------------------------------------------------------------------------------------\n",
      "const                15.3602      1.876      8.186      0.000      11.664      19.056\n",
      "health               -0.9621      0.824     -1.167      0.244      -2.586       0.662\n",
      "Dalc                 -0.8113      1.449     -0.560      0.576      -3.666       2.043\n",
      "traveltime           -1.0910      1.267     -0.861      0.390      -3.587       1.405\n",
      "freetime              0.0547      1.180      0.046      0.963      -2.270       2.379\n",
      "Mjob_at_home         -1.9164      1.106     -1.733      0.084      -4.094       0.261\n",
      "Mjob_health           0.3562      1.317      0.271      0.787      -2.237       2.950\n",
      "Mjob_other           -1.5497      0.935     -1.657      0.099      -3.392       0.293\n",
      "Mjob_services        -0.0565      0.941     -0.060      0.952      -1.911       1.798\n",
      "famsup_yes           -0.7444      0.590     -1.261      0.209      -1.907       0.418\n",
      "reason_course        -1.4008      0.742     -1.888      0.060      -2.862       0.061\n",
      "reason_other         -1.0132      1.192     -0.850      0.396      -3.362       1.335\n",
      "reason_reputation    -0.4098      0.782     -0.524      0.601      -1.950       1.130\n",
      "address_U             0.3976      0.698      0.569      0.570      -0.978       1.773\n",
      "Fjob_at_home         -1.3049      1.716     -0.761      0.448      -4.684       2.074\n",
      "Fjob_health          -1.1143      1.641     -0.679      0.498      -4.346       2.117\n",
      "Fjob_other           -2.0116      1.155     -1.742      0.083      -4.287       0.263\n",
      "Fjob_services        -1.8712      1.199     -1.561      0.120      -4.232       0.490\n",
      "nursery_yes          -0.7765      0.717     -1.083      0.280      -2.189       0.636\n",
      "==============================================================================\n",
      "Omnibus:                       20.596   Durbin-Watson:                   1.880\n",
      "Prob(Omnibus):                  0.000   Jarque-Bera (JB):               23.053\n",
      "Skew:                          -0.698   Prob(JB):                     9.87e-06\n",
      "Kurtosis:                       3.387   Cond. No.                         19.7\n",
      "==============================================================================\n",
      "\n",
      "Warnings:\n",
      "[1] Standard Errors assume that the covariance matrix of the errors is correctly specified.\n"
     ]
    }
   ],
   "source": [
    "X2 = sm.add_constant(x_train)\n",
    "est = sm.OLS(y_train, X2)\n",
    "est2 = est.fit()\n",
    "print(est2.summary())"
   ]
  },
  {
   "cell_type": "code",
   "execution_count": 55,
   "metadata": {},
   "outputs": [
    {
     "data": {
      "image/png": "[encoded data removed]",
      "text/plain": [
       "<matplotlib.figure.Figure at 0x1c12117080>"
      ]
     },
     "metadata": {},
     "output_type": "display_data"
    }
   ],
   "source": [
    "linreg = LinearRegression(fit_intercept=True, normalize=True)\n",
    "linreg.fit(x_train, y_train)\n",
    "\n",
    "plt.figure(figsize = (10,10))\n",
    "\n",
    "plt.scatter(linreg.predict(x_train), linreg.predict(x_train) - y_train, c = 'blue', alpha = 0.5)\n",
    "plt.scatter(linreg.predict(x_test), linreg.predict(x_test) - y_test, c = 'red', alpha = 0.5)\n",
    "plt.ylabel('Residuals')\n",
    "plt.title('Residual plots of Training - Blue and Test - Red Data')\n",
    "plt.show()"
   ]
  },
  {
   "cell_type": "code",
   "execution_count": 56,
   "metadata": {},
   "outputs": [
    {
     "name": "stdout",
     "output_type": "stream",
     "text": [
      "Mean squared error: 21.74\n",
      "Mean absolute error: 3.54\n",
      "Root mean squared error: 4.66\n",
      "r_2 statistic: -0.036\n"
     ]
    }
   ],
   "source": [
    "print(\"Mean squared error: %.2f\" % mean_squared_error(y_test, linreg.predict(x_test)))\n",
    "print('Mean absolute error: %.2f' % mean_absolute_error(y_test, linreg.predict(x_test)))\n",
    "print('Root mean squared error: %.2f' % np.sqrt(mean_squared_error(y_test, linreg.predict(x_test))))\n",
    "print('r_2 statistic: %.3f' % r2_score(y_test, linreg.predict(x_test)))"
   ]
  },
  {
   "cell_type": "markdown",
   "metadata": {},
   "source": [
    "### Linear/Lasso/Ridge regression using scikit-learn to change learning rates"
   ]
  },
  {
   "cell_type": "code",
   "execution_count": 57,
   "metadata": {},
   "outputs": [
    {
     "name": "stderr",
     "output_type": "stream",
     "text": [
      "/Users/Weiyang/anaconda3/lib/python3.6/site-packages/ipykernel_launcher.py:27: UserWarning: With alpha=0, this algorithm does not converge well. You are advised to use the LinearRegression estimator\n",
      "/Users/Weiyang/anaconda3/lib/python3.6/site-packages/sklearn/linear_model/coordinate_descent.py:477: UserWarning: Coordinate descent with no regularization may lead to unexpected results and is discouraged.\n",
      "  positive)\n",
      "/Users/Weiyang/anaconda3/lib/python3.6/site-packages/sklearn/linear_model/coordinate_descent.py:491: ConvergenceWarning: Objective did not converge. You might want to increase the number of iterations. Fitting data with very small alpha may cause precision problems.\n",
      "  ConvergenceWarning)\n"
     ]
    }
   ],
   "source": [
    "learning_rates = np.linspace(0,10,1000,endpoint=False)\n",
    "\n",
    "r_squared_train_lr = []\n",
    "r_squared_test_lr = []\n",
    "mean_2_error_lr = []\n",
    "\n",
    "r_squared_train_lasso = []\n",
    "r_squared_test_lasso = []\n",
    "mean_2_error_lasso = []\n",
    "\n",
    "r_squared_train_ridge = []\n",
    "r_squared_test_ridge = []\n",
    "mean_2_error_ridge = []\n",
    "\n",
    "for learning_rate in learning_rates:\n",
    "    \n",
    "    linear_regression = LinearRegression()\n",
    "    lasso = Lasso(alpha = learning_rate, random_state = 777, max_iter = 10000)\n",
    "    ridge = Ridge(alpha = learning_rate, random_state = 777, max_iter = 10000)\n",
    "    \n",
    "    linear_regression.fit(x_train, y_train)\n",
    "    \n",
    "    r_squared_train_lr.append(linear_regression.score(x_train, y_train))\n",
    "    r_squared_test_lr.append(linear_regression.score(x_test, y_test))\n",
    "    mean_2_error_lr.append(mean_squared_error(y_test, linear_regression.predict(x_test)))\n",
    "    \n",
    "    lasso.fit(x_train, y_train)\n",
    "    \n",
    "    r_squared_train_lasso.append(lasso.score(x_train, y_train))\n",
    "    r_squared_test_lasso.append(lasso.score(x_test, y_test))\n",
    "    mean_2_error_lasso.append(mean_squared_error(y_test, lasso.predict(x_test)))\n",
    "    \n",
    "    ridge.fit(x_train, y_train)\n",
    "    \n",
    "    r_squared_train_ridge.append(ridge.score(x_train, y_train))\n",
    "    r_squared_test_ridge.append(ridge.score(x_test, y_test))\n",
    "    mean_2_error_ridge.append(mean_squared_error(y_test, ridge.predict(x_test)))               "
   ]
  },
  {
   "cell_type": "code",
   "execution_count": 58,
   "metadata": {},
   "outputs": [
    {
     "data": {
      "image/png": "[encoded data removed]",
      "text/plain": [
       "<matplotlib.figure.Figure at 0x1c11fc2390>"
      ]
     },
     "metadata": {},
     "output_type": "display_data"
    }
   ],
   "source": [
    "plt.plot(r_squared_train_lr, color='blue', label='$R^2$ train')\n",
    "plt.plot(r_squared_test_lr, color='red', label='$R^2$ test')\n",
    "plt.title('$R^2$ train / $R^2$ test ~ Learning Rate')\n",
    "plt.xlabel('Learning Rate')\n",
    "plt.ylabel('score')\n",
    "plt.xlim(0,10)\n",
    "plt.ylim(-0.05,0.1)\n",
    "plt.legend()\n",
    "plt.grid();"
   ]
  },
  {
   "cell_type": "code",
   "execution_count": 59,
   "metadata": {},
   "outputs": [
    {
     "data": {
      "image/png": "[encoded data removed]",
      "text/plain": [
       "<matplotlib.figure.Figure at 0x1c1219c9b0>"
      ]
     },
     "metadata": {},
     "output_type": "display_data"
    }
   ],
   "source": [
    "plt.plot(r_squared_train_lasso, color='blue', label='$R^2$ train')\n",
    "plt.plot(r_squared_test_lasso, color='red', label='$R^2$ test')\n",
    "plt.title('$R^2$ train / $R^2$ test ~ Learning Rate')\n",
    "plt.xlabel('Learning Rate')\n",
    "plt.ylabel('score')\n",
    "plt.xlim(0,10)\n",
    "plt.ylim(-0.1,0.1)\n",
    "plt.legend()\n",
    "plt.grid();"
   ]
  },
  {
   "cell_type": "markdown",
   "metadata": {},
   "source": [
    "Note that it is possible to get a negative R-square for equations that do not contain a constant term. Because R-square is defined as the proportion of variance explained by the fit, if the fit is actually worse than just fitting a horizontal line then R-square is negative."
   ]
  },
  {
   "cell_type": "code",
   "execution_count": 60,
   "metadata": {},
   "outputs": [
    {
     "data": {
      "image/png": "[encoded data removed]",
      "text/plain": [
       "<matplotlib.figure.Figure at 0x1c12081fd0>"
      ]
     },
     "metadata": {},
     "output_type": "display_data"
    }
   ],
   "source": [
    "plt.plot(r_squared_train_ridge, color='blue', label='$R^2$ train')\n",
    "plt.plot(r_squared_test_ridge, color='red', label='$R^2$ test')\n",
    "plt.title('$R^2$ train / $R^2$ test ~ Learning Rate')\n",
    "plt.xlabel('Learning Rate')\n",
    "plt.ylabel('score')\n",
    "plt.xlim(0,10)\n",
    "plt.ylim(-0.05,0.1)\n",
    "plt.legend()\n",
    "plt.grid();"
   ]
  },
  {
   "cell_type": "code",
   "execution_count": 61,
   "metadata": {},
   "outputs": [
    {
     "data": {
      "image/png": "[encoded data removed]",
      "text/plain": [
       "<matplotlib.figure.Figure at 0x1c123dd588>"
      ]
     },
     "metadata": {},
     "output_type": "display_data"
    }
   ],
   "source": [
    "plt.plot(mean_2_error_lr, color='blue', label='$MSE$ Linear Regression')\n",
    "plt.plot(mean_2_error_lasso, color='red', label='$MSE$ Lasso Regression')\n",
    "plt.plot(mean_2_error_ridge, color='green', label='$MSE$ Ridge Regression')\n",
    "plt.title('$MSE$ Linear / $MSE$ Lasso / $MSE$ Ridge ~ Learning Rate')\n",
    "plt.xlabel('Learning Rate')\n",
    "plt.ylabel('score')\n",
    "plt.xlim(0,10)\n",
    "plt.ylim(20.5, 21.8)\n",
    "plt.legend()\n",
    "plt.grid();"
   ]
  },
  {
   "cell_type": "code",
   "execution_count": null,
   "metadata": {
    "collapsed": true
   },
   "outputs": [],
   "source": []
  },
  {
   "cell_type": "markdown",
   "metadata": {},
   "source": [
    "## Self Selecting 10 parameters"
   ]
  },
  {
   "cell_type": "code",
   "execution_count": 62,
   "metadata": {
    "collapsed": true
   },
   "outputs": [],
   "source": [
    "y_chosen = sample_dataset['G3']\n",
    "chosen_set = sample_dataset.drop(['G1', 'G2', 'G3'], axis = 1)\n",
    "\n",
    "chosen_10 = sample_dataset.loc[:,['traveltime', 'studytime', 'failures', 'schoolsup', 'famsup', 'paid', 'higher', 'health', 'absences', 'school']]\n",
    "chosen_10_dummies = pd.get_dummies(chosen_10)"
   ]
  },
  {
   "cell_type": "code",
   "execution_count": 63,
   "metadata": {},
   "outputs": [
    {
     "data": {
      "text/html": [
       "<div>\n",
       "<style>\n",
       "    .dataframe thead tr:only-child th {\n",
       "        text-align: right;\n",
       "    }\n",
       "\n",
       "    .dataframe thead th {\n",
       "        text-align: left;\n",
       "    }\n",
       "\n",
       "    .dataframe tbody tr th {\n",
       "        vertical-align: top;\n",
       "    }\n",
       "</style>\n",
       "<table border=\"1\" class=\"dataframe\">\n",
       "  <thead>\n",
       "    <tr style=\"text-align: right;\">\n",
       "      <th></th>\n",
       "      <th>traveltime</th>\n",
       "      <th>studytime</th>\n",
       "      <th>failures</th>\n",
       "      <th>health</th>\n",
       "      <th>absences</th>\n",
       "      <th>schoolsup_no</th>\n",
       "      <th>schoolsup_yes</th>\n",
       "      <th>famsup_no</th>\n",
       "      <th>famsup_yes</th>\n",
       "      <th>paid_no</th>\n",
       "      <th>paid_yes</th>\n",
       "      <th>higher_no</th>\n",
       "      <th>higher_yes</th>\n",
       "      <th>school_GP</th>\n",
       "      <th>school_MS</th>\n",
       "    </tr>\n",
       "  </thead>\n",
       "  <tbody>\n",
       "    <tr>\n",
       "      <th>0</th>\n",
       "      <td>2</td>\n",
       "      <td>2</td>\n",
       "      <td>0</td>\n",
       "      <td>3</td>\n",
       "      <td>6</td>\n",
       "      <td>0</td>\n",
       "      <td>1</td>\n",
       "      <td>1</td>\n",
       "      <td>0</td>\n",
       "      <td>1</td>\n",
       "      <td>0</td>\n",
       "      <td>0</td>\n",
       "      <td>1</td>\n",
       "      <td>1</td>\n",
       "      <td>0</td>\n",
       "    </tr>\n",
       "    <tr>\n",
       "      <th>1</th>\n",
       "      <td>1</td>\n",
       "      <td>2</td>\n",
       "      <td>0</td>\n",
       "      <td>3</td>\n",
       "      <td>4</td>\n",
       "      <td>1</td>\n",
       "      <td>0</td>\n",
       "      <td>0</td>\n",
       "      <td>1</td>\n",
       "      <td>1</td>\n",
       "      <td>0</td>\n",
       "      <td>0</td>\n",
       "      <td>1</td>\n",
       "      <td>1</td>\n",
       "      <td>0</td>\n",
       "    </tr>\n",
       "    <tr>\n",
       "      <th>2</th>\n",
       "      <td>1</td>\n",
       "      <td>2</td>\n",
       "      <td>3</td>\n",
       "      <td>3</td>\n",
       "      <td>10</td>\n",
       "      <td>0</td>\n",
       "      <td>1</td>\n",
       "      <td>1</td>\n",
       "      <td>0</td>\n",
       "      <td>0</td>\n",
       "      <td>1</td>\n",
       "      <td>0</td>\n",
       "      <td>1</td>\n",
       "      <td>1</td>\n",
       "      <td>0</td>\n",
       "    </tr>\n",
       "    <tr>\n",
       "      <th>3</th>\n",
       "      <td>1</td>\n",
       "      <td>3</td>\n",
       "      <td>0</td>\n",
       "      <td>5</td>\n",
       "      <td>2</td>\n",
       "      <td>1</td>\n",
       "      <td>0</td>\n",
       "      <td>0</td>\n",
       "      <td>1</td>\n",
       "      <td>0</td>\n",
       "      <td>1</td>\n",
       "      <td>0</td>\n",
       "      <td>1</td>\n",
       "      <td>1</td>\n",
       "      <td>0</td>\n",
       "    </tr>\n",
       "    <tr>\n",
       "      <th>4</th>\n",
       "      <td>1</td>\n",
       "      <td>2</td>\n",
       "      <td>0</td>\n",
       "      <td>5</td>\n",
       "      <td>4</td>\n",
       "      <td>1</td>\n",
       "      <td>0</td>\n",
       "      <td>0</td>\n",
       "      <td>1</td>\n",
       "      <td>0</td>\n",
       "      <td>1</td>\n",
       "      <td>0</td>\n",
       "      <td>1</td>\n",
       "      <td>1</td>\n",
       "      <td>0</td>\n",
       "    </tr>\n",
       "  </tbody>\n",
       "</table>\n",
       "</div>"
      ],
      "text/plain": [
       "   traveltime  studytime  failures  health  absences  schoolsup_no  schoolsup_yes  famsup_no  famsup_yes  paid_no  paid_yes  higher_no  higher_yes  school_GP  school_MS\n",
       "0           2          2         0       3         6             0              1          1           0        1         0          0           1          1          0\n",
       "1           1          2         0       3         4             1              0          0           1        1         0          0           1          1          0\n",
       "2           1          2         3       3        10             0              1          1           0        0         1          0           1          1          0\n",
       "3           1          3         0       5         2             1              0          0           1        0         1          0           1          1          0\n",
       "4           1          2         0       5         4             1              0          0           1        0         1          0           1          1          0"
      ]
     },
     "execution_count": 63,
     "metadata": {},
     "output_type": "execute_result"
    }
   ],
   "source": [
    "chosen_10_dummies.head()"
   ]
  },
  {
   "cell_type": "markdown",
   "metadata": {},
   "source": [
    "### Setting Reference Level for dummy variable interpretation"
   ]
  },
  {
   "cell_type": "code",
   "execution_count": 64,
   "metadata": {
    "collapsed": true
   },
   "outputs": [],
   "source": [
    "chosen_10_dummies = chosen_10_dummies.drop(['schoolsup_no', 'famsup_no', 'paid_no', 'higher_no', 'school_MS'], axis = 1)"
   ]
  },
  {
   "cell_type": "code",
   "execution_count": 65,
   "metadata": {},
   "outputs": [
    {
     "name": "stderr",
     "output_type": "stream",
     "text": [
      "/Users/Weiyang/anaconda3/lib/python3.6/site-packages/sklearn/utils/validation.py:444: DataConversionWarning: Data with input dtype int64 was converted to float64 by MinMaxScaler.\n",
      "  warnings.warn(msg, DataConversionWarning)\n"
     ]
    }
   ],
   "source": [
    "chosen_10_dummies_values = chosen_10_dummies.values\n",
    "min_max_scaler = MinMaxScaler()\n",
    "chosen_10_dummies_scaled = min_max_scaler.fit_transform(chosen_10_dummies_values)\n",
    "chosen_10_dummies_scaled = pd.DataFrame(chosen_10_dummies_scaled,columns=chosen_10_dummies.columns)\n",
    "\n",
    "x_train, x_test, y_train, y_test = train_test_split(chosen_10_dummies_scaled, y_chosen, test_size = 0.33, random_state = 777)"
   ]
  },
  {
   "cell_type": "markdown",
   "metadata": {},
   "source": [
    "### Linear Regression using Stats Model"
   ]
  },
  {
   "cell_type": "code",
   "execution_count": 66,
   "metadata": {},
   "outputs": [
    {
     "name": "stdout",
     "output_type": "stream",
     "text": [
      "                            OLS Regression Results                            \n",
      "==============================================================================\n",
      "Dep. Variable:                     G3   R-squared:                       0.140\n",
      "Model:                            OLS   Adj. R-squared:                  0.106\n",
      "Method:                 Least Squares   F-statistic:                     4.105\n",
      "Date:                Sat, 15 Sep 2018   Prob (F-statistic):           2.94e-05\n",
      "Time:                        10:01:51   Log-Likelihood:                -756.06\n",
      "No. Observations:                 264   AIC:                             1534.\n",
      "Df Residuals:                     253   BIC:                             1573.\n",
      "Df Model:                          10                                         \n",
      "Covariance Type:            nonrobust                                         \n",
      "=================================================================================\n",
      "                    coef    std err          t      P>|t|      [0.025      0.975]\n",
      "---------------------------------------------------------------------------------\n",
      "const             8.9153      1.707      5.221      0.000       5.553      12.278\n",
      "traveltime       -1.1593      1.184     -0.979      0.329      -3.492       1.173\n",
      "studytime         0.0309      0.962      0.032      0.974      -1.864       1.925\n",
      "failures         -5.0995      1.173     -4.349      0.000      -7.409      -2.790\n",
      "health           -0.6666      0.775     -0.860      0.391      -2.193       0.860\n",
      "absences          1.9663      2.334      0.843      0.400      -2.630       6.562\n",
      "schoolsup_yes    -1.6681      0.758     -2.201      0.029      -3.161      -0.176\n",
      "famsup_yes       -0.3806      0.589     -0.646      0.519      -1.541       0.780\n",
      "paid_yes         -0.3386      0.581     -0.583      0.560      -1.482       0.805\n",
      "higher_yes        2.5197      1.374      1.834      0.068      -0.186       5.225\n",
      "school_GP         0.8832      0.886      0.996      0.320      -0.863       2.629\n",
      "==============================================================================\n",
      "Omnibus:                       24.961   Durbin-Watson:                   1.897\n",
      "Prob(Omnibus):                  0.000   Jarque-Bera (JB):               29.204\n",
      "Skew:                          -0.757   Prob(JB):                     4.55e-07\n",
      "Kurtosis:                       3.601   Cond. No.                         17.8\n",
      "==============================================================================\n",
      "\n",
      "Warnings:\n",
      "[1] Standard Errors assume that the covariance matrix of the errors is correctly specified.\n"
     ]
    }
   ],
   "source": [
    "X2 = sm.add_constant(x_train)\n",
    "est = sm.OLS(y_train, X2)\n",
    "est2 = est.fit()\n",
    "print(est2.summary())"
   ]
  },
  {
   "cell_type": "code",
   "execution_count": 67,
   "metadata": {},
   "outputs": [
    {
     "data": {
      "image/png": "[encoded data removed]",
      "text/plain": [
       "<matplotlib.figure.Figure at 0x1c12440908>"
      ]
     },
     "metadata": {},
     "output_type": "display_data"
    }
   ],
   "source": [
    "linreg = LinearRegression(fit_intercept=True, normalize=True)\n",
    "linreg.fit(x_train, y_train)\n",
    "\n",
    "plt.figure(figsize = (10,10))\n",
    "\n",
    "plt.scatter(linreg.predict(x_train), linreg.predict(x_train) - y_train, c = 'blue', alpha = 0.5)\n",
    "plt.scatter(linreg.predict(x_test), linreg.predict(x_test) - y_test, c = 'red', alpha = 0.5)\n",
    "plt.ylabel('Residuals')\n",
    "plt.title('Residual plots of Training - Blue and Test - Red Data')\n",
    "plt.show()"
   ]
  },
  {
   "cell_type": "code",
   "execution_count": 68,
   "metadata": {},
   "outputs": [
    {
     "name": "stdout",
     "output_type": "stream",
     "text": [
      "Mean squared error: 17.39\n",
      "Mean absolute error: 3.11\n",
      "Root mean squared error: 4.17\n",
      "r_2 statistic: 0.172\n"
     ]
    }
   ],
   "source": [
    "print(\"Mean squared error: %.2f\" % mean_squared_error(y_test, linreg.predict(x_test)))\n",
    "print('Mean absolute error: %.2f' % mean_absolute_error(y_test, linreg.predict(x_test)))\n",
    "print('Root mean squared error: %.2f' % np.sqrt(mean_squared_error(y_test, linreg.predict(x_test))))\n",
    "print('r_2 statistic: %.3f' % r2_score(y_test, linreg.predict(x_test)))"
   ]
  },
  {
   "cell_type": "markdown",
   "metadata": {},
   "source": [
    "### Linear/Lasso/Ridge regression using scikit-learn to change learning rates"
   ]
  },
  {
   "cell_type": "code",
   "execution_count": 69,
   "metadata": {},
   "outputs": [
    {
     "name": "stderr",
     "output_type": "stream",
     "text": [
      "/Users/Weiyang/anaconda3/lib/python3.6/site-packages/ipykernel_launcher.py:27: UserWarning: With alpha=0, this algorithm does not converge well. You are advised to use the LinearRegression estimator\n",
      "/Users/Weiyang/anaconda3/lib/python3.6/site-packages/sklearn/linear_model/coordinate_descent.py:477: UserWarning: Coordinate descent with no regularization may lead to unexpected results and is discouraged.\n",
      "  positive)\n",
      "/Users/Weiyang/anaconda3/lib/python3.6/site-packages/sklearn/linear_model/coordinate_descent.py:491: ConvergenceWarning: Objective did not converge. You might want to increase the number of iterations. Fitting data with very small alpha may cause precision problems.\n",
      "  ConvergenceWarning)\n"
     ]
    }
   ],
   "source": [
    "learning_rates = np.linspace(0,10,1000,endpoint=False)\n",
    "\n",
    "r_squared_train_lr = []\n",
    "r_squared_test_lr = []\n",
    "mean_2_error_lr = []\n",
    "\n",
    "r_squared_train_lasso = []\n",
    "r_squared_test_lasso = []\n",
    "mean_2_error_lasso = []\n",
    "\n",
    "r_squared_train_ridge = []\n",
    "r_squared_test_ridge = []\n",
    "mean_2_error_ridge = []\n",
    "\n",
    "for learning_rate in learning_rates:\n",
    "    \n",
    "    linear_regression = LinearRegression()\n",
    "    lasso = Lasso(alpha = learning_rate, random_state = 777, max_iter = 10000)\n",
    "    ridge = Ridge(alpha = learning_rate, random_state = 777, max_iter = 10000)\n",
    "    \n",
    "    linear_regression.fit(x_train, y_train)\n",
    "    \n",
    "    r_squared_train_lr.append(linear_regression.score(x_train, y_train))\n",
    "    r_squared_test_lr.append(linear_regression.score(x_test, y_test))\n",
    "    mean_2_error_lr.append(mean_squared_error(y_test, linear_regression.predict(x_test)))\n",
    "    \n",
    "    lasso.fit(x_train, y_train)\n",
    "    \n",
    "    r_squared_train_lasso.append(lasso.score(x_train, y_train))\n",
    "    r_squared_test_lasso.append(lasso.score(x_test, y_test))\n",
    "    mean_2_error_lasso.append(mean_squared_error(y_test, lasso.predict(x_test)))\n",
    "    \n",
    "    ridge.fit(x_train, y_train)\n",
    "    \n",
    "    r_squared_train_ridge.append(ridge.score(x_train, y_train))\n",
    "    r_squared_test_ridge.append(ridge.score(x_test, y_test))\n",
    "    mean_2_error_ridge.append(mean_squared_error(y_test, ridge.predict(x_test)))               "
   ]
  },
  {
   "cell_type": "code",
   "execution_count": 70,
   "metadata": {},
   "outputs": [
    {
     "data": {
      "image/png": "[encoded data removed]",
      "text/plain": [
       "<matplotlib.figure.Figure at 0x1c121176a0>"
      ]
     },
     "metadata": {},
     "output_type": "display_data"
    }
   ],
   "source": [
    "plt.plot(r_squared_train_lr, color='blue', label='$R^2$ train')\n",
    "plt.plot(r_squared_test_lr, color='red', label='$R^2$ test')\n",
    "plt.title('$R^2$ train / $R^2$ test ~ Learning Rate')\n",
    "plt.xlabel('Learning Rate')\n",
    "plt.ylabel('score')\n",
    "plt.xlim(0,10)\n",
    "plt.ylim(0.13,0.18)\n",
    "plt.legend()\n",
    "plt.grid();"
   ]
  },
  {
   "cell_type": "code",
   "execution_count": 71,
   "metadata": {},
   "outputs": [
    {
     "data": {
      "image/png": "[encoded data removed]",
      "text/plain": [
       "<matplotlib.figure.Figure at 0x1c11f8ba58>"
      ]
     },
     "metadata": {},
     "output_type": "display_data"
    }
   ],
   "source": [
    "plt.plot(r_squared_train_lasso, color='blue', label='$R^2$ train')\n",
    "plt.plot(r_squared_test_lasso, color='red', label='$R^2$ test')\n",
    "plt.title('$R^2$ train / $R^2$ test ~ Learning Rate')\n",
    "plt.xlabel('Learning Rate')\n",
    "plt.ylabel('score')\n",
    "plt.xlim(0,10)\n",
    "plt.ylim(0.1,0.18)\n",
    "plt.legend()\n",
    "plt.grid();"
   ]
  },
  {
   "cell_type": "code",
   "execution_count": 72,
   "metadata": {},
   "outputs": [
    {
     "data": {
      "image/png": "[encoded data removed]",
      "text/plain": [
       "<matplotlib.figure.Figure at 0x1c11f9e2b0>"
      ]
     },
     "metadata": {},
     "output_type": "display_data"
    }
   ],
   "source": [
    "plt.plot(r_squared_train_ridge, color='blue', label='$R^2$ train')\n",
    "plt.plot(r_squared_test_ridge, color='red', label='$R^2$ test')\n",
    "plt.title('$R^2$ train / $R^2$ test ~ Learning Rate')\n",
    "plt.xlabel('Learning Rate')\n",
    "plt.ylabel('score')\n",
    "plt.xlim(0,10)\n",
    "plt.ylim(0.13,0.18)\n",
    "plt.legend()\n",
    "plt.grid();"
   ]
  },
  {
   "cell_type": "code",
   "execution_count": 73,
   "metadata": {},
   "outputs": [
    {
     "data": {
      "image/png": "[encoded data removed]",
      "text/plain": [
       "<matplotlib.figure.Figure at 0x1c1259aa90>"
      ]
     },
     "metadata": {},
     "output_type": "display_data"
    }
   ],
   "source": [
    "plt.plot(mean_2_error_lr, color='blue', label='$MSE$ Linear Regression')\n",
    "plt.plot(mean_2_error_lasso, color='red', label='$MSE$ Lasso Regression')\n",
    "plt.plot(mean_2_error_ridge, color='green', label='$MSE$ Ridge Regression')\n",
    "plt.title('$MSE$ Linear / $MSE$ Lasso / $MSE$ Ridge ~ Learning Rate')\n",
    "plt.xlabel('Learning Rate')\n",
    "plt.ylabel('score')\n",
    "plt.xlim(0,10)\n",
    "plt.ylim(17, 18)\n",
    "plt.legend()\n",
    "plt.grid();"
   ]
  },
  {
   "cell_type": "markdown",
   "metadata": {},
   "source": [
    "## Logistics Regression"
   ]
  },
  {
   "cell_type": "code",
   "execution_count": null,
   "metadata": {
    "collapsed": true
   },
   "outputs": [],
   "source": []
  }
 ],
 "metadata": {
  "kernelspec": {
   "display_name": "Python 3",
   "language": "python",
   "name": "python3"
  },
  "language_info": {
   "codemirror_mode": {
    "name": "ipython",
    "version": 3
   },
   "file_extension": ".py",
   "mimetype": "text/x-python",
   "name": "python",
   "nbconvert_exporter": "python",
   "pygments_lexer": "ipython3",
   "version": "3.6.2"
  }
 },
 "nbformat": 4,
 "nbformat_minor": 2
}
