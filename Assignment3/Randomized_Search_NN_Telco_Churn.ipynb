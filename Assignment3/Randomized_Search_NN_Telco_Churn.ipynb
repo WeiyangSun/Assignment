{
  "nbformat": 4,
  "nbformat_minor": 0,
  "metadata": {
    "colab": {
      "name": "Randomized Search NN - Telco Churn.ipynb",
      "version": "0.3.2",
      "provenance": [],
      "collapsed_sections": []
    },
    "kernelspec": {
      "name": "python3",
      "display_name": "Python 3"
    },
    "accelerator": "GPU"
  },
  "cells": [
    {
      "metadata": {
        "id": "DLolwUubuVBJ",
        "colab_type": "code",
        "colab": {}
      },
      "cell_type": "code",
      "source": [
        "import pandas as pd\n",
        "import numpy as np\n",
        "import matplotlib.pyplot as plt\n",
        "\n",
        "import os\n",
        "import seaborn as sns\n",
        "import time\n",
        "\n",
        "from sklearn.model_selection import train_test_split\n",
        "\n",
        "from sklearn.preprocessing import MinMaxScaler\n",
        "from sklearn.preprocessing import LabelEncoder\n",
        "from sklearn.preprocessing import OneHotEncoder\n",
        "from sklearn.preprocessing import StandardScaler\n",
        "\n",
        "from sklearn.model_selection import GridSearchCV\n",
        "from sklearn.model_selection import learning_curve\n",
        "from sklearn.model_selection import validation_curve\n",
        "from sklearn.model_selection import ShuffleSplit\n",
        "from sklearn.model_selection import cross_val_score\n",
        "from sklearn.model_selection import StratifiedKFold\n",
        "\n",
        "from keras.models import Sequential\n",
        "from keras.layers import Dense\n",
        "from keras.wrappers.scikit_learn import KerasClassifier\n",
        "\n",
        "from sklearn.metrics import confusion_matrix, mean_squared_error, r2_score, mean_absolute_error\n",
        "from sklearn.metrics import roc_auc_score, accuracy_score, roc_curve, auc, f1_score\n",
        "from sklearn.metrics import classification_report, scorer, precision_score, recall_score"
      ],
      "execution_count": 0,
      "outputs": []
    },
    {
      "metadata": {
        "id": "7gxcIiHpugOf",
        "colab_type": "code",
        "colab": {}
      },
      "cell_type": "code",
      "source": [
        "%matplotlib inline"
      ],
      "execution_count": 0,
      "outputs": []
    },
    {
      "metadata": {
        "id": "Zl6NcFvIujDe",
        "colab_type": "code",
        "colab": {}
      },
      "cell_type": "code",
      "source": [
        "pd.set_option('display.width', 4000)\n",
        "pd.set_option('max_colwidth', 4000)\n",
        "pd.set_option('max_columns', 200)\n",
        "pd.set_option('max_rows', 200)"
      ],
      "execution_count": 0,
      "outputs": []
    },
    {
      "metadata": {
        "id": "6kt7olp1uk9k",
        "colab_type": "code",
        "colab": {}
      },
      "cell_type": "code",
      "source": [
        "dataset = pd.read_csv(\"/content/drive/My Drive/Google Collab/telco-churn.csv\", delimiter = ',')"
      ],
      "execution_count": 0,
      "outputs": []
    },
    {
      "metadata": {
        "id": "GZ8dmnejuro4",
        "colab_type": "code",
        "colab": {}
      },
      "cell_type": "code",
      "source": [
        "dataset['TotalCharges'] = dataset[\"TotalCharges\"].replace(\" \",np.nan)\n",
        "\n",
        "#Dropping null values from total charges column which contain .15% missing data \n",
        "dataset = dataset[dataset[\"TotalCharges\"].notnull()]\n",
        "dataset = dataset.reset_index()[dataset.columns]\n",
        "\n",
        "#convert to float type\n",
        "dataset[\"TotalCharges\"] = dataset[\"TotalCharges\"].astype(float)"
      ],
      "execution_count": 0,
      "outputs": []
    },
    {
      "metadata": {
        "id": "UTffoemsuv3v",
        "colab_type": "code",
        "colab": {}
      },
      "cell_type": "code",
      "source": [
        "replace_cols = [ 'OnlineSecurity', 'OnlineBackup', 'DeviceProtection', 'TechSupport','StreamingTV', 'StreamingMovies']\n",
        "\n",
        "for i in replace_cols : \n",
        "    dataset[i]  = dataset[i].replace({'No internet service' : 'No'})\n",
        "    \n",
        "dataset[\"SeniorCitizen\"] = dataset[\"SeniorCitizen\"].replace({1:\"Yes\",0:\"No\"})"
      ],
      "execution_count": 0,
      "outputs": []
    },
    {
      "metadata": {
        "id": "fXhZy6qgvDEq",
        "colab_type": "code",
        "colab": {}
      },
      "cell_type": "code",
      "source": [
        "churn = dataset[dataset[\"Churn\"] == \"Yes\"]\n",
        "not_churn = dataset[dataset[\"Churn\"] == \"No\"]"
      ],
      "execution_count": 0,
      "outputs": []
    },
    {
      "metadata": {
        "id": "OReFluyNvE9S",
        "colab_type": "code",
        "colab": {}
      },
      "cell_type": "code",
      "source": [
        "Id_col = ['customerID']\n",
        "target_col = [\"Churn\"]\n",
        "\n",
        "#categorical columns\n",
        "categorical_cols   = dataset.nunique()[dataset.nunique() < 6].keys().tolist()\n",
        "categorical_cols   = [x for x in categorical_cols if x not in target_col]\n",
        "\n",
        "#numerical columns\n",
        "numerical_cols   = [x for x in dataset.columns if x not in categorical_cols + target_col + Id_col]\n",
        "\n",
        "#Binary columns with 2 values\n",
        "binary_cols   = dataset.nunique()[dataset.nunique() == 2].keys().tolist()\n",
        "\n",
        "#Columns more than 2 values\n",
        "multi_cols = [i for i in categorical_cols if i not in binary_cols]"
      ],
      "execution_count": 0,
      "outputs": []
    },
    {
      "metadata": {
        "id": "RJRjn4m6vG5D",
        "colab_type": "code",
        "colab": {}
      },
      "cell_type": "code",
      "source": [
        "le = LabelEncoder()\n",
        "\n",
        "for i in binary_cols :\n",
        "    dataset[i] = le.fit_transform(dataset[i])"
      ],
      "execution_count": 0,
      "outputs": []
    },
    {
      "metadata": {
        "id": "0gMjmPrevI27",
        "colab_type": "code",
        "colab": {}
      },
      "cell_type": "code",
      "source": [
        "dataset = pd.get_dummies(data = dataset,columns = multi_cols)\n",
        "\n",
        "std = MinMaxScaler()\n",
        "\n",
        "scaled = std.fit_transform(dataset[numerical_cols])\n",
        "scaled = pd.DataFrame(scaled,columns=numerical_cols)"
      ],
      "execution_count": 0,
      "outputs": []
    },
    {
      "metadata": {
        "id": "SsWiDbcnvMq7",
        "colab_type": "code",
        "colab": {}
      },
      "cell_type": "code",
      "source": [
        "df_telcom = dataset.copy()\n",
        "\n",
        "dataset = dataset.drop(numerical_cols,axis = 1)\n",
        "dataset = dataset.merge(scaled,left_index=True,right_index=True,how = \"left\")"
      ],
      "execution_count": 0,
      "outputs": []
    },
    {
      "metadata": {
        "id": "l2lUbtQ0b2mi",
        "colab_type": "code",
        "colab": {}
      },
      "cell_type": "code",
      "source": [
        "import random"
      ],
      "execution_count": 0,
      "outputs": []
    },
    {
      "metadata": {
        "id": "qMaKzqARb1F-",
        "colab_type": "code",
        "colab": {}
      },
      "cell_type": "code",
      "source": [
        "dataset = dataset.sample(395)"
      ],
      "execution_count": 0,
      "outputs": []
    },
    {
      "metadata": {
        "id": "WJ6OIpfVvOxj",
        "colab_type": "code",
        "colab": {}
      },
      "cell_type": "code",
      "source": [
        "y_labels = dataset.pop('Churn')\n",
        "\n",
        "dataset = dataset.drop(['customerID'], axis=1)\n",
        "\n",
        "x_train, x_test, y_train, y_test = train_test_split(dataset, y_labels, test_size = 0.33, random_state = 777)"
      ],
      "execution_count": 0,
      "outputs": []
    },
    {
      "metadata": {
        "id": "Ng3YUWyKvUpF",
        "colab_type": "code",
        "colab": {}
      },
      "cell_type": "code",
      "source": [
        "#Model Creation\n",
        "model = Sequential()\n",
        "model.add(Dense(28, input_dim=28, kernel_initializer='normal', activation='relu'))\n",
        "model.add(Dense(14, kernel_initializer='normal', activation='relu'))\n",
        "model.add(Dense(1, kernel_initializer='normal', activation='sigmoid'))\n",
        "\n",
        "#Model Compilation\n",
        "model.compile(loss='binary_crossentropy', optimizer='adam', metrics=['accuracy'])"
      ],
      "execution_count": 0,
      "outputs": []
    },
    {
      "metadata": {
        "id": "9Ow9HUy8vbaV",
        "colab_type": "code",
        "colab": {
          "base_uri": "https://localhost:8080/",
          "height": 34
        },
        "outputId": "b2b8ff1e-6992-4538-e73a-b5dcceb0ac5e"
      },
      "cell_type": "code",
      "source": [
        "model.fit(x_train, y_train, epochs=150, batch_size=5, verbose=0)"
      ],
      "execution_count": 20,
      "outputs": [
        {
          "output_type": "execute_result",
          "data": {
            "text/plain": [
              "<keras.callbacks.History at 0x7f9337472be0>"
            ]
          },
          "metadata": {
            "tags": []
          },
          "execution_count": 20
        }
      ]
    },
    {
      "metadata": {
        "id": "ycgvYIsfvd2c",
        "colab_type": "code",
        "colab": {
          "base_uri": "https://localhost:8080/",
          "height": 337
        },
        "outputId": "94f70b8d-f356-4cbf-89d9-cae0790253a5"
      },
      "cell_type": "code",
      "source": [
        "predictions = model.predict(x_test)\n",
        "\n",
        "threshold = 0.5\n",
        "predictions = (predictions > threshold)\n",
        "\n",
        "cm = confusion_matrix(y_test, predictions)\n",
        "\n",
        "plt.figure(figsize = (5,5))\n",
        "\n",
        "sns.heatmap(cm, annot=True, fmt=\"d\")"
      ],
      "execution_count": 21,
      "outputs": [
        {
          "output_type": "execute_result",
          "data": {
            "text/plain": [
              "<matplotlib.axes._subplots.AxesSubplot at 0x7f9330ebc390>"
            ]
          },
          "metadata": {
            "tags": []
          },
          "execution_count": 21
        },
        {
          "output_type": "display_data",
          "data": {
            "image/png": "[encoded data removed]",
            "text/plain": [
              "<matplotlib.figure.Figure at 0x7f9376b7fc88>"
            ]
          },
          "metadata": {
            "tags": []
          }
        }
      ]
    },
    {
      "metadata": {
        "id": "Ni94jjEAvoYu",
        "colab_type": "code",
        "colab": {
          "base_uri": "https://localhost:8080/",
          "height": 294
        },
        "outputId": "8b9373e9-d1fd-484d-e507-510922eebc19"
      },
      "cell_type": "code",
      "source": [
        "y_pred_keras = model.predict(x_test).ravel()\n",
        "fpr_keras, tpr_keras, thresholds_keras = roc_curve(y_test, y_pred_keras)\n",
        "auc_keras = auc(fpr_keras, tpr_keras)\n",
        "\n",
        "plt.title('Receiver Operating Characteristic')\n",
        "plt.plot(fpr_keras, tpr_keras, 'b', label = 'AUC = %0.2f' % auc_keras)\n",
        "plt.legend(loc = 'lower right')\n",
        "plt.plot([0, 1], [0, 1],'r--')\n",
        "plt.xlim([0, 1])\n",
        "plt.ylim([0, 1])\n",
        "plt.ylabel('True Positive Rate')\n",
        "plt.xlabel('False Positive Rate')\n",
        "plt.show()"
      ],
      "execution_count": 22,
      "outputs": [
        {
          "output_type": "display_data",
          "data": {
            "image/png": "[encoded data removed]",
            "text/plain": [
              "<matplotlib.figure.Figure at 0x7f9330ebc2e8>"
            ]
          },
          "metadata": {
            "tags": []
          }
        }
      ]
    },
    {
      "metadata": {
        "id": "Z8Lry5UavtbJ",
        "colab_type": "code",
        "colab": {
          "base_uri": "https://localhost:8080/",
          "height": 85
        },
        "outputId": "8518bf4e-489c-4ee2-d054-b7a4856e723d"
      },
      "cell_type": "code",
      "source": [
        "score = round(accuracy_score(y_test, predictions),2)\n",
        "print('Accuracy of Base Model: {} '.format(score))\n",
        "\n",
        "scores = model.evaluate(x_test, y_test)\n",
        "print(\"\\n%s: %.2f%%\" % (model.metrics_names[1], scores[1]*100))"
      ],
      "execution_count": 23,
      "outputs": [
        {
          "output_type": "stream",
          "text": [
            "Accuracy of Base Model: 0.82 \n",
            "131/131 [==============================] - 0s 409us/step\n",
            "\n",
            "acc: 82.44%\n"
          ],
          "name": "stdout"
        }
      ]
    },
    {
      "metadata": {
        "id": "NxT3TzZ7ywjx",
        "colab_type": "code",
        "colab": {}
      },
      "cell_type": "code",
      "source": [
        "#Model Creation\n",
        "model2 = Sequential()\n",
        "model2.add(Dense(28, input_dim=28, kernel_initializer='normal', activation='sigmoid'))\n",
        "model2.add(Dense(14, kernel_initializer='normal', activation='sigmoid'))\n",
        "model2.add(Dense(1, kernel_initializer='normal', activation='sigmoid'))\n",
        "\n",
        "#Model Compilation\n",
        "model2.compile(loss='binary_crossentropy', optimizer='adam', metrics=['accuracy'])"
      ],
      "execution_count": 0,
      "outputs": []
    },
    {
      "metadata": {
        "id": "QqVW_zOly1ZY",
        "colab_type": "code",
        "colab": {
          "base_uri": "https://localhost:8080/",
          "height": 34
        },
        "outputId": "1c25080b-76ad-4e7b-c8aa-ec147e70dfbf"
      },
      "cell_type": "code",
      "source": [
        "model2.fit(x_train, y_train, epochs=150, batch_size=5, verbose=0)"
      ],
      "execution_count": 25,
      "outputs": [
        {
          "output_type": "execute_result",
          "data": {
            "text/plain": [
              "<keras.callbacks.History at 0x7f9337472d68>"
            ]
          },
          "metadata": {
            "tags": []
          },
          "execution_count": 25
        }
      ]
    },
    {
      "metadata": {
        "id": "HFw1ZkgNy3QH",
        "colab_type": "code",
        "colab": {
          "base_uri": "https://localhost:8080/",
          "height": 337
        },
        "outputId": "34531ce0-0672-46d2-db0b-730e6765f8c2"
      },
      "cell_type": "code",
      "source": [
        "predictions2 = model2.predict(x_test)\n",
        "\n",
        "threshold = 0.5\n",
        "predictions2 = (predictions2 > threshold)\n",
        "\n",
        "cm2 = confusion_matrix(y_test, predictions2)\n",
        "plt.figure(figsize = (5,5))\n",
        "\n",
        "sns.heatmap(cm2, annot=True, fmt=\"d\")"
      ],
      "execution_count": 26,
      "outputs": [
        {
          "output_type": "execute_result",
          "data": {
            "text/plain": [
              "<matplotlib.axes._subplots.AxesSubplot at 0x7f9330138438>"
            ]
          },
          "metadata": {
            "tags": []
          },
          "execution_count": 26
        },
        {
          "output_type": "display_data",
          "data": {
            "image/png": "[encoded data removed]",
            "text/plain": [
              "<matplotlib.figure.Figure at 0x7f93373bf320>"
            ]
          },
          "metadata": {
            "tags": []
          }
        }
      ]
    },
    {
      "metadata": {
        "id": "dHHOe9EEy7e4",
        "colab_type": "code",
        "colab": {
          "base_uri": "https://localhost:8080/",
          "height": 294
        },
        "outputId": "58be4dac-5d90-4803-d795-d8007ba0376c"
      },
      "cell_type": "code",
      "source": [
        "y_pred_keras = model2.predict(x_test).ravel()\n",
        "fpr_keras, tpr_keras, thresholds_keras = roc_curve(y_test, y_pred_keras)\n",
        "auc_keras = auc(fpr_keras, tpr_keras)\n",
        "\n",
        "plt.title('Receiver Operating Characteristic')\n",
        "plt.plot(fpr_keras, tpr_keras, 'b', label = 'AUC = %0.2f' % auc_keras)\n",
        "plt.legend(loc = 'lower right')\n",
        "plt.plot([0, 1], [0, 1],'r--')\n",
        "plt.xlim([0, 1])\n",
        "plt.ylim([0, 1])\n",
        "plt.ylabel('True Positive Rate')\n",
        "plt.xlabel('False Positive Rate')\n",
        "plt.show()"
      ],
      "execution_count": 27,
      "outputs": [
        {
          "output_type": "display_data",
          "data": {
            "image/png": "[encoded data removed]",
            "text/plain": [
              "<matplotlib.figure.Figure at 0x7f9330663320>"
            ]
          },
          "metadata": {
            "tags": []
          }
        }
      ]
    },
    {
      "metadata": {
        "id": "1YFNPdPgy9VS",
        "colab_type": "code",
        "colab": {
          "base_uri": "https://localhost:8080/",
          "height": 85
        },
        "outputId": "f82cd837-74e5-486b-899c-7aa346568f9b"
      },
      "cell_type": "code",
      "source": [
        "score = round(accuracy_score(y_test, predictions2),2)\n",
        "print('Accuracy of Base Model: {} '.format(score))\n",
        "\n",
        "scores = model2.evaluate(x_test, y_test)\n",
        "print(\"\\n%s: %.2f%%\" % (model2.metrics_names[1], scores[1]*100))"
      ],
      "execution_count": 28,
      "outputs": [
        {
          "output_type": "stream",
          "text": [
            "Accuracy of Base Model: 0.82 \n",
            "131/131 [==============================] - 0s 477us/step\n",
            "\n",
            "acc: 81.68%\n"
          ],
          "name": "stdout"
        }
      ]
    },
    {
      "metadata": {
        "id": "TE80QYlay_9L",
        "colab_type": "code",
        "colab": {}
      },
      "cell_type": "code",
      "source": [
        "#Model Creation\n",
        "model3 = Sequential()\n",
        "model3.add(Dense(28, input_dim=28, kernel_initializer='normal', activation='tanh'))\n",
        "model3.add(Dense(14, kernel_initializer='normal', activation='tanh'))\n",
        "model3.add(Dense(1, kernel_initializer='normal', activation='sigmoid'))\n",
        "\n",
        "#Model Compilation\n",
        "model3.compile(loss='binary_crossentropy', optimizer='adam', metrics=['accuracy'])"
      ],
      "execution_count": 0,
      "outputs": []
    },
    {
      "metadata": {
        "id": "i9rW_8nG1tPW",
        "colab_type": "code",
        "colab": {
          "base_uri": "https://localhost:8080/",
          "height": 34
        },
        "outputId": "dad50f33-6316-4f07-d834-12764d44aa6d"
      },
      "cell_type": "code",
      "source": [
        "model3.fit(x_train, y_train, epochs=150, batch_size=5, verbose=0)"
      ],
      "execution_count": 30,
      "outputs": [
        {
          "output_type": "execute_result",
          "data": {
            "text/plain": [
              "<keras.callbacks.History at 0x7f93300b0b00>"
            ]
          },
          "metadata": {
            "tags": []
          },
          "execution_count": 30
        }
      ]
    },
    {
      "metadata": {
        "id": "K4248M2g1vL1",
        "colab_type": "code",
        "colab": {
          "base_uri": "https://localhost:8080/",
          "height": 337
        },
        "outputId": "9da69be7-b177-4aa0-d590-5f0c5546f8ae"
      },
      "cell_type": "code",
      "source": [
        "predictions3 = model3.predict(x_test)\n",
        "\n",
        "threshold = 0.5\n",
        "predictions3 = (predictions3 > threshold)\n",
        "\n",
        "cm3 = confusion_matrix(y_test, predictions3)\n",
        "plt.figure(figsize = (5,5))\n",
        "\n",
        "sns.heatmap(cm3, annot=True, fmt=\"d\")"
      ],
      "execution_count": 31,
      "outputs": [
        {
          "output_type": "execute_result",
          "data": {
            "text/plain": [
              "<matplotlib.axes._subplots.AxesSubplot at 0x7f931d446b38>"
            ]
          },
          "metadata": {
            "tags": []
          },
          "execution_count": 31
        },
        {
          "output_type": "display_data",
          "data": {
            "image/png": "[encoded data removed]",
            "text/plain": [
              "<matplotlib.figure.Figure at 0x7f933013eb70>"
            ]
          },
          "metadata": {
            "tags": []
          }
        }
      ]
    },
    {
      "metadata": {
        "id": "HqgrGWfV1yfv",
        "colab_type": "code",
        "colab": {
          "base_uri": "https://localhost:8080/",
          "height": 294
        },
        "outputId": "c45da14e-3613-41ee-fdc7-2b589199b2b4"
      },
      "cell_type": "code",
      "source": [
        "y_pred_keras = model3.predict(x_test).ravel()\n",
        "fpr_keras, tpr_keras, thresholds_keras = roc_curve(y_test, y_pred_keras)\n",
        "auc_keras = auc(fpr_keras, tpr_keras)\n",
        "\n",
        "plt.title('Receiver Operating Characteristic')\n",
        "plt.plot(fpr_keras, tpr_keras, 'b', label = 'AUC = %0.2f' % auc_keras)\n",
        "plt.legend(loc = 'lower right')\n",
        "plt.plot([0, 1], [0, 1],'r--')\n",
        "plt.xlim([0, 1])\n",
        "plt.ylim([0, 1])\n",
        "plt.ylabel('True Positive Rate')\n",
        "plt.xlabel('False Positive Rate')\n",
        "plt.show()"
      ],
      "execution_count": 32,
      "outputs": [
        {
          "output_type": "display_data",
          "data": {
            "image/png": "[encoded data removed]",
            "text/plain": [
              "<matplotlib.figure.Figure at 0x7f93305851d0>"
            ]
          },
          "metadata": {
            "tags": []
          }
        }
      ]
    },
    {
      "metadata": {
        "id": "3Nl-ngXF11lQ",
        "colab_type": "code",
        "colab": {
          "base_uri": "https://localhost:8080/",
          "height": 85
        },
        "outputId": "1e3984cf-7565-45d0-e5ea-bd2eb51199c6"
      },
      "cell_type": "code",
      "source": [
        "score = round(accuracy_score(y_test, predictions3),2)\n",
        "print('Accuracy of Base Model: {} '.format(score))\n",
        "\n",
        "scores = model3.evaluate(x_test, y_test)\n",
        "print(\"\\n%s: %.2f%%\" % (model3.metrics_names[1], scores[1]*100))"
      ],
      "execution_count": 33,
      "outputs": [
        {
          "output_type": "stream",
          "text": [
            "Accuracy of Base Model: 0.83 \n",
            "131/131 [==============================] - 0s 580us/step\n",
            "\n",
            "acc: 83.21%\n"
          ],
          "name": "stdout"
        }
      ]
    },
    {
      "metadata": {
        "id": "6algssOA17Fs",
        "colab_type": "code",
        "colab": {}
      },
      "cell_type": "code",
      "source": [
        "scores = []\n",
        "times = []\n",
        "nodes = np.arange(1,29)\n",
        "    \n",
        "for x in nodes:\n",
        "  \n",
        "    #Model Creation\n",
        "    model = Sequential()\n",
        "    model.add(Dense(28, input_dim=28, kernel_initializer='normal', activation='relu'))\n",
        "    model.add(Dense(x, kernel_initializer='normal', activation='relu'))\n",
        "    model.add(Dense(1, kernel_initializer='normal', activation='sigmoid'))\n",
        "    \n",
        "    #Model Compilation\n",
        "    model.compile(loss='binary_crossentropy', optimizer='adam', metrics=['accuracy'])  \n",
        "    \n",
        "    model.fit(x_train, y_train, epochs=150, batch_size=10, verbose=0)\n",
        "    times.append(x)\n",
        "    score = model.evaluate(x_test, y_test, verbose=0)[1]\n",
        "    scores.append(score)"
      ],
      "execution_count": 0,
      "outputs": []
    },
    {
      "metadata": {
        "id": "DP78KWTXbNGi",
        "colab_type": "code",
        "colab": {}
      },
      "cell_type": "code",
      "source": [
        "scores2 = []\n",
        "times2 = []\n",
        "nodes = np.arange(1,29)\n",
        "    \n",
        "for x in nodes:\n",
        "  \n",
        "    #Model Creation\n",
        "    model2 = Sequential()\n",
        "    model2.add(Dense(28, input_dim=28, kernel_initializer='normal', activation='sigmoid'))\n",
        "    model2.add(Dense(x, kernel_initializer='normal', activation='sigmoid'))\n",
        "    model2.add(Dense(1, kernel_initializer='normal', activation='sigmoid'))\n",
        "\n",
        "    #Model Compilation\n",
        "    model2.compile(loss='binary_crossentropy', optimizer='adam', metrics=['accuracy'])\n",
        "    \n",
        "    model2.fit(x_train, y_train, epochs=150, batch_size=10, verbose=0)\n",
        "    times2.append(x)\n",
        "    score = model2.evaluate(x_test, y_test, verbose=0)[1]\n",
        "    scores2.append(score)"
      ],
      "execution_count": 0,
      "outputs": []
    },
    {
      "metadata": {
        "id": "JczkfewXbU86",
        "colab_type": "code",
        "colab": {}
      },
      "cell_type": "code",
      "source": [
        "scores3 = []\n",
        "times3 = []\n",
        "nodes = np.arange(1,29)\n",
        "    \n",
        "for x in nodes:\n",
        "  \n",
        "    #Model Creation\n",
        "    model3 = Sequential()\n",
        "    model3.add(Dense(28, input_dim=28, kernel_initializer='normal', activation='tanh'))\n",
        "    model3.add(Dense(x, kernel_initializer='normal', activation='tanh'))\n",
        "    model3.add(Dense(1, kernel_initializer='normal', activation='sigmoid'))\n",
        "\n",
        "    #Model Compilation\n",
        "    model3.compile(loss='binary_crossentropy', optimizer='adam', metrics=['accuracy'])\n",
        "    \n",
        "    model3.fit(x_train, y_train, epochs=150, batch_size=10, verbose=0)\n",
        "    times3.append(x)\n",
        "    score = model3.evaluate(x_test, y_test, verbose=0)[1]\n",
        "    scores3.append(score)"
      ],
      "execution_count": 0,
      "outputs": []
    },
    {
      "metadata": {
        "id": "cy0lnDv7bcwt",
        "colab_type": "code",
        "colab": {}
      },
      "cell_type": "code",
      "source": [
        "final_results = pd.DataFrame()\n",
        "final_results['Nodes'] = times\n",
        "final_results['model1_score'] = scores\n",
        "final_results['model2_score'] = scores2\n",
        "final_results['model3_score'] = scores3"
      ],
      "execution_count": 0,
      "outputs": []
    },
    {
      "metadata": {
        "id": "LgE4rLFKbfCS",
        "colab_type": "code",
        "colab": {
          "base_uri": "https://localhost:8080/",
          "height": 68
        },
        "outputId": "fa0e41a6-163e-4ee7-c1c1-58a55eeba380"
      },
      "cell_type": "code",
      "source": [
        "print('The # of nodes that gave the best accuracy for ReLu Model is {}'.format(int(final_results.loc[final_results['model1_score'].idxmax()][0])))\n",
        "print('The # of nodes that gave the best accuracy for Sigmoid Model is {}'.format(int(final_results.loc[final_results['model2_score'].idxmax()][0])))\n",
        "print('The # of nodes that gave the best accuracy for Tanh Model is {}'.format(int(final_results.loc[final_results['model3_score'].idxmax()][0])))"
      ],
      "execution_count": 42,
      "outputs": [
        {
          "output_type": "stream",
          "text": [
            "The # of nodes that gave the best accuracy for ReLu Model is 3\n",
            "The # of nodes that gave the best accuracy for Sigmoid Model is 2\n",
            "The # of nodes that gave the best accuracy for Tanh Model is 1\n"
          ],
          "name": "stdout"
        }
      ]
    },
    {
      "metadata": {
        "id": "Qd9Eux6IbhZz",
        "colab_type": "code",
        "colab": {
          "base_uri": "https://localhost:8080/",
          "height": 623
        },
        "outputId": "931cbdc4-1281-4e43-f34c-659e00b8a993"
      },
      "cell_type": "code",
      "source": [
        "plt.figure(figsize=(15,10))\n",
        "\n",
        "plt.plot(times, scores, 'r-', label='Relu Model')\n",
        "plt.plot(times, scores2, 'b-', label='Sigmoid Model')\n",
        "plt.plot(times, scores3, '-', label='Tanh Model')\n",
        "\n",
        "plt.legend(loc='best')\n",
        "plt.title('Test Scores for Various Models with Varying Nodes')\n",
        "plt.xlabel('Number of Nodes', size = 12)\n",
        "plt.ylabel('Accuracy', size = 12)\n",
        "plt.show()"
      ],
      "execution_count": 43,
      "outputs": [
        {
          "output_type": "display_data",
          "data": {
            "image/png": "[encoded data removed]",
            "text/plain": [
              "<matplotlib.figure.Figure at 0x7f93049d16d8>"
            ]
          },
          "metadata": {
            "tags": []
          }
        }
      ]
    },
    {
      "metadata": {
        "id": "bXn2aUycbjlE",
        "colab_type": "code",
        "colab": {}
      },
      "cell_type": "code",
      "source": [
        ""
      ],
      "execution_count": 0,
      "outputs": []
    },
    {
      "metadata": {
        "id": "-ONaoMByi1lT",
        "colab_type": "code",
        "colab": {}
      },
      "cell_type": "code",
      "source": [
        "# Function to create model, required for KerasClassifier\n",
        "def create_model():\n",
        "\t#Model Creation\n",
        "  model = Sequential()\n",
        "  model.add(Dense(28, input_dim=28, kernel_initializer='normal', activation='relu'))\n",
        "  model.add(Dense(22, kernel_initializer='normal', activation='relu'))\n",
        "  model.add(Dense(1, kernel_initializer='normal', activation='sigmoid'))\n",
        "\t# Compile model\n",
        "  model.compile(loss='binary_crossentropy', optimizer='adam', metrics=['accuracy'])\t\n",
        "  return model"
      ],
      "execution_count": 0,
      "outputs": []
    },
    {
      "metadata": {
        "id": "r_Cto2qNi5iK",
        "colab_type": "code",
        "colab": {}
      },
      "cell_type": "code",
      "source": [
        "model = KerasClassifier(build_fn=create_model, verbose=0)\n",
        "# define the grid search parameters\n",
        "batch_size = [10, 20, 30, 40, 50, 60, 70, 80, 90, 100]\n",
        "epochs = [10, 20, 30, 40, 50, 60,70, 80, 90, 100]\n",
        "\n",
        "param_grid = dict(batch_size=batch_size, epochs=epochs)"
      ],
      "execution_count": 0,
      "outputs": []
    },
    {
      "metadata": {
        "id": "aHNJ_Jg7i8Mj",
        "colab_type": "code",
        "colab": {}
      },
      "cell_type": "code",
      "source": [
        "from sklearn.model_selection import RandomizedSearchCV"
      ],
      "execution_count": 0,
      "outputs": []
    },
    {
      "metadata": {
        "id": "EuMzhFhui-S8",
        "colab_type": "code",
        "colab": {}
      },
      "cell_type": "code",
      "source": [
        "def report(results, n_top=3):\n",
        "    for i in range(1, n_top + 1):\n",
        "        candidates = np.flatnonzero(results['rank_test_score'] == i)\n",
        "        for candidate in candidates:\n",
        "            print(\"Model with rank: {0}\".format(i))\n",
        "            print(\"Mean validation score: {0:.3f} (std: {1:.3f})\".format(\n",
        "                  results['mean_test_score'][candidate],\n",
        "                  results['std_test_score'][candidate]))\n",
        "            print(\"Parameters: {0}\".format(results['params'][candidate]))\n",
        "            print(\"\")"
      ],
      "execution_count": 0,
      "outputs": []
    },
    {
      "metadata": {
        "id": "DlbEC6ThjATG",
        "colab_type": "code",
        "colab": {
          "base_uri": "https://localhost:8080/",
          "height": 221
        },
        "outputId": "424eafa2-9dec-47cc-b010-958684a80b55"
      },
      "cell_type": "code",
      "source": [
        "n_iter_search = 20\n",
        "random_search = RandomizedSearchCV(model, param_distributions=param_grid,\n",
        "                                   n_iter=n_iter_search, cv=5)\n",
        "\n",
        "random_search.fit(x_train, y_train)\n",
        "report(random_search.cv_results_)"
      ],
      "execution_count": 48,
      "outputs": [
        {
          "output_type": "stream",
          "text": [
            "Model with rank: 1\n",
            "Mean validation score: 0.761 (std: 0.045)\n",
            "Parameters: {'epochs': 60, 'batch_size': 90}\n",
            "\n",
            "Model with rank: 2\n",
            "Mean validation score: 0.761 (std: 0.040)\n",
            "Parameters: {'epochs': 40, 'batch_size': 50}\n",
            "\n",
            "Model with rank: 3\n",
            "Mean validation score: 0.761 (std: 0.049)\n",
            "Parameters: {'epochs': 80, 'batch_size': 50}\n",
            "\n"
          ],
          "name": "stdout"
        }
      ]
    },
    {
      "metadata": {
        "id": "AdwtztBbjE0Q",
        "colab_type": "code",
        "colab": {
          "base_uri": "https://localhost:8080/",
          "height": 357
        },
        "outputId": "d53b2b84-ddc6-44d3-8dbd-29e91bc0738d"
      },
      "cell_type": "code",
      "source": [
        "# Function to create model, required for KerasClassifier\n",
        "def create_model():\n",
        "\t#Model Creation\n",
        "  model = Sequential()\n",
        "  model.add(Dense(28, input_dim=28, kernel_initializer='normal', activation='sigmoid'))\n",
        "  model.add(Dense(22, kernel_initializer='normal', activation='sigmoid'))\n",
        "  model.add(Dense(1, kernel_initializer='normal', activation='sigmoid'))\n",
        "\t# Compile model\n",
        "  model.compile(loss='binary_crossentropy', optimizer='adam', metrics=['accuracy'])\t\n",
        "  return model\n",
        "\n",
        "model = KerasClassifier(build_fn=create_model, verbose=0)\n",
        "# define the grid search parameters\n",
        "batch_size = [10, 20, 30, 40, 50, 60, 70, 80, 90, 100]\n",
        "epochs = [10, 20, 30, 40, 50, 60,70, 80, 90, 100]\n",
        "\n",
        "param_grid = dict(batch_size=batch_size, epochs=epochs)\n",
        "\n",
        "n_iter_search = 20\n",
        "random_search = RandomizedSearchCV(model, param_distributions=param_grid,\n",
        "                                   n_iter=n_iter_search, cv=5)\n",
        "\n",
        "random_search.fit(x_train, y_train)\n",
        "report(random_search.cv_results_)"
      ],
      "execution_count": 49,
      "outputs": [
        {
          "output_type": "stream",
          "text": [
            "Model with rank: 1\n",
            "Mean validation score: 0.735 (std: 0.043)\n",
            "Parameters: {'epochs': 60, 'batch_size': 10}\n",
            "\n",
            "Model with rank: 2\n",
            "Mean validation score: 0.727 (std: 0.060)\n",
            "Parameters: {'epochs': 70, 'batch_size': 10}\n",
            "\n",
            "Model with rank: 3\n",
            "Mean validation score: 0.723 (std: 0.049)\n",
            "Parameters: {'epochs': 40, 'batch_size': 40}\n",
            "\n",
            "Model with rank: 3\n",
            "Mean validation score: 0.723 (std: 0.049)\n",
            "Parameters: {'epochs': 50, 'batch_size': 20}\n",
            "\n",
            "Model with rank: 3\n",
            "Mean validation score: 0.723 (std: 0.049)\n",
            "Parameters: {'epochs': 60, 'batch_size': 20}\n",
            "\n"
          ],
          "name": "stdout"
        }
      ]
    },
    {
      "metadata": {
        "id": "8Yw6D3G1jOlH",
        "colab_type": "code",
        "colab": {
          "base_uri": "https://localhost:8080/",
          "height": 289
        },
        "outputId": "03480ca4-1e58-4e7a-f825-c5ef72bd8e1f"
      },
      "cell_type": "code",
      "source": [
        "# Function to create model, required for KerasClassifier\n",
        "def create_model():\n",
        "\t#Model Creation\n",
        "  model = Sequential()\n",
        "  model.add(Dense(28, input_dim=28, kernel_initializer='normal', activation='tanh'))\n",
        "  model.add(Dense(22, kernel_initializer='normal', activation='tanh'))\n",
        "  model.add(Dense(1, kernel_initializer='normal', activation='sigmoid'))\n",
        "\t# Compile model\n",
        "  model.compile(loss='binary_crossentropy', optimizer='adam', metrics=['accuracy'])\t\n",
        "  return model\n",
        "\n",
        "model = KerasClassifier(build_fn=create_model, verbose=0)\n",
        "# define the grid search parameters\n",
        "batch_size = [10, 20, 30, 40, 50, 60, 70, 80, 90, 100]\n",
        "epochs = [10, 20, 30, 40, 50, 60,70, 80, 90, 100]\n",
        "\n",
        "param_grid = dict(batch_size=batch_size, epochs=epochs)\n",
        "\n",
        "n_iter_search = 20\n",
        "random_search = RandomizedSearchCV(model, param_distributions=param_grid,\n",
        "                                   n_iter=n_iter_search, cv=5)\n",
        "\n",
        "random_search.fit(x_train, y_train)\n",
        "report(random_search.cv_results_)"
      ],
      "execution_count": 50,
      "outputs": [
        {
          "output_type": "stream",
          "text": [
            "Model with rank: 1\n",
            "Mean validation score: 0.761 (std: 0.049)\n",
            "Parameters: {'epochs': 50, 'batch_size': 100}\n",
            "\n",
            "Model with rank: 2\n",
            "Mean validation score: 0.750 (std: 0.044)\n",
            "Parameters: {'epochs': 100, 'batch_size': 90}\n",
            "\n",
            "Model with rank: 3\n",
            "Mean validation score: 0.750 (std: 0.039)\n",
            "Parameters: {'epochs': 60, 'batch_size': 50}\n",
            "\n",
            "Model with rank: 3\n",
            "Mean validation score: 0.750 (std: 0.041)\n",
            "Parameters: {'epochs': 70, 'batch_size': 80}\n",
            "\n"
          ],
          "name": "stdout"
        }
      ]
    },
    {
      "metadata": {
        "id": "AgD_DwOQjTiZ",
        "colab_type": "code",
        "colab": {}
      },
      "cell_type": "code",
      "source": [
        ""
      ],
      "execution_count": 0,
      "outputs": []
    }
  ]
}