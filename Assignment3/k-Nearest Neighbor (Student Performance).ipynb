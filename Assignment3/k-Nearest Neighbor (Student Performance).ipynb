{
 "cells": [
  {
   "cell_type": "code",
   "execution_count": 1,
   "metadata": {
    "collapsed": true
   },
   "outputs": [],
   "source": [
    "import pandas as pd\n",
    "import numpy as np\n",
    "import matplotlib.pyplot as plt\n",
    "\n",
    "import os\n",
    "import seaborn as sns\n",
    "import time\n",
    "\n",
    "from sklearn.model_selection import train_test_split\n",
    "\n",
    "from sklearn.preprocessing import MinMaxScaler\n",
    "from sklearn.preprocessing import LabelEncoder\n",
    "from sklearn.preprocessing import OneHotEncoder\n",
    "from sklearn.preprocessing import StandardScaler\n",
    "\n",
    "from sklearn.model_selection import GridSearchCV\n",
    "from sklearn.model_selection import learning_curve\n",
    "from sklearn.model_selection import validation_curve\n",
    "from sklearn.model_selection import ShuffleSplit\n",
    "from sklearn.model_selection import cross_val_score\n",
    "from sklearn.model_selection import StratifiedKFold\n",
    "\n",
    "from sklearn.neighbors import KNeighborsClassifier\n",
    "\n",
    "from sklearn.metrics import confusion_matrix, mean_squared_error, r2_score, mean_absolute_error\n",
    "from sklearn.metrics import roc_auc_score, accuracy_score, roc_curve, auc, f1_score\n",
    "from sklearn.metrics import classification_report, scorer, precision_score, recall_score"
   ]
  },
  {
   "cell_type": "code",
   "execution_count": 2,
   "metadata": {
    "collapsed": true
   },
   "outputs": [],
   "source": [
    "%matplotlib inline"
   ]
  },
  {
   "cell_type": "code",
   "execution_count": 3,
   "metadata": {
    "collapsed": true
   },
   "outputs": [],
   "source": [
    "pd.set_option('display.width', 4000)\n",
    "pd.set_option('max_colwidth', 4000)\n",
    "pd.set_option('max_columns', 200)\n",
    "pd.set_option('max_rows', 200)"
   ]
  },
  {
   "cell_type": "code",
   "execution_count": 4,
   "metadata": {
    "collapsed": true
   },
   "outputs": [],
   "source": [
    "os.chdir('/Users/Weiyang/Desktop/Git/Assignment/Assignment3/Data')"
   ]
  },
  {
   "cell_type": "code",
   "execution_count": 5,
   "metadata": {
    "collapsed": true
   },
   "outputs": [],
   "source": [
    "dataset = pd.read_csv('student-mat.csv', delimiter = ';')"
   ]
  },
  {
   "cell_type": "markdown",
   "metadata": {},
   "source": [
    "### Inspecting Data"
   ]
  },
  {
   "cell_type": "code",
   "execution_count": 6,
   "metadata": {},
   "outputs": [
    {
     "data": {
      "text/html": [
       "<div>\n",
       "<style>\n",
       "    .dataframe thead tr:only-child th {\n",
       "        text-align: right;\n",
       "    }\n",
       "\n",
       "    .dataframe thead th {\n",
       "        text-align: left;\n",
       "    }\n",
       "\n",
       "    .dataframe tbody tr th {\n",
       "        vertical-align: top;\n",
       "    }\n",
       "</style>\n",
       "<table border=\"1\" class=\"dataframe\">\n",
       "  <thead>\n",
       "    <tr style=\"text-align: right;\">\n",
       "      <th></th>\n",
       "      <th>school</th>\n",
       "      <th>sex</th>\n",
       "      <th>age</th>\n",
       "      <th>address</th>\n",
       "      <th>famsize</th>\n",
       "      <th>Pstatus</th>\n",
       "      <th>Medu</th>\n",
       "      <th>Fedu</th>\n",
       "      <th>Mjob</th>\n",
       "      <th>Fjob</th>\n",
       "      <th>reason</th>\n",
       "      <th>guardian</th>\n",
       "      <th>traveltime</th>\n",
       "      <th>studytime</th>\n",
       "      <th>failures</th>\n",
       "      <th>schoolsup</th>\n",
       "      <th>famsup</th>\n",
       "      <th>paid</th>\n",
       "      <th>activities</th>\n",
       "      <th>nursery</th>\n",
       "      <th>higher</th>\n",
       "      <th>internet</th>\n",
       "      <th>romantic</th>\n",
       "      <th>famrel</th>\n",
       "      <th>freetime</th>\n",
       "      <th>goout</th>\n",
       "      <th>Dalc</th>\n",
       "      <th>Walc</th>\n",
       "      <th>health</th>\n",
       "      <th>absences</th>\n",
       "      <th>G1</th>\n",
       "      <th>G2</th>\n",
       "      <th>G3</th>\n",
       "    </tr>\n",
       "  </thead>\n",
       "  <tbody>\n",
       "    <tr>\n",
       "      <th>0</th>\n",
       "      <td>GP</td>\n",
       "      <td>F</td>\n",
       "      <td>18</td>\n",
       "      <td>U</td>\n",
       "      <td>GT3</td>\n",
       "      <td>A</td>\n",
       "      <td>4</td>\n",
       "      <td>4</td>\n",
       "      <td>at_home</td>\n",
       "      <td>teacher</td>\n",
       "      <td>course</td>\n",
       "      <td>mother</td>\n",
       "      <td>2</td>\n",
       "      <td>2</td>\n",
       "      <td>0</td>\n",
       "      <td>yes</td>\n",
       "      <td>no</td>\n",
       "      <td>no</td>\n",
       "      <td>no</td>\n",
       "      <td>yes</td>\n",
       "      <td>yes</td>\n",
       "      <td>no</td>\n",
       "      <td>no</td>\n",
       "      <td>4</td>\n",
       "      <td>3</td>\n",
       "      <td>4</td>\n",
       "      <td>1</td>\n",
       "      <td>1</td>\n",
       "      <td>3</td>\n",
       "      <td>6</td>\n",
       "      <td>5</td>\n",
       "      <td>6</td>\n",
       "      <td>6</td>\n",
       "    </tr>\n",
       "    <tr>\n",
       "      <th>1</th>\n",
       "      <td>GP</td>\n",
       "      <td>F</td>\n",
       "      <td>17</td>\n",
       "      <td>U</td>\n",
       "      <td>GT3</td>\n",
       "      <td>T</td>\n",
       "      <td>1</td>\n",
       "      <td>1</td>\n",
       "      <td>at_home</td>\n",
       "      <td>other</td>\n",
       "      <td>course</td>\n",
       "      <td>father</td>\n",
       "      <td>1</td>\n",
       "      <td>2</td>\n",
       "      <td>0</td>\n",
       "      <td>no</td>\n",
       "      <td>yes</td>\n",
       "      <td>no</td>\n",
       "      <td>no</td>\n",
       "      <td>no</td>\n",
       "      <td>yes</td>\n",
       "      <td>yes</td>\n",
       "      <td>no</td>\n",
       "      <td>5</td>\n",
       "      <td>3</td>\n",
       "      <td>3</td>\n",
       "      <td>1</td>\n",
       "      <td>1</td>\n",
       "      <td>3</td>\n",
       "      <td>4</td>\n",
       "      <td>5</td>\n",
       "      <td>5</td>\n",
       "      <td>6</td>\n",
       "    </tr>\n",
       "    <tr>\n",
       "      <th>2</th>\n",
       "      <td>GP</td>\n",
       "      <td>F</td>\n",
       "      <td>15</td>\n",
       "      <td>U</td>\n",
       "      <td>LE3</td>\n",
       "      <td>T</td>\n",
       "      <td>1</td>\n",
       "      <td>1</td>\n",
       "      <td>at_home</td>\n",
       "      <td>other</td>\n",
       "      <td>other</td>\n",
       "      <td>mother</td>\n",
       "      <td>1</td>\n",
       "      <td>2</td>\n",
       "      <td>3</td>\n",
       "      <td>yes</td>\n",
       "      <td>no</td>\n",
       "      <td>yes</td>\n",
       "      <td>no</td>\n",
       "      <td>yes</td>\n",
       "      <td>yes</td>\n",
       "      <td>yes</td>\n",
       "      <td>no</td>\n",
       "      <td>4</td>\n",
       "      <td>3</td>\n",
       "      <td>2</td>\n",
       "      <td>2</td>\n",
       "      <td>3</td>\n",
       "      <td>3</td>\n",
       "      <td>10</td>\n",
       "      <td>7</td>\n",
       "      <td>8</td>\n",
       "      <td>10</td>\n",
       "    </tr>\n",
       "    <tr>\n",
       "      <th>3</th>\n",
       "      <td>GP</td>\n",
       "      <td>F</td>\n",
       "      <td>15</td>\n",
       "      <td>U</td>\n",
       "      <td>GT3</td>\n",
       "      <td>T</td>\n",
       "      <td>4</td>\n",
       "      <td>2</td>\n",
       "      <td>health</td>\n",
       "      <td>services</td>\n",
       "      <td>home</td>\n",
       "      <td>mother</td>\n",
       "      <td>1</td>\n",
       "      <td>3</td>\n",
       "      <td>0</td>\n",
       "      <td>no</td>\n",
       "      <td>yes</td>\n",
       "      <td>yes</td>\n",
       "      <td>yes</td>\n",
       "      <td>yes</td>\n",
       "      <td>yes</td>\n",
       "      <td>yes</td>\n",
       "      <td>yes</td>\n",
       "      <td>3</td>\n",
       "      <td>2</td>\n",
       "      <td>2</td>\n",
       "      <td>1</td>\n",
       "      <td>1</td>\n",
       "      <td>5</td>\n",
       "      <td>2</td>\n",
       "      <td>15</td>\n",
       "      <td>14</td>\n",
       "      <td>15</td>\n",
       "    </tr>\n",
       "    <tr>\n",
       "      <th>4</th>\n",
       "      <td>GP</td>\n",
       "      <td>F</td>\n",
       "      <td>16</td>\n",
       "      <td>U</td>\n",
       "      <td>GT3</td>\n",
       "      <td>T</td>\n",
       "      <td>3</td>\n",
       "      <td>3</td>\n",
       "      <td>other</td>\n",
       "      <td>other</td>\n",
       "      <td>home</td>\n",
       "      <td>father</td>\n",
       "      <td>1</td>\n",
       "      <td>2</td>\n",
       "      <td>0</td>\n",
       "      <td>no</td>\n",
       "      <td>yes</td>\n",
       "      <td>yes</td>\n",
       "      <td>no</td>\n",
       "      <td>yes</td>\n",
       "      <td>yes</td>\n",
       "      <td>no</td>\n",
       "      <td>no</td>\n",
       "      <td>4</td>\n",
       "      <td>3</td>\n",
       "      <td>2</td>\n",
       "      <td>1</td>\n",
       "      <td>2</td>\n",
       "      <td>5</td>\n",
       "      <td>4</td>\n",
       "      <td>6</td>\n",
       "      <td>10</td>\n",
       "      <td>10</td>\n",
       "    </tr>\n",
       "  </tbody>\n",
       "</table>\n",
       "</div>"
      ],
      "text/plain": [
       "  school sex  age address famsize Pstatus  Medu  Fedu     Mjob      Fjob  reason guardian  traveltime  studytime  failures schoolsup famsup paid activities nursery higher internet romantic  famrel  freetime  goout  Dalc  Walc  health  absences  G1  G2  G3\n",
       "0     GP   F   18       U     GT3       A     4     4  at_home   teacher  course   mother           2          2         0       yes     no   no         no     yes    yes       no       no       4         3      4     1     1       3         6   5   6   6\n",
       "1     GP   F   17       U     GT3       T     1     1  at_home     other  course   father           1          2         0        no    yes   no         no      no    yes      yes       no       5         3      3     1     1       3         4   5   5   6\n",
       "2     GP   F   15       U     LE3       T     1     1  at_home     other   other   mother           1          2         3       yes     no  yes         no     yes    yes      yes       no       4         3      2     2     3       3        10   7   8  10\n",
       "3     GP   F   15       U     GT3       T     4     2   health  services    home   mother           1          3         0        no    yes  yes        yes     yes    yes      yes      yes       3         2      2     1     1       5         2  15  14  15\n",
       "4     GP   F   16       U     GT3       T     3     3    other     other    home   father           1          2         0        no    yes  yes         no     yes    yes       no       no       4         3      2     1     2       5         4   6  10  10"
      ]
     },
     "execution_count": 6,
     "metadata": {},
     "output_type": "execute_result"
    }
   ],
   "source": [
    "dataset.head()"
   ]
  },
  {
   "cell_type": "code",
   "execution_count": 7,
   "metadata": {},
   "outputs": [
    {
     "name": "stdout",
     "output_type": "stream",
     "text": [
      "Rows     :  395\n",
      "Columns  :  33\n",
      "\n",
      "Features : \n",
      " ['school', 'sex', 'age', 'address', 'famsize', 'Pstatus', 'Medu', 'Fedu', 'Mjob', 'Fjob', 'reason', 'guardian', 'traveltime', 'studytime', 'failures', 'schoolsup', 'famsup', 'paid', 'activities', 'nursery', 'higher', 'internet', 'romantic', 'famrel', 'freetime', 'goout', 'Dalc', 'Walc', 'health', 'absences', 'G1', 'G2', 'G3']\n",
      "\n",
      "Missing values :   0\n",
      "\n",
      "Unique values :  \n",
      " school         2\n",
      "sex            2\n",
      "age            8\n",
      "address        2\n",
      "famsize        2\n",
      "Pstatus        2\n",
      "Medu           5\n",
      "Fedu           5\n",
      "Mjob           5\n",
      "Fjob           5\n",
      "reason         4\n",
      "guardian       3\n",
      "traveltime     4\n",
      "studytime      4\n",
      "failures       4\n",
      "schoolsup      2\n",
      "famsup         2\n",
      "paid           2\n",
      "activities     2\n",
      "nursery        2\n",
      "higher         2\n",
      "internet       2\n",
      "romantic       2\n",
      "famrel         5\n",
      "freetime       5\n",
      "goout          5\n",
      "Dalc           5\n",
      "Walc           5\n",
      "health         5\n",
      "absences      34\n",
      "G1            17\n",
      "G2            17\n",
      "G3            18\n",
      "dtype: int64\n"
     ]
    }
   ],
   "source": [
    "print (\"Rows     : \" ,dataset.shape[0])\n",
    "print (\"Columns  : \" ,dataset.shape[1])\n",
    "print (\"\\nFeatures : \\n\" ,dataset.columns.tolist())\n",
    "print (\"\\nMissing values :  \", dataset.isnull().sum().values.sum())\n",
    "print (\"\\nUnique values :  \\n\",dataset.nunique())"
   ]
  },
  {
   "cell_type": "markdown",
   "metadata": {},
   "source": [
    "### Data Manipulation"
   ]
  },
  {
   "cell_type": "code",
   "execution_count": 8,
   "metadata": {
    "collapsed": true
   },
   "outputs": [],
   "source": [
    "def unique_counts(dataset):\n",
    "    for i in dataset.columns:\n",
    "        count = dataset[i].nunique()\n",
    "        print('There are {} unique values in {}.'.format(count, i))"
   ]
  },
  {
   "cell_type": "code",
   "execution_count": 9,
   "metadata": {},
   "outputs": [
    {
     "name": "stdout",
     "output_type": "stream",
     "text": [
      "There are 2 unique values in school.\n",
      "There are 2 unique values in sex.\n",
      "There are 8 unique values in age.\n",
      "There are 2 unique values in address.\n",
      "There are 2 unique values in famsize.\n",
      "There are 2 unique values in Pstatus.\n",
      "There are 5 unique values in Medu.\n",
      "There are 5 unique values in Fedu.\n",
      "There are 5 unique values in Mjob.\n",
      "There are 5 unique values in Fjob.\n",
      "There are 4 unique values in reason.\n",
      "There are 3 unique values in guardian.\n",
      "There are 4 unique values in traveltime.\n",
      "There are 4 unique values in studytime.\n",
      "There are 4 unique values in failures.\n",
      "There are 2 unique values in schoolsup.\n",
      "There are 2 unique values in famsup.\n",
      "There are 2 unique values in paid.\n",
      "There are 2 unique values in activities.\n",
      "There are 2 unique values in nursery.\n",
      "There are 2 unique values in higher.\n",
      "There are 2 unique values in internet.\n",
      "There are 2 unique values in romantic.\n",
      "There are 5 unique values in famrel.\n",
      "There are 5 unique values in freetime.\n",
      "There are 5 unique values in goout.\n",
      "There are 5 unique values in Dalc.\n",
      "There are 5 unique values in Walc.\n",
      "There are 5 unique values in health.\n",
      "There are 34 unique values in absences.\n",
      "There are 17 unique values in G1.\n",
      "There are 17 unique values in G2.\n",
      "There are 18 unique values in G3.\n"
     ]
    }
   ],
   "source": [
    "unique_counts(dataset)"
   ]
  },
  {
   "cell_type": "code",
   "execution_count": 10,
   "metadata": {
    "collapsed": true
   },
   "outputs": [],
   "source": [
    "binary_variables = ['school', 'sex', 'address', 'famsize', 'Pstatus', 'schoolsup', 'famsup', 'paid', 'activities', 'nursery', 'higher', 'internet', 'romantic']"
   ]
  },
  {
   "cell_type": "code",
   "execution_count": 11,
   "metadata": {
    "collapsed": true
   },
   "outputs": [],
   "source": [
    "numeric_variables = ['Medu', 'Fedu', 'age', 'traveltime', 'studytime', 'failures', 'famrel', 'freetime', 'Dalc', 'Walc', 'goout', 'health', 'absences']"
   ]
  },
  {
   "cell_type": "code",
   "execution_count": 12,
   "metadata": {
    "collapsed": true
   },
   "outputs": [],
   "source": [
    "categorical_variables = ['Fjob', 'Mjob', 'reason', 'guardian']"
   ]
  },
  {
   "cell_type": "markdown",
   "metadata": {},
   "source": [
    "### Copying Dataset out"
   ]
  },
  {
   "cell_type": "code",
   "execution_count": 13,
   "metadata": {
    "collapsed": true
   },
   "outputs": [],
   "source": [
    "sample_dataset = dataset.copy()\n",
    "sample_dataset1 = dataset.copy()"
   ]
  },
  {
   "cell_type": "markdown",
   "metadata": {},
   "source": [
    "### Data Pre-processing"
   ]
  },
  {
   "cell_type": "code",
   "execution_count": 14,
   "metadata": {
    "collapsed": true
   },
   "outputs": [],
   "source": [
    "not_interested = ['G1', 'G2', 'G3']"
   ]
  },
  {
   "cell_type": "code",
   "execution_count": 15,
   "metadata": {
    "collapsed": true
   },
   "outputs": [],
   "source": [
    "interested = [col for col in dataset.columns if col not in not_interested]"
   ]
  },
  {
   "cell_type": "code",
   "execution_count": 16,
   "metadata": {
    "collapsed": true
   },
   "outputs": [],
   "source": [
    "new_dataset = dataset[interested]"
   ]
  },
  {
   "cell_type": "code",
   "execution_count": 17,
   "metadata": {
    "collapsed": true
   },
   "outputs": [],
   "source": [
    "y_values = dataset['G3']"
   ]
  },
  {
   "cell_type": "markdown",
   "metadata": {},
   "source": [
    "### Label Encoding"
   ]
  },
  {
   "cell_type": "code",
   "execution_count": 18,
   "metadata": {
    "collapsed": true
   },
   "outputs": [],
   "source": [
    "from collections import defaultdict\n",
    "d1 = defaultdict(LabelEncoder)\n",
    "d2 = defaultdict(LabelEncoder)"
   ]
  },
  {
   "cell_type": "code",
   "execution_count": 19,
   "metadata": {
    "collapsed": true
   },
   "outputs": [],
   "source": [
    "bin_values = new_dataset[binary_variables]"
   ]
  },
  {
   "cell_type": "code",
   "execution_count": 20,
   "metadata": {
    "collapsed": true
   },
   "outputs": [],
   "source": [
    "cat_values = new_dataset[categorical_variables]"
   ]
  },
  {
   "cell_type": "code",
   "execution_count": 21,
   "metadata": {
    "collapsed": true
   },
   "outputs": [],
   "source": [
    "new_cat_values = pd.get_dummies(cat_values)"
   ]
  },
  {
   "cell_type": "code",
   "execution_count": 22,
   "metadata": {
    "collapsed": true
   },
   "outputs": [],
   "source": [
    "num_values = new_dataset[numeric_variables]"
   ]
  },
  {
   "cell_type": "code",
   "execution_count": 23,
   "metadata": {
    "collapsed": true
   },
   "outputs": [],
   "source": [
    "bin_fit = bin_values.apply(lambda x: d1[x.name].fit_transform(x))"
   ]
  },
  {
   "cell_type": "code",
   "execution_count": 24,
   "metadata": {
    "collapsed": true
   },
   "outputs": [],
   "source": [
    "final_dataset = pd.concat([num_values, bin_fit, new_cat_values], axis = 1)"
   ]
  },
  {
   "cell_type": "markdown",
   "metadata": {},
   "source": [
    "### Creating Categorical Output"
   ]
  },
  {
   "cell_type": "code",
   "execution_count": 25,
   "metadata": {
    "collapsed": true
   },
   "outputs": [],
   "source": [
    "y_labels = []\n",
    "\n",
    "for i in y_values:\n",
    "    if i >= y_values.median():\n",
    "        y_labels.append(1)\n",
    "    else:\n",
    "        y_labels.append(0)"
   ]
  },
  {
   "cell_type": "markdown",
   "metadata": {},
   "source": [
    "#### Feature Scaling using Min-Max"
   ]
  },
  {
   "cell_type": "code",
   "execution_count": 26,
   "metadata": {},
   "outputs": [
    {
     "name": "stderr",
     "output_type": "stream",
     "text": [
      "/Users/Weiyang/anaconda3/lib/python3.6/site-packages/sklearn/utils/validation.py:444: DataConversionWarning: Data with input dtype int64 was converted to float64 by MinMaxScaler.\n",
      "  warnings.warn(msg, DataConversionWarning)\n"
     ]
    }
   ],
   "source": [
    "x = final_dataset.values #returns a numpy array\n",
    "min_max_scaler = MinMaxScaler()\n",
    "x_scaled = min_max_scaler.fit_transform(x)\n",
    "ready_data = pd.DataFrame(x_scaled,columns=final_dataset.columns)"
   ]
  },
  {
   "cell_type": "code",
   "execution_count": 27,
   "metadata": {
    "collapsed": true
   },
   "outputs": [],
   "source": [
    "x_train, x_test, y_train, y_test = train_test_split(ready_data, y_labels, test_size = 0.33, random_state = 777)"
   ]
  },
  {
   "cell_type": "code",
   "execution_count": 28,
   "metadata": {},
   "outputs": [
    {
     "name": "stdout",
     "output_type": "stream",
     "text": [
      "(264, 43)\n"
     ]
    }
   ],
   "source": [
    "print(x_train.shape)"
   ]
  },
  {
   "cell_type": "code",
   "execution_count": 29,
   "metadata": {},
   "outputs": [
    {
     "name": "stdout",
     "output_type": "stream",
     "text": [
      "(131, 43)\n"
     ]
    }
   ],
   "source": [
    "print(x_test.shape)"
   ]
  },
  {
   "cell_type": "markdown",
   "metadata": {},
   "source": [
    "## k-Nearest Neighbors (With Feature Scaling)"
   ]
  },
  {
   "cell_type": "code",
   "execution_count": 30,
   "metadata": {
    "collapsed": true
   },
   "outputs": [],
   "source": [
    "model = KNeighborsClassifier(n_jobs = -1)"
   ]
  },
  {
   "cell_type": "code",
   "execution_count": 31,
   "metadata": {},
   "outputs": [
    {
     "data": {
      "text/plain": [
       "KNeighborsClassifier(algorithm='auto', leaf_size=30, metric='minkowski',\n",
       "           metric_params=None, n_jobs=-1, n_neighbors=5, p=2,\n",
       "           weights='uniform')"
      ]
     },
     "execution_count": 31,
     "metadata": {},
     "output_type": "execute_result"
    }
   ],
   "source": [
    "model.fit(x_train, y_train)"
   ]
  },
  {
   "cell_type": "code",
   "execution_count": 32,
   "metadata": {
    "collapsed": true
   },
   "outputs": [],
   "source": [
    "prediction = model.predict(x_test)"
   ]
  },
  {
   "cell_type": "code",
   "execution_count": 33,
   "metadata": {},
   "outputs": [
    {
     "data": {
      "text/plain": [
       "<matplotlib.axes._subplots.AxesSubplot at 0x11015f0b8>"
      ]
     },
     "execution_count": 33,
     "metadata": {},
     "output_type": "execute_result"
    },
    {
     "data": {
      "image/png": "[encoded data removed]",
      "text/plain": [
       "<matplotlib.figure.Figure at 0x10b3d0710>"
      ]
     },
     "metadata": {},
     "output_type": "display_data"
    }
   ],
   "source": [
    "cm = confusion_matrix(y_test, prediction)\n",
    "plt.figure(figsize = (5,5))\n",
    "\n",
    "sns.heatmap(cm, annot=True, fmt=\"d\")"
   ]
  },
  {
   "cell_type": "code",
   "execution_count": 34,
   "metadata": {},
   "outputs": [
    {
     "data": {
      "image/png": "[encoded data removed]",
      "text/plain": [
       "<matplotlib.figure.Figure at 0x1094f05c0>"
      ]
     },
     "metadata": {},
     "output_type": "display_data"
    }
   ],
   "source": [
    "y_pred = model.predict(x_test).ravel()\n",
    "fpr, tpr, thresholds = roc_curve(y_test, y_pred)\n",
    "auc_curve = auc(fpr, tpr)\n",
    "\n",
    "plt.title('Receiver Operating Characteristic')\n",
    "plt.plot(fpr, tpr, 'b', label = 'AUC = %0.2f' % auc_curve)\n",
    "plt.legend(loc = 'lower right')\n",
    "plt.plot([0, 1], [0, 1],'r--')\n",
    "plt.xlim([0, 1])\n",
    "plt.ylim([0, 1])\n",
    "plt.ylabel('True Positive Rate')\n",
    "plt.xlabel('False Positive Rate')\n",
    "plt.show()"
   ]
  },
  {
   "cell_type": "code",
   "execution_count": 35,
   "metadata": {},
   "outputs": [
    {
     "name": "stdout",
     "output_type": "stream",
     "text": [
      "Accuracy of Base Model: 0.52 \n"
     ]
    }
   ],
   "source": [
    "score = round(accuracy_score(y_test, prediction),2)\n",
    "print('Accuracy of Base Model: {} '.format(score))"
   ]
  },
  {
   "cell_type": "markdown",
   "metadata": {},
   "source": [
    "### Running Hyper-parameter Tuning to find Global Optimum"
   ]
  },
  {
   "cell_type": "code",
   "execution_count": 36,
   "metadata": {
    "collapsed": true
   },
   "outputs": [],
   "source": [
    "model = KNeighborsClassifier(n_jobs=-1)"
   ]
  },
  {
   "cell_type": "code",
   "execution_count": 37,
   "metadata": {
    "collapsed": true
   },
   "outputs": [],
   "source": [
    "k = np.arange(1,41)"
   ]
  },
  {
   "cell_type": "code",
   "execution_count": 38,
   "metadata": {
    "collapsed": true
   },
   "outputs": [],
   "source": [
    "params = {'n_neighbors': [1,2,3,4,5,6,7,8,9,10,11,12,13,14,15,16,17,18,19,20],\n",
    "          'leaf_size':[1,2,3,5],\n",
    "          'weights':['uniform', 'distance'],\n",
    "          'algorithm':['auto', 'ball_tree','kd_tree','brute']}"
   ]
  },
  {
   "cell_type": "code",
   "execution_count": 39,
   "metadata": {
    "collapsed": true
   },
   "outputs": [],
   "source": [
    "model1 = GridSearchCV(model, param_grid=params, n_jobs=1)"
   ]
  },
  {
   "cell_type": "code",
   "execution_count": 40,
   "metadata": {},
   "outputs": [
    {
     "data": {
      "text/plain": [
       "GridSearchCV(cv=None, error_score='raise',\n",
       "       estimator=KNeighborsClassifier(algorithm='auto', leaf_size=30, metric='minkowski',\n",
       "           metric_params=None, n_jobs=-1, n_neighbors=5, p=2,\n",
       "           weights='uniform'),\n",
       "       fit_params=None, iid=True, n_jobs=1,\n",
       "       param_grid={'n_neighbors': [1, 2, 3, 4, 5, 6, 7, 8, 9, 10, 11, 12, 13, 14, 15, 16, 17, 18, 19, 20], 'leaf_size': [1, 2, 3, 5], 'weights': ['uniform', 'distance'], 'algorithm': ['auto', 'ball_tree', 'kd_tree', 'brute']},\n",
       "       pre_dispatch='2*n_jobs', refit=True, return_train_score=True,\n",
       "       scoring=None, verbose=0)"
      ]
     },
     "execution_count": 40,
     "metadata": {},
     "output_type": "execute_result"
    }
   ],
   "source": [
    "model1.fit(x_train,y_train)"
   ]
  },
  {
   "cell_type": "code",
   "execution_count": 41,
   "metadata": {},
   "outputs": [
    {
     "name": "stdout",
     "output_type": "stream",
     "text": [
      "Best Hyper Parameters:\n",
      " {'algorithm': 'auto', 'leaf_size': 1, 'n_neighbors': 18, 'weights': 'uniform'}\n"
     ]
    }
   ],
   "source": [
    "print(\"Best Hyper Parameters:\\n\",model1.best_params_)"
   ]
  },
  {
   "cell_type": "code",
   "execution_count": 42,
   "metadata": {
    "collapsed": true
   },
   "outputs": [],
   "source": [
    "prediction=model1.predict(x_test)"
   ]
  },
  {
   "cell_type": "code",
   "execution_count": 43,
   "metadata": {},
   "outputs": [
    {
     "data": {
      "text/plain": [
       "<matplotlib.axes._subplots.AxesSubplot at 0x110449f60>"
      ]
     },
     "execution_count": 43,
     "metadata": {},
     "output_type": "execute_result"
    },
    {
     "data": {
      "image/png": "[encoded data removed]",
      "text/plain": [
       "<matplotlib.figure.Figure at 0x11063b940>"
      ]
     },
     "metadata": {},
     "output_type": "display_data"
    }
   ],
   "source": [
    "cm = confusion_matrix(y_test, prediction)\n",
    "plt.figure(figsize = (5,5))\n",
    "\n",
    "sns.heatmap(cm, annot=True, fmt=\"d\")"
   ]
  },
  {
   "cell_type": "code",
   "execution_count": 44,
   "metadata": {},
   "outputs": [
    {
     "data": {
      "image/png": "[encoded data removed]",
      "text/plain": [
       "<matplotlib.figure.Figure at 0x110255160>"
      ]
     },
     "metadata": {},
     "output_type": "display_data"
    }
   ],
   "source": [
    "y_pred = model1.predict(x_test).ravel()\n",
    "fpr, tpr, thresholds = roc_curve(y_test, y_pred)\n",
    "auc_curve = auc(fpr, tpr)\n",
    "\n",
    "plt.title('Receiver Operating Characteristic')\n",
    "plt.plot(fpr, tpr, 'b', label = 'AUC = %0.2f' % auc_curve)\n",
    "plt.legend(loc = 'lower right')\n",
    "plt.plot([0, 1], [0, 1],'r--')\n",
    "plt.xlim([0, 1])\n",
    "plt.ylim([0, 1])\n",
    "plt.ylabel('True Positive Rate')\n",
    "plt.xlabel('False Positive Rate')\n",
    "plt.show()"
   ]
  },
  {
   "cell_type": "code",
   "execution_count": 45,
   "metadata": {},
   "outputs": [
    {
     "name": "stdout",
     "output_type": "stream",
     "text": [
      "Accuracy of Base Model: 0.5 \n"
     ]
    }
   ],
   "source": [
    "score = round(accuracy_score(y_test, prediction),2)\n",
    "print('Accuracy of Base Model: {} '.format(score))"
   ]
  },
  {
   "cell_type": "markdown",
   "metadata": {},
   "source": [
    "### Changing the Number of Neighbors"
   ]
  },
  {
   "cell_type": "markdown",
   "metadata": {},
   "source": [
    "#### Using Mean Error as Metric"
   ]
  },
  {
   "cell_type": "code",
   "execution_count": 46,
   "metadata": {
    "collapsed": true
   },
   "outputs": [],
   "source": [
    "test_error = []\n",
    "train_error = []\n",
    "\n",
    "# Calculating error for K values between 1 and 40\n",
    "for i in range(1, 41):  \n",
    "    model_knn = KNeighborsClassifier(n_neighbors=i)\n",
    "    model_knn.fit(x_train, y_train)\n",
    "    knn_pred = model_knn.predict(x_train)\n",
    "    train_error.append(np.mean(knn_pred != y_train))\n",
    "    knn_pred = model_knn.predict(x_test)\n",
    "    test_error.append(np.mean(knn_pred != y_test))"
   ]
  },
  {
   "cell_type": "code",
   "execution_count": 47,
   "metadata": {
    "collapsed": true
   },
   "outputs": [],
   "source": [
    "neighbors = pd.DataFrame()\n",
    "neighbors['N_neighbors'] = list(range(1,41))\n",
    "neighbors['Train_Error'] = train_error\n",
    "neighbors['Test_Error'] = test_error"
   ]
  },
  {
   "cell_type": "code",
   "execution_count": 48,
   "metadata": {
    "scrolled": true
   },
   "outputs": [
    {
     "data": {
      "text/html": [
       "<div>\n",
       "<style>\n",
       "    .dataframe thead tr:only-child th {\n",
       "        text-align: right;\n",
       "    }\n",
       "\n",
       "    .dataframe thead th {\n",
       "        text-align: left;\n",
       "    }\n",
       "\n",
       "    .dataframe tbody tr th {\n",
       "        vertical-align: top;\n",
       "    }\n",
       "</style>\n",
       "<table border=\"1\" class=\"dataframe\">\n",
       "  <thead>\n",
       "    <tr style=\"text-align: right;\">\n",
       "      <th></th>\n",
       "      <th>Train_Error</th>\n",
       "      <th>Test_Error</th>\n",
       "    </tr>\n",
       "    <tr>\n",
       "      <th>N_neighbors</th>\n",
       "      <th></th>\n",
       "      <th></th>\n",
       "    </tr>\n",
       "  </thead>\n",
       "  <tbody>\n",
       "    <tr>\n",
       "      <th>1</th>\n",
       "      <td>0.000000</td>\n",
       "      <td>0.580153</td>\n",
       "    </tr>\n",
       "    <tr>\n",
       "      <th>2</th>\n",
       "      <td>0.219697</td>\n",
       "      <td>0.572519</td>\n",
       "    </tr>\n",
       "    <tr>\n",
       "      <th>3</th>\n",
       "      <td>0.257576</td>\n",
       "      <td>0.473282</td>\n",
       "    </tr>\n",
       "    <tr>\n",
       "      <th>4</th>\n",
       "      <td>0.291667</td>\n",
       "      <td>0.511450</td>\n",
       "    </tr>\n",
       "    <tr>\n",
       "      <th>5</th>\n",
       "      <td>0.268939</td>\n",
       "      <td>0.480916</td>\n",
       "    </tr>\n",
       "    <tr>\n",
       "      <th>6</th>\n",
       "      <td>0.303030</td>\n",
       "      <td>0.450382</td>\n",
       "    </tr>\n",
       "    <tr>\n",
       "      <th>7</th>\n",
       "      <td>0.306818</td>\n",
       "      <td>0.526718</td>\n",
       "    </tr>\n",
       "    <tr>\n",
       "      <th>8</th>\n",
       "      <td>0.367424</td>\n",
       "      <td>0.442748</td>\n",
       "    </tr>\n",
       "    <tr>\n",
       "      <th>9</th>\n",
       "      <td>0.356061</td>\n",
       "      <td>0.496183</td>\n",
       "    </tr>\n",
       "    <tr>\n",
       "      <th>10</th>\n",
       "      <td>0.367424</td>\n",
       "      <td>0.465649</td>\n",
       "    </tr>\n",
       "    <tr>\n",
       "      <th>11</th>\n",
       "      <td>0.386364</td>\n",
       "      <td>0.480916</td>\n",
       "    </tr>\n",
       "    <tr>\n",
       "      <th>12</th>\n",
       "      <td>0.367424</td>\n",
       "      <td>0.450382</td>\n",
       "    </tr>\n",
       "    <tr>\n",
       "      <th>13</th>\n",
       "      <td>0.375000</td>\n",
       "      <td>0.496183</td>\n",
       "    </tr>\n",
       "    <tr>\n",
       "      <th>14</th>\n",
       "      <td>0.344697</td>\n",
       "      <td>0.450382</td>\n",
       "    </tr>\n",
       "    <tr>\n",
       "      <th>15</th>\n",
       "      <td>0.375000</td>\n",
       "      <td>0.465649</td>\n",
       "    </tr>\n",
       "    <tr>\n",
       "      <th>16</th>\n",
       "      <td>0.359848</td>\n",
       "      <td>0.465649</td>\n",
       "    </tr>\n",
       "    <tr>\n",
       "      <th>17</th>\n",
       "      <td>0.386364</td>\n",
       "      <td>0.465649</td>\n",
       "    </tr>\n",
       "    <tr>\n",
       "      <th>18</th>\n",
       "      <td>0.393939</td>\n",
       "      <td>0.496183</td>\n",
       "    </tr>\n",
       "    <tr>\n",
       "      <th>19</th>\n",
       "      <td>0.397727</td>\n",
       "      <td>0.458015</td>\n",
       "    </tr>\n",
       "    <tr>\n",
       "      <th>20</th>\n",
       "      <td>0.367424</td>\n",
       "      <td>0.465649</td>\n",
       "    </tr>\n",
       "    <tr>\n",
       "      <th>21</th>\n",
       "      <td>0.401515</td>\n",
       "      <td>0.442748</td>\n",
       "    </tr>\n",
       "    <tr>\n",
       "      <th>22</th>\n",
       "      <td>0.393939</td>\n",
       "      <td>0.473282</td>\n",
       "    </tr>\n",
       "    <tr>\n",
       "      <th>23</th>\n",
       "      <td>0.401515</td>\n",
       "      <td>0.480916</td>\n",
       "    </tr>\n",
       "    <tr>\n",
       "      <th>24</th>\n",
       "      <td>0.397727</td>\n",
       "      <td>0.465649</td>\n",
       "    </tr>\n",
       "    <tr>\n",
       "      <th>25</th>\n",
       "      <td>0.382576</td>\n",
       "      <td>0.450382</td>\n",
       "    </tr>\n",
       "    <tr>\n",
       "      <th>26</th>\n",
       "      <td>0.359848</td>\n",
       "      <td>0.427481</td>\n",
       "    </tr>\n",
       "    <tr>\n",
       "      <th>27</th>\n",
       "      <td>0.386364</td>\n",
       "      <td>0.450382</td>\n",
       "    </tr>\n",
       "    <tr>\n",
       "      <th>28</th>\n",
       "      <td>0.367424</td>\n",
       "      <td>0.450382</td>\n",
       "    </tr>\n",
       "    <tr>\n",
       "      <th>29</th>\n",
       "      <td>0.382576</td>\n",
       "      <td>0.435115</td>\n",
       "    </tr>\n",
       "    <tr>\n",
       "      <th>30</th>\n",
       "      <td>0.367424</td>\n",
       "      <td>0.442748</td>\n",
       "    </tr>\n",
       "    <tr>\n",
       "      <th>31</th>\n",
       "      <td>0.393939</td>\n",
       "      <td>0.458015</td>\n",
       "    </tr>\n",
       "    <tr>\n",
       "      <th>32</th>\n",
       "      <td>0.397727</td>\n",
       "      <td>0.419847</td>\n",
       "    </tr>\n",
       "    <tr>\n",
       "      <th>33</th>\n",
       "      <td>0.416667</td>\n",
       "      <td>0.419847</td>\n",
       "    </tr>\n",
       "    <tr>\n",
       "      <th>34</th>\n",
       "      <td>0.397727</td>\n",
       "      <td>0.442748</td>\n",
       "    </tr>\n",
       "    <tr>\n",
       "      <th>35</th>\n",
       "      <td>0.409091</td>\n",
       "      <td>0.404580</td>\n",
       "    </tr>\n",
       "    <tr>\n",
       "      <th>36</th>\n",
       "      <td>0.390152</td>\n",
       "      <td>0.389313</td>\n",
       "    </tr>\n",
       "    <tr>\n",
       "      <th>37</th>\n",
       "      <td>0.401515</td>\n",
       "      <td>0.412214</td>\n",
       "    </tr>\n",
       "    <tr>\n",
       "      <th>38</th>\n",
       "      <td>0.401515</td>\n",
       "      <td>0.412214</td>\n",
       "    </tr>\n",
       "    <tr>\n",
       "      <th>39</th>\n",
       "      <td>0.390152</td>\n",
       "      <td>0.412214</td>\n",
       "    </tr>\n",
       "    <tr>\n",
       "      <th>40</th>\n",
       "      <td>0.382576</td>\n",
       "      <td>0.389313</td>\n",
       "    </tr>\n",
       "  </tbody>\n",
       "</table>\n",
       "</div>"
      ],
      "text/plain": [
       "             Train_Error  Test_Error\n",
       "N_neighbors                         \n",
       "1               0.000000    0.580153\n",
       "2               0.219697    0.572519\n",
       "3               0.257576    0.473282\n",
       "4               0.291667    0.511450\n",
       "5               0.268939    0.480916\n",
       "6               0.303030    0.450382\n",
       "7               0.306818    0.526718\n",
       "8               0.367424    0.442748\n",
       "9               0.356061    0.496183\n",
       "10              0.367424    0.465649\n",
       "11              0.386364    0.480916\n",
       "12              0.367424    0.450382\n",
       "13              0.375000    0.496183\n",
       "14              0.344697    0.450382\n",
       "15              0.375000    0.465649\n",
       "16              0.359848    0.465649\n",
       "17              0.386364    0.465649\n",
       "18              0.393939    0.496183\n",
       "19              0.397727    0.458015\n",
       "20              0.367424    0.465649\n",
       "21              0.401515    0.442748\n",
       "22              0.393939    0.473282\n",
       "23              0.401515    0.480916\n",
       "24              0.397727    0.465649\n",
       "25              0.382576    0.450382\n",
       "26              0.359848    0.427481\n",
       "27              0.386364    0.450382\n",
       "28              0.367424    0.450382\n",
       "29              0.382576    0.435115\n",
       "30              0.367424    0.442748\n",
       "31              0.393939    0.458015\n",
       "32              0.397727    0.419847\n",
       "33              0.416667    0.419847\n",
       "34              0.397727    0.442748\n",
       "35              0.409091    0.404580\n",
       "36              0.390152    0.389313\n",
       "37              0.401515    0.412214\n",
       "38              0.401515    0.412214\n",
       "39              0.390152    0.412214\n",
       "40              0.382576    0.389313"
      ]
     },
     "execution_count": 48,
     "metadata": {},
     "output_type": "execute_result"
    }
   ],
   "source": [
    "neighbors.set_index('N_neighbors')"
   ]
  },
  {
   "cell_type": "code",
   "execution_count": 49,
   "metadata": {},
   "outputs": [
    {
     "name": "stdout",
     "output_type": "stream",
     "text": [
      "The number of neighbors that gave the lowest error for Training is 1.0\n",
      "The number of neighbors that gave the lowest error for Testing is 36.0\n"
     ]
    }
   ],
   "source": [
    "print('The number of neighbors that gave the lowest error for Training is {}'.format((neighbors.loc[neighbors['Train_Error'].idxmin()][0])))\n",
    "print('The number of neighbors that gave the lowest error for Testing is {}'.format((neighbors.loc[neighbors['Test_Error'].idxmin()][0])))"
   ]
  },
  {
   "cell_type": "code",
   "execution_count": 50,
   "metadata": {},
   "outputs": [
    {
     "data": {
      "image/png": "[encoded data removed]",
      "text/plain": [
       "<matplotlib.figure.Figure at 0x11068f438>"
      ]
     },
     "metadata": {},
     "output_type": "display_data"
    }
   ],
   "source": [
    "plt.figure(figsize=(15, 10))  \n",
    "plt.plot(range(1, 41), train_error, color='red', linestyle='dashed',  \n",
    "         markerfacecolor='red', markersize=10, label='Train Mean Error')\n",
    "plt.plot(range(1, 41), test_error, color='blue', linestyle='dashed',  \n",
    "         markerfacecolor='blue', markersize=10, label='Test Mean Error')\n",
    "plt.title('Error Rate K Value')  \n",
    "plt.xlabel('K Value')  \n",
    "plt.ylabel('Mean Error')\n",
    "plt.legend(loc='best')\n",
    "plt.show()"
   ]
  },
  {
   "cell_type": "markdown",
   "metadata": {},
   "source": [
    "#### The point where train mean error = test mean error is at 3 neighbors"
   ]
  },
  {
   "cell_type": "markdown",
   "metadata": {},
   "source": [
    "#### Using AUC as metric"
   ]
  },
  {
   "cell_type": "code",
   "execution_count": 51,
   "metadata": {
    "collapsed": true
   },
   "outputs": [],
   "source": [
    "n_neighbors = list(range(1,41))"
   ]
  },
  {
   "cell_type": "code",
   "execution_count": 52,
   "metadata": {
    "collapsed": true
   },
   "outputs": [],
   "source": [
    "train_results = []\n",
    "test_results = []\n",
    "\n",
    "for n in n_neighbors:\n",
    "   model = KNeighborsClassifier(n_neighbors=n)\n",
    "   model.fit(x_train, y_train)\n",
    "   train_pred = model.predict(x_train)\n",
    "   false_positive_rate, true_positive_rate, thresholds = roc_curve(y_train, train_pred)\n",
    "   roc_auc = auc(false_positive_rate, true_positive_rate)\n",
    "   train_results.append(roc_auc)\n",
    "   \n",
    "   y_pred = model.predict(x_test)\n",
    "   false_positive_rate, true_positive_rate, thresholds = roc_curve(y_test, y_pred)\n",
    "   roc_auc = auc(false_positive_rate, true_positive_rate)\n",
    "   test_results.append(roc_auc)"
   ]
  },
  {
   "cell_type": "code",
   "execution_count": 53,
   "metadata": {
    "collapsed": true
   },
   "outputs": [],
   "source": [
    "neighbors['AUC_Train'] = train_results\n",
    "neighbors['AUC_Test'] = test_results"
   ]
  },
  {
   "cell_type": "code",
   "execution_count": 54,
   "metadata": {
    "scrolled": true
   },
   "outputs": [
    {
     "data": {
      "text/html": [
       "<div>\n",
       "<style>\n",
       "    .dataframe thead tr:only-child th {\n",
       "        text-align: right;\n",
       "    }\n",
       "\n",
       "    .dataframe thead th {\n",
       "        text-align: left;\n",
       "    }\n",
       "\n",
       "    .dataframe tbody tr th {\n",
       "        vertical-align: top;\n",
       "    }\n",
       "</style>\n",
       "<table border=\"1\" class=\"dataframe\">\n",
       "  <thead>\n",
       "    <tr style=\"text-align: right;\">\n",
       "      <th></th>\n",
       "      <th>Train_Error</th>\n",
       "      <th>Test_Error</th>\n",
       "      <th>AUC_Train</th>\n",
       "      <th>AUC_Test</th>\n",
       "    </tr>\n",
       "    <tr>\n",
       "      <th>N_neighbors</th>\n",
       "      <th></th>\n",
       "      <th></th>\n",
       "      <th></th>\n",
       "      <th></th>\n",
       "    </tr>\n",
       "  </thead>\n",
       "  <tbody>\n",
       "    <tr>\n",
       "      <th>1</th>\n",
       "      <td>0.000000</td>\n",
       "      <td>0.580153</td>\n",
       "      <td>1.000000</td>\n",
       "      <td>0.406826</td>\n",
       "    </tr>\n",
       "    <tr>\n",
       "      <th>2</th>\n",
       "      <td>0.219697</td>\n",
       "      <td>0.572519</td>\n",
       "      <td>0.786765</td>\n",
       "      <td>0.443788</td>\n",
       "    </tr>\n",
       "    <tr>\n",
       "      <th>3</th>\n",
       "      <td>0.257576</td>\n",
       "      <td>0.473282</td>\n",
       "      <td>0.741039</td>\n",
       "      <td>0.513344</td>\n",
       "    </tr>\n",
       "    <tr>\n",
       "      <th>4</th>\n",
       "      <td>0.291667</td>\n",
       "      <td>0.511450</td>\n",
       "      <td>0.712776</td>\n",
       "      <td>0.502126</td>\n",
       "    </tr>\n",
       "    <tr>\n",
       "      <th>5</th>\n",
       "      <td>0.268939</td>\n",
       "      <td>0.480916</td>\n",
       "      <td>0.729550</td>\n",
       "      <td>0.508266</td>\n",
       "    </tr>\n",
       "    <tr>\n",
       "      <th>6</th>\n",
       "      <td>0.303030</td>\n",
       "      <td>0.450382</td>\n",
       "      <td>0.699678</td>\n",
       "      <td>0.558692</td>\n",
       "    </tr>\n",
       "    <tr>\n",
       "      <th>7</th>\n",
       "      <td>0.306818</td>\n",
       "      <td>0.526718</td>\n",
       "      <td>0.690257</td>\n",
       "      <td>0.460085</td>\n",
       "    </tr>\n",
       "    <tr>\n",
       "      <th>8</th>\n",
       "      <td>0.367424</td>\n",
       "      <td>0.442748</td>\n",
       "      <td>0.633732</td>\n",
       "      <td>0.558455</td>\n",
       "    </tr>\n",
       "    <tr>\n",
       "      <th>9</th>\n",
       "      <td>0.356061</td>\n",
       "      <td>0.496183</td>\n",
       "      <td>0.641314</td>\n",
       "      <td>0.491025</td>\n",
       "    </tr>\n",
       "    <tr>\n",
       "      <th>10</th>\n",
       "      <td>0.367424</td>\n",
       "      <td>0.465649</td>\n",
       "      <td>0.631893</td>\n",
       "      <td>0.536136</td>\n",
       "    </tr>\n",
       "    <tr>\n",
       "      <th>11</th>\n",
       "      <td>0.386364</td>\n",
       "      <td>0.480916</td>\n",
       "      <td>0.610294</td>\n",
       "      <td>0.504724</td>\n",
       "    </tr>\n",
       "    <tr>\n",
       "      <th>12</th>\n",
       "      <td>0.367424</td>\n",
       "      <td>0.450382</td>\n",
       "      <td>0.631204</td>\n",
       "      <td>0.549835</td>\n",
       "    </tr>\n",
       "    <tr>\n",
       "      <th>13</th>\n",
       "      <td>0.375000</td>\n",
       "      <td>0.496183</td>\n",
       "      <td>0.620634</td>\n",
       "      <td>0.492796</td>\n",
       "    </tr>\n",
       "    <tr>\n",
       "      <th>14</th>\n",
       "      <td>0.344697</td>\n",
       "      <td>0.450382</td>\n",
       "      <td>0.653493</td>\n",
       "      <td>0.548063</td>\n",
       "    </tr>\n",
       "    <tr>\n",
       "      <th>15</th>\n",
       "      <td>0.375000</td>\n",
       "      <td>0.465649</td>\n",
       "      <td>0.620175</td>\n",
       "      <td>0.521965</td>\n",
       "    </tr>\n",
       "    <tr>\n",
       "      <th>16</th>\n",
       "      <td>0.359848</td>\n",
       "      <td>0.465649</td>\n",
       "      <td>0.638097</td>\n",
       "      <td>0.532593</td>\n",
       "    </tr>\n",
       "    <tr>\n",
       "      <th>17</th>\n",
       "      <td>0.386364</td>\n",
       "      <td>0.465649</td>\n",
       "      <td>0.608915</td>\n",
       "      <td>0.518422</td>\n",
       "    </tr>\n",
       "    <tr>\n",
       "      <th>18</th>\n",
       "      <td>0.393939</td>\n",
       "      <td>0.496183</td>\n",
       "      <td>0.603401</td>\n",
       "      <td>0.496339</td>\n",
       "    </tr>\n",
       "    <tr>\n",
       "      <th>19</th>\n",
       "      <td>0.397727</td>\n",
       "      <td>0.458015</td>\n",
       "      <td>0.596737</td>\n",
       "      <td>0.527043</td>\n",
       "    </tr>\n",
       "    <tr>\n",
       "      <th>20</th>\n",
       "      <td>0.367424</td>\n",
       "      <td>0.465649</td>\n",
       "      <td>0.630055</td>\n",
       "      <td>0.523736</td>\n",
       "    </tr>\n",
       "    <tr>\n",
       "      <th>21</th>\n",
       "      <td>0.401515</td>\n",
       "      <td>0.442748</td>\n",
       "      <td>0.593520</td>\n",
       "      <td>0.540742</td>\n",
       "    </tr>\n",
       "    <tr>\n",
       "      <th>22</th>\n",
       "      <td>0.393939</td>\n",
       "      <td>0.473282</td>\n",
       "      <td>0.602252</td>\n",
       "      <td>0.516887</td>\n",
       "    </tr>\n",
       "    <tr>\n",
       "      <th>23</th>\n",
       "      <td>0.401515</td>\n",
       "      <td>0.480916</td>\n",
       "      <td>0.593290</td>\n",
       "      <td>0.499410</td>\n",
       "    </tr>\n",
       "    <tr>\n",
       "      <th>24</th>\n",
       "      <td>0.397727</td>\n",
       "      <td>0.465649</td>\n",
       "      <td>0.599265</td>\n",
       "      <td>0.521965</td>\n",
       "    </tr>\n",
       "    <tr>\n",
       "      <th>25</th>\n",
       "      <td>0.382576</td>\n",
       "      <td>0.450382</td>\n",
       "      <td>0.612362</td>\n",
       "      <td>0.528578</td>\n",
       "    </tr>\n",
       "    <tr>\n",
       "      <th>26</th>\n",
       "      <td>0.359848</td>\n",
       "      <td>0.427481</td>\n",
       "      <td>0.636949</td>\n",
       "      <td>0.561526</td>\n",
       "    </tr>\n",
       "    <tr>\n",
       "      <th>27</th>\n",
       "      <td>0.386364</td>\n",
       "      <td>0.450382</td>\n",
       "      <td>0.608456</td>\n",
       "      <td>0.530350</td>\n",
       "    </tr>\n",
       "    <tr>\n",
       "      <th>28</th>\n",
       "      <td>0.367424</td>\n",
       "      <td>0.450382</td>\n",
       "      <td>0.629136</td>\n",
       "      <td>0.537435</td>\n",
       "    </tr>\n",
       "    <tr>\n",
       "      <th>29</th>\n",
       "      <td>0.382576</td>\n",
       "      <td>0.435115</td>\n",
       "      <td>0.612132</td>\n",
       "      <td>0.544048</td>\n",
       "    </tr>\n",
       "    <tr>\n",
       "      <th>30</th>\n",
       "      <td>0.367424</td>\n",
       "      <td>0.442748</td>\n",
       "      <td>0.628447</td>\n",
       "      <td>0.546056</td>\n",
       "    </tr>\n",
       "    <tr>\n",
       "      <th>31</th>\n",
       "      <td>0.393939</td>\n",
       "      <td>0.458015</td>\n",
       "      <td>0.600414</td>\n",
       "      <td>0.518186</td>\n",
       "    </tr>\n",
       "    <tr>\n",
       "      <th>32</th>\n",
       "      <td>0.397727</td>\n",
       "      <td>0.419847</td>\n",
       "      <td>0.597886</td>\n",
       "      <td>0.566604</td>\n",
       "    </tr>\n",
       "    <tr>\n",
       "      <th>33</th>\n",
       "      <td>0.416667</td>\n",
       "      <td>0.419847</td>\n",
       "      <td>0.577895</td>\n",
       "      <td>0.559518</td>\n",
       "    </tr>\n",
       "    <tr>\n",
       "      <th>34</th>\n",
       "      <td>0.397727</td>\n",
       "      <td>0.442748</td>\n",
       "      <td>0.597656</td>\n",
       "      <td>0.544284</td>\n",
       "    </tr>\n",
       "    <tr>\n",
       "      <th>35</th>\n",
       "      <td>0.409091</td>\n",
       "      <td>0.404580</td>\n",
       "      <td>0.585248</td>\n",
       "      <td>0.573217</td>\n",
       "    </tr>\n",
       "    <tr>\n",
       "      <th>36</th>\n",
       "      <td>0.390152</td>\n",
       "      <td>0.389313</td>\n",
       "      <td>0.605239</td>\n",
       "      <td>0.595772</td>\n",
       "    </tr>\n",
       "    <tr>\n",
       "      <th>37</th>\n",
       "      <td>0.401515</td>\n",
       "      <td>0.412214</td>\n",
       "      <td>0.592831</td>\n",
       "      <td>0.564596</td>\n",
       "    </tr>\n",
       "    <tr>\n",
       "      <th>38</th>\n",
       "      <td>0.401515</td>\n",
       "      <td>0.412214</td>\n",
       "      <td>0.593980</td>\n",
       "      <td>0.571682</td>\n",
       "    </tr>\n",
       "    <tr>\n",
       "      <th>39</th>\n",
       "      <td>0.390152</td>\n",
       "      <td>0.412214</td>\n",
       "      <td>0.604090</td>\n",
       "      <td>0.566368</td>\n",
       "    </tr>\n",
       "    <tr>\n",
       "      <th>40</th>\n",
       "      <td>0.382576</td>\n",
       "      <td>0.389313</td>\n",
       "      <td>0.612822</td>\n",
       "      <td>0.595772</td>\n",
       "    </tr>\n",
       "  </tbody>\n",
       "</table>\n",
       "</div>"
      ],
      "text/plain": [
       "             Train_Error  Test_Error  AUC_Train  AUC_Test\n",
       "N_neighbors                                              \n",
       "1               0.000000    0.580153   1.000000  0.406826\n",
       "2               0.219697    0.572519   0.786765  0.443788\n",
       "3               0.257576    0.473282   0.741039  0.513344\n",
       "4               0.291667    0.511450   0.712776  0.502126\n",
       "5               0.268939    0.480916   0.729550  0.508266\n",
       "6               0.303030    0.450382   0.699678  0.558692\n",
       "7               0.306818    0.526718   0.690257  0.460085\n",
       "8               0.367424    0.442748   0.633732  0.558455\n",
       "9               0.356061    0.496183   0.641314  0.491025\n",
       "10              0.367424    0.465649   0.631893  0.536136\n",
       "11              0.386364    0.480916   0.610294  0.504724\n",
       "12              0.367424    0.450382   0.631204  0.549835\n",
       "13              0.375000    0.496183   0.620634  0.492796\n",
       "14              0.344697    0.450382   0.653493  0.548063\n",
       "15              0.375000    0.465649   0.620175  0.521965\n",
       "16              0.359848    0.465649   0.638097  0.532593\n",
       "17              0.386364    0.465649   0.608915  0.518422\n",
       "18              0.393939    0.496183   0.603401  0.496339\n",
       "19              0.397727    0.458015   0.596737  0.527043\n",
       "20              0.367424    0.465649   0.630055  0.523736\n",
       "21              0.401515    0.442748   0.593520  0.540742\n",
       "22              0.393939    0.473282   0.602252  0.516887\n",
       "23              0.401515    0.480916   0.593290  0.499410\n",
       "24              0.397727    0.465649   0.599265  0.521965\n",
       "25              0.382576    0.450382   0.612362  0.528578\n",
       "26              0.359848    0.427481   0.636949  0.561526\n",
       "27              0.386364    0.450382   0.608456  0.530350\n",
       "28              0.367424    0.450382   0.629136  0.537435\n",
       "29              0.382576    0.435115   0.612132  0.544048\n",
       "30              0.367424    0.442748   0.628447  0.546056\n",
       "31              0.393939    0.458015   0.600414  0.518186\n",
       "32              0.397727    0.419847   0.597886  0.566604\n",
       "33              0.416667    0.419847   0.577895  0.559518\n",
       "34              0.397727    0.442748   0.597656  0.544284\n",
       "35              0.409091    0.404580   0.585248  0.573217\n",
       "36              0.390152    0.389313   0.605239  0.595772\n",
       "37              0.401515    0.412214   0.592831  0.564596\n",
       "38              0.401515    0.412214   0.593980  0.571682\n",
       "39              0.390152    0.412214   0.604090  0.566368\n",
       "40              0.382576    0.389313   0.612822  0.595772"
      ]
     },
     "execution_count": 54,
     "metadata": {},
     "output_type": "execute_result"
    }
   ],
   "source": [
    "neighbors.set_index('N_neighbors')"
   ]
  },
  {
   "cell_type": "code",
   "execution_count": 55,
   "metadata": {},
   "outputs": [
    {
     "name": "stdout",
     "output_type": "stream",
     "text": [
      "The number of neighbors that gave the highest AUC for Training is 1.0\n",
      "The number of neighbors that gave the highest AUC for Testing is 36.0\n"
     ]
    }
   ],
   "source": [
    "print('The number of neighbors that gave the highest AUC for Training is {}'.format((neighbors.loc[neighbors['AUC_Train'].idxmax()][0])))\n",
    "print('The number of neighbors that gave the highest AUC for Testing is {}'.format((neighbors.loc[neighbors['AUC_Test'].idxmax()][0])))"
   ]
  },
  {
   "cell_type": "code",
   "execution_count": 56,
   "metadata": {
    "collapsed": true
   },
   "outputs": [],
   "source": [
    "from matplotlib.legend_handler import HandlerLine2D"
   ]
  },
  {
   "cell_type": "code",
   "execution_count": 57,
   "metadata": {
    "scrolled": false
   },
   "outputs": [
    {
     "data": {
      "image/png": "[encoded data removed]",
      "text/plain": [
       "<matplotlib.figure.Figure at 0x11041acc0>"
      ]
     },
     "metadata": {},
     "output_type": "display_data"
    }
   ],
   "source": [
    "plt.figure(figsize=(15,10))\n",
    "\n",
    "line1, = plt.plot(n_neighbors, train_results, 'r', label='Train AUC')\n",
    "line2, = plt.plot(n_neighbors, test_results, 'b', label='Test AUC')\n",
    "plt.legend(handler_map={line1: HandlerLine2D(numpoints=2)})\n",
    "plt.ylabel('AUC score')\n",
    "plt.xlabel('# of neighbors')\n",
    "plt.show()"
   ]
  },
  {
   "cell_type": "markdown",
   "metadata": {},
   "source": [
    "### Changing Power parameter for the Minkowski metric "
   ]
  },
  {
   "cell_type": "markdown",
   "metadata": {},
   "source": [
    "#### Note: When p=1, this is equivalent to using manhattan_distance(l1), and euliddean_distance(l2) for p=2."
   ]
  },
  {
   "cell_type": "code",
   "execution_count": 108,
   "metadata": {
    "collapsed": true
   },
   "outputs": [],
   "source": [
    "distances = [1,2,3,4,5]"
   ]
  },
  {
   "cell_type": "code",
   "execution_count": 109,
   "metadata": {
    "collapsed": true
   },
   "outputs": [],
   "source": [
    "train_distance = []\n",
    "test_distance = []\n",
    "\n",
    "for p in distances:\n",
    "    \n",
    "    model = KNeighborsClassifier(n_neighbors = 36, p=p)\n",
    "    model.fit(x_train, y_train)\n",
    "    train_pred = model.predict(x_train)\n",
    "    fpr, tpr, thresholds = roc_curve(y_train, train_pred)\n",
    "    roc_auc = auc(fpr, tpr)\n",
    "    train_distance.append(roc_auc)\n",
    "    \n",
    "    test_pred = model.predict(x_test)\n",
    "    fpr_test, tpr_test, thesholds_test = roc_curve(y_test, test_pred)\n",
    "    roc_auc_test = auc(fpr_test, tpr_test)\n",
    "    test_distance.append(roc_auc_test)"
   ]
  },
  {
   "cell_type": "code",
   "execution_count": 110,
   "metadata": {},
   "outputs": [
    {
     "data": {
      "text/html": [
       "<div>\n",
       "<style>\n",
       "    .dataframe thead tr:only-child th {\n",
       "        text-align: right;\n",
       "    }\n",
       "\n",
       "    .dataframe thead th {\n",
       "        text-align: left;\n",
       "    }\n",
       "\n",
       "    .dataframe tbody tr th {\n",
       "        vertical-align: top;\n",
       "    }\n",
       "</style>\n",
       "<table border=\"1\" class=\"dataframe\">\n",
       "  <thead>\n",
       "    <tr style=\"text-align: right;\">\n",
       "      <th></th>\n",
       "      <th>AUC_Train</th>\n",
       "      <th>AUC_Test</th>\n",
       "    </tr>\n",
       "    <tr>\n",
       "      <th>Power</th>\n",
       "      <th></th>\n",
       "      <th></th>\n",
       "    </tr>\n",
       "  </thead>\n",
       "  <tbody>\n",
       "    <tr>\n",
       "      <th>1</th>\n",
       "      <td>0.600643</td>\n",
       "      <td>0.588687</td>\n",
       "    </tr>\n",
       "    <tr>\n",
       "      <th>2</th>\n",
       "      <td>0.605239</td>\n",
       "      <td>0.595772</td>\n",
       "    </tr>\n",
       "    <tr>\n",
       "      <th>3</th>\n",
       "      <td>0.597656</td>\n",
       "      <td>0.557983</td>\n",
       "    </tr>\n",
       "    <tr>\n",
       "      <th>4</th>\n",
       "      <td>0.605469</td>\n",
       "      <td>0.542513</td>\n",
       "    </tr>\n",
       "    <tr>\n",
       "      <th>5</th>\n",
       "      <td>0.616958</td>\n",
       "      <td>0.557983</td>\n",
       "    </tr>\n",
       "  </tbody>\n",
       "</table>\n",
       "</div>"
      ],
      "text/plain": [
       "       AUC_Train  AUC_Test\n",
       "Power                     \n",
       "1       0.600643  0.588687\n",
       "2       0.605239  0.595772\n",
       "3       0.597656  0.557983\n",
       "4       0.605469  0.542513\n",
       "5       0.616958  0.557983"
      ]
     },
     "execution_count": 110,
     "metadata": {},
     "output_type": "execute_result"
    }
   ],
   "source": [
    "minkowski_power = pd.DataFrame()\n",
    "minkowski_power['Power'] = distances\n",
    "minkowski_power['AUC_Train'] = train_distance\n",
    "minkowski_power['AUC_Test'] = test_distance\n",
    "minkowski_power.set_index('Power')"
   ]
  },
  {
   "cell_type": "code",
   "execution_count": 111,
   "metadata": {},
   "outputs": [
    {
     "name": "stdout",
     "output_type": "stream",
     "text": [
      "The power that gave the highest AUC for Training is 5.0\n",
      "The power that gave the highest AUC for Testing is 2.0\n"
     ]
    }
   ],
   "source": [
    "print('The power that gave the highest AUC for Training is {}'.format((minkowski_power.loc[minkowski_power['AUC_Train'].idxmax()][0])))\n",
    "print('The power that gave the highest AUC for Testing is {}'.format((minkowski_power.loc[minkowski_power['AUC_Test'].idxmax()][0])))"
   ]
  },
  {
   "cell_type": "code",
   "execution_count": 112,
   "metadata": {},
   "outputs": [
    {
     "data": {
      "image/png": "[encoded data removed]",
      "text/plain": [
       "<matplotlib.figure.Figure at 0x116fd7908>"
      ]
     },
     "metadata": {},
     "output_type": "display_data"
    }
   ],
   "source": [
    "plt.figure(figsize=(15,10))\n",
    "\n",
    "line1, = plt.plot(distances, train_distance, 'b', label = 'Train AUC')\n",
    "line2, = plt.plot(distances, test_distance, 'r', label = 'Test AUC')\n",
    "plt.legend(handler_map={line1: HandlerLine2D(numpoints=2)})\n",
    "plt.ylabel('AUC score', size = 12)\n",
    "plt.xlabel('Power Parameter for Minkowski', size = 12)\n",
    "plt.show()"
   ]
  },
  {
   "cell_type": "markdown",
   "metadata": {},
   "source": [
    "### Running Intermediate Model"
   ]
  },
  {
   "cell_type": "code",
   "execution_count": 113,
   "metadata": {
    "collapsed": true
   },
   "outputs": [],
   "source": [
    "model_int = KNeighborsClassifier(n_jobs=-1, n_neighbors = 36, p=2)"
   ]
  },
  {
   "cell_type": "code",
   "execution_count": 114,
   "metadata": {},
   "outputs": [
    {
     "data": {
      "text/plain": [
       "KNeighborsClassifier(algorithm='auto', leaf_size=30, metric='minkowski',\n",
       "           metric_params=None, n_jobs=-1, n_neighbors=36, p=2,\n",
       "           weights='uniform')"
      ]
     },
     "execution_count": 114,
     "metadata": {},
     "output_type": "execute_result"
    }
   ],
   "source": [
    "model_int.fit(x_train,y_train)"
   ]
  },
  {
   "cell_type": "code",
   "execution_count": 115,
   "metadata": {
    "collapsed": true
   },
   "outputs": [],
   "source": [
    "prediction=model_int.predict(x_test)"
   ]
  },
  {
   "cell_type": "code",
   "execution_count": 116,
   "metadata": {},
   "outputs": [
    {
     "data": {
      "text/plain": [
       "<matplotlib.axes._subplots.AxesSubplot at 0x11709cc88>"
      ]
     },
     "execution_count": 116,
     "metadata": {},
     "output_type": "execute_result"
    },
    {
     "data": {
      "image/png": "[encoded data removed]",
      "text/plain": [
       "<matplotlib.figure.Figure at 0x116fd7898>"
      ]
     },
     "metadata": {},
     "output_type": "display_data"
    }
   ],
   "source": [
    "cm = confusion_matrix(y_test, prediction)\n",
    "plt.figure(figsize = (5,5))\n",
    "\n",
    "sns.heatmap(cm, annot=True, fmt=\"d\")"
   ]
  },
  {
   "cell_type": "code",
   "execution_count": 117,
   "metadata": {},
   "outputs": [
    {
     "data": {
      "image/png": "[encoded data removed]",
      "text/plain": [
       "<matplotlib.figure.Figure at 0x117046898>"
      ]
     },
     "metadata": {},
     "output_type": "display_data"
    }
   ],
   "source": [
    "y_pred = model_int.predict(x_test).ravel()\n",
    "fpr, tpr, thresholds = roc_curve(y_test, y_pred)\n",
    "auc_curve = auc(fpr, tpr)\n",
    "\n",
    "plt.title('Receiver Operating Characteristic')\n",
    "plt.plot(fpr, tpr, 'b', label = 'AUC = %0.2f' % auc_curve)\n",
    "plt.legend(loc = 'lower right')\n",
    "plt.plot([0, 1], [0, 1],'r--')\n",
    "plt.xlim([0, 1])\n",
    "plt.ylim([0, 1])\n",
    "plt.ylabel('True Positive Rate')\n",
    "plt.xlabel('False Positive Rate')\n",
    "plt.show()"
   ]
  },
  {
   "cell_type": "code",
   "execution_count": 118,
   "metadata": {},
   "outputs": [
    {
     "name": "stdout",
     "output_type": "stream",
     "text": [
      "Accuracy of Base Model: 0.61 \n"
     ]
    }
   ],
   "source": [
    "score = round(accuracy_score(y_test, prediction),2)\n",
    "print('Accuracy of Base Model: {} '.format(score))"
   ]
  },
  {
   "cell_type": "markdown",
   "metadata": {},
   "source": [
    "### Changing Leaf Size"
   ]
  },
  {
   "cell_type": "code",
   "execution_count": 119,
   "metadata": {
    "collapsed": true
   },
   "outputs": [],
   "source": [
    "leaf_size = np.arange(1, 41)"
   ]
  },
  {
   "cell_type": "code",
   "execution_count": 120,
   "metadata": {
    "collapsed": true
   },
   "outputs": [],
   "source": [
    "train_leaf = []\n",
    "test_leaf = []\n",
    "\n",
    "for i in leaf_size:\n",
    "    \n",
    "    model = KNeighborsClassifier(n_neighbors = 36, p=2, leaf_size = i)\n",
    "    model.fit(x_train, y_train)\n",
    "    train_pred = model.predict(x_train)\n",
    "    fpr, tpr, thresholds = roc_curve(y_train, train_pred)\n",
    "    roc_auc = auc(fpr, tpr)\n",
    "    train_leaf.append(roc_auc)\n",
    "    \n",
    "    test_pred = model.predict(x_test)\n",
    "    fpr_test, tpr_test, thesholds_test = roc_curve(y_test, test_pred)\n",
    "    roc_auc_test = auc(fpr_test, tpr_test)\n",
    "    test_leaf.append(roc_auc_test)"
   ]
  },
  {
   "cell_type": "code",
   "execution_count": 121,
   "metadata": {
    "scrolled": true
   },
   "outputs": [
    {
     "data": {
      "text/html": [
       "<div>\n",
       "<style>\n",
       "    .dataframe thead tr:only-child th {\n",
       "        text-align: right;\n",
       "    }\n",
       "\n",
       "    .dataframe thead th {\n",
       "        text-align: left;\n",
       "    }\n",
       "\n",
       "    .dataframe tbody tr th {\n",
       "        vertical-align: top;\n",
       "    }\n",
       "</style>\n",
       "<table border=\"1\" class=\"dataframe\">\n",
       "  <thead>\n",
       "    <tr style=\"text-align: right;\">\n",
       "      <th></th>\n",
       "      <th>AUC_Train</th>\n",
       "      <th>AUC_Test</th>\n",
       "    </tr>\n",
       "    <tr>\n",
       "      <th>Leaf Size</th>\n",
       "      <th></th>\n",
       "      <th></th>\n",
       "    </tr>\n",
       "  </thead>\n",
       "  <tbody>\n",
       "    <tr>\n",
       "      <th>1</th>\n",
       "      <td>0.605239</td>\n",
       "      <td>0.595772</td>\n",
       "    </tr>\n",
       "    <tr>\n",
       "      <th>2</th>\n",
       "      <td>0.605239</td>\n",
       "      <td>0.595772</td>\n",
       "    </tr>\n",
       "    <tr>\n",
       "      <th>3</th>\n",
       "      <td>0.605239</td>\n",
       "      <td>0.595772</td>\n",
       "    </tr>\n",
       "    <tr>\n",
       "      <th>4</th>\n",
       "      <td>0.605239</td>\n",
       "      <td>0.595772</td>\n",
       "    </tr>\n",
       "    <tr>\n",
       "      <th>5</th>\n",
       "      <td>0.605239</td>\n",
       "      <td>0.595772</td>\n",
       "    </tr>\n",
       "    <tr>\n",
       "      <th>6</th>\n",
       "      <td>0.605239</td>\n",
       "      <td>0.595772</td>\n",
       "    </tr>\n",
       "    <tr>\n",
       "      <th>7</th>\n",
       "      <td>0.605239</td>\n",
       "      <td>0.595772</td>\n",
       "    </tr>\n",
       "    <tr>\n",
       "      <th>8</th>\n",
       "      <td>0.605239</td>\n",
       "      <td>0.595772</td>\n",
       "    </tr>\n",
       "    <tr>\n",
       "      <th>9</th>\n",
       "      <td>0.605239</td>\n",
       "      <td>0.595772</td>\n",
       "    </tr>\n",
       "    <tr>\n",
       "      <th>10</th>\n",
       "      <td>0.605239</td>\n",
       "      <td>0.595772</td>\n",
       "    </tr>\n",
       "    <tr>\n",
       "      <th>11</th>\n",
       "      <td>0.605239</td>\n",
       "      <td>0.595772</td>\n",
       "    </tr>\n",
       "    <tr>\n",
       "      <th>12</th>\n",
       "      <td>0.605239</td>\n",
       "      <td>0.595772</td>\n",
       "    </tr>\n",
       "    <tr>\n",
       "      <th>13</th>\n",
       "      <td>0.605239</td>\n",
       "      <td>0.595772</td>\n",
       "    </tr>\n",
       "    <tr>\n",
       "      <th>14</th>\n",
       "      <td>0.605239</td>\n",
       "      <td>0.595772</td>\n",
       "    </tr>\n",
       "    <tr>\n",
       "      <th>15</th>\n",
       "      <td>0.605239</td>\n",
       "      <td>0.595772</td>\n",
       "    </tr>\n",
       "    <tr>\n",
       "      <th>16</th>\n",
       "      <td>0.605239</td>\n",
       "      <td>0.595772</td>\n",
       "    </tr>\n",
       "    <tr>\n",
       "      <th>17</th>\n",
       "      <td>0.605239</td>\n",
       "      <td>0.595772</td>\n",
       "    </tr>\n",
       "    <tr>\n",
       "      <th>18</th>\n",
       "      <td>0.605239</td>\n",
       "      <td>0.595772</td>\n",
       "    </tr>\n",
       "    <tr>\n",
       "      <th>19</th>\n",
       "      <td>0.605239</td>\n",
       "      <td>0.595772</td>\n",
       "    </tr>\n",
       "    <tr>\n",
       "      <th>20</th>\n",
       "      <td>0.605239</td>\n",
       "      <td>0.595772</td>\n",
       "    </tr>\n",
       "    <tr>\n",
       "      <th>21</th>\n",
       "      <td>0.605239</td>\n",
       "      <td>0.595772</td>\n",
       "    </tr>\n",
       "    <tr>\n",
       "      <th>22</th>\n",
       "      <td>0.605239</td>\n",
       "      <td>0.595772</td>\n",
       "    </tr>\n",
       "    <tr>\n",
       "      <th>23</th>\n",
       "      <td>0.605239</td>\n",
       "      <td>0.595772</td>\n",
       "    </tr>\n",
       "    <tr>\n",
       "      <th>24</th>\n",
       "      <td>0.605239</td>\n",
       "      <td>0.595772</td>\n",
       "    </tr>\n",
       "    <tr>\n",
       "      <th>25</th>\n",
       "      <td>0.605239</td>\n",
       "      <td>0.595772</td>\n",
       "    </tr>\n",
       "    <tr>\n",
       "      <th>26</th>\n",
       "      <td>0.605239</td>\n",
       "      <td>0.595772</td>\n",
       "    </tr>\n",
       "    <tr>\n",
       "      <th>27</th>\n",
       "      <td>0.605239</td>\n",
       "      <td>0.595772</td>\n",
       "    </tr>\n",
       "    <tr>\n",
       "      <th>28</th>\n",
       "      <td>0.605239</td>\n",
       "      <td>0.595772</td>\n",
       "    </tr>\n",
       "    <tr>\n",
       "      <th>29</th>\n",
       "      <td>0.605239</td>\n",
       "      <td>0.595772</td>\n",
       "    </tr>\n",
       "    <tr>\n",
       "      <th>30</th>\n",
       "      <td>0.605239</td>\n",
       "      <td>0.595772</td>\n",
       "    </tr>\n",
       "    <tr>\n",
       "      <th>31</th>\n",
       "      <td>0.605239</td>\n",
       "      <td>0.595772</td>\n",
       "    </tr>\n",
       "    <tr>\n",
       "      <th>32</th>\n",
       "      <td>0.605239</td>\n",
       "      <td>0.595772</td>\n",
       "    </tr>\n",
       "    <tr>\n",
       "      <th>33</th>\n",
       "      <td>0.605239</td>\n",
       "      <td>0.595772</td>\n",
       "    </tr>\n",
       "    <tr>\n",
       "      <th>34</th>\n",
       "      <td>0.605239</td>\n",
       "      <td>0.595772</td>\n",
       "    </tr>\n",
       "    <tr>\n",
       "      <th>35</th>\n",
       "      <td>0.605239</td>\n",
       "      <td>0.595772</td>\n",
       "    </tr>\n",
       "    <tr>\n",
       "      <th>36</th>\n",
       "      <td>0.605239</td>\n",
       "      <td>0.595772</td>\n",
       "    </tr>\n",
       "    <tr>\n",
       "      <th>37</th>\n",
       "      <td>0.605239</td>\n",
       "      <td>0.595772</td>\n",
       "    </tr>\n",
       "    <tr>\n",
       "      <th>38</th>\n",
       "      <td>0.605239</td>\n",
       "      <td>0.595772</td>\n",
       "    </tr>\n",
       "    <tr>\n",
       "      <th>39</th>\n",
       "      <td>0.605239</td>\n",
       "      <td>0.595772</td>\n",
       "    </tr>\n",
       "    <tr>\n",
       "      <th>40</th>\n",
       "      <td>0.605239</td>\n",
       "      <td>0.595772</td>\n",
       "    </tr>\n",
       "  </tbody>\n",
       "</table>\n",
       "</div>"
      ],
      "text/plain": [
       "           AUC_Train  AUC_Test\n",
       "Leaf Size                     \n",
       "1           0.605239  0.595772\n",
       "2           0.605239  0.595772\n",
       "3           0.605239  0.595772\n",
       "4           0.605239  0.595772\n",
       "5           0.605239  0.595772\n",
       "6           0.605239  0.595772\n",
       "7           0.605239  0.595772\n",
       "8           0.605239  0.595772\n",
       "9           0.605239  0.595772\n",
       "10          0.605239  0.595772\n",
       "11          0.605239  0.595772\n",
       "12          0.605239  0.595772\n",
       "13          0.605239  0.595772\n",
       "14          0.605239  0.595772\n",
       "15          0.605239  0.595772\n",
       "16          0.605239  0.595772\n",
       "17          0.605239  0.595772\n",
       "18          0.605239  0.595772\n",
       "19          0.605239  0.595772\n",
       "20          0.605239  0.595772\n",
       "21          0.605239  0.595772\n",
       "22          0.605239  0.595772\n",
       "23          0.605239  0.595772\n",
       "24          0.605239  0.595772\n",
       "25          0.605239  0.595772\n",
       "26          0.605239  0.595772\n",
       "27          0.605239  0.595772\n",
       "28          0.605239  0.595772\n",
       "29          0.605239  0.595772\n",
       "30          0.605239  0.595772\n",
       "31          0.605239  0.595772\n",
       "32          0.605239  0.595772\n",
       "33          0.605239  0.595772\n",
       "34          0.605239  0.595772\n",
       "35          0.605239  0.595772\n",
       "36          0.605239  0.595772\n",
       "37          0.605239  0.595772\n",
       "38          0.605239  0.595772\n",
       "39          0.605239  0.595772\n",
       "40          0.605239  0.595772"
      ]
     },
     "execution_count": 121,
     "metadata": {},
     "output_type": "execute_result"
    }
   ],
   "source": [
    "change_leaf = pd.DataFrame()\n",
    "change_leaf['Leaf Size'] = leaf_size\n",
    "change_leaf['AUC_Train'] = train_leaf\n",
    "change_leaf['AUC_Test'] = test_leaf\n",
    "change_leaf.set_index('Leaf Size')"
   ]
  },
  {
   "cell_type": "code",
   "execution_count": 122,
   "metadata": {},
   "outputs": [
    {
     "name": "stdout",
     "output_type": "stream",
     "text": [
      "The leaf size that gave the highest AUC for Training is 1.0\n",
      "The leaf size that gave the highest AUC for Testing is 1.0\n"
     ]
    }
   ],
   "source": [
    "print('The leaf size that gave the highest AUC for Training is {}'.format((change_leaf.loc[change_leaf['AUC_Train'].idxmax()][0])))\n",
    "print('The leaf size that gave the highest AUC for Testing is {}'.format((change_leaf.loc[change_leaf['AUC_Test'].idxmax()][0])))"
   ]
  },
  {
   "cell_type": "code",
   "execution_count": 123,
   "metadata": {},
   "outputs": [
    {
     "data": {
      "image/png": "[encoded data removed]",
      "text/plain": [
       "<matplotlib.figure.Figure at 0x117046780>"
      ]
     },
     "metadata": {},
     "output_type": "display_data"
    }
   ],
   "source": [
    "plt.figure(figsize=(15,10))\n",
    "\n",
    "line1, = plt.plot(leaf_size, train_leaf, 'b', label = 'Train AUC')\n",
    "line2, = plt.plot(leaf_size, test_leaf, 'r', label = 'Test AUC')\n",
    "plt.legend(handler_map={line1: HandlerLine2D(numpoints=2)})\n",
    "plt.ylabel('AUC score', size = 12)\n",
    "plt.xlabel('Leaf Size', size = 12)\n",
    "plt.show()"
   ]
  },
  {
   "cell_type": "markdown",
   "metadata": {},
   "source": [
    "#### It would seem that leaf size does not affect the AUC for k-NN"
   ]
  },
  {
   "cell_type": "markdown",
   "metadata": {},
   "source": [
    "### Changing Algorithms"
   ]
  },
  {
   "cell_type": "code",
   "execution_count": 124,
   "metadata": {
    "collapsed": true
   },
   "outputs": [],
   "source": [
    "algorithm_list = ['auto', 'ball_tree','kd_tree','brute']"
   ]
  },
  {
   "cell_type": "code",
   "execution_count": 125,
   "metadata": {
    "collapsed": true
   },
   "outputs": [],
   "source": [
    "train_algo = []\n",
    "test_algo = []\n",
    "\n",
    "for i in algorithm_list:\n",
    "    \n",
    "    model = KNeighborsClassifier(n_neighbors = 36, p=2, algorithm=i)\n",
    "    model.fit(x_train, y_train)\n",
    "    train_pred = model.predict(x_train)\n",
    "    fpr, tpr, thresholds = roc_curve(y_train, train_pred)\n",
    "    roc_auc = auc(fpr, tpr)\n",
    "    train_algo.append(roc_auc)\n",
    "    \n",
    "    test_pred = model.predict(x_test)\n",
    "    fpr_test, tpr_test, thesholds_test = roc_curve(y_test, test_pred)\n",
    "    roc_auc_test = auc(fpr_test, tpr_test)\n",
    "    test_algo.append(roc_auc_test)"
   ]
  },
  {
   "cell_type": "code",
   "execution_count": 126,
   "metadata": {
    "scrolled": true
   },
   "outputs": [
    {
     "data": {
      "text/html": [
       "<div>\n",
       "<style>\n",
       "    .dataframe thead tr:only-child th {\n",
       "        text-align: right;\n",
       "    }\n",
       "\n",
       "    .dataframe thead th {\n",
       "        text-align: left;\n",
       "    }\n",
       "\n",
       "    .dataframe tbody tr th {\n",
       "        vertical-align: top;\n",
       "    }\n",
       "</style>\n",
       "<table border=\"1\" class=\"dataframe\">\n",
       "  <thead>\n",
       "    <tr style=\"text-align: right;\">\n",
       "      <th></th>\n",
       "      <th>AUC_Train</th>\n",
       "      <th>AUC_Test</th>\n",
       "    </tr>\n",
       "    <tr>\n",
       "      <th>Algorithm</th>\n",
       "      <th></th>\n",
       "      <th></th>\n",
       "    </tr>\n",
       "  </thead>\n",
       "  <tbody>\n",
       "    <tr>\n",
       "      <th>auto</th>\n",
       "      <td>0.605239</td>\n",
       "      <td>0.595772</td>\n",
       "    </tr>\n",
       "    <tr>\n",
       "      <th>ball_tree</th>\n",
       "      <td>0.605239</td>\n",
       "      <td>0.595772</td>\n",
       "    </tr>\n",
       "    <tr>\n",
       "      <th>kd_tree</th>\n",
       "      <td>0.605239</td>\n",
       "      <td>0.595772</td>\n",
       "    </tr>\n",
       "    <tr>\n",
       "      <th>brute</th>\n",
       "      <td>0.605239</td>\n",
       "      <td>0.595772</td>\n",
       "    </tr>\n",
       "  </tbody>\n",
       "</table>\n",
       "</div>"
      ],
      "text/plain": [
       "           AUC_Train  AUC_Test\n",
       "Algorithm                     \n",
       "auto        0.605239  0.595772\n",
       "ball_tree   0.605239  0.595772\n",
       "kd_tree     0.605239  0.595772\n",
       "brute       0.605239  0.595772"
      ]
     },
     "execution_count": 126,
     "metadata": {},
     "output_type": "execute_result"
    }
   ],
   "source": [
    "change_algorithm = pd.DataFrame()\n",
    "change_algorithm['Algorithm'] = algorithm_list\n",
    "change_algorithm['AUC_Train'] = train_algo\n",
    "change_algorithm['AUC_Test'] = test_algo\n",
    "change_algorithm.set_index('Algorithm')"
   ]
  },
  {
   "cell_type": "code",
   "execution_count": 127,
   "metadata": {},
   "outputs": [
    {
     "data": {
      "image/png": "[encoded data removed]",
      "text/plain": [
       "<matplotlib.figure.Figure at 0x1122fef60>"
      ]
     },
     "metadata": {},
     "output_type": "display_data"
    }
   ],
   "source": [
    "index = np.arange(len(algorithm_list))\n",
    "\n",
    "fig, ax = plt.subplots(figsize=(15,10))\n",
    "bar_width = 0.4\n",
    "opacity = 0.7\n",
    " \n",
    "rects1 = plt.bar(index, train_algo, bar_width,\n",
    "                 alpha=opacity,\n",
    "                 color='b',\n",
    "                 label='Train Results')\n",
    " \n",
    "rects2 = plt.bar(index + bar_width, test_algo, bar_width,\n",
    "                 alpha=opacity,\n",
    "                 color='g',\n",
    "                 label='Test Results')\n",
    "\n",
    " \n",
    "plt.xlabel('Algorithms', size = 12)\n",
    "plt.ylabel('AUC Scores', size = 12)\n",
    "#plt.ylim(0.6,0.8)\n",
    "plt.title('Scores by Algorithms')\n",
    "plt.xticks(index + bar_width, ('Auto', 'Ball_Tree','kd_Tree','Brute'), size = 12)\n",
    "plt.legend(loc='best')\n",
    " \n",
    "plt.show()"
   ]
  },
  {
   "cell_type": "markdown",
   "metadata": {},
   "source": [
    "#### It would seem changing Algorithms did not affect the AUC scores"
   ]
  },
  {
   "cell_type": "markdown",
   "metadata": {},
   "source": [
    "### Changing Learning Size"
   ]
  },
  {
   "cell_type": "code",
   "execution_count": 139,
   "metadata": {
    "collapsed": true
   },
   "outputs": [],
   "source": [
    "size = np.linspace(0.15,1,100)"
   ]
  },
  {
   "cell_type": "code",
   "execution_count": 140,
   "metadata": {
    "collapsed": true
   },
   "outputs": [],
   "source": [
    "sample_size = x_train.shape[0]*size"
   ]
  },
  {
   "cell_type": "code",
   "execution_count": 142,
   "metadata": {
    "collapsed": true
   },
   "outputs": [],
   "source": [
    "training_space = []\n",
    "\n",
    "for i in sample_size:\n",
    "    training_space.append(int(i))"
   ]
  },
  {
   "cell_type": "code",
   "execution_count": 143,
   "metadata": {},
   "outputs": [],
   "source": [
    "test_scores_1 = []\n",
    "train_scores_1 = []\n",
    "\n",
    "for i in training_space:\n",
    "\n",
    "    x_new = x_train.iloc[:i,:]    \n",
    "    y_new = y_train[:i]\n",
    "    \n",
    "    #Model Creation\n",
    "    model = KNeighborsClassifier(n_neighbors = 36, p=2)\n",
    "    model.fit(x_new, y_new)\n",
    "    \n",
    "    train_pred = model.predict(x_train)\n",
    "    fpr, tpr, thresholds = roc_curve(y_train, train_pred)\n",
    "    roc_auc = auc(fpr, tpr)\n",
    "    train_scores_1.append(roc_auc)\n",
    "    \n",
    "    test_pred = model.predict(x_test)\n",
    "    fpr_test, tpr_test, thesholds_test = roc_curve(y_test, test_pred)\n",
    "    roc_auc_test = auc(fpr_test, tpr_test)\n",
    "    test_scores_1.append(roc_auc_test)"
   ]
  },
  {
   "cell_type": "code",
   "execution_count": 144,
   "metadata": {},
   "outputs": [
    {
     "data": {
      "text/html": [
       "<div>\n",
       "<style>\n",
       "    .dataframe thead tr:only-child th {\n",
       "        text-align: right;\n",
       "    }\n",
       "\n",
       "    .dataframe thead th {\n",
       "        text-align: left;\n",
       "    }\n",
       "\n",
       "    .dataframe tbody tr th {\n",
       "        vertical-align: top;\n",
       "    }\n",
       "</style>\n",
       "<table border=\"1\" class=\"dataframe\">\n",
       "  <thead>\n",
       "    <tr style=\"text-align: right;\">\n",
       "      <th></th>\n",
       "      <th>AUC_Train</th>\n",
       "      <th>AUC_Test</th>\n",
       "    </tr>\n",
       "    <tr>\n",
       "      <th>Training Space</th>\n",
       "      <th></th>\n",
       "      <th></th>\n",
       "    </tr>\n",
       "  </thead>\n",
       "  <tbody>\n",
       "    <tr>\n",
       "      <th>39</th>\n",
       "      <td>0.500000</td>\n",
       "      <td>0.500000</td>\n",
       "    </tr>\n",
       "    <tr>\n",
       "      <th>41</th>\n",
       "      <td>0.525276</td>\n",
       "      <td>0.508385</td>\n",
       "    </tr>\n",
       "    <tr>\n",
       "      <th>44</th>\n",
       "      <td>0.512638</td>\n",
       "      <td>0.520312</td>\n",
       "    </tr>\n",
       "    <tr>\n",
       "      <th>46</th>\n",
       "      <td>0.510110</td>\n",
       "      <td>0.496457</td>\n",
       "    </tr>\n",
       "    <tr>\n",
       "      <th>48</th>\n",
       "      <td>0.500000</td>\n",
       "      <td>0.506613</td>\n",
       "    </tr>\n",
       "    <tr>\n",
       "      <th>50</th>\n",
       "      <td>0.501149</td>\n",
       "      <td>0.555621</td>\n",
       "    </tr>\n",
       "    <tr>\n",
       "      <th>53</th>\n",
       "      <td>0.516314</td>\n",
       "      <td>0.512754</td>\n",
       "    </tr>\n",
       "    <tr>\n",
       "      <th>55</th>\n",
       "      <td>0.533088</td>\n",
       "      <td>0.502598</td>\n",
       "    </tr>\n",
       "    <tr>\n",
       "      <th>57</th>\n",
       "      <td>0.494485</td>\n",
       "      <td>0.531767</td>\n",
       "    </tr>\n",
       "    <tr>\n",
       "      <th>60</th>\n",
       "      <td>0.491958</td>\n",
       "      <td>0.542631</td>\n",
       "    </tr>\n",
       "    <tr>\n",
       "      <th>62</th>\n",
       "      <td>0.497702</td>\n",
       "      <td>0.532475</td>\n",
       "    </tr>\n",
       "    <tr>\n",
       "      <th>64</th>\n",
       "      <td>0.505744</td>\n",
       "      <td>0.532239</td>\n",
       "    </tr>\n",
       "    <tr>\n",
       "      <th>66</th>\n",
       "      <td>0.505974</td>\n",
       "      <td>0.561408</td>\n",
       "    </tr>\n",
       "    <tr>\n",
       "      <th>69</th>\n",
       "      <td>0.527574</td>\n",
       "      <td>0.568021</td>\n",
       "    </tr>\n",
       "    <tr>\n",
       "      <th>71</th>\n",
       "      <td>0.524357</td>\n",
       "      <td>0.581483</td>\n",
       "    </tr>\n",
       "    <tr>\n",
       "      <th>73</th>\n",
       "      <td>0.544118</td>\n",
       "      <td>0.557156</td>\n",
       "    </tr>\n",
       "    <tr>\n",
       "      <th>75</th>\n",
       "      <td>0.534697</td>\n",
       "      <td>0.548299</td>\n",
       "    </tr>\n",
       "    <tr>\n",
       "      <th>78</th>\n",
       "      <td>0.554917</td>\n",
       "      <td>0.513581</td>\n",
       "    </tr>\n",
       "    <tr>\n",
       "      <th>80</th>\n",
       "      <td>0.545037</td>\n",
       "      <td>0.522437</td>\n",
       "    </tr>\n",
       "    <tr>\n",
       "      <th>82</th>\n",
       "      <td>0.607307</td>\n",
       "      <td>0.517832</td>\n",
       "    </tr>\n",
       "    <tr>\n",
       "      <th>84</th>\n",
       "      <td>0.560662</td>\n",
       "      <td>0.526689</td>\n",
       "    </tr>\n",
       "    <tr>\n",
       "      <th>87</th>\n",
       "      <td>0.542969</td>\n",
       "      <td>0.545701</td>\n",
       "    </tr>\n",
       "    <tr>\n",
       "      <th>89</th>\n",
       "      <td>0.544118</td>\n",
       "      <td>0.535546</td>\n",
       "    </tr>\n",
       "    <tr>\n",
       "      <th>91</th>\n",
       "      <td>0.528952</td>\n",
       "      <td>0.557865</td>\n",
       "    </tr>\n",
       "    <tr>\n",
       "      <th>94</th>\n",
       "      <td>0.539292</td>\n",
       "      <td>0.545701</td>\n",
       "    </tr>\n",
       "    <tr>\n",
       "      <th>96</th>\n",
       "      <td>0.542969</td>\n",
       "      <td>0.530231</td>\n",
       "    </tr>\n",
       "    <tr>\n",
       "      <th>98</th>\n",
       "      <td>0.524816</td>\n",
       "      <td>0.521611</td>\n",
       "    </tr>\n",
       "    <tr>\n",
       "      <th>100</th>\n",
       "      <td>0.536075</td>\n",
       "      <td>0.511219</td>\n",
       "    </tr>\n",
       "    <tr>\n",
       "      <th>103</th>\n",
       "      <td>0.551241</td>\n",
       "      <td>0.538616</td>\n",
       "    </tr>\n",
       "    <tr>\n",
       "      <th>105</th>\n",
       "      <td>0.558134</td>\n",
       "      <td>0.545465</td>\n",
       "    </tr>\n",
       "    <tr>\n",
       "      <th>107</th>\n",
       "      <td>0.518842</td>\n",
       "      <td>0.533302</td>\n",
       "    </tr>\n",
       "    <tr>\n",
       "      <th>109</th>\n",
       "      <td>0.522289</td>\n",
       "      <td>0.524681</td>\n",
       "    </tr>\n",
       "    <tr>\n",
       "      <th>112</th>\n",
       "      <td>0.536765</td>\n",
       "      <td>0.510983</td>\n",
       "    </tr>\n",
       "    <tr>\n",
       "      <th>114</th>\n",
       "      <td>0.544347</td>\n",
       "      <td>0.510983</td>\n",
       "    </tr>\n",
       "    <tr>\n",
       "      <th>116</th>\n",
       "      <td>0.571461</td>\n",
       "      <td>0.526453</td>\n",
       "    </tr>\n",
       "    <tr>\n",
       "      <th>118</th>\n",
       "      <td>0.553768</td>\n",
       "      <td>0.540387</td>\n",
       "    </tr>\n",
       "    <tr>\n",
       "      <th>121</th>\n",
       "      <td>0.549862</td>\n",
       "      <td>0.538616</td>\n",
       "    </tr>\n",
       "    <tr>\n",
       "      <th>123</th>\n",
       "      <td>0.556296</td>\n",
       "      <td>0.555621</td>\n",
       "    </tr>\n",
       "    <tr>\n",
       "      <th>125</th>\n",
       "      <td>0.566406</td>\n",
       "      <td>0.567312</td>\n",
       "    </tr>\n",
       "    <tr>\n",
       "      <th>128</th>\n",
       "      <td>0.559053</td>\n",
       "      <td>0.565777</td>\n",
       "    </tr>\n",
       "    <tr>\n",
       "      <th>130</th>\n",
       "      <td>0.555607</td>\n",
       "      <td>0.555621</td>\n",
       "    </tr>\n",
       "    <tr>\n",
       "      <th>132</th>\n",
       "      <td>0.553998</td>\n",
       "      <td>0.594946</td>\n",
       "    </tr>\n",
       "    <tr>\n",
       "      <th>134</th>\n",
       "      <td>0.554917</td>\n",
       "      <td>0.596717</td>\n",
       "    </tr>\n",
       "    <tr>\n",
       "      <th>137</th>\n",
       "      <td>0.559513</td>\n",
       "      <td>0.564006</td>\n",
       "    </tr>\n",
       "    <tr>\n",
       "      <th>139</th>\n",
       "      <td>0.555147</td>\n",
       "      <td>0.553614</td>\n",
       "    </tr>\n",
       "    <tr>\n",
       "      <th>141</th>\n",
       "      <td>0.557904</td>\n",
       "      <td>0.558692</td>\n",
       "    </tr>\n",
       "    <tr>\n",
       "      <th>143</th>\n",
       "      <td>0.574678</td>\n",
       "      <td>0.550307</td>\n",
       "    </tr>\n",
       "    <tr>\n",
       "      <th>146</th>\n",
       "      <td>0.566866</td>\n",
       "      <td>0.536608</td>\n",
       "    </tr>\n",
       "    <tr>\n",
       "      <th>148</th>\n",
       "      <td>0.558824</td>\n",
       "      <td>0.534837</td>\n",
       "    </tr>\n",
       "    <tr>\n",
       "      <th>150</th>\n",
       "      <td>0.568934</td>\n",
       "      <td>0.546764</td>\n",
       "    </tr>\n",
       "    <tr>\n",
       "      <th>152</th>\n",
       "      <td>0.574908</td>\n",
       "      <td>0.527752</td>\n",
       "    </tr>\n",
       "    <tr>\n",
       "      <th>155</th>\n",
       "      <td>0.597426</td>\n",
       "      <td>0.505432</td>\n",
       "    </tr>\n",
       "    <tr>\n",
       "      <th>157</th>\n",
       "      <td>0.605009</td>\n",
       "      <td>0.472721</td>\n",
       "    </tr>\n",
       "    <tr>\n",
       "      <th>159</th>\n",
       "      <td>0.604550</td>\n",
       "      <td>0.453708</td>\n",
       "    </tr>\n",
       "    <tr>\n",
       "      <th>162</th>\n",
       "      <td>0.593061</td>\n",
       "      <td>0.460557</td>\n",
       "    </tr>\n",
       "    <tr>\n",
       "      <th>164</th>\n",
       "      <td>0.604090</td>\n",
       "      <td>0.470713</td>\n",
       "    </tr>\n",
       "    <tr>\n",
       "      <th>166</th>\n",
       "      <td>0.604550</td>\n",
       "      <td>0.463864</td>\n",
       "    </tr>\n",
       "    <tr>\n",
       "      <th>168</th>\n",
       "      <td>0.616039</td>\n",
       "      <td>0.479334</td>\n",
       "    </tr>\n",
       "    <tr>\n",
       "      <th>171</th>\n",
       "      <td>0.615579</td>\n",
       "      <td>0.472485</td>\n",
       "    </tr>\n",
       "    <tr>\n",
       "      <th>173</th>\n",
       "      <td>0.607537</td>\n",
       "      <td>0.486183</td>\n",
       "    </tr>\n",
       "    <tr>\n",
       "      <th>175</th>\n",
       "      <td>0.622013</td>\n",
       "      <td>0.479334</td>\n",
       "    </tr>\n",
       "    <tr>\n",
       "      <th>177</th>\n",
       "      <td>0.607767</td>\n",
       "      <td>0.465635</td>\n",
       "    </tr>\n",
       "    <tr>\n",
       "      <th>180</th>\n",
       "      <td>0.611673</td>\n",
       "      <td>0.465635</td>\n",
       "    </tr>\n",
       "    <tr>\n",
       "      <th>182</th>\n",
       "      <td>0.618796</td>\n",
       "      <td>0.465635</td>\n",
       "    </tr>\n",
       "    <tr>\n",
       "      <th>184</th>\n",
       "      <td>0.613971</td>\n",
       "      <td>0.472485</td>\n",
       "    </tr>\n",
       "    <tr>\n",
       "      <th>186</th>\n",
       "      <td>0.613971</td>\n",
       "      <td>0.463864</td>\n",
       "    </tr>\n",
       "    <tr>\n",
       "      <th>189</th>\n",
       "      <td>0.601333</td>\n",
       "      <td>0.475791</td>\n",
       "    </tr>\n",
       "    <tr>\n",
       "      <th>191</th>\n",
       "      <td>0.609145</td>\n",
       "      <td>0.472248</td>\n",
       "    </tr>\n",
       "    <tr>\n",
       "      <th>193</th>\n",
       "      <td>0.619715</td>\n",
       "      <td>0.479098</td>\n",
       "    </tr>\n",
       "    <tr>\n",
       "      <th>196</th>\n",
       "      <td>0.624770</td>\n",
       "      <td>0.480869</td>\n",
       "    </tr>\n",
       "    <tr>\n",
       "      <th>198</th>\n",
       "      <td>0.613741</td>\n",
       "      <td>0.506731</td>\n",
       "    </tr>\n",
       "    <tr>\n",
       "      <th>200</th>\n",
       "      <td>0.603171</td>\n",
       "      <td>0.501653</td>\n",
       "    </tr>\n",
       "    <tr>\n",
       "      <th>202</th>\n",
       "      <td>0.599724</td>\n",
       "      <td>0.520666</td>\n",
       "    </tr>\n",
       "    <tr>\n",
       "      <th>205</th>\n",
       "      <td>0.603401</td>\n",
       "      <td>0.520666</td>\n",
       "    </tr>\n",
       "    <tr>\n",
       "      <th>207</th>\n",
       "      <td>0.592142</td>\n",
       "      <td>0.529287</td>\n",
       "    </tr>\n",
       "    <tr>\n",
       "      <th>209</th>\n",
       "      <td>0.600414</td>\n",
       "      <td>0.531058</td>\n",
       "    </tr>\n",
       "    <tr>\n",
       "      <th>211</th>\n",
       "      <td>0.607767</td>\n",
       "      <td>0.527515</td>\n",
       "    </tr>\n",
       "    <tr>\n",
       "      <th>214</th>\n",
       "      <td>0.607996</td>\n",
       "      <td>0.542985</td>\n",
       "    </tr>\n",
       "    <tr>\n",
       "      <th>216</th>\n",
       "      <td>0.596278</td>\n",
       "      <td>0.549835</td>\n",
       "    </tr>\n",
       "    <tr>\n",
       "      <th>218</th>\n",
       "      <td>0.596278</td>\n",
       "      <td>0.551606</td>\n",
       "    </tr>\n",
       "    <tr>\n",
       "      <th>220</th>\n",
       "      <td>0.614430</td>\n",
       "      <td>0.551606</td>\n",
       "    </tr>\n",
       "    <tr>\n",
       "      <th>223</th>\n",
       "      <td>0.624311</td>\n",
       "      <td>0.554913</td>\n",
       "    </tr>\n",
       "    <tr>\n",
       "      <th>225</th>\n",
       "      <td>0.619945</td>\n",
       "      <td>0.559991</td>\n",
       "    </tr>\n",
       "    <tr>\n",
       "      <th>227</th>\n",
       "      <td>0.619945</td>\n",
       "      <td>0.566840</td>\n",
       "    </tr>\n",
       "    <tr>\n",
       "      <th>230</th>\n",
       "      <td>0.601792</td>\n",
       "      <td>0.589159</td>\n",
       "    </tr>\n",
       "    <tr>\n",
       "      <th>232</th>\n",
       "      <td>0.605239</td>\n",
       "      <td>0.582310</td>\n",
       "    </tr>\n",
       "    <tr>\n",
       "      <th>234</th>\n",
       "      <td>0.612592</td>\n",
       "      <td>0.573689</td>\n",
       "    </tr>\n",
       "    <tr>\n",
       "      <th>236</th>\n",
       "      <td>0.601103</td>\n",
       "      <td>0.563297</td>\n",
       "    </tr>\n",
       "    <tr>\n",
       "      <th>239</th>\n",
       "      <td>0.600873</td>\n",
       "      <td>0.563297</td>\n",
       "    </tr>\n",
       "    <tr>\n",
       "      <th>241</th>\n",
       "      <td>0.596967</td>\n",
       "      <td>0.568375</td>\n",
       "    </tr>\n",
       "    <tr>\n",
       "      <th>243</th>\n",
       "      <td>0.581112</td>\n",
       "      <td>0.576996</td>\n",
       "    </tr>\n",
       "    <tr>\n",
       "      <th>245</th>\n",
       "      <td>0.584559</td>\n",
       "      <td>0.583845</td>\n",
       "    </tr>\n",
       "    <tr>\n",
       "      <th>248</th>\n",
       "      <td>0.576287</td>\n",
       "      <td>0.597544</td>\n",
       "    </tr>\n",
       "    <tr>\n",
       "      <th>250</th>\n",
       "      <td>0.580193</td>\n",
       "      <td>0.594237</td>\n",
       "    </tr>\n",
       "    <tr>\n",
       "      <th>252</th>\n",
       "      <td>0.595358</td>\n",
       "      <td>0.589159</td>\n",
       "    </tr>\n",
       "    <tr>\n",
       "      <th>254</th>\n",
       "      <td>0.602252</td>\n",
       "      <td>0.599315</td>\n",
       "    </tr>\n",
       "    <tr>\n",
       "      <th>257</th>\n",
       "      <td>0.601562</td>\n",
       "      <td>0.606164</td>\n",
       "    </tr>\n",
       "    <tr>\n",
       "      <th>259</th>\n",
       "      <td>0.601562</td>\n",
       "      <td>0.606164</td>\n",
       "    </tr>\n",
       "    <tr>\n",
       "      <th>261</th>\n",
       "      <td>0.605239</td>\n",
       "      <td>0.588923</td>\n",
       "    </tr>\n",
       "    <tr>\n",
       "      <th>264</th>\n",
       "      <td>0.605239</td>\n",
       "      <td>0.595772</td>\n",
       "    </tr>\n",
       "  </tbody>\n",
       "</table>\n",
       "</div>"
      ],
      "text/plain": [
       "                AUC_Train  AUC_Test\n",
       "Training Space                     \n",
       "39               0.500000  0.500000\n",
       "41               0.525276  0.508385\n",
       "44               0.512638  0.520312\n",
       "46               0.510110  0.496457\n",
       "48               0.500000  0.506613\n",
       "50               0.501149  0.555621\n",
       "53               0.516314  0.512754\n",
       "55               0.533088  0.502598\n",
       "57               0.494485  0.531767\n",
       "60               0.491958  0.542631\n",
       "62               0.497702  0.532475\n",
       "64               0.505744  0.532239\n",
       "66               0.505974  0.561408\n",
       "69               0.527574  0.568021\n",
       "71               0.524357  0.581483\n",
       "73               0.544118  0.557156\n",
       "75               0.534697  0.548299\n",
       "78               0.554917  0.513581\n",
       "80               0.545037  0.522437\n",
       "82               0.607307  0.517832\n",
       "84               0.560662  0.526689\n",
       "87               0.542969  0.545701\n",
       "89               0.544118  0.535546\n",
       "91               0.528952  0.557865\n",
       "94               0.539292  0.545701\n",
       "96               0.542969  0.530231\n",
       "98               0.524816  0.521611\n",
       "100              0.536075  0.511219\n",
       "103              0.551241  0.538616\n",
       "105              0.558134  0.545465\n",
       "107              0.518842  0.533302\n",
       "109              0.522289  0.524681\n",
       "112              0.536765  0.510983\n",
       "114              0.544347  0.510983\n",
       "116              0.571461  0.526453\n",
       "118              0.553768  0.540387\n",
       "121              0.549862  0.538616\n",
       "123              0.556296  0.555621\n",
       "125              0.566406  0.567312\n",
       "128              0.559053  0.565777\n",
       "130              0.555607  0.555621\n",
       "132              0.553998  0.594946\n",
       "134              0.554917  0.596717\n",
       "137              0.559513  0.564006\n",
       "139              0.555147  0.553614\n",
       "141              0.557904  0.558692\n",
       "143              0.574678  0.550307\n",
       "146              0.566866  0.536608\n",
       "148              0.558824  0.534837\n",
       "150              0.568934  0.546764\n",
       "152              0.574908  0.527752\n",
       "155              0.597426  0.505432\n",
       "157              0.605009  0.472721\n",
       "159              0.604550  0.453708\n",
       "162              0.593061  0.460557\n",
       "164              0.604090  0.470713\n",
       "166              0.604550  0.463864\n",
       "168              0.616039  0.479334\n",
       "171              0.615579  0.472485\n",
       "173              0.607537  0.486183\n",
       "175              0.622013  0.479334\n",
       "177              0.607767  0.465635\n",
       "180              0.611673  0.465635\n",
       "182              0.618796  0.465635\n",
       "184              0.613971  0.472485\n",
       "186              0.613971  0.463864\n",
       "189              0.601333  0.475791\n",
       "191              0.609145  0.472248\n",
       "193              0.619715  0.479098\n",
       "196              0.624770  0.480869\n",
       "198              0.613741  0.506731\n",
       "200              0.603171  0.501653\n",
       "202              0.599724  0.520666\n",
       "205              0.603401  0.520666\n",
       "207              0.592142  0.529287\n",
       "209              0.600414  0.531058\n",
       "211              0.607767  0.527515\n",
       "214              0.607996  0.542985\n",
       "216              0.596278  0.549835\n",
       "218              0.596278  0.551606\n",
       "220              0.614430  0.551606\n",
       "223              0.624311  0.554913\n",
       "225              0.619945  0.559991\n",
       "227              0.619945  0.566840\n",
       "230              0.601792  0.589159\n",
       "232              0.605239  0.582310\n",
       "234              0.612592  0.573689\n",
       "236              0.601103  0.563297\n",
       "239              0.600873  0.563297\n",
       "241              0.596967  0.568375\n",
       "243              0.581112  0.576996\n",
       "245              0.584559  0.583845\n",
       "248              0.576287  0.597544\n",
       "250              0.580193  0.594237\n",
       "252              0.595358  0.589159\n",
       "254              0.602252  0.599315\n",
       "257              0.601562  0.606164\n",
       "259              0.601562  0.606164\n",
       "261              0.605239  0.588923\n",
       "264              0.605239  0.595772"
      ]
     },
     "execution_count": 144,
     "metadata": {},
     "output_type": "execute_result"
    }
   ],
   "source": [
    "change_ls = pd.DataFrame()\n",
    "change_ls['Training Space'] = training_space\n",
    "change_ls['AUC_Train'] = train_scores_1\n",
    "change_ls['AUC_Test'] = test_scores_1\n",
    "change_ls.set_index('Training Space')"
   ]
  },
  {
   "cell_type": "code",
   "execution_count": 145,
   "metadata": {},
   "outputs": [
    {
     "name": "stdout",
     "output_type": "stream",
     "text": [
      "The training size that gave the highest AUC for Training is 196.0\n",
      "The training size that gave the highest AUC for Testing is 257.0\n"
     ]
    }
   ],
   "source": [
    "print('The training size that gave the highest AUC for Training is {}'.format((change_ls.loc[change_ls['AUC_Train'].idxmax()][0])))\n",
    "print('The training size that gave the highest AUC for Testing is {}'.format((change_ls.loc[change_ls['AUC_Test'].idxmax()][0])))"
   ]
  },
  {
   "cell_type": "code",
   "execution_count": 146,
   "metadata": {},
   "outputs": [
    {
     "data": {
      "image/png": "[encoded data removed]",
      "text/plain": [
       "<matplotlib.figure.Figure at 0x1a1c9571d0>"
      ]
     },
     "metadata": {},
     "output_type": "display_data"
    }
   ],
   "source": [
    "plt.figure(figsize=(15,10))\n",
    "\n",
    "plt.plot(training_space, test_scores_1, 'b-', label='Test')\n",
    "plt.plot(training_space, train_scores_1, 'r--', label='Train')\n",
    "\n",
    "plt.legend(loc='best')\n",
    "plt.xlabel('Training Space', size = 12)\n",
    "plt.ylabel('AUC Score', size = 12)\n",
    "plt.show()"
   ]
  },
  {
   "cell_type": "code",
   "execution_count": 192,
   "metadata": {
    "collapsed": true
   },
   "outputs": [],
   "source": [
    "model = KNeighborsClassifier(n_neighbors = 36, p=2)"
   ]
  },
  {
   "cell_type": "code",
   "execution_count": 193,
   "metadata": {},
   "outputs": [
    {
     "data": {
      "text/plain": [
       "KNeighborsClassifier(algorithm='auto', leaf_size=30, metric='minkowski',\n",
       "           metric_params=None, n_jobs=1, n_neighbors=36, p=2,\n",
       "           weights='uniform')"
      ]
     },
     "execution_count": 193,
     "metadata": {},
     "output_type": "execute_result"
    }
   ],
   "source": [
    "model.fit(x_train, y_train)"
   ]
  },
  {
   "cell_type": "code",
   "execution_count": null,
   "metadata": {
    "collapsed": true
   },
   "outputs": [],
   "source": [
    "train_sizes, train_scores, test_scores = learning_curve(model, x_train, y_train, n_jobs=-1, cv=3, train_sizes=np.linspace(.3, 1.0, 10), verbose=1)"
   ]
  },
  {
   "cell_type": "code",
   "execution_count": null,
   "metadata": {
    "collapsed": true
   },
   "outputs": [],
   "source": [
    "train_scores_mean = np.mean(train_scores, axis=1)\n",
    "train_scores_std = np.std(train_scores, axis=1)\n",
    "test_scores_mean = np.mean(test_scores, axis=1)\n",
    "test_scores_std = np.std(test_scores, axis=1)"
   ]
  },
  {
   "cell_type": "code",
   "execution_count": null,
   "metadata": {},
   "outputs": [],
   "source": [
    "plt.figure(figsize=(15,10))\n",
    "    \n",
    "plt.grid()\n",
    "    \n",
    "# plot the std deviation as a transparent range at each training set size\n",
    "plt.fill_between(train_sizes, train_scores_mean - train_scores_std, train_scores_mean + train_scores_std, alpha=0.1, color=\"r\")\n",
    "plt.fill_between(train_sizes, test_scores_mean - test_scores_std, test_scores_mean + test_scores_std, alpha=0.1, color=\"g\")\n",
    "    \n",
    "# plot the average training and test score lines at each training set size\n",
    "plt.plot(train_sizes, train_scores_mean, 'o-', color=\"r\", label = 'Training score')\n",
    "plt.plot(train_sizes, test_scores_mean, 'o-', color=\"g\", label =\"Cross-validation score\")\n",
    "    \n",
    "# sizes the window for readability and displays the plot\n",
    "# shows error from 0 to 1.1\n",
    "\n",
    "plt.title(\"K-Nearest Neighbors\")\n",
    "plt.legend(loc = 'lower right')\n",
    "plt.xlabel(\"Training examples\", size =12)\n",
    "plt.ylabel(\"Score\", size = 12)\n",
    "plt.ylim(0.5,0.85)\n",
    "plt.show()"
   ]
  },
  {
   "cell_type": "markdown",
   "metadata": {},
   "source": [
    "### Final Model"
   ]
  },
  {
   "cell_type": "code",
   "execution_count": 228,
   "metadata": {
    "collapsed": true
   },
   "outputs": [],
   "source": [
    "model_final = KNeighborsClassifier(n_jobs=-1, n_neighbors = 36, p=2)"
   ]
  },
  {
   "cell_type": "code",
   "execution_count": 229,
   "metadata": {
    "collapsed": true
   },
   "outputs": [],
   "source": [
    "x_new = x_train.iloc[:257,:]    \n",
    "y_new = y_train[:257]"
   ]
  },
  {
   "cell_type": "code",
   "execution_count": 230,
   "metadata": {},
   "outputs": [
    {
     "data": {
      "text/plain": [
       "KNeighborsClassifier(algorithm='auto', leaf_size=30, metric='minkowski',\n",
       "           metric_params=None, n_jobs=-1, n_neighbors=36, p=2,\n",
       "           weights='uniform')"
      ]
     },
     "execution_count": 230,
     "metadata": {},
     "output_type": "execute_result"
    }
   ],
   "source": [
    "model_final.fit(x_new, y_new)"
   ]
  },
  {
   "cell_type": "code",
   "execution_count": 231,
   "metadata": {
    "collapsed": true
   },
   "outputs": [],
   "source": [
    "prediction=model_final.predict(x_test)"
   ]
  },
  {
   "cell_type": "code",
   "execution_count": 232,
   "metadata": {},
   "outputs": [
    {
     "data": {
      "image/png": "[encoded data removed]",
      "text/plain": [
       "<matplotlib.figure.Figure at 0x110db9eb8>"
      ]
     },
     "metadata": {},
     "output_type": "display_data"
    },
    {
     "name": "stdout",
     "output_type": "stream",
     "text": [
      "Sensitivity for k-NN:  0.5\n",
      "Specificity for k-NN:  0.712\n",
      "F Score for k-NN:  0.675\n"
     ]
    }
   ],
   "source": [
    "cm = confusion_matrix(y_test, prediction)\n",
    "plt.figure(figsize = (5,5))\n",
    "plt.title('Final k-NN Model')\n",
    "sns.heatmap(cm, annot=True, fmt=\"d\")\n",
    "\n",
    "plt.show()\n",
    "\n",
    "sensitivity = round(cm[0,0]/(cm[0,0]+cm[0,1]),3)\n",
    "print('Sensitivity for k-NN: ', sensitivity )\n",
    "specificity = round(cm[1,1]/(cm[1,0]+cm[1,1]),3)\n",
    "print('Specificity for k-NN: ', specificity)\n",
    "f_score = round(f1_score(y_test, model_final.predict(x_test)),3)\n",
    "print('F Score for k-NN: ', f_score)"
   ]
  },
  {
   "cell_type": "code",
   "execution_count": 179,
   "metadata": {},
   "outputs": [
    {
     "data": {
      "image/png": "[encoded data removed]",
      "text/plain": [
       "<matplotlib.figure.Figure at 0x1106b4c18>"
      ]
     },
     "metadata": {},
     "output_type": "display_data"
    }
   ],
   "source": [
    "y_pred = model_final.predict(x_test).ravel()\n",
    "fpr, tpr, thresholds = roc_curve(y_test, y_pred)\n",
    "auc_curve = auc(fpr, tpr)\n",
    "\n",
    "plt.title('Receiver Operating Characteristic')\n",
    "plt.plot(fpr, tpr, 'b', label = 'AUC = %0.2f' % auc_curve)\n",
    "plt.legend(loc = 'lower right')\n",
    "plt.plot([0, 1], [0, 1],'r--')\n",
    "plt.xlim([0, 1])\n",
    "plt.ylim([0, 1])\n",
    "plt.ylabel('True Positive Rate')\n",
    "plt.xlabel('False Positive Rate')\n",
    "plt.show()"
   ]
  },
  {
   "cell_type": "code",
   "execution_count": 180,
   "metadata": {},
   "outputs": [
    {
     "name": "stdout",
     "output_type": "stream",
     "text": [
      "Accuracy of Base Model: 0.62 \n"
     ]
    }
   ],
   "source": [
    "score = round(accuracy_score(y_test, prediction),2)\n",
    "print('Accuracy of Base Model: {} '.format(score))"
   ]
  },
  {
   "cell_type": "markdown",
   "metadata": {},
   "source": [
    "### Visualizing Labels"
   ]
  },
  {
   "cell_type": "code",
   "execution_count": 181,
   "metadata": {
    "collapsed": true
   },
   "outputs": [],
   "source": [
    "from sklearn.decomposition import PCA"
   ]
  },
  {
   "cell_type": "code",
   "execution_count": 182,
   "metadata": {
    "collapsed": true
   },
   "outputs": [],
   "source": [
    "data1 = x_test.reset_index()"
   ]
  },
  {
   "cell_type": "code",
   "execution_count": 183,
   "metadata": {
    "collapsed": true
   },
   "outputs": [],
   "source": [
    "data1 = data1.drop(['index'], axis = 1)"
   ]
  },
  {
   "cell_type": "code",
   "execution_count": 184,
   "metadata": {
    "collapsed": true
   },
   "outputs": [],
   "source": [
    "data2 = pd.DataFrame(prediction)"
   ]
  },
  {
   "cell_type": "code",
   "execution_count": 185,
   "metadata": {
    "collapsed": true
   },
   "outputs": [],
   "source": [
    "visual_dataset = pd.concat([data1, data2], axis = 1)"
   ]
  },
  {
   "cell_type": "code",
   "execution_count": 186,
   "metadata": {},
   "outputs": [
    {
     "data": {
      "text/plain": [
       "(131, 44)"
      ]
     },
     "execution_count": 186,
     "metadata": {},
     "output_type": "execute_result"
    }
   ],
   "source": [
    "visual_dataset.shape"
   ]
  },
  {
   "cell_type": "code",
   "execution_count": 187,
   "metadata": {
    "collapsed": true
   },
   "outputs": [],
   "source": [
    "model_visuals = PCA(n_components = 3)"
   ]
  },
  {
   "cell_type": "code",
   "execution_count": 188,
   "metadata": {},
   "outputs": [
    {
     "data": {
      "text/plain": [
       "PCA(copy=True, iterated_power='auto', n_components=3, random_state=None,\n",
       "  svd_solver='auto', tol=0.0, whiten=False)"
      ]
     },
     "execution_count": 188,
     "metadata": {},
     "output_type": "execute_result"
    }
   ],
   "source": [
    "model_visuals.fit(x_test)"
   ]
  },
  {
   "cell_type": "code",
   "execution_count": 189,
   "metadata": {
    "collapsed": true
   },
   "outputs": [],
   "source": [
    "X_3D = model_visuals.transform(x_test)"
   ]
  },
  {
   "cell_type": "code",
   "execution_count": 190,
   "metadata": {
    "collapsed": true
   },
   "outputs": [],
   "source": [
    "from mpl_toolkits.mplot3d import Axes3D"
   ]
  },
  {
   "cell_type": "code",
   "execution_count": 191,
   "metadata": {},
   "outputs": [
    {
     "data": {
      "image/png": "[encoded data removed]",
      "text/plain": [
       "<matplotlib.figure.Figure at 0x110ff2b38>"
      ]
     },
     "metadata": {},
     "output_type": "display_data"
    }
   ],
   "source": [
    "fig = plt.figure()\n",
    "ax = Axes3D(fig)\n",
    "\n",
    "ax.scatter(xs = X_3D[:,1], ys = X_3D[:,0], zs=X_3D[:,2], zdir='z', c = visual_dataset.iloc[:,28])\n",
    "plt.show()"
   ]
  },
  {
   "cell_type": "code",
   "execution_count": 210,
   "metadata": {
    "collapsed": true
   },
   "outputs": [],
   "source": [
    "data11 = x_test.reset_index()"
   ]
  },
  {
   "cell_type": "code",
   "execution_count": 211,
   "metadata": {
    "collapsed": true
   },
   "outputs": [],
   "source": [
    "data11 = data11.drop(['index'], axis = 1)"
   ]
  },
  {
   "cell_type": "code",
   "execution_count": 212,
   "metadata": {
    "collapsed": true
   },
   "outputs": [],
   "source": [
    "data21 = pd.DataFrame(prediction)"
   ]
  },
  {
   "cell_type": "code",
   "execution_count": 213,
   "metadata": {
    "collapsed": true
   },
   "outputs": [],
   "source": [
    "data22 = pd.DataFrame(y_test)"
   ]
  },
  {
   "cell_type": "code",
   "execution_count": 214,
   "metadata": {
    "collapsed": true
   },
   "outputs": [],
   "source": [
    "visual_dataset1 = pd.concat([data11, data22, data21], axis = 1)"
   ]
  },
  {
   "cell_type": "code",
   "execution_count": 215,
   "metadata": {
    "collapsed": true
   },
   "outputs": [],
   "source": [
    "model_visuals1 = PCA(n_components = 2)"
   ]
  },
  {
   "cell_type": "code",
   "execution_count": 216,
   "metadata": {},
   "outputs": [
    {
     "data": {
      "text/plain": [
       "PCA(copy=True, iterated_power='auto', n_components=2, random_state=None,\n",
       "  svd_solver='auto', tol=0.0, whiten=False)"
      ]
     },
     "execution_count": 216,
     "metadata": {},
     "output_type": "execute_result"
    }
   ],
   "source": [
    "model_visuals1.fit(x_test)"
   ]
  },
  {
   "cell_type": "code",
   "execution_count": 217,
   "metadata": {
    "collapsed": true
   },
   "outputs": [],
   "source": [
    "X_2D = model_visuals1.transform(x_test)"
   ]
  },
  {
   "cell_type": "code",
   "execution_count": 221,
   "metadata": {
    "collapsed": true
   },
   "outputs": [],
   "source": [
    "X_2D = pd.DataFrame(X_2D)"
   ]
  },
  {
   "cell_type": "code",
   "execution_count": 218,
   "metadata": {},
   "outputs": [],
   "source": [
    "visual_dataset1.columns = ['Medu', 'Fedu', 'age', 'traveltime', 'studytime', 'failures', 'famrel', 'freetime', 'Dalc', 'Walc', 'goout', 'health', 'absences', 'school', 'sex', 'address', 'famsize', 'Pstatus', 'schoolsup', 'famsup', 'paid', 'activities', 'nursery', 'higher', 'internet', 'romantic', 'Fjob_at_home', 'Fjob_health', 'Fjob_other', 'Fjob_services', 'Fjob_teacher', 'Mjob_at_home', 'Mjob_health', 'Mjob_other', 'Mjob_services', 'Mjob_teacher', 'reason_course', 'reason_home', 'reason_other', 'reason_reputation', 'guardian_father', 'guardian_mother', 'guardian_other', 'actual', 'predicted']"
   ]
  },
  {
   "cell_type": "code",
   "execution_count": 223,
   "metadata": {},
   "outputs": [],
   "source": [
    "visual_dataset1 = pd.concat([visual_dataset1, X_2D], axis = 1)"
   ]
  },
  {
   "cell_type": "code",
   "execution_count": 225,
   "metadata": {},
   "outputs": [],
   "source": [
    "visual_dataset1.columns = ['Medu', 'Fedu', 'age', 'traveltime', 'studytime', 'failures', 'famrel', 'freetime', 'Dalc', 'Walc', 'goout', 'health', 'absences', 'school', 'sex', 'address', 'famsize', 'Pstatus', 'schoolsup', 'famsup', 'paid', 'activities', 'nursery', 'higher', 'internet', 'romantic', 'Fjob_at_home', 'Fjob_health', 'Fjob_other', 'Fjob_services', 'Fjob_teacher', 'Mjob_at_home', 'Mjob_health', 'Mjob_other', 'Mjob_services', 'Mjob_teacher', 'reason_course', 'reason_home', 'reason_other', 'reason_reputation', 'guardian_father', 'guardian_mother', 'guardian_other', 'actual', 'predicted', 'PCA1', 'PCA2']"
   ]
  },
  {
   "cell_type": "code",
   "execution_count": 227,
   "metadata": {},
   "outputs": [
    {
     "data": {
      "text/plain": [
       "<seaborn.axisgrid.FacetGrid at 0x110f18da0>"
      ]
     },
     "execution_count": 227,
     "metadata": {},
     "output_type": "execute_result"
    },
    {
     "data": {
      "image/png": "[encoded data removed]",
      "text/plain": [
       "<matplotlib.figure.Figure at 0x1a1c49f940>"
      ]
     },
     "metadata": {},
     "output_type": "display_data"
    }
   ],
   "source": [
    "sns.lmplot('PCA1', 'PCA2', data=visual_dataset1, hue='actual',col='predicted', fit_reg=False, palette='tab10')"
   ]
  }
 ],
 "metadata": {
  "kernelspec": {
   "display_name": "Python 3",
   "language": "python",
   "name": "python3"
  },
  "language_info": {
   "codemirror_mode": {
    "name": "ipython",
    "version": 3
   },
   "file_extension": ".py",
   "mimetype": "text/x-python",
   "name": "python",
   "nbconvert_exporter": "python",
   "pygments_lexer": "ipython3",
   "version": "3.6.2"
  }
 },
 "nbformat": 4,
 "nbformat_minor": 2
}
