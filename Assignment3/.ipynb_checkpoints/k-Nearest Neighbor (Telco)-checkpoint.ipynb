{
 "cells": [
  {
   "cell_type": "code",
   "execution_count": 1,
   "metadata": {
    "collapsed": true
   },
   "outputs": [],
   "source": [
    "import pandas as pd\n",
    "import numpy as np\n",
    "import matplotlib.pyplot as plt\n",
    "\n",
    "import os\n",
    "import seaborn as sns\n",
    "import time\n",
    "\n",
    "from sklearn.model_selection import train_test_split\n",
    "\n",
    "from sklearn.preprocessing import MinMaxScaler\n",
    "from sklearn.preprocessing import LabelEncoder\n",
    "from sklearn.preprocessing import OneHotEncoder\n",
    "from sklearn.preprocessing import StandardScaler\n",
    "\n",
    "from sklearn.model_selection import GridSearchCV\n",
    "from sklearn.model_selection import learning_curve\n",
    "from sklearn.model_selection import validation_curve\n",
    "from sklearn.model_selection import ShuffleSplit\n",
    "from sklearn.model_selection import cross_val_score\n",
    "from sklearn.model_selection import StratifiedKFold\n",
    "\n",
    "from sklearn.neighbors import KNeighborsClassifier\n",
    "\n",
    "from sklearn.metrics import confusion_matrix, mean_squared_error, r2_score, mean_absolute_error\n",
    "from sklearn.metrics import roc_auc_score, accuracy_score, roc_curve, auc, f1_score\n",
    "from sklearn.metrics import classification_report, scorer, precision_score, recall_score"
   ]
  },
  {
   "cell_type": "code",
   "execution_count": 2,
   "metadata": {
    "collapsed": true
   },
   "outputs": [],
   "source": [
    "%matplotlib inline"
   ]
  },
  {
   "cell_type": "code",
   "execution_count": 3,
   "metadata": {
    "collapsed": true
   },
   "outputs": [],
   "source": [
    "pd.set_option('display.width', 4000)\n",
    "pd.set_option('max_colwidth', 4000)\n",
    "pd.set_option('max_columns', 200)\n",
    "pd.set_option('max_rows', 200)"
   ]
  },
  {
   "cell_type": "code",
   "execution_count": 4,
   "metadata": {
    "collapsed": true
   },
   "outputs": [],
   "source": [
    "os.chdir('/Users/Weiyang/Desktop/Git/Assignment/Assignment3/Data')"
   ]
  },
  {
   "cell_type": "code",
   "execution_count": 5,
   "metadata": {
    "collapsed": true
   },
   "outputs": [],
   "source": [
    "dataset = pd.read_csv('telco-churn.csv', delimiter = ',')"
   ]
  },
  {
   "cell_type": "markdown",
   "metadata": {},
   "source": [
    "### Inspecting Data"
   ]
  },
  {
   "cell_type": "code",
   "execution_count": 6,
   "metadata": {},
   "outputs": [
    {
     "data": {
      "text/html": [
       "<div>\n",
       "<style>\n",
       "    .dataframe thead tr:only-child th {\n",
       "        text-align: right;\n",
       "    }\n",
       "\n",
       "    .dataframe thead th {\n",
       "        text-align: left;\n",
       "    }\n",
       "\n",
       "    .dataframe tbody tr th {\n",
       "        vertical-align: top;\n",
       "    }\n",
       "</style>\n",
       "<table border=\"1\" class=\"dataframe\">\n",
       "  <thead>\n",
       "    <tr style=\"text-align: right;\">\n",
       "      <th></th>\n",
       "      <th>customerID</th>\n",
       "      <th>gender</th>\n",
       "      <th>SeniorCitizen</th>\n",
       "      <th>Partner</th>\n",
       "      <th>Dependents</th>\n",
       "      <th>tenure</th>\n",
       "      <th>PhoneService</th>\n",
       "      <th>MultipleLines</th>\n",
       "      <th>InternetService</th>\n",
       "      <th>OnlineSecurity</th>\n",
       "      <th>OnlineBackup</th>\n",
       "      <th>DeviceProtection</th>\n",
       "      <th>TechSupport</th>\n",
       "      <th>StreamingTV</th>\n",
       "      <th>StreamingMovies</th>\n",
       "      <th>Contract</th>\n",
       "      <th>PaperlessBilling</th>\n",
       "      <th>PaymentMethod</th>\n",
       "      <th>MonthlyCharges</th>\n",
       "      <th>TotalCharges</th>\n",
       "      <th>Churn</th>\n",
       "    </tr>\n",
       "  </thead>\n",
       "  <tbody>\n",
       "    <tr>\n",
       "      <th>0</th>\n",
       "      <td>7590-VHVEG</td>\n",
       "      <td>Female</td>\n",
       "      <td>0</td>\n",
       "      <td>Yes</td>\n",
       "      <td>No</td>\n",
       "      <td>1</td>\n",
       "      <td>No</td>\n",
       "      <td>No phone service</td>\n",
       "      <td>DSL</td>\n",
       "      <td>No</td>\n",
       "      <td>Yes</td>\n",
       "      <td>No</td>\n",
       "      <td>No</td>\n",
       "      <td>No</td>\n",
       "      <td>No</td>\n",
       "      <td>Month-to-month</td>\n",
       "      <td>Yes</td>\n",
       "      <td>Electronic check</td>\n",
       "      <td>29.85</td>\n",
       "      <td>29.85</td>\n",
       "      <td>No</td>\n",
       "    </tr>\n",
       "    <tr>\n",
       "      <th>1</th>\n",
       "      <td>5575-GNVDE</td>\n",
       "      <td>Male</td>\n",
       "      <td>0</td>\n",
       "      <td>No</td>\n",
       "      <td>No</td>\n",
       "      <td>34</td>\n",
       "      <td>Yes</td>\n",
       "      <td>No</td>\n",
       "      <td>DSL</td>\n",
       "      <td>Yes</td>\n",
       "      <td>No</td>\n",
       "      <td>Yes</td>\n",
       "      <td>No</td>\n",
       "      <td>No</td>\n",
       "      <td>No</td>\n",
       "      <td>One year</td>\n",
       "      <td>No</td>\n",
       "      <td>Mailed check</td>\n",
       "      <td>56.95</td>\n",
       "      <td>1889.5</td>\n",
       "      <td>No</td>\n",
       "    </tr>\n",
       "    <tr>\n",
       "      <th>2</th>\n",
       "      <td>3668-QPYBK</td>\n",
       "      <td>Male</td>\n",
       "      <td>0</td>\n",
       "      <td>No</td>\n",
       "      <td>No</td>\n",
       "      <td>2</td>\n",
       "      <td>Yes</td>\n",
       "      <td>No</td>\n",
       "      <td>DSL</td>\n",
       "      <td>Yes</td>\n",
       "      <td>Yes</td>\n",
       "      <td>No</td>\n",
       "      <td>No</td>\n",
       "      <td>No</td>\n",
       "      <td>No</td>\n",
       "      <td>Month-to-month</td>\n",
       "      <td>Yes</td>\n",
       "      <td>Mailed check</td>\n",
       "      <td>53.85</td>\n",
       "      <td>108.15</td>\n",
       "      <td>Yes</td>\n",
       "    </tr>\n",
       "    <tr>\n",
       "      <th>3</th>\n",
       "      <td>7795-CFOCW</td>\n",
       "      <td>Male</td>\n",
       "      <td>0</td>\n",
       "      <td>No</td>\n",
       "      <td>No</td>\n",
       "      <td>45</td>\n",
       "      <td>No</td>\n",
       "      <td>No phone service</td>\n",
       "      <td>DSL</td>\n",
       "      <td>Yes</td>\n",
       "      <td>No</td>\n",
       "      <td>Yes</td>\n",
       "      <td>Yes</td>\n",
       "      <td>No</td>\n",
       "      <td>No</td>\n",
       "      <td>One year</td>\n",
       "      <td>No</td>\n",
       "      <td>Bank transfer (automatic)</td>\n",
       "      <td>42.30</td>\n",
       "      <td>1840.75</td>\n",
       "      <td>No</td>\n",
       "    </tr>\n",
       "    <tr>\n",
       "      <th>4</th>\n",
       "      <td>9237-HQITU</td>\n",
       "      <td>Female</td>\n",
       "      <td>0</td>\n",
       "      <td>No</td>\n",
       "      <td>No</td>\n",
       "      <td>2</td>\n",
       "      <td>Yes</td>\n",
       "      <td>No</td>\n",
       "      <td>Fiber optic</td>\n",
       "      <td>No</td>\n",
       "      <td>No</td>\n",
       "      <td>No</td>\n",
       "      <td>No</td>\n",
       "      <td>No</td>\n",
       "      <td>No</td>\n",
       "      <td>Month-to-month</td>\n",
       "      <td>Yes</td>\n",
       "      <td>Electronic check</td>\n",
       "      <td>70.70</td>\n",
       "      <td>151.65</td>\n",
       "      <td>Yes</td>\n",
       "    </tr>\n",
       "  </tbody>\n",
       "</table>\n",
       "</div>"
      ],
      "text/plain": [
       "   customerID  gender  SeniorCitizen Partner Dependents  tenure PhoneService     MultipleLines InternetService OnlineSecurity OnlineBackup DeviceProtection TechSupport StreamingTV StreamingMovies        Contract PaperlessBilling              PaymentMethod  MonthlyCharges TotalCharges Churn\n",
       "0  7590-VHVEG  Female              0     Yes         No       1           No  No phone service             DSL             No          Yes               No          No          No              No  Month-to-month              Yes           Electronic check           29.85        29.85    No\n",
       "1  5575-GNVDE    Male              0      No         No      34          Yes                No             DSL            Yes           No              Yes          No          No              No        One year               No               Mailed check           56.95       1889.5    No\n",
       "2  3668-QPYBK    Male              0      No         No       2          Yes                No             DSL            Yes          Yes               No          No          No              No  Month-to-month              Yes               Mailed check           53.85       108.15   Yes\n",
       "3  7795-CFOCW    Male              0      No         No      45           No  No phone service             DSL            Yes           No              Yes         Yes          No              No        One year               No  Bank transfer (automatic)           42.30      1840.75    No\n",
       "4  9237-HQITU  Female              0      No         No       2          Yes                No     Fiber optic             No           No               No          No          No              No  Month-to-month              Yes           Electronic check           70.70       151.65   Yes"
      ]
     },
     "execution_count": 6,
     "metadata": {},
     "output_type": "execute_result"
    }
   ],
   "source": [
    "dataset.head()"
   ]
  },
  {
   "cell_type": "code",
   "execution_count": 7,
   "metadata": {},
   "outputs": [
    {
     "name": "stdout",
     "output_type": "stream",
     "text": [
      "Rows     :  7043\n",
      "Columns  :  21\n",
      "\n",
      "Features : \n",
      " ['customerID', 'gender', 'SeniorCitizen', 'Partner', 'Dependents', 'tenure', 'PhoneService', 'MultipleLines', 'InternetService', 'OnlineSecurity', 'OnlineBackup', 'DeviceProtection', 'TechSupport', 'StreamingTV', 'StreamingMovies', 'Contract', 'PaperlessBilling', 'PaymentMethod', 'MonthlyCharges', 'TotalCharges', 'Churn']\n",
      "\n",
      "Missing values :   0\n",
      "\n",
      "Unique values :  \n",
      " customerID          7043\n",
      "gender                 2\n",
      "SeniorCitizen          2\n",
      "Partner                2\n",
      "Dependents             2\n",
      "tenure                73\n",
      "PhoneService           2\n",
      "MultipleLines          3\n",
      "InternetService        3\n",
      "OnlineSecurity         3\n",
      "OnlineBackup           3\n",
      "DeviceProtection       3\n",
      "TechSupport            3\n",
      "StreamingTV            3\n",
      "StreamingMovies        3\n",
      "Contract               3\n",
      "PaperlessBilling       2\n",
      "PaymentMethod          4\n",
      "MonthlyCharges      1585\n",
      "TotalCharges        6531\n",
      "Churn                  2\n",
      "dtype: int64\n"
     ]
    }
   ],
   "source": [
    "print (\"Rows     : \" ,dataset.shape[0])\n",
    "print (\"Columns  : \" ,dataset.shape[1])\n",
    "print (\"\\nFeatures : \\n\" ,dataset.columns.tolist())\n",
    "print (\"\\nMissing values :  \", dataset.isnull().sum().values.sum())\n",
    "print (\"\\nUnique values :  \\n\",dataset.nunique())"
   ]
  },
  {
   "cell_type": "markdown",
   "metadata": {},
   "source": [
    "### Data Manipulation"
   ]
  },
  {
   "cell_type": "markdown",
   "metadata": {},
   "source": [
    "#### For Total Charges"
   ]
  },
  {
   "cell_type": "code",
   "execution_count": 8,
   "metadata": {
    "collapsed": true
   },
   "outputs": [],
   "source": [
    "dataset['TotalCharges'] = dataset[\"TotalCharges\"].replace(\" \",np.nan)\n",
    "\n",
    "#Dropping null values from total charges column which contain .15% missing data \n",
    "dataset = dataset[dataset[\"TotalCharges\"].notnull()]\n",
    "dataset = dataset.reset_index()[dataset.columns]\n",
    "\n",
    "#convert to float type\n",
    "dataset[\"TotalCharges\"] = dataset[\"TotalCharges\"].astype(float)"
   ]
  },
  {
   "cell_type": "markdown",
   "metadata": {},
   "source": [
    "#### Re-Classifying No Internet Service to No"
   ]
  },
  {
   "cell_type": "code",
   "execution_count": 9,
   "metadata": {
    "collapsed": true
   },
   "outputs": [],
   "source": [
    "replace_cols = [ 'OnlineSecurity', 'OnlineBackup', 'DeviceProtection', 'TechSupport','StreamingTV', 'StreamingMovies']\n",
    "\n",
    "for i in replace_cols : \n",
    "    dataset[i]  = dataset[i].replace({'No internet service' : 'No'})\n",
    "    \n",
    "dataset[\"SeniorCitizen\"] = dataset[\"SeniorCitizen\"].replace({1:\"Yes\",0:\"No\"})"
   ]
  },
  {
   "cell_type": "markdown",
   "metadata": {},
   "source": [
    "#### Seperating Churn and Non-Churn Customers"
   ]
  },
  {
   "cell_type": "code",
   "execution_count": 10,
   "metadata": {
    "collapsed": true
   },
   "outputs": [],
   "source": [
    "churn = dataset[dataset[\"Churn\"] == \"Yes\"]\n",
    "not_churn = dataset[dataset[\"Churn\"] == \"No\"]"
   ]
  },
  {
   "cell_type": "markdown",
   "metadata": {},
   "source": [
    "### Data Pre-Processing"
   ]
  },
  {
   "cell_type": "markdown",
   "metadata": {},
   "source": [
    "#### Seperating into Categorical and Numerical Columns"
   ]
  },
  {
   "cell_type": "code",
   "execution_count": 11,
   "metadata": {
    "collapsed": true
   },
   "outputs": [],
   "source": [
    "Id_col = ['customerID']\n",
    "target_col = [\"Churn\"]\n",
    "\n",
    "#categorical columns\n",
    "categorical_cols   = dataset.nunique()[dataset.nunique() < 6].keys().tolist()\n",
    "categorical_cols   = [x for x in categorical_cols if x not in target_col]\n",
    "\n",
    "#numerical columns\n",
    "numerical_cols   = [x for x in dataset.columns if x not in categorical_cols + target_col + Id_col]\n",
    "\n",
    "#Binary columns with 2 values\n",
    "binary_cols   = dataset.nunique()[dataset.nunique() == 2].keys().tolist()\n",
    "\n",
    "#Columns more than 2 values\n",
    "multi_cols = [i for i in categorical_cols if i not in binary_cols]"
   ]
  },
  {
   "cell_type": "markdown",
   "metadata": {},
   "source": [
    "#### Label Encoding Binary Columns"
   ]
  },
  {
   "cell_type": "code",
   "execution_count": 12,
   "metadata": {
    "collapsed": true
   },
   "outputs": [],
   "source": [
    "le = LabelEncoder()\n",
    "\n",
    "for i in binary_cols :\n",
    "    dataset[i] = le.fit_transform(dataset[i])"
   ]
  },
  {
   "cell_type": "markdown",
   "metadata": {},
   "source": [
    "#### Dummy Variables for Multi-categorical Columns"
   ]
  },
  {
   "cell_type": "code",
   "execution_count": 13,
   "metadata": {
    "collapsed": true
   },
   "outputs": [],
   "source": [
    "dataset = pd.get_dummies(data = dataset,columns = multi_cols)"
   ]
  },
  {
   "cell_type": "markdown",
   "metadata": {},
   "source": [
    "#### Scaling Numerical Values"
   ]
  },
  {
   "cell_type": "code",
   "execution_count": 14,
   "metadata": {
    "collapsed": true
   },
   "outputs": [],
   "source": [
    "std = MinMaxScaler()\n",
    "\n",
    "scaled = std.fit_transform(dataset[numerical_cols])\n",
    "scaled = pd.DataFrame(scaled,columns=numerical_cols)"
   ]
  },
  {
   "cell_type": "markdown",
   "metadata": {},
   "source": [
    "#### Final Pre-processing"
   ]
  },
  {
   "cell_type": "code",
   "execution_count": 15,
   "metadata": {
    "collapsed": true
   },
   "outputs": [],
   "source": [
    "df_telcom = dataset.copy()\n",
    "\n",
    "dataset = dataset.drop(numerical_cols,axis = 1)\n",
    "dataset = dataset.merge(scaled,left_index=True,right_index=True,how = \"left\")"
   ]
  },
  {
   "cell_type": "markdown",
   "metadata": {},
   "source": [
    "### Performing Random Sampling to cut down Dataset Size for Faster Processing"
   ]
  },
  {
   "cell_type": "code",
   "execution_count": 16,
   "metadata": {
    "collapsed": true
   },
   "outputs": [],
   "source": [
    "import random"
   ]
  },
  {
   "cell_type": "code",
   "execution_count": 17,
   "metadata": {
    "collapsed": true
   },
   "outputs": [],
   "source": [
    "dataset = dataset.sample(395)"
   ]
  },
  {
   "cell_type": "markdown",
   "metadata": {},
   "source": [
    "##### This has been made the same size as the comparative Student Performance Dataset"
   ]
  },
  {
   "cell_type": "code",
   "execution_count": 18,
   "metadata": {},
   "outputs": [
    {
     "data": {
      "text/plain": [
       "(395, 30)"
      ]
     },
     "execution_count": 18,
     "metadata": {},
     "output_type": "execute_result"
    }
   ],
   "source": [
    "dataset.shape"
   ]
  },
  {
   "cell_type": "markdown",
   "metadata": {},
   "source": [
    "### Seperating Data into Train & Test"
   ]
  },
  {
   "cell_type": "code",
   "execution_count": 19,
   "metadata": {
    "collapsed": true
   },
   "outputs": [],
   "source": [
    "y_labels = dataset.pop('Churn')"
   ]
  },
  {
   "cell_type": "code",
   "execution_count": 20,
   "metadata": {
    "collapsed": true
   },
   "outputs": [],
   "source": [
    "dataset = dataset.drop(['customerID'], axis=1)"
   ]
  },
  {
   "cell_type": "code",
   "execution_count": 21,
   "metadata": {
    "collapsed": true
   },
   "outputs": [],
   "source": [
    "x_train, x_test, y_train, y_test = train_test_split(dataset, y_labels, test_size = 0.33, random_state = 777)"
   ]
  },
  {
   "cell_type": "code",
   "execution_count": 22,
   "metadata": {},
   "outputs": [
    {
     "name": "stdout",
     "output_type": "stream",
     "text": [
      "(264, 28)\n"
     ]
    }
   ],
   "source": [
    "print(x_train.shape)"
   ]
  },
  {
   "cell_type": "code",
   "execution_count": 23,
   "metadata": {},
   "outputs": [
    {
     "name": "stdout",
     "output_type": "stream",
     "text": [
      "(264,)\n"
     ]
    }
   ],
   "source": [
    "print(y_train.shape)"
   ]
  },
  {
   "cell_type": "code",
   "execution_count": 24,
   "metadata": {},
   "outputs": [
    {
     "name": "stdout",
     "output_type": "stream",
     "text": [
      "(131, 28)\n"
     ]
    }
   ],
   "source": [
    "print(x_test.shape)"
   ]
  },
  {
   "cell_type": "code",
   "execution_count": 25,
   "metadata": {},
   "outputs": [
    {
     "name": "stdout",
     "output_type": "stream",
     "text": [
      "(131,)\n"
     ]
    }
   ],
   "source": [
    "print(y_test.shape)"
   ]
  },
  {
   "cell_type": "markdown",
   "metadata": {},
   "source": [
    "## k-Nearest Neighbors (With Feature Scaling)"
   ]
  },
  {
   "cell_type": "code",
   "execution_count": 26,
   "metadata": {
    "collapsed": true
   },
   "outputs": [],
   "source": [
    "model = KNeighborsClassifier(n_jobs = -1)"
   ]
  },
  {
   "cell_type": "code",
   "execution_count": 27,
   "metadata": {},
   "outputs": [
    {
     "data": {
      "text/plain": [
       "KNeighborsClassifier(algorithm='auto', leaf_size=30, metric='minkowski',\n",
       "           metric_params=None, n_jobs=-1, n_neighbors=5, p=2,\n",
       "           weights='uniform')"
      ]
     },
     "execution_count": 27,
     "metadata": {},
     "output_type": "execute_result"
    }
   ],
   "source": [
    "model.fit(x_train, y_train)"
   ]
  },
  {
   "cell_type": "code",
   "execution_count": 28,
   "metadata": {
    "collapsed": true
   },
   "outputs": [],
   "source": [
    "prediction = model.predict(x_test)"
   ]
  },
  {
   "cell_type": "code",
   "execution_count": 29,
   "metadata": {},
   "outputs": [
    {
     "data": {
      "text/plain": [
       "<matplotlib.axes._subplots.AxesSubplot at 0x1a16a7eb00>"
      ]
     },
     "execution_count": 29,
     "metadata": {},
     "output_type": "execute_result"
    },
    {
     "data": {
      "image/png": "[encoded data removed]",
      "text/plain": [
       "<matplotlib.figure.Figure at 0x1a1752f2e8>"
      ]
     },
     "metadata": {},
     "output_type": "display_data"
    }
   ],
   "source": [
    "cm = confusion_matrix(y_test, prediction)\n",
    "plt.figure(figsize = (5,5))\n",
    "\n",
    "sns.heatmap(cm, annot=True, fmt=\"d\")"
   ]
  },
  {
   "cell_type": "code",
   "execution_count": 30,
   "metadata": {},
   "outputs": [
    {
     "data": {
      "image/png": "[encoded data removed]",
      "text/plain": [
       "<matplotlib.figure.Figure at 0x1a17635710>"
      ]
     },
     "metadata": {},
     "output_type": "display_data"
    }
   ],
   "source": [
    "y_pred = model.predict(x_test).ravel()\n",
    "fpr, tpr, thresholds = roc_curve(y_test, y_pred)\n",
    "auc_curve = auc(fpr, tpr)\n",
    "\n",
    "plt.title('Receiver Operating Characteristic')\n",
    "plt.plot(fpr, tpr, 'b', label = 'AUC = %0.2f' % auc_curve)\n",
    "plt.legend(loc = 'lower right')\n",
    "plt.plot([0, 1], [0, 1],'r--')\n",
    "plt.xlim([0, 1])\n",
    "plt.ylim([0, 1])\n",
    "plt.ylabel('True Positive Rate')\n",
    "plt.xlabel('False Positive Rate')\n",
    "plt.show()"
   ]
  },
  {
   "cell_type": "code",
   "execution_count": 31,
   "metadata": {},
   "outputs": [
    {
     "name": "stdout",
     "output_type": "stream",
     "text": [
      "Accuracy of Base Model: 0.88 \n"
     ]
    }
   ],
   "source": [
    "score = round(accuracy_score(y_test, prediction),2)\n",
    "print('Accuracy of Base Model: {} '.format(score))"
   ]
  },
  {
   "cell_type": "markdown",
   "metadata": {},
   "source": [
    "### Running Hyper-parameter Tuning to find Global Optimum"
   ]
  },
  {
   "cell_type": "code",
   "execution_count": 32,
   "metadata": {
    "collapsed": true
   },
   "outputs": [],
   "source": [
    "model = KNeighborsClassifier(n_jobs=-1)"
   ]
  },
  {
   "cell_type": "code",
   "execution_count": 33,
   "metadata": {
    "collapsed": true
   },
   "outputs": [],
   "source": [
    "k = np.arange(1,41)"
   ]
  },
  {
   "cell_type": "code",
   "execution_count": 34,
   "metadata": {
    "collapsed": true
   },
   "outputs": [],
   "source": [
    "params = {'n_neighbors': [1,2,3,4,5,6,7,8,9,10,11,12,13,14,15,16,17,18,19,20],\n",
    "          'leaf_size':[1,2,3,5],\n",
    "          'weights':['uniform', 'distance'],\n",
    "          'algorithm':['auto', 'ball_tree','kd_tree','brute']}"
   ]
  },
  {
   "cell_type": "code",
   "execution_count": 35,
   "metadata": {
    "collapsed": true
   },
   "outputs": [],
   "source": [
    "model1 = GridSearchCV(model, param_grid=params, n_jobs=1)"
   ]
  },
  {
   "cell_type": "code",
   "execution_count": 36,
   "metadata": {},
   "outputs": [
    {
     "data": {
      "text/plain": [
       "GridSearchCV(cv=None, error_score='raise',\n",
       "       estimator=KNeighborsClassifier(algorithm='auto', leaf_size=30, metric='minkowski',\n",
       "           metric_params=None, n_jobs=-1, n_neighbors=5, p=2,\n",
       "           weights='uniform'),\n",
       "       fit_params=None, iid=True, n_jobs=1,\n",
       "       param_grid={'n_neighbors': [1, 2, 3, 4, 5, 6, 7, 8, 9, 10, 11, 12, 13, 14, 15, 16, 17, 18, 19, 20], 'leaf_size': [1, 2, 3, 5], 'weights': ['uniform', 'distance'], 'algorithm': ['auto', 'ball_tree', 'kd_tree', 'brute']},\n",
       "       pre_dispatch='2*n_jobs', refit=True, return_train_score=True,\n",
       "       scoring=None, verbose=0)"
      ]
     },
     "execution_count": 36,
     "metadata": {},
     "output_type": "execute_result"
    }
   ],
   "source": [
    "model1.fit(x_train,y_train)"
   ]
  },
  {
   "cell_type": "code",
   "execution_count": 37,
   "metadata": {},
   "outputs": [
    {
     "name": "stdout",
     "output_type": "stream",
     "text": [
      "Best Hyper Parameters:\n",
      " {'algorithm': 'auto', 'leaf_size': 1, 'n_neighbors': 18, 'weights': 'uniform'}\n"
     ]
    }
   ],
   "source": [
    "print(\"Best Hyper Parameters:\\n\",model1.best_params_)"
   ]
  },
  {
   "cell_type": "code",
   "execution_count": 38,
   "metadata": {
    "collapsed": true
   },
   "outputs": [],
   "source": [
    "prediction=model1.predict(x_test)"
   ]
  },
  {
   "cell_type": "code",
   "execution_count": 39,
   "metadata": {},
   "outputs": [
    {
     "data": {
      "text/plain": [
       "<matplotlib.axes._subplots.AxesSubplot at 0x1a17939f60>"
      ]
     },
     "execution_count": 39,
     "metadata": {},
     "output_type": "execute_result"
    },
    {
     "data": {
      "image/png": "[encoded data removed]",
      "text/plain": [
       "<matplotlib.figure.Figure at 0x1a17516d30>"
      ]
     },
     "metadata": {},
     "output_type": "display_data"
    }
   ],
   "source": [
    "cm = confusion_matrix(y_test, prediction)\n",
    "plt.figure(figsize = (5,5))\n",
    "\n",
    "sns.heatmap(cm, annot=True, fmt=\"d\")"
   ]
  },
  {
   "cell_type": "code",
   "execution_count": 40,
   "metadata": {},
   "outputs": [
    {
     "data": {
      "image/png": "[encoded data removed]",
      "text/plain": [
       "<matplotlib.figure.Figure at 0x1a1782e358>"
      ]
     },
     "metadata": {},
     "output_type": "display_data"
    }
   ],
   "source": [
    "y_pred = model1.predict(x_test).ravel()\n",
    "fpr, tpr, thresholds = roc_curve(y_test, y_pred)\n",
    "auc_curve = auc(fpr, tpr)\n",
    "\n",
    "plt.title('Receiver Operating Characteristic')\n",
    "plt.plot(fpr, tpr, 'b', label = 'AUC = %0.2f' % auc_curve)\n",
    "plt.legend(loc = 'lower right')\n",
    "plt.plot([0, 1], [0, 1],'r--')\n",
    "plt.xlim([0, 1])\n",
    "plt.ylim([0, 1])\n",
    "plt.ylabel('True Positive Rate')\n",
    "plt.xlabel('False Positive Rate')\n",
    "plt.show()"
   ]
  },
  {
   "cell_type": "code",
   "execution_count": 41,
   "metadata": {},
   "outputs": [
    {
     "name": "stdout",
     "output_type": "stream",
     "text": [
      "Accuracy of Base Model: 0.86 \n"
     ]
    }
   ],
   "source": [
    "score = round(accuracy_score(y_test, prediction),2)\n",
    "print('Accuracy of Base Model: {} '.format(score))"
   ]
  },
  {
   "cell_type": "markdown",
   "metadata": {},
   "source": [
    "### Changing the Number of Neighbors"
   ]
  },
  {
   "cell_type": "markdown",
   "metadata": {},
   "source": [
    "#### Using Mean Error as Metric"
   ]
  },
  {
   "cell_type": "code",
   "execution_count": 89,
   "metadata": {
    "collapsed": true
   },
   "outputs": [],
   "source": [
    "test_error = []\n",
    "train_error = []\n",
    "\n",
    "# Calculating error for K values between 1 and 40\n",
    "for i in range(1, 41):  \n",
    "    model_knn = KNeighborsClassifier(n_neighbors=i)\n",
    "    model_knn.fit(x_train, y_train)\n",
    "    knn_pred = model_knn.predict(x_train)\n",
    "    train_error.append(np.mean(knn_pred != y_train))\n",
    "    knn_pred = model_knn.predict(x_test)\n",
    "    test_error.append(np.mean(knn_pred != y_test))"
   ]
  },
  {
   "cell_type": "code",
   "execution_count": 90,
   "metadata": {
    "collapsed": true
   },
   "outputs": [],
   "source": [
    "neighbors = pd.DataFrame()\n",
    "neighbors['N_neighbors'] = list(range(1,41))\n",
    "neighbors['Train_Error'] = train_error\n",
    "neighbors['Test_Error'] = test_error"
   ]
  },
  {
   "cell_type": "code",
   "execution_count": 91,
   "metadata": {
    "scrolled": true
   },
   "outputs": [
    {
     "data": {
      "text/html": [
       "<div>\n",
       "<style>\n",
       "    .dataframe thead tr:only-child th {\n",
       "        text-align: right;\n",
       "    }\n",
       "\n",
       "    .dataframe thead th {\n",
       "        text-align: left;\n",
       "    }\n",
       "\n",
       "    .dataframe tbody tr th {\n",
       "        vertical-align: top;\n",
       "    }\n",
       "</style>\n",
       "<table border=\"1\" class=\"dataframe\">\n",
       "  <thead>\n",
       "    <tr style=\"text-align: right;\">\n",
       "      <th></th>\n",
       "      <th>Train_Error</th>\n",
       "      <th>Test_Error</th>\n",
       "    </tr>\n",
       "    <tr>\n",
       "      <th>N_neighbors</th>\n",
       "      <th></th>\n",
       "      <th></th>\n",
       "    </tr>\n",
       "  </thead>\n",
       "  <tbody>\n",
       "    <tr>\n",
       "      <th>1</th>\n",
       "      <td>0.000000</td>\n",
       "      <td>0.213740</td>\n",
       "    </tr>\n",
       "    <tr>\n",
       "      <th>2</th>\n",
       "      <td>0.125000</td>\n",
       "      <td>0.221374</td>\n",
       "    </tr>\n",
       "    <tr>\n",
       "      <th>3</th>\n",
       "      <td>0.166667</td>\n",
       "      <td>0.160305</td>\n",
       "    </tr>\n",
       "    <tr>\n",
       "      <th>4</th>\n",
       "      <td>0.178030</td>\n",
       "      <td>0.160305</td>\n",
       "    </tr>\n",
       "    <tr>\n",
       "      <th>5</th>\n",
       "      <td>0.208333</td>\n",
       "      <td>0.122137</td>\n",
       "    </tr>\n",
       "    <tr>\n",
       "      <th>6</th>\n",
       "      <td>0.189394</td>\n",
       "      <td>0.137405</td>\n",
       "    </tr>\n",
       "    <tr>\n",
       "      <th>7</th>\n",
       "      <td>0.208333</td>\n",
       "      <td>0.145038</td>\n",
       "    </tr>\n",
       "    <tr>\n",
       "      <th>8</th>\n",
       "      <td>0.189394</td>\n",
       "      <td>0.145038</td>\n",
       "    </tr>\n",
       "    <tr>\n",
       "      <th>9</th>\n",
       "      <td>0.212121</td>\n",
       "      <td>0.129771</td>\n",
       "    </tr>\n",
       "    <tr>\n",
       "      <th>10</th>\n",
       "      <td>0.215909</td>\n",
       "      <td>0.137405</td>\n",
       "    </tr>\n",
       "    <tr>\n",
       "      <th>11</th>\n",
       "      <td>0.234848</td>\n",
       "      <td>0.167939</td>\n",
       "    </tr>\n",
       "    <tr>\n",
       "      <th>12</th>\n",
       "      <td>0.219697</td>\n",
       "      <td>0.160305</td>\n",
       "    </tr>\n",
       "    <tr>\n",
       "      <th>13</th>\n",
       "      <td>0.242424</td>\n",
       "      <td>0.145038</td>\n",
       "    </tr>\n",
       "    <tr>\n",
       "      <th>14</th>\n",
       "      <td>0.253788</td>\n",
       "      <td>0.137405</td>\n",
       "    </tr>\n",
       "    <tr>\n",
       "      <th>15</th>\n",
       "      <td>0.250000</td>\n",
       "      <td>0.145038</td>\n",
       "    </tr>\n",
       "    <tr>\n",
       "      <th>16</th>\n",
       "      <td>0.246212</td>\n",
       "      <td>0.137405</td>\n",
       "    </tr>\n",
       "    <tr>\n",
       "      <th>17</th>\n",
       "      <td>0.238636</td>\n",
       "      <td>0.145038</td>\n",
       "    </tr>\n",
       "    <tr>\n",
       "      <th>18</th>\n",
       "      <td>0.227273</td>\n",
       "      <td>0.137405</td>\n",
       "    </tr>\n",
       "    <tr>\n",
       "      <th>19</th>\n",
       "      <td>0.212121</td>\n",
       "      <td>0.145038</td>\n",
       "    </tr>\n",
       "    <tr>\n",
       "      <th>20</th>\n",
       "      <td>0.212121</td>\n",
       "      <td>0.137405</td>\n",
       "    </tr>\n",
       "    <tr>\n",
       "      <th>21</th>\n",
       "      <td>0.223485</td>\n",
       "      <td>0.145038</td>\n",
       "    </tr>\n",
       "    <tr>\n",
       "      <th>22</th>\n",
       "      <td>0.231061</td>\n",
       "      <td>0.152672</td>\n",
       "    </tr>\n",
       "    <tr>\n",
       "      <th>23</th>\n",
       "      <td>0.231061</td>\n",
       "      <td>0.152672</td>\n",
       "    </tr>\n",
       "    <tr>\n",
       "      <th>24</th>\n",
       "      <td>0.223485</td>\n",
       "      <td>0.137405</td>\n",
       "    </tr>\n",
       "    <tr>\n",
       "      <th>25</th>\n",
       "      <td>0.231061</td>\n",
       "      <td>0.145038</td>\n",
       "    </tr>\n",
       "    <tr>\n",
       "      <th>26</th>\n",
       "      <td>0.246212</td>\n",
       "      <td>0.145038</td>\n",
       "    </tr>\n",
       "    <tr>\n",
       "      <th>27</th>\n",
       "      <td>0.246212</td>\n",
       "      <td>0.145038</td>\n",
       "    </tr>\n",
       "    <tr>\n",
       "      <th>28</th>\n",
       "      <td>0.234848</td>\n",
       "      <td>0.152672</td>\n",
       "    </tr>\n",
       "    <tr>\n",
       "      <th>29</th>\n",
       "      <td>0.223485</td>\n",
       "      <td>0.145038</td>\n",
       "    </tr>\n",
       "    <tr>\n",
       "      <th>30</th>\n",
       "      <td>0.208333</td>\n",
       "      <td>0.145038</td>\n",
       "    </tr>\n",
       "    <tr>\n",
       "      <th>31</th>\n",
       "      <td>0.219697</td>\n",
       "      <td>0.145038</td>\n",
       "    </tr>\n",
       "    <tr>\n",
       "      <th>32</th>\n",
       "      <td>0.212121</td>\n",
       "      <td>0.152672</td>\n",
       "    </tr>\n",
       "    <tr>\n",
       "      <th>33</th>\n",
       "      <td>0.212121</td>\n",
       "      <td>0.152672</td>\n",
       "    </tr>\n",
       "    <tr>\n",
       "      <th>34</th>\n",
       "      <td>0.219697</td>\n",
       "      <td>0.145038</td>\n",
       "    </tr>\n",
       "    <tr>\n",
       "      <th>35</th>\n",
       "      <td>0.231061</td>\n",
       "      <td>0.145038</td>\n",
       "    </tr>\n",
       "    <tr>\n",
       "      <th>36</th>\n",
       "      <td>0.223485</td>\n",
       "      <td>0.145038</td>\n",
       "    </tr>\n",
       "    <tr>\n",
       "      <th>37</th>\n",
       "      <td>0.242424</td>\n",
       "      <td>0.145038</td>\n",
       "    </tr>\n",
       "    <tr>\n",
       "      <th>38</th>\n",
       "      <td>0.223485</td>\n",
       "      <td>0.160305</td>\n",
       "    </tr>\n",
       "    <tr>\n",
       "      <th>39</th>\n",
       "      <td>0.234848</td>\n",
       "      <td>0.160305</td>\n",
       "    </tr>\n",
       "    <tr>\n",
       "      <th>40</th>\n",
       "      <td>0.231061</td>\n",
       "      <td>0.160305</td>\n",
       "    </tr>\n",
       "  </tbody>\n",
       "</table>\n",
       "</div>"
      ],
      "text/plain": [
       "             Train_Error  Test_Error\n",
       "N_neighbors                         \n",
       "1               0.000000    0.213740\n",
       "2               0.125000    0.221374\n",
       "3               0.166667    0.160305\n",
       "4               0.178030    0.160305\n",
       "5               0.208333    0.122137\n",
       "6               0.189394    0.137405\n",
       "7               0.208333    0.145038\n",
       "8               0.189394    0.145038\n",
       "9               0.212121    0.129771\n",
       "10              0.215909    0.137405\n",
       "11              0.234848    0.167939\n",
       "12              0.219697    0.160305\n",
       "13              0.242424    0.145038\n",
       "14              0.253788    0.137405\n",
       "15              0.250000    0.145038\n",
       "16              0.246212    0.137405\n",
       "17              0.238636    0.145038\n",
       "18              0.227273    0.137405\n",
       "19              0.212121    0.145038\n",
       "20              0.212121    0.137405\n",
       "21              0.223485    0.145038\n",
       "22              0.231061    0.152672\n",
       "23              0.231061    0.152672\n",
       "24              0.223485    0.137405\n",
       "25              0.231061    0.145038\n",
       "26              0.246212    0.145038\n",
       "27              0.246212    0.145038\n",
       "28              0.234848    0.152672\n",
       "29              0.223485    0.145038\n",
       "30              0.208333    0.145038\n",
       "31              0.219697    0.145038\n",
       "32              0.212121    0.152672\n",
       "33              0.212121    0.152672\n",
       "34              0.219697    0.145038\n",
       "35              0.231061    0.145038\n",
       "36              0.223485    0.145038\n",
       "37              0.242424    0.145038\n",
       "38              0.223485    0.160305\n",
       "39              0.234848    0.160305\n",
       "40              0.231061    0.160305"
      ]
     },
     "execution_count": 91,
     "metadata": {},
     "output_type": "execute_result"
    }
   ],
   "source": [
    "neighbors.set_index('N_neighbors')"
   ]
  },
  {
   "cell_type": "code",
   "execution_count": 92,
   "metadata": {},
   "outputs": [
    {
     "name": "stdout",
     "output_type": "stream",
     "text": [
      "The number of neighbors that gave the lowest error for Training is 1.0\n",
      "The number of neighbors that gave the lowest error for Testing is 5.0\n"
     ]
    }
   ],
   "source": [
    "print('The number of neighbors that gave the lowest error for Training is {}'.format((neighbors.loc[neighbors['Train_Error'].idxmin()][0])))\n",
    "print('The number of neighbors that gave the lowest error for Testing is {}'.format((neighbors.loc[neighbors['Test_Error'].idxmin()][0])))"
   ]
  },
  {
   "cell_type": "code",
   "execution_count": 93,
   "metadata": {},
   "outputs": [
    {
     "data": {
      "image/png": "[encoded data removed]",
      "text/plain": [
       "<matplotlib.figure.Figure at 0x1a1921bc18>"
      ]
     },
     "metadata": {},
     "output_type": "display_data"
    }
   ],
   "source": [
    "plt.figure(figsize=(15, 10))  \n",
    "plt.plot(range(1, 41), train_error, color='red', linestyle='dashed',  \n",
    "         markerfacecolor='red', markersize=10, label='Train Mean Error')\n",
    "plt.plot(range(1, 41), test_error, color='blue', linestyle='dashed',  \n",
    "         markerfacecolor='blue', markersize=10, label='Test Mean Error')\n",
    "plt.title('Error Rate K Value')  \n",
    "plt.xlabel('K Value')  \n",
    "plt.ylabel('Mean Error')\n",
    "plt.legend(loc='best')\n",
    "plt.show()"
   ]
  },
  {
   "cell_type": "markdown",
   "metadata": {},
   "source": [
    "#### The point where train mean error = test mean error is at 3 neighbors"
   ]
  },
  {
   "cell_type": "markdown",
   "metadata": {},
   "source": [
    "#### Using AUC as metric"
   ]
  },
  {
   "cell_type": "code",
   "execution_count": 94,
   "metadata": {
    "collapsed": true
   },
   "outputs": [],
   "source": [
    "n_neighbors = list(range(1,41))"
   ]
  },
  {
   "cell_type": "code",
   "execution_count": 95,
   "metadata": {
    "collapsed": true
   },
   "outputs": [],
   "source": [
    "train_results = []\n",
    "test_results = []\n",
    "\n",
    "for n in n_neighbors:\n",
    "   model = KNeighborsClassifier(n_neighbors=n)\n",
    "   model.fit(x_train, y_train)\n",
    "   train_pred = model.predict(x_train)\n",
    "   false_positive_rate, true_positive_rate, thresholds = roc_curve(y_train, train_pred)\n",
    "   roc_auc = auc(false_positive_rate, true_positive_rate)\n",
    "   train_results.append(roc_auc)\n",
    "   \n",
    "   y_pred = model.predict(x_test)\n",
    "   false_positive_rate, true_positive_rate, thresholds = roc_curve(y_test, y_pred)\n",
    "   roc_auc = auc(false_positive_rate, true_positive_rate)\n",
    "   test_results.append(roc_auc)"
   ]
  },
  {
   "cell_type": "code",
   "execution_count": 96,
   "metadata": {
    "collapsed": true
   },
   "outputs": [],
   "source": [
    "neighbors['AUC_Train'] = train_results\n",
    "neighbors['AUC_Test'] = test_results"
   ]
  },
  {
   "cell_type": "code",
   "execution_count": 98,
   "metadata": {
    "scrolled": true
   },
   "outputs": [
    {
     "data": {
      "text/html": [
       "<div>\n",
       "<style>\n",
       "    .dataframe thead tr:only-child th {\n",
       "        text-align: right;\n",
       "    }\n",
       "\n",
       "    .dataframe thead th {\n",
       "        text-align: left;\n",
       "    }\n",
       "\n",
       "    .dataframe tbody tr th {\n",
       "        vertical-align: top;\n",
       "    }\n",
       "</style>\n",
       "<table border=\"1\" class=\"dataframe\">\n",
       "  <thead>\n",
       "    <tr style=\"text-align: right;\">\n",
       "      <th></th>\n",
       "      <th>Train_Error</th>\n",
       "      <th>Test_Error</th>\n",
       "      <th>AUC_Train</th>\n",
       "      <th>AUC_Test</th>\n",
       "    </tr>\n",
       "    <tr>\n",
       "      <th>N_neighbors</th>\n",
       "      <th></th>\n",
       "      <th></th>\n",
       "      <th></th>\n",
       "      <th></th>\n",
       "    </tr>\n",
       "  </thead>\n",
       "  <tbody>\n",
       "    <tr>\n",
       "      <th>1</th>\n",
       "      <td>0.000000</td>\n",
       "      <td>0.213740</td>\n",
       "      <td>1.000000</td>\n",
       "      <td>0.752731</td>\n",
       "    </tr>\n",
       "    <tr>\n",
       "      <th>2</th>\n",
       "      <td>0.125000</td>\n",
       "      <td>0.221374</td>\n",
       "      <td>0.777027</td>\n",
       "      <td>0.640886</td>\n",
       "    </tr>\n",
       "    <tr>\n",
       "      <th>3</th>\n",
       "      <td>0.166667</td>\n",
       "      <td>0.160305</td>\n",
       "      <td>0.797582</td>\n",
       "      <td>0.781771</td>\n",
       "    </tr>\n",
       "    <tr>\n",
       "      <th>4</th>\n",
       "      <td>0.178030</td>\n",
       "      <td>0.160305</td>\n",
       "      <td>0.736060</td>\n",
       "      <td>0.748994</td>\n",
       "    </tr>\n",
       "    <tr>\n",
       "      <th>5</th>\n",
       "      <td>0.208333</td>\n",
       "      <td>0.122137</td>\n",
       "      <td>0.739758</td>\n",
       "      <td>0.832950</td>\n",
       "    </tr>\n",
       "    <tr>\n",
       "      <th>6</th>\n",
       "      <td>0.189394</td>\n",
       "      <td>0.137405</td>\n",
       "      <td>0.724040</td>\n",
       "      <td>0.797729</td>\n",
       "    </tr>\n",
       "    <tr>\n",
       "      <th>7</th>\n",
       "      <td>0.208333</td>\n",
       "      <td>0.145038</td>\n",
       "      <td>0.739758</td>\n",
       "      <td>0.816993</td>\n",
       "    </tr>\n",
       "    <tr>\n",
       "      <th>8</th>\n",
       "      <td>0.189394</td>\n",
       "      <td>0.145038</td>\n",
       "      <td>0.736415</td>\n",
       "      <td>0.792409</td>\n",
       "    </tr>\n",
       "    <tr>\n",
       "      <th>9</th>\n",
       "      <td>0.212121</td>\n",
       "      <td>0.129771</td>\n",
       "      <td>0.741252</td>\n",
       "      <td>0.835825</td>\n",
       "    </tr>\n",
       "    <tr>\n",
       "      <th>10</th>\n",
       "      <td>0.215909</td>\n",
       "      <td>0.137405</td>\n",
       "      <td>0.701494</td>\n",
       "      <td>0.814117</td>\n",
       "    </tr>\n",
       "    <tr>\n",
       "      <th>11</th>\n",
       "      <td>0.234848</td>\n",
       "      <td>0.167939</td>\n",
       "      <td>0.717212</td>\n",
       "      <td>0.801035</td>\n",
       "    </tr>\n",
       "    <tr>\n",
       "      <th>12</th>\n",
       "      <td>0.219697</td>\n",
       "      <td>0.160305</td>\n",
       "      <td>0.702987</td>\n",
       "      <td>0.789965</td>\n",
       "    </tr>\n",
       "    <tr>\n",
       "      <th>13</th>\n",
       "      <td>0.242424</td>\n",
       "      <td>0.145038</td>\n",
       "      <td>0.707824</td>\n",
       "      <td>0.833381</td>\n",
       "    </tr>\n",
       "    <tr>\n",
       "      <th>14</th>\n",
       "      <td>0.253788</td>\n",
       "      <td>0.137405</td>\n",
       "      <td>0.650427</td>\n",
       "      <td>0.830506</td>\n",
       "    </tr>\n",
       "    <tr>\n",
       "      <th>15</th>\n",
       "      <td>0.250000</td>\n",
       "      <td>0.145038</td>\n",
       "      <td>0.686060</td>\n",
       "      <td>0.833381</td>\n",
       "    </tr>\n",
       "    <tr>\n",
       "      <th>16</th>\n",
       "      <td>0.246212</td>\n",
       "      <td>0.137405</td>\n",
       "      <td>0.663940</td>\n",
       "      <td>0.838700</td>\n",
       "    </tr>\n",
       "    <tr>\n",
       "      <th>17</th>\n",
       "      <td>0.238636</td>\n",
       "      <td>0.145038</td>\n",
       "      <td>0.706330</td>\n",
       "      <td>0.833381</td>\n",
       "    </tr>\n",
       "    <tr>\n",
       "      <th>18</th>\n",
       "      <td>0.227273</td>\n",
       "      <td>0.137405</td>\n",
       "      <td>0.701849</td>\n",
       "      <td>0.830506</td>\n",
       "    </tr>\n",
       "    <tr>\n",
       "      <th>19</th>\n",
       "      <td>0.212121</td>\n",
       "      <td>0.145038</td>\n",
       "      <td>0.737127</td>\n",
       "      <td>0.825187</td>\n",
       "    </tr>\n",
       "    <tr>\n",
       "      <th>20</th>\n",
       "      <td>0.212121</td>\n",
       "      <td>0.137405</td>\n",
       "      <td>0.720626</td>\n",
       "      <td>0.830506</td>\n",
       "    </tr>\n",
       "    <tr>\n",
       "      <th>21</th>\n",
       "      <td>0.223485</td>\n",
       "      <td>0.145038</td>\n",
       "      <td>0.725107</td>\n",
       "      <td>0.825187</td>\n",
       "    </tr>\n",
       "    <tr>\n",
       "      <th>22</th>\n",
       "      <td>0.231061</td>\n",
       "      <td>0.152672</td>\n",
       "      <td>0.695092</td>\n",
       "      <td>0.811673</td>\n",
       "    </tr>\n",
       "    <tr>\n",
       "      <th>23</th>\n",
       "      <td>0.231061</td>\n",
       "      <td>0.152672</td>\n",
       "      <td>0.715718</td>\n",
       "      <td>0.819868</td>\n",
       "    </tr>\n",
       "    <tr>\n",
       "      <th>24</th>\n",
       "      <td>0.223485</td>\n",
       "      <td>0.137405</td>\n",
       "      <td>0.712731</td>\n",
       "      <td>0.830506</td>\n",
       "    </tr>\n",
       "    <tr>\n",
       "      <th>25</th>\n",
       "      <td>0.231061</td>\n",
       "      <td>0.145038</td>\n",
       "      <td>0.719844</td>\n",
       "      <td>0.825187</td>\n",
       "    </tr>\n",
       "    <tr>\n",
       "      <th>26</th>\n",
       "      <td>0.246212</td>\n",
       "      <td>0.145038</td>\n",
       "      <td>0.688691</td>\n",
       "      <td>0.816993</td>\n",
       "    </tr>\n",
       "    <tr>\n",
       "      <th>27</th>\n",
       "      <td>0.246212</td>\n",
       "      <td>0.145038</td>\n",
       "      <td>0.713442</td>\n",
       "      <td>0.833381</td>\n",
       "    </tr>\n",
       "    <tr>\n",
       "      <th>28</th>\n",
       "      <td>0.234848</td>\n",
       "      <td>0.152672</td>\n",
       "      <td>0.696586</td>\n",
       "      <td>0.811673</td>\n",
       "    </tr>\n",
       "    <tr>\n",
       "      <th>29</th>\n",
       "      <td>0.223485</td>\n",
       "      <td>0.145038</td>\n",
       "      <td>0.720982</td>\n",
       "      <td>0.825187</td>\n",
       "    </tr>\n",
       "    <tr>\n",
       "      <th>30</th>\n",
       "      <td>0.208333</td>\n",
       "      <td>0.145038</td>\n",
       "      <td>0.727383</td>\n",
       "      <td>0.825187</td>\n",
       "    </tr>\n",
       "    <tr>\n",
       "      <th>31</th>\n",
       "      <td>0.219697</td>\n",
       "      <td>0.145038</td>\n",
       "      <td>0.723613</td>\n",
       "      <td>0.825187</td>\n",
       "    </tr>\n",
       "    <tr>\n",
       "      <th>32</th>\n",
       "      <td>0.212121</td>\n",
       "      <td>0.152672</td>\n",
       "      <td>0.724751</td>\n",
       "      <td>0.803479</td>\n",
       "    </tr>\n",
       "    <tr>\n",
       "      <th>33</th>\n",
       "      <td>0.212121</td>\n",
       "      <td>0.152672</td>\n",
       "      <td>0.737127</td>\n",
       "      <td>0.811673</td>\n",
       "    </tr>\n",
       "    <tr>\n",
       "      <th>34</th>\n",
       "      <td>0.219697</td>\n",
       "      <td>0.145038</td>\n",
       "      <td>0.715363</td>\n",
       "      <td>0.808798</td>\n",
       "    </tr>\n",
       "    <tr>\n",
       "      <th>35</th>\n",
       "      <td>0.231061</td>\n",
       "      <td>0.145038</td>\n",
       "      <td>0.719844</td>\n",
       "      <td>0.816993</td>\n",
       "    </tr>\n",
       "    <tr>\n",
       "      <th>36</th>\n",
       "      <td>0.223485</td>\n",
       "      <td>0.145038</td>\n",
       "      <td>0.716856</td>\n",
       "      <td>0.808798</td>\n",
       "    </tr>\n",
       "    <tr>\n",
       "      <th>37</th>\n",
       "      <td>0.242424</td>\n",
       "      <td>0.145038</td>\n",
       "      <td>0.711949</td>\n",
       "      <td>0.816993</td>\n",
       "    </tr>\n",
       "    <tr>\n",
       "      <th>38</th>\n",
       "      <td>0.223485</td>\n",
       "      <td>0.160305</td>\n",
       "      <td>0.716856</td>\n",
       "      <td>0.789965</td>\n",
       "    </tr>\n",
       "    <tr>\n",
       "      <th>39</th>\n",
       "      <td>0.234848</td>\n",
       "      <td>0.160305</td>\n",
       "      <td>0.713087</td>\n",
       "      <td>0.798160</td>\n",
       "    </tr>\n",
       "    <tr>\n",
       "      <th>40</th>\n",
       "      <td>0.231061</td>\n",
       "      <td>0.160305</td>\n",
       "      <td>0.707468</td>\n",
       "      <td>0.789965</td>\n",
       "    </tr>\n",
       "  </tbody>\n",
       "</table>\n",
       "</div>"
      ],
      "text/plain": [
       "             Train_Error  Test_Error  AUC_Train  AUC_Test\n",
       "N_neighbors                                              \n",
       "1               0.000000    0.213740   1.000000  0.752731\n",
       "2               0.125000    0.221374   0.777027  0.640886\n",
       "3               0.166667    0.160305   0.797582  0.781771\n",
       "4               0.178030    0.160305   0.736060  0.748994\n",
       "5               0.208333    0.122137   0.739758  0.832950\n",
       "6               0.189394    0.137405   0.724040  0.797729\n",
       "7               0.208333    0.145038   0.739758  0.816993\n",
       "8               0.189394    0.145038   0.736415  0.792409\n",
       "9               0.212121    0.129771   0.741252  0.835825\n",
       "10              0.215909    0.137405   0.701494  0.814117\n",
       "11              0.234848    0.167939   0.717212  0.801035\n",
       "12              0.219697    0.160305   0.702987  0.789965\n",
       "13              0.242424    0.145038   0.707824  0.833381\n",
       "14              0.253788    0.137405   0.650427  0.830506\n",
       "15              0.250000    0.145038   0.686060  0.833381\n",
       "16              0.246212    0.137405   0.663940  0.838700\n",
       "17              0.238636    0.145038   0.706330  0.833381\n",
       "18              0.227273    0.137405   0.701849  0.830506\n",
       "19              0.212121    0.145038   0.737127  0.825187\n",
       "20              0.212121    0.137405   0.720626  0.830506\n",
       "21              0.223485    0.145038   0.725107  0.825187\n",
       "22              0.231061    0.152672   0.695092  0.811673\n",
       "23              0.231061    0.152672   0.715718  0.819868\n",
       "24              0.223485    0.137405   0.712731  0.830506\n",
       "25              0.231061    0.145038   0.719844  0.825187\n",
       "26              0.246212    0.145038   0.688691  0.816993\n",
       "27              0.246212    0.145038   0.713442  0.833381\n",
       "28              0.234848    0.152672   0.696586  0.811673\n",
       "29              0.223485    0.145038   0.720982  0.825187\n",
       "30              0.208333    0.145038   0.727383  0.825187\n",
       "31              0.219697    0.145038   0.723613  0.825187\n",
       "32              0.212121    0.152672   0.724751  0.803479\n",
       "33              0.212121    0.152672   0.737127  0.811673\n",
       "34              0.219697    0.145038   0.715363  0.808798\n",
       "35              0.231061    0.145038   0.719844  0.816993\n",
       "36              0.223485    0.145038   0.716856  0.808798\n",
       "37              0.242424    0.145038   0.711949  0.816993\n",
       "38              0.223485    0.160305   0.716856  0.789965\n",
       "39              0.234848    0.160305   0.713087  0.798160\n",
       "40              0.231061    0.160305   0.707468  0.789965"
      ]
     },
     "execution_count": 98,
     "metadata": {},
     "output_type": "execute_result"
    }
   ],
   "source": [
    "neighbors.set_index('N_neighbors')"
   ]
  },
  {
   "cell_type": "code",
   "execution_count": 99,
   "metadata": {},
   "outputs": [
    {
     "name": "stdout",
     "output_type": "stream",
     "text": [
      "The number of neighbors that gave the highest AUC for Training is 1.0\n",
      "The number of neighbors that gave the highest AUC for Testing is 16.0\n"
     ]
    }
   ],
   "source": [
    "print('The number of neighbors that gave the highest AUC for Training is {}'.format((neighbors.loc[neighbors['AUC_Train'].idxmax()][0])))\n",
    "print('The number of neighbors that gave the highest AUC for Testing is {}'.format((neighbors.loc[neighbors['AUC_Test'].idxmax()][0])))"
   ]
  },
  {
   "cell_type": "code",
   "execution_count": 100,
   "metadata": {
    "collapsed": true
   },
   "outputs": [],
   "source": [
    "from matplotlib.legend_handler import HandlerLine2D"
   ]
  },
  {
   "cell_type": "code",
   "execution_count": 102,
   "metadata": {
    "scrolled": true
   },
   "outputs": [
    {
     "data": {
      "image/png": "[encoded data removed]",
      "text/plain": [
       "<matplotlib.figure.Figure at 0x1a19243748>"
      ]
     },
     "metadata": {},
     "output_type": "display_data"
    }
   ],
   "source": [
    "plt.figure(figsize=(15,10))\n",
    "\n",
    "line1, = plt.plot(n_neighbors, train_results, 'r', label='Train AUC')\n",
    "line2, = plt.plot(n_neighbors, test_results, 'b', label='Test AUC')\n",
    "plt.legend(handler_map={line1: HandlerLine2D(numpoints=2)})\n",
    "plt.ylabel('AUC score')\n",
    "plt.xlabel('# of neighbors')\n",
    "plt.show()"
   ]
  },
  {
   "cell_type": "markdown",
   "metadata": {},
   "source": [
    "### Changing Power parameter for the Minkowski metric "
   ]
  },
  {
   "cell_type": "markdown",
   "metadata": {},
   "source": [
    "#### Note: When p=1, this is equivalent to using manhattan_distance(l1), and euliddean_distance(l2) for p=2."
   ]
  },
  {
   "cell_type": "code",
   "execution_count": 119,
   "metadata": {
    "collapsed": true
   },
   "outputs": [],
   "source": [
    "distances = [1,2,3,4,5]"
   ]
  },
  {
   "cell_type": "code",
   "execution_count": 120,
   "metadata": {
    "collapsed": true
   },
   "outputs": [],
   "source": [
    "train_distance = []\n",
    "test_distance = []\n",
    "\n",
    "for p in distances:\n",
    "    \n",
    "    model = KNeighborsClassifier(n_neighbors = 16, p=p)\n",
    "    model.fit(x_train, y_train)\n",
    "    train_pred = model.predict(x_train)\n",
    "    fpr, tpr, thresholds = roc_curve(y_train, train_pred)\n",
    "    roc_auc = auc(fpr, tpr)\n",
    "    train_distance.append(roc_auc)\n",
    "    \n",
    "    test_pred = model.predict(x_test)\n",
    "    fpr_test, tpr_test, thesholds_test = roc_curve(y_test, test_pred)\n",
    "    roc_auc_test = auc(fpr_test, tpr_test)\n",
    "    test_distance.append(roc_auc_test)"
   ]
  },
  {
   "cell_type": "code",
   "execution_count": 123,
   "metadata": {},
   "outputs": [
    {
     "data": {
      "text/html": [
       "<div>\n",
       "<style>\n",
       "    .dataframe thead tr:only-child th {\n",
       "        text-align: right;\n",
       "    }\n",
       "\n",
       "    .dataframe thead th {\n",
       "        text-align: left;\n",
       "    }\n",
       "\n",
       "    .dataframe tbody tr th {\n",
       "        vertical-align: top;\n",
       "    }\n",
       "</style>\n",
       "<table border=\"1\" class=\"dataframe\">\n",
       "  <thead>\n",
       "    <tr style=\"text-align: right;\">\n",
       "      <th></th>\n",
       "      <th>AUC_Train</th>\n",
       "      <th>AUC_Test</th>\n",
       "    </tr>\n",
       "    <tr>\n",
       "      <th>Power</th>\n",
       "      <th></th>\n",
       "      <th></th>\n",
       "    </tr>\n",
       "  </thead>\n",
       "  <tbody>\n",
       "    <tr>\n",
       "      <th>1</th>\n",
       "      <td>0.724751</td>\n",
       "      <td>0.811673</td>\n",
       "    </tr>\n",
       "    <tr>\n",
       "      <th>2</th>\n",
       "      <td>0.663940</td>\n",
       "      <td>0.838700</td>\n",
       "    </tr>\n",
       "    <tr>\n",
       "      <th>3</th>\n",
       "      <td>0.663940</td>\n",
       "      <td>0.838700</td>\n",
       "    </tr>\n",
       "    <tr>\n",
       "      <th>4</th>\n",
       "      <td>0.663940</td>\n",
       "      <td>0.825187</td>\n",
       "    </tr>\n",
       "    <tr>\n",
       "      <th>5</th>\n",
       "      <td>0.663940</td>\n",
       "      <td>0.825187</td>\n",
       "    </tr>\n",
       "  </tbody>\n",
       "</table>\n",
       "</div>"
      ],
      "text/plain": [
       "       AUC_Train  AUC_Test\n",
       "Power                     \n",
       "1       0.724751  0.811673\n",
       "2       0.663940  0.838700\n",
       "3       0.663940  0.838700\n",
       "4       0.663940  0.825187\n",
       "5       0.663940  0.825187"
      ]
     },
     "execution_count": 123,
     "metadata": {},
     "output_type": "execute_result"
    }
   ],
   "source": [
    "minkowski_power = pd.DataFrame()\n",
    "minkowski_power['Power'] = distances\n",
    "minkowski_power['AUC_Train'] = train_distance\n",
    "minkowski_power['AUC_Test'] = test_distance\n",
    "minkowski_power.set_index('Power')"
   ]
  },
  {
   "cell_type": "code",
   "execution_count": 124,
   "metadata": {},
   "outputs": [
    {
     "name": "stdout",
     "output_type": "stream",
     "text": [
      "The power that gave the highest AUC for Training is 1.0\n",
      "The power that gave the highest AUC for Testing is 2.0\n"
     ]
    }
   ],
   "source": [
    "print('The power that gave the highest AUC for Training is {}'.format((minkowski_power.loc[minkowski_power['AUC_Train'].idxmax()][0])))\n",
    "print('The power that gave the highest AUC for Testing is {}'.format((minkowski_power.loc[minkowski_power['AUC_Test'].idxmax()][0])))"
   ]
  },
  {
   "cell_type": "code",
   "execution_count": 125,
   "metadata": {},
   "outputs": [
    {
     "data": {
      "image/png": "[encoded data removed]",
      "text/plain": [
       "<matplotlib.figure.Figure at 0x1a19740a20>"
      ]
     },
     "metadata": {},
     "output_type": "display_data"
    }
   ],
   "source": [
    "plt.figure(figsize=(15,10))\n",
    "\n",
    "line1, = plt.plot(distances, train_distance, 'b', label = 'Train AUC')\n",
    "line2, = plt.plot(distances, test_distance, 'r', label = 'Test AUC')\n",
    "plt.legend(handler_map={line1: HandlerLine2D(numpoints=2)})\n",
    "plt.ylabel('AUC score', size = 12)\n",
    "plt.xlabel('Power Parameter for Minkowski', size = 12)\n",
    "plt.show()"
   ]
  },
  {
   "cell_type": "markdown",
   "metadata": {},
   "source": [
    "### Running Intermediate Model"
   ]
  },
  {
   "cell_type": "code",
   "execution_count": 126,
   "metadata": {
    "collapsed": true
   },
   "outputs": [],
   "source": [
    "model_int = KNeighborsClassifier(n_jobs=-1, n_neighbors = 16, p=2)"
   ]
  },
  {
   "cell_type": "code",
   "execution_count": 127,
   "metadata": {},
   "outputs": [
    {
     "data": {
      "text/plain": [
       "KNeighborsClassifier(algorithm='auto', leaf_size=30, metric='minkowski',\n",
       "           metric_params=None, n_jobs=-1, n_neighbors=16, p=2,\n",
       "           weights='uniform')"
      ]
     },
     "execution_count": 127,
     "metadata": {},
     "output_type": "execute_result"
    }
   ],
   "source": [
    "model_int.fit(x_train,y_train)"
   ]
  },
  {
   "cell_type": "code",
   "execution_count": 128,
   "metadata": {
    "collapsed": true
   },
   "outputs": [],
   "source": [
    "prediction=model_int.predict(x_test)"
   ]
  },
  {
   "cell_type": "code",
   "execution_count": 129,
   "metadata": {},
   "outputs": [
    {
     "data": {
      "text/plain": [
       "<matplotlib.axes._subplots.AxesSubplot at 0x1a171b7b00>"
      ]
     },
     "execution_count": 129,
     "metadata": {},
     "output_type": "execute_result"
    },
    {
     "data": {
      "image/png": "[encoded data removed]",
      "text/plain": [
       "<matplotlib.figure.Figure at 0x1a18bb5d68>"
      ]
     },
     "metadata": {},
     "output_type": "display_data"
    }
   ],
   "source": [
    "cm = confusion_matrix(y_test, prediction)\n",
    "plt.figure(figsize = (5,5))\n",
    "\n",
    "sns.heatmap(cm, annot=True, fmt=\"d\")"
   ]
  },
  {
   "cell_type": "code",
   "execution_count": 130,
   "metadata": {},
   "outputs": [
    {
     "data": {
      "image/png": "[encoded data removed]",
      "text/plain": [
       "<matplotlib.figure.Figure at 0x1a171de470>"
      ]
     },
     "metadata": {},
     "output_type": "display_data"
    }
   ],
   "source": [
    "y_pred = model_int.predict(x_test).ravel()\n",
    "fpr, tpr, thresholds = roc_curve(y_test, y_pred)\n",
    "auc_curve = auc(fpr, tpr)\n",
    "\n",
    "plt.title('Receiver Operating Characteristic')\n",
    "plt.plot(fpr, tpr, 'b', label = 'AUC = %0.2f' % auc_curve)\n",
    "plt.legend(loc = 'lower right')\n",
    "plt.plot([0, 1], [0, 1],'r--')\n",
    "plt.xlim([0, 1])\n",
    "plt.ylim([0, 1])\n",
    "plt.ylabel('True Positive Rate')\n",
    "plt.xlabel('False Positive Rate')\n",
    "plt.show()"
   ]
  },
  {
   "cell_type": "code",
   "execution_count": 131,
   "metadata": {},
   "outputs": [
    {
     "name": "stdout",
     "output_type": "stream",
     "text": [
      "Accuracy of Base Model: 0.86 \n"
     ]
    }
   ],
   "source": [
    "score = round(accuracy_score(y_test, prediction),2)\n",
    "print('Accuracy of Base Model: {} '.format(score))"
   ]
  },
  {
   "cell_type": "markdown",
   "metadata": {},
   "source": [
    "### Changing Leaf Size"
   ]
  },
  {
   "cell_type": "code",
   "execution_count": 132,
   "metadata": {
    "collapsed": true
   },
   "outputs": [],
   "source": [
    "leaf_size = np.arange(1, 41)"
   ]
  },
  {
   "cell_type": "code",
   "execution_count": 139,
   "metadata": {
    "collapsed": true
   },
   "outputs": [],
   "source": [
    "train_leaf = []\n",
    "test_leaf = []\n",
    "\n",
    "for i in leaf_size:\n",
    "    \n",
    "    model = KNeighborsClassifier(n_neighbors = 16, p=2, leaf_size = i)\n",
    "    model.fit(x_train, y_train)\n",
    "    train_pred = model.predict(x_train)\n",
    "    fpr, tpr, thresholds = roc_curve(y_train, train_pred)\n",
    "    roc_auc = auc(fpr, tpr)\n",
    "    train_leaf.append(roc_auc)\n",
    "    \n",
    "    test_pred = model.predict(x_test)\n",
    "    fpr_test, tpr_test, thesholds_test = roc_curve(y_test, test_pred)\n",
    "    roc_auc_test = auc(fpr_test, tpr_test)\n",
    "    test_leaf.append(roc_auc_test)"
   ]
  },
  {
   "cell_type": "code",
   "execution_count": 140,
   "metadata": {
    "scrolled": true
   },
   "outputs": [
    {
     "data": {
      "text/html": [
       "<div>\n",
       "<style>\n",
       "    .dataframe thead tr:only-child th {\n",
       "        text-align: right;\n",
       "    }\n",
       "\n",
       "    .dataframe thead th {\n",
       "        text-align: left;\n",
       "    }\n",
       "\n",
       "    .dataframe tbody tr th {\n",
       "        vertical-align: top;\n",
       "    }\n",
       "</style>\n",
       "<table border=\"1\" class=\"dataframe\">\n",
       "  <thead>\n",
       "    <tr style=\"text-align: right;\">\n",
       "      <th></th>\n",
       "      <th>AUC_Train</th>\n",
       "      <th>AUC_Test</th>\n",
       "    </tr>\n",
       "    <tr>\n",
       "      <th>Leaf Size</th>\n",
       "      <th></th>\n",
       "      <th></th>\n",
       "    </tr>\n",
       "  </thead>\n",
       "  <tbody>\n",
       "    <tr>\n",
       "      <th>1</th>\n",
       "      <td>0.66394</td>\n",
       "      <td>0.8387</td>\n",
       "    </tr>\n",
       "    <tr>\n",
       "      <th>2</th>\n",
       "      <td>0.66394</td>\n",
       "      <td>0.8387</td>\n",
       "    </tr>\n",
       "    <tr>\n",
       "      <th>3</th>\n",
       "      <td>0.66394</td>\n",
       "      <td>0.8387</td>\n",
       "    </tr>\n",
       "    <tr>\n",
       "      <th>4</th>\n",
       "      <td>0.66394</td>\n",
       "      <td>0.8387</td>\n",
       "    </tr>\n",
       "    <tr>\n",
       "      <th>5</th>\n",
       "      <td>0.66394</td>\n",
       "      <td>0.8387</td>\n",
       "    </tr>\n",
       "    <tr>\n",
       "      <th>6</th>\n",
       "      <td>0.66394</td>\n",
       "      <td>0.8387</td>\n",
       "    </tr>\n",
       "    <tr>\n",
       "      <th>7</th>\n",
       "      <td>0.66394</td>\n",
       "      <td>0.8387</td>\n",
       "    </tr>\n",
       "    <tr>\n",
       "      <th>8</th>\n",
       "      <td>0.66394</td>\n",
       "      <td>0.8387</td>\n",
       "    </tr>\n",
       "    <tr>\n",
       "      <th>9</th>\n",
       "      <td>0.66394</td>\n",
       "      <td>0.8387</td>\n",
       "    </tr>\n",
       "    <tr>\n",
       "      <th>10</th>\n",
       "      <td>0.66394</td>\n",
       "      <td>0.8387</td>\n",
       "    </tr>\n",
       "    <tr>\n",
       "      <th>11</th>\n",
       "      <td>0.66394</td>\n",
       "      <td>0.8387</td>\n",
       "    </tr>\n",
       "    <tr>\n",
       "      <th>12</th>\n",
       "      <td>0.66394</td>\n",
       "      <td>0.8387</td>\n",
       "    </tr>\n",
       "    <tr>\n",
       "      <th>13</th>\n",
       "      <td>0.66394</td>\n",
       "      <td>0.8387</td>\n",
       "    </tr>\n",
       "    <tr>\n",
       "      <th>14</th>\n",
       "      <td>0.66394</td>\n",
       "      <td>0.8387</td>\n",
       "    </tr>\n",
       "    <tr>\n",
       "      <th>15</th>\n",
       "      <td>0.66394</td>\n",
       "      <td>0.8387</td>\n",
       "    </tr>\n",
       "    <tr>\n",
       "      <th>16</th>\n",
       "      <td>0.66394</td>\n",
       "      <td>0.8387</td>\n",
       "    </tr>\n",
       "    <tr>\n",
       "      <th>17</th>\n",
       "      <td>0.66394</td>\n",
       "      <td>0.8387</td>\n",
       "    </tr>\n",
       "    <tr>\n",
       "      <th>18</th>\n",
       "      <td>0.66394</td>\n",
       "      <td>0.8387</td>\n",
       "    </tr>\n",
       "    <tr>\n",
       "      <th>19</th>\n",
       "      <td>0.66394</td>\n",
       "      <td>0.8387</td>\n",
       "    </tr>\n",
       "    <tr>\n",
       "      <th>20</th>\n",
       "      <td>0.66394</td>\n",
       "      <td>0.8387</td>\n",
       "    </tr>\n",
       "    <tr>\n",
       "      <th>21</th>\n",
       "      <td>0.66394</td>\n",
       "      <td>0.8387</td>\n",
       "    </tr>\n",
       "    <tr>\n",
       "      <th>22</th>\n",
       "      <td>0.66394</td>\n",
       "      <td>0.8387</td>\n",
       "    </tr>\n",
       "    <tr>\n",
       "      <th>23</th>\n",
       "      <td>0.66394</td>\n",
       "      <td>0.8387</td>\n",
       "    </tr>\n",
       "    <tr>\n",
       "      <th>24</th>\n",
       "      <td>0.66394</td>\n",
       "      <td>0.8387</td>\n",
       "    </tr>\n",
       "    <tr>\n",
       "      <th>25</th>\n",
       "      <td>0.66394</td>\n",
       "      <td>0.8387</td>\n",
       "    </tr>\n",
       "    <tr>\n",
       "      <th>26</th>\n",
       "      <td>0.66394</td>\n",
       "      <td>0.8387</td>\n",
       "    </tr>\n",
       "    <tr>\n",
       "      <th>27</th>\n",
       "      <td>0.66394</td>\n",
       "      <td>0.8387</td>\n",
       "    </tr>\n",
       "    <tr>\n",
       "      <th>28</th>\n",
       "      <td>0.66394</td>\n",
       "      <td>0.8387</td>\n",
       "    </tr>\n",
       "    <tr>\n",
       "      <th>29</th>\n",
       "      <td>0.66394</td>\n",
       "      <td>0.8387</td>\n",
       "    </tr>\n",
       "    <tr>\n",
       "      <th>30</th>\n",
       "      <td>0.66394</td>\n",
       "      <td>0.8387</td>\n",
       "    </tr>\n",
       "    <tr>\n",
       "      <th>31</th>\n",
       "      <td>0.66394</td>\n",
       "      <td>0.8387</td>\n",
       "    </tr>\n",
       "    <tr>\n",
       "      <th>32</th>\n",
       "      <td>0.66394</td>\n",
       "      <td>0.8387</td>\n",
       "    </tr>\n",
       "    <tr>\n",
       "      <th>33</th>\n",
       "      <td>0.66394</td>\n",
       "      <td>0.8387</td>\n",
       "    </tr>\n",
       "    <tr>\n",
       "      <th>34</th>\n",
       "      <td>0.66394</td>\n",
       "      <td>0.8387</td>\n",
       "    </tr>\n",
       "    <tr>\n",
       "      <th>35</th>\n",
       "      <td>0.66394</td>\n",
       "      <td>0.8387</td>\n",
       "    </tr>\n",
       "    <tr>\n",
       "      <th>36</th>\n",
       "      <td>0.66394</td>\n",
       "      <td>0.8387</td>\n",
       "    </tr>\n",
       "    <tr>\n",
       "      <th>37</th>\n",
       "      <td>0.66394</td>\n",
       "      <td>0.8387</td>\n",
       "    </tr>\n",
       "    <tr>\n",
       "      <th>38</th>\n",
       "      <td>0.66394</td>\n",
       "      <td>0.8387</td>\n",
       "    </tr>\n",
       "    <tr>\n",
       "      <th>39</th>\n",
       "      <td>0.66394</td>\n",
       "      <td>0.8387</td>\n",
       "    </tr>\n",
       "    <tr>\n",
       "      <th>40</th>\n",
       "      <td>0.66394</td>\n",
       "      <td>0.8387</td>\n",
       "    </tr>\n",
       "  </tbody>\n",
       "</table>\n",
       "</div>"
      ],
      "text/plain": [
       "           AUC_Train  AUC_Test\n",
       "Leaf Size                     \n",
       "1            0.66394    0.8387\n",
       "2            0.66394    0.8387\n",
       "3            0.66394    0.8387\n",
       "4            0.66394    0.8387\n",
       "5            0.66394    0.8387\n",
       "6            0.66394    0.8387\n",
       "7            0.66394    0.8387\n",
       "8            0.66394    0.8387\n",
       "9            0.66394    0.8387\n",
       "10           0.66394    0.8387\n",
       "11           0.66394    0.8387\n",
       "12           0.66394    0.8387\n",
       "13           0.66394    0.8387\n",
       "14           0.66394    0.8387\n",
       "15           0.66394    0.8387\n",
       "16           0.66394    0.8387\n",
       "17           0.66394    0.8387\n",
       "18           0.66394    0.8387\n",
       "19           0.66394    0.8387\n",
       "20           0.66394    0.8387\n",
       "21           0.66394    0.8387\n",
       "22           0.66394    0.8387\n",
       "23           0.66394    0.8387\n",
       "24           0.66394    0.8387\n",
       "25           0.66394    0.8387\n",
       "26           0.66394    0.8387\n",
       "27           0.66394    0.8387\n",
       "28           0.66394    0.8387\n",
       "29           0.66394    0.8387\n",
       "30           0.66394    0.8387\n",
       "31           0.66394    0.8387\n",
       "32           0.66394    0.8387\n",
       "33           0.66394    0.8387\n",
       "34           0.66394    0.8387\n",
       "35           0.66394    0.8387\n",
       "36           0.66394    0.8387\n",
       "37           0.66394    0.8387\n",
       "38           0.66394    0.8387\n",
       "39           0.66394    0.8387\n",
       "40           0.66394    0.8387"
      ]
     },
     "execution_count": 140,
     "metadata": {},
     "output_type": "execute_result"
    }
   ],
   "source": [
    "change_leaf = pd.DataFrame()\n",
    "change_leaf['Leaf Size'] = leaf_size\n",
    "change_leaf['AUC_Train'] = train_leaf\n",
    "change_leaf['AUC_Test'] = test_leaf\n",
    "change_leaf.set_index('Leaf Size')"
   ]
  },
  {
   "cell_type": "code",
   "execution_count": 141,
   "metadata": {},
   "outputs": [
    {
     "name": "stdout",
     "output_type": "stream",
     "text": [
      "The leaf size that gave the highest AUC for Training is 1.0\n",
      "The leaf size that gave the highest AUC for Testing is 1.0\n"
     ]
    }
   ],
   "source": [
    "print('The leaf size that gave the highest AUC for Training is {}'.format((change_leaf.loc[change_leaf['AUC_Train'].idxmax()][0])))\n",
    "print('The leaf size that gave the highest AUC for Testing is {}'.format((change_leaf.loc[change_leaf['AUC_Test'].idxmax()][0])))"
   ]
  },
  {
   "cell_type": "code",
   "execution_count": 143,
   "metadata": {},
   "outputs": [
    {
     "data": {
      "image/png": "[encoded data removed]",
      "text/plain": [
       "<matplotlib.figure.Figure at 0x1a19507b38>"
      ]
     },
     "metadata": {},
     "output_type": "display_data"
    }
   ],
   "source": [
    "plt.figure(figsize=(15,10))\n",
    "\n",
    "line1, = plt.plot(leaf_size, train_leaf, 'b', label = 'Train AUC')\n",
    "line2, = plt.plot(leaf_size, test_leaf, 'r', label = 'Test AUC')\n",
    "plt.legend(handler_map={line1: HandlerLine2D(numpoints=2)})\n",
    "plt.ylabel('AUC score', size = 12)\n",
    "plt.xlabel('Leaf Size', size = 12)\n",
    "plt.show()"
   ]
  },
  {
   "cell_type": "markdown",
   "metadata": {},
   "source": [
    "#### It would seem that leaf size does not affect the AUC for k-NN"
   ]
  },
  {
   "cell_type": "markdown",
   "metadata": {},
   "source": [
    "### Changing Algorithms"
   ]
  },
  {
   "cell_type": "code",
   "execution_count": 144,
   "metadata": {
    "collapsed": true
   },
   "outputs": [],
   "source": [
    "algorithm_list = ['auto', 'ball_tree','kd_tree','brute']"
   ]
  },
  {
   "cell_type": "code",
   "execution_count": 146,
   "metadata": {
    "collapsed": true
   },
   "outputs": [],
   "source": [
    "train_algo = []\n",
    "test_algo = []\n",
    "\n",
    "for i in algorithm_list:\n",
    "    \n",
    "    model = KNeighborsClassifier(n_neighbors = 16, p=2, algorithm=i)\n",
    "    model.fit(x_train, y_train)\n",
    "    train_pred = model.predict(x_train)\n",
    "    fpr, tpr, thresholds = roc_curve(y_train, train_pred)\n",
    "    roc_auc = auc(fpr, tpr)\n",
    "    train_algo.append(roc_auc)\n",
    "    \n",
    "    test_pred = model.predict(x_test)\n",
    "    fpr_test, tpr_test, thesholds_test = roc_curve(y_test, test_pred)\n",
    "    roc_auc_test = auc(fpr_test, tpr_test)\n",
    "    test_algo.append(roc_auc_test)"
   ]
  },
  {
   "cell_type": "code",
   "execution_count": 147,
   "metadata": {
    "scrolled": true
   },
   "outputs": [
    {
     "data": {
      "text/html": [
       "<div>\n",
       "<style>\n",
       "    .dataframe thead tr:only-child th {\n",
       "        text-align: right;\n",
       "    }\n",
       "\n",
       "    .dataframe thead th {\n",
       "        text-align: left;\n",
       "    }\n",
       "\n",
       "    .dataframe tbody tr th {\n",
       "        vertical-align: top;\n",
       "    }\n",
       "</style>\n",
       "<table border=\"1\" class=\"dataframe\">\n",
       "  <thead>\n",
       "    <tr style=\"text-align: right;\">\n",
       "      <th></th>\n",
       "      <th>AUC_Train</th>\n",
       "      <th>AUC_Test</th>\n",
       "    </tr>\n",
       "    <tr>\n",
       "      <th>Algorithm</th>\n",
       "      <th></th>\n",
       "      <th></th>\n",
       "    </tr>\n",
       "  </thead>\n",
       "  <tbody>\n",
       "    <tr>\n",
       "      <th>auto</th>\n",
       "      <td>0.66394</td>\n",
       "      <td>0.8387</td>\n",
       "    </tr>\n",
       "    <tr>\n",
       "      <th>ball_tree</th>\n",
       "      <td>0.66394</td>\n",
       "      <td>0.8387</td>\n",
       "    </tr>\n",
       "    <tr>\n",
       "      <th>kd_tree</th>\n",
       "      <td>0.66394</td>\n",
       "      <td>0.8387</td>\n",
       "    </tr>\n",
       "    <tr>\n",
       "      <th>brute</th>\n",
       "      <td>0.66394</td>\n",
       "      <td>0.8387</td>\n",
       "    </tr>\n",
       "  </tbody>\n",
       "</table>\n",
       "</div>"
      ],
      "text/plain": [
       "           AUC_Train  AUC_Test\n",
       "Algorithm                     \n",
       "auto         0.66394    0.8387\n",
       "ball_tree    0.66394    0.8387\n",
       "kd_tree      0.66394    0.8387\n",
       "brute        0.66394    0.8387"
      ]
     },
     "execution_count": 147,
     "metadata": {},
     "output_type": "execute_result"
    }
   ],
   "source": [
    "change_algorithm = pd.DataFrame()\n",
    "change_algorithm['Algorithm'] = algorithm_list\n",
    "change_algorithm['AUC_Train'] = train_algo\n",
    "change_algorithm['AUC_Test'] = test_algo\n",
    "change_algorithm.set_index('Algorithm')"
   ]
  },
  {
   "cell_type": "code",
   "execution_count": 153,
   "metadata": {},
   "outputs": [
    {
     "data": {
      "image/png": "[encoded data removed]",
      "text/plain": [
       "<matplotlib.figure.Figure at 0x1a18bc6780>"
      ]
     },
     "metadata": {},
     "output_type": "display_data"
    }
   ],
   "source": [
    "index = np.arange(len(algorithm_list))\n",
    "\n",
    "fig, ax = plt.subplots(figsize=(15,10))\n",
    "bar_width = 0.4\n",
    "opacity = 0.7\n",
    " \n",
    "rects1 = plt.bar(index, train_algo, bar_width,\n",
    "                 alpha=opacity,\n",
    "                 color='b',\n",
    "                 label='Train Results')\n",
    " \n",
    "rects2 = plt.bar(index + bar_width, test_algo, bar_width,\n",
    "                 alpha=opacity,\n",
    "                 color='g',\n",
    "                 label='Test Results')\n",
    "\n",
    " \n",
    "plt.xlabel('Algorithms', size = 12)\n",
    "plt.ylabel('AUC Scores', size = 12)\n",
    "#plt.ylim(0.6,0.8)\n",
    "plt.title('Scores by Algorithms')\n",
    "plt.xticks(index + bar_width, ('Auto', 'Ball_Tree','kd_Tree','Brute'), size = 12)\n",
    "plt.legend(loc='best')\n",
    " \n",
    "plt.show()"
   ]
  },
  {
   "cell_type": "markdown",
   "metadata": {},
   "source": [
    "#### It would seem changing Algorithms did not affect the AUC scores"
   ]
  },
  {
   "cell_type": "markdown",
   "metadata": {},
   "source": [
    "### Changing Learning Size"
   ]
  },
  {
   "cell_type": "code",
   "execution_count": 181,
   "metadata": {
    "collapsed": true
   },
   "outputs": [],
   "source": [
    "size = np.linspace(0.1,1,100)"
   ]
  },
  {
   "cell_type": "code",
   "execution_count": 182,
   "metadata": {
    "collapsed": true
   },
   "outputs": [],
   "source": [
    "sample_size = x_train.shape[0]*size"
   ]
  },
  {
   "cell_type": "code",
   "execution_count": 183,
   "metadata": {
    "collapsed": true
   },
   "outputs": [],
   "source": [
    "training_space = []\n",
    "\n",
    "for i in sample_size:\n",
    "    training_space.append(int(i))"
   ]
  },
  {
   "cell_type": "code",
   "execution_count": 184,
   "metadata": {
    "collapsed": true
   },
   "outputs": [],
   "source": [
    "test_scores_1 = []\n",
    "train_scores_1 = []\n",
    "\n",
    "for i in training_space:\n",
    "\n",
    "    x_new = x_train.iloc[:i,:]    \n",
    "    y_new = y_train[:i]\n",
    "    \n",
    "    #Model Creation\n",
    "    model = KNeighborsClassifier(n_neighbors = 16, p=2)\n",
    "    model.fit(x_new, y_new)\n",
    "    \n",
    "    train_pred = model.predict(x_train)\n",
    "    fpr, tpr, thresholds = roc_curve(y_train, train_pred)\n",
    "    roc_auc = auc(fpr, tpr)\n",
    "    train_scores_1.append(roc_auc)\n",
    "    \n",
    "    test_pred = model.predict(x_test)\n",
    "    fpr_test, tpr_test, thesholds_test = roc_curve(y_test, test_pred)\n",
    "    roc_auc_test = auc(fpr_test, tpr_test)\n",
    "    test_scores_1.append(roc_auc_test)"
   ]
  },
  {
   "cell_type": "code",
   "execution_count": 185,
   "metadata": {},
   "outputs": [
    {
     "data": {
      "text/html": [
       "<div>\n",
       "<style>\n",
       "    .dataframe thead tr:only-child th {\n",
       "        text-align: right;\n",
       "    }\n",
       "\n",
       "    .dataframe thead th {\n",
       "        text-align: left;\n",
       "    }\n",
       "\n",
       "    .dataframe tbody tr th {\n",
       "        vertical-align: top;\n",
       "    }\n",
       "</style>\n",
       "<table border=\"1\" class=\"dataframe\">\n",
       "  <thead>\n",
       "    <tr style=\"text-align: right;\">\n",
       "      <th></th>\n",
       "      <th>AUC_Train</th>\n",
       "      <th>AUC_Test</th>\n",
       "    </tr>\n",
       "    <tr>\n",
       "      <th>Training Space</th>\n",
       "      <th></th>\n",
       "      <th></th>\n",
       "    </tr>\n",
       "  </thead>\n",
       "  <tbody>\n",
       "    <tr>\n",
       "      <th>26</th>\n",
       "      <td>0.500711</td>\n",
       "      <td>0.527027</td>\n",
       "    </tr>\n",
       "    <tr>\n",
       "      <th>28</th>\n",
       "      <td>0.505974</td>\n",
       "      <td>0.513514</td>\n",
       "    </tr>\n",
       "    <tr>\n",
       "      <th>31</th>\n",
       "      <td>0.514225</td>\n",
       "      <td>0.543416</td>\n",
       "    </tr>\n",
       "    <tr>\n",
       "      <th>33</th>\n",
       "      <td>0.612447</td>\n",
       "      <td>0.679413</td>\n",
       "    </tr>\n",
       "    <tr>\n",
       "      <th>36</th>\n",
       "      <td>0.666501</td>\n",
       "      <td>0.703997</td>\n",
       "    </tr>\n",
       "    <tr>\n",
       "      <th>38</th>\n",
       "      <td>0.567425</td>\n",
       "      <td>0.657706</td>\n",
       "    </tr>\n",
       "    <tr>\n",
       "      <th>40</th>\n",
       "      <td>0.633855</td>\n",
       "      <td>0.658137</td>\n",
       "    </tr>\n",
       "    <tr>\n",
       "      <th>43</th>\n",
       "      <td>0.686415</td>\n",
       "      <td>0.731024</td>\n",
       "    </tr>\n",
       "    <tr>\n",
       "      <th>45</th>\n",
       "      <td>0.679659</td>\n",
       "      <td>0.731024</td>\n",
       "    </tr>\n",
       "    <tr>\n",
       "      <th>48</th>\n",
       "      <td>0.687553</td>\n",
       "      <td>0.768689</td>\n",
       "    </tr>\n",
       "    <tr>\n",
       "      <th>50</th>\n",
       "      <td>0.701422</td>\n",
       "      <td>0.803910</td>\n",
       "    </tr>\n",
       "    <tr>\n",
       "      <th>52</th>\n",
       "      <td>0.726529</td>\n",
       "      <td>0.801466</td>\n",
       "    </tr>\n",
       "    <tr>\n",
       "      <th>55</th>\n",
       "      <td>0.708535</td>\n",
       "      <td>0.795716</td>\n",
       "    </tr>\n",
       "    <tr>\n",
       "      <th>57</th>\n",
       "      <td>0.715647</td>\n",
       "      <td>0.803910</td>\n",
       "    </tr>\n",
       "    <tr>\n",
       "      <th>60</th>\n",
       "      <td>0.719417</td>\n",
       "      <td>0.809229</td>\n",
       "    </tr>\n",
       "    <tr>\n",
       "      <th>62</th>\n",
       "      <td>0.724680</td>\n",
       "      <td>0.809229</td>\n",
       "    </tr>\n",
       "    <tr>\n",
       "      <th>64</th>\n",
       "      <td>0.717923</td>\n",
       "      <td>0.812105</td>\n",
       "    </tr>\n",
       "    <tr>\n",
       "      <th>67</th>\n",
       "      <td>0.700640</td>\n",
       "      <td>0.812105</td>\n",
       "    </tr>\n",
       "    <tr>\n",
       "      <th>69</th>\n",
       "      <td>0.693883</td>\n",
       "      <td>0.798591</td>\n",
       "    </tr>\n",
       "    <tr>\n",
       "      <th>72</th>\n",
       "      <td>0.696871</td>\n",
       "      <td>0.798591</td>\n",
       "    </tr>\n",
       "    <tr>\n",
       "      <th>74</th>\n",
       "      <td>0.681081</td>\n",
       "      <td>0.793272</td>\n",
       "    </tr>\n",
       "    <tr>\n",
       "      <th>76</th>\n",
       "      <td>0.683713</td>\n",
       "      <td>0.787953</td>\n",
       "    </tr>\n",
       "    <tr>\n",
       "      <th>79</th>\n",
       "      <td>0.732148</td>\n",
       "      <td>0.787953</td>\n",
       "    </tr>\n",
       "    <tr>\n",
       "      <th>81</th>\n",
       "      <td>0.734780</td>\n",
       "      <td>0.793272</td>\n",
       "    </tr>\n",
       "    <tr>\n",
       "      <th>84</th>\n",
       "      <td>0.725391</td>\n",
       "      <td>0.796147</td>\n",
       "    </tr>\n",
       "    <tr>\n",
       "      <th>86</th>\n",
       "      <td>0.718634</td>\n",
       "      <td>0.796147</td>\n",
       "    </tr>\n",
       "    <tr>\n",
       "      <th>88</th>\n",
       "      <td>0.710384</td>\n",
       "      <td>0.806786</td>\n",
       "    </tr>\n",
       "    <tr>\n",
       "      <th>91</th>\n",
       "      <td>0.718279</td>\n",
       "      <td>0.828062</td>\n",
       "    </tr>\n",
       "    <tr>\n",
       "      <th>93</th>\n",
       "      <td>0.700996</td>\n",
       "      <td>0.822743</td>\n",
       "    </tr>\n",
       "    <tr>\n",
       "      <th>96</th>\n",
       "      <td>0.712660</td>\n",
       "      <td>0.822743</td>\n",
       "    </tr>\n",
       "    <tr>\n",
       "      <th>98</th>\n",
       "      <td>0.712304</td>\n",
       "      <td>0.828062</td>\n",
       "    </tr>\n",
       "    <tr>\n",
       "      <th>100</th>\n",
       "      <td>0.721337</td>\n",
       "      <td>0.819868</td>\n",
       "    </tr>\n",
       "    <tr>\n",
       "      <th>103</th>\n",
       "      <td>0.706330</td>\n",
       "      <td>0.757619</td>\n",
       "    </tr>\n",
       "    <tr>\n",
       "      <th>105</th>\n",
       "      <td>0.703343</td>\n",
       "      <td>0.730592</td>\n",
       "    </tr>\n",
       "    <tr>\n",
       "      <th>107</th>\n",
       "      <td>0.697724</td>\n",
       "      <td>0.719523</td>\n",
       "    </tr>\n",
       "    <tr>\n",
       "      <th>110</th>\n",
       "      <td>0.710100</td>\n",
       "      <td>0.760063</td>\n",
       "    </tr>\n",
       "    <tr>\n",
       "      <th>112</th>\n",
       "      <td>0.711593</td>\n",
       "      <td>0.795285</td>\n",
       "    </tr>\n",
       "    <tr>\n",
       "      <th>115</th>\n",
       "      <td>0.701067</td>\n",
       "      <td>0.814117</td>\n",
       "    </tr>\n",
       "    <tr>\n",
       "      <th>117</th>\n",
       "      <td>0.714580</td>\n",
       "      <td>0.814117</td>\n",
       "    </tr>\n",
       "    <tr>\n",
       "      <th>120</th>\n",
       "      <td>0.725107</td>\n",
       "      <td>0.792409</td>\n",
       "    </tr>\n",
       "    <tr>\n",
       "      <th>122</th>\n",
       "      <td>0.725107</td>\n",
       "      <td>0.792409</td>\n",
       "    </tr>\n",
       "    <tr>\n",
       "      <th>124</th>\n",
       "      <td>0.725107</td>\n",
       "      <td>0.792409</td>\n",
       "    </tr>\n",
       "    <tr>\n",
       "      <th>127</th>\n",
       "      <td>0.710455</td>\n",
       "      <td>0.805923</td>\n",
       "    </tr>\n",
       "    <tr>\n",
       "      <th>129</th>\n",
       "      <td>0.710455</td>\n",
       "      <td>0.805923</td>\n",
       "    </tr>\n",
       "    <tr>\n",
       "      <th>132</th>\n",
       "      <td>0.706330</td>\n",
       "      <td>0.778896</td>\n",
       "    </tr>\n",
       "    <tr>\n",
       "      <th>134</th>\n",
       "      <td>0.721337</td>\n",
       "      <td>0.795285</td>\n",
       "    </tr>\n",
       "    <tr>\n",
       "      <th>136</th>\n",
       "      <td>0.693954</td>\n",
       "      <td>0.751869</td>\n",
       "    </tr>\n",
       "    <tr>\n",
       "      <th>139</th>\n",
       "      <td>0.693954</td>\n",
       "      <td>0.751869</td>\n",
       "    </tr>\n",
       "    <tr>\n",
       "      <th>141</th>\n",
       "      <td>0.673684</td>\n",
       "      <td>0.724842</td>\n",
       "    </tr>\n",
       "    <tr>\n",
       "      <th>144</th>\n",
       "      <td>0.669559</td>\n",
       "      <td>0.724842</td>\n",
       "    </tr>\n",
       "    <tr>\n",
       "      <th>146</th>\n",
       "      <td>0.659815</td>\n",
       "      <td>0.727286</td>\n",
       "    </tr>\n",
       "    <tr>\n",
       "      <th>148</th>\n",
       "      <td>0.662447</td>\n",
       "      <td>0.727286</td>\n",
       "    </tr>\n",
       "    <tr>\n",
       "      <th>151</th>\n",
       "      <td>0.658321</td>\n",
       "      <td>0.727286</td>\n",
       "    </tr>\n",
       "    <tr>\n",
       "      <th>153</th>\n",
       "      <td>0.665078</td>\n",
       "      <td>0.716647</td>\n",
       "    </tr>\n",
       "    <tr>\n",
       "      <th>156</th>\n",
       "      <td>0.669559</td>\n",
       "      <td>0.741231</td>\n",
       "    </tr>\n",
       "    <tr>\n",
       "      <th>158</th>\n",
       "      <td>0.661309</td>\n",
       "      <td>0.741231</td>\n",
       "    </tr>\n",
       "    <tr>\n",
       "      <th>160</th>\n",
       "      <td>0.662447</td>\n",
       "      <td>0.751869</td>\n",
       "    </tr>\n",
       "    <tr>\n",
       "      <th>163</th>\n",
       "      <td>0.666572</td>\n",
       "      <td>0.746550</td>\n",
       "    </tr>\n",
       "    <tr>\n",
       "      <th>165</th>\n",
       "      <td>0.671835</td>\n",
       "      <td>0.746550</td>\n",
       "    </tr>\n",
       "    <tr>\n",
       "      <th>168</th>\n",
       "      <td>0.690967</td>\n",
       "      <td>0.744106</td>\n",
       "    </tr>\n",
       "    <tr>\n",
       "      <th>170</th>\n",
       "      <td>0.693599</td>\n",
       "      <td>0.744106</td>\n",
       "    </tr>\n",
       "    <tr>\n",
       "      <th>172</th>\n",
       "      <td>0.696230</td>\n",
       "      <td>0.744106</td>\n",
       "    </tr>\n",
       "    <tr>\n",
       "      <th>175</th>\n",
       "      <td>0.702987</td>\n",
       "      <td>0.757619</td>\n",
       "    </tr>\n",
       "    <tr>\n",
       "      <th>177</th>\n",
       "      <td>0.702987</td>\n",
       "      <td>0.757619</td>\n",
       "    </tr>\n",
       "    <tr>\n",
       "      <th>180</th>\n",
       "      <td>0.698862</td>\n",
       "      <td>0.757619</td>\n",
       "    </tr>\n",
       "    <tr>\n",
       "      <th>182</th>\n",
       "      <td>0.701494</td>\n",
       "      <td>0.757619</td>\n",
       "    </tr>\n",
       "    <tr>\n",
       "      <th>184</th>\n",
       "      <td>0.706757</td>\n",
       "      <td>0.768258</td>\n",
       "    </tr>\n",
       "    <tr>\n",
       "      <th>187</th>\n",
       "      <td>0.686486</td>\n",
       "      <td>0.768258</td>\n",
       "    </tr>\n",
       "    <tr>\n",
       "      <th>189</th>\n",
       "      <td>0.701494</td>\n",
       "      <td>0.781771</td>\n",
       "    </tr>\n",
       "    <tr>\n",
       "      <th>191</th>\n",
       "      <td>0.701494</td>\n",
       "      <td>0.781771</td>\n",
       "    </tr>\n",
       "    <tr>\n",
       "      <th>194</th>\n",
       "      <td>0.705619</td>\n",
       "      <td>0.781771</td>\n",
       "    </tr>\n",
       "    <tr>\n",
       "      <th>196</th>\n",
       "      <td>0.705619</td>\n",
       "      <td>0.789965</td>\n",
       "    </tr>\n",
       "    <tr>\n",
       "      <th>199</th>\n",
       "      <td>0.717994</td>\n",
       "      <td>0.811673</td>\n",
       "    </tr>\n",
       "    <tr>\n",
       "      <th>201</th>\n",
       "      <td>0.713869</td>\n",
       "      <td>0.811673</td>\n",
       "    </tr>\n",
       "    <tr>\n",
       "      <th>204</th>\n",
       "      <td>0.716501</td>\n",
       "      <td>0.811673</td>\n",
       "    </tr>\n",
       "    <tr>\n",
       "      <th>206</th>\n",
       "      <td>0.730014</td>\n",
       "      <td>0.819868</td>\n",
       "    </tr>\n",
       "    <tr>\n",
       "      <th>208</th>\n",
       "      <td>0.730014</td>\n",
       "      <td>0.819868</td>\n",
       "    </tr>\n",
       "    <tr>\n",
       "      <th>211</th>\n",
       "      <td>0.732646</td>\n",
       "      <td>0.819868</td>\n",
       "    </tr>\n",
       "    <tr>\n",
       "      <th>213</th>\n",
       "      <td>0.732646</td>\n",
       "      <td>0.819868</td>\n",
       "    </tr>\n",
       "    <tr>\n",
       "      <th>215</th>\n",
       "      <td>0.732646</td>\n",
       "      <td>0.819868</td>\n",
       "    </tr>\n",
       "    <tr>\n",
       "      <th>218</th>\n",
       "      <td>0.721764</td>\n",
       "      <td>0.825187</td>\n",
       "    </tr>\n",
       "    <tr>\n",
       "      <th>220</th>\n",
       "      <td>0.721764</td>\n",
       "      <td>0.825187</td>\n",
       "    </tr>\n",
       "    <tr>\n",
       "      <th>223</th>\n",
       "      <td>0.710882</td>\n",
       "      <td>0.835825</td>\n",
       "    </tr>\n",
       "    <tr>\n",
       "      <th>225</th>\n",
       "      <td>0.700000</td>\n",
       "      <td>0.822312</td>\n",
       "    </tr>\n",
       "    <tr>\n",
       "      <th>227</th>\n",
       "      <td>0.682361</td>\n",
       "      <td>0.822312</td>\n",
       "    </tr>\n",
       "    <tr>\n",
       "      <th>230</th>\n",
       "      <td>0.678236</td>\n",
       "      <td>0.808798</td>\n",
       "    </tr>\n",
       "    <tr>\n",
       "      <th>232</th>\n",
       "      <td>0.675605</td>\n",
       "      <td>0.816993</td>\n",
       "    </tr>\n",
       "    <tr>\n",
       "      <th>235</th>\n",
       "      <td>0.675605</td>\n",
       "      <td>0.816993</td>\n",
       "    </tr>\n",
       "    <tr>\n",
       "      <th>237</th>\n",
       "      <td>0.675605</td>\n",
       "      <td>0.816993</td>\n",
       "    </tr>\n",
       "    <tr>\n",
       "      <th>240</th>\n",
       "      <td>0.670341</td>\n",
       "      <td>0.816993</td>\n",
       "    </tr>\n",
       "    <tr>\n",
       "      <th>242</th>\n",
       "      <td>0.670341</td>\n",
       "      <td>0.830506</td>\n",
       "    </tr>\n",
       "    <tr>\n",
       "      <th>244</th>\n",
       "      <td>0.669203</td>\n",
       "      <td>0.849339</td>\n",
       "    </tr>\n",
       "    <tr>\n",
       "      <th>247</th>\n",
       "      <td>0.675960</td>\n",
       "      <td>0.849339</td>\n",
       "    </tr>\n",
       "    <tr>\n",
       "      <th>249</th>\n",
       "      <td>0.675960</td>\n",
       "      <td>0.849339</td>\n",
       "    </tr>\n",
       "    <tr>\n",
       "      <th>251</th>\n",
       "      <td>0.669203</td>\n",
       "      <td>0.849339</td>\n",
       "    </tr>\n",
       "    <tr>\n",
       "      <th>254</th>\n",
       "      <td>0.662802</td>\n",
       "      <td>0.833381</td>\n",
       "    </tr>\n",
       "    <tr>\n",
       "      <th>256</th>\n",
       "      <td>0.666927</td>\n",
       "      <td>0.838700</td>\n",
       "    </tr>\n",
       "    <tr>\n",
       "      <th>259</th>\n",
       "      <td>0.669559</td>\n",
       "      <td>0.838700</td>\n",
       "    </tr>\n",
       "    <tr>\n",
       "      <th>261</th>\n",
       "      <td>0.668065</td>\n",
       "      <td>0.838700</td>\n",
       "    </tr>\n",
       "    <tr>\n",
       "      <th>264</th>\n",
       "      <td>0.663940</td>\n",
       "      <td>0.838700</td>\n",
       "    </tr>\n",
       "  </tbody>\n",
       "</table>\n",
       "</div>"
      ],
      "text/plain": [
       "                AUC_Train  AUC_Test\n",
       "Training Space                     \n",
       "26               0.500711  0.527027\n",
       "28               0.505974  0.513514\n",
       "31               0.514225  0.543416\n",
       "33               0.612447  0.679413\n",
       "36               0.666501  0.703997\n",
       "38               0.567425  0.657706\n",
       "40               0.633855  0.658137\n",
       "43               0.686415  0.731024\n",
       "45               0.679659  0.731024\n",
       "48               0.687553  0.768689\n",
       "50               0.701422  0.803910\n",
       "52               0.726529  0.801466\n",
       "55               0.708535  0.795716\n",
       "57               0.715647  0.803910\n",
       "60               0.719417  0.809229\n",
       "62               0.724680  0.809229\n",
       "64               0.717923  0.812105\n",
       "67               0.700640  0.812105\n",
       "69               0.693883  0.798591\n",
       "72               0.696871  0.798591\n",
       "74               0.681081  0.793272\n",
       "76               0.683713  0.787953\n",
       "79               0.732148  0.787953\n",
       "81               0.734780  0.793272\n",
       "84               0.725391  0.796147\n",
       "86               0.718634  0.796147\n",
       "88               0.710384  0.806786\n",
       "91               0.718279  0.828062\n",
       "93               0.700996  0.822743\n",
       "96               0.712660  0.822743\n",
       "98               0.712304  0.828062\n",
       "100              0.721337  0.819868\n",
       "103              0.706330  0.757619\n",
       "105              0.703343  0.730592\n",
       "107              0.697724  0.719523\n",
       "110              0.710100  0.760063\n",
       "112              0.711593  0.795285\n",
       "115              0.701067  0.814117\n",
       "117              0.714580  0.814117\n",
       "120              0.725107  0.792409\n",
       "122              0.725107  0.792409\n",
       "124              0.725107  0.792409\n",
       "127              0.710455  0.805923\n",
       "129              0.710455  0.805923\n",
       "132              0.706330  0.778896\n",
       "134              0.721337  0.795285\n",
       "136              0.693954  0.751869\n",
       "139              0.693954  0.751869\n",
       "141              0.673684  0.724842\n",
       "144              0.669559  0.724842\n",
       "146              0.659815  0.727286\n",
       "148              0.662447  0.727286\n",
       "151              0.658321  0.727286\n",
       "153              0.665078  0.716647\n",
       "156              0.669559  0.741231\n",
       "158              0.661309  0.741231\n",
       "160              0.662447  0.751869\n",
       "163              0.666572  0.746550\n",
       "165              0.671835  0.746550\n",
       "168              0.690967  0.744106\n",
       "170              0.693599  0.744106\n",
       "172              0.696230  0.744106\n",
       "175              0.702987  0.757619\n",
       "177              0.702987  0.757619\n",
       "180              0.698862  0.757619\n",
       "182              0.701494  0.757619\n",
       "184              0.706757  0.768258\n",
       "187              0.686486  0.768258\n",
       "189              0.701494  0.781771\n",
       "191              0.701494  0.781771\n",
       "194              0.705619  0.781771\n",
       "196              0.705619  0.789965\n",
       "199              0.717994  0.811673\n",
       "201              0.713869  0.811673\n",
       "204              0.716501  0.811673\n",
       "206              0.730014  0.819868\n",
       "208              0.730014  0.819868\n",
       "211              0.732646  0.819868\n",
       "213              0.732646  0.819868\n",
       "215              0.732646  0.819868\n",
       "218              0.721764  0.825187\n",
       "220              0.721764  0.825187\n",
       "223              0.710882  0.835825\n",
       "225              0.700000  0.822312\n",
       "227              0.682361  0.822312\n",
       "230              0.678236  0.808798\n",
       "232              0.675605  0.816993\n",
       "235              0.675605  0.816993\n",
       "237              0.675605  0.816993\n",
       "240              0.670341  0.816993\n",
       "242              0.670341  0.830506\n",
       "244              0.669203  0.849339\n",
       "247              0.675960  0.849339\n",
       "249              0.675960  0.849339\n",
       "251              0.669203  0.849339\n",
       "254              0.662802  0.833381\n",
       "256              0.666927  0.838700\n",
       "259              0.669559  0.838700\n",
       "261              0.668065  0.838700\n",
       "264              0.663940  0.838700"
      ]
     },
     "execution_count": 185,
     "metadata": {},
     "output_type": "execute_result"
    }
   ],
   "source": [
    "change_ls = pd.DataFrame()\n",
    "change_ls['Training Space'] = training_space\n",
    "change_ls['AUC_Train'] = train_scores_1\n",
    "change_ls['AUC_Test'] = test_scores_1\n",
    "change_ls.set_index('Training Space')"
   ]
  },
  {
   "cell_type": "code",
   "execution_count": 186,
   "metadata": {},
   "outputs": [
    {
     "name": "stdout",
     "output_type": "stream",
     "text": [
      "The training size that gave the highest AUC for Training is 81.0\n",
      "The training size that gave the highest AUC for Testing is 244.0\n"
     ]
    }
   ],
   "source": [
    "print('The training size that gave the highest AUC for Training is {}'.format((change_ls.loc[change_ls['AUC_Train'].idxmax()][0])))\n",
    "print('The training size that gave the highest AUC for Testing is {}'.format((change_ls.loc[change_ls['AUC_Test'].idxmax()][0])))"
   ]
  },
  {
   "cell_type": "code",
   "execution_count": 165,
   "metadata": {},
   "outputs": [
    {
     "data": {
      "image/png": "[encoded data removed]",
      "text/plain": [
       "<matplotlib.figure.Figure at 0x1a183e85c0>"
      ]
     },
     "metadata": {},
     "output_type": "display_data"
    }
   ],
   "source": [
    "plt.figure(figsize=(15,10))\n",
    "\n",
    "plt.plot(training_space, test_scores_1, 'b-', label='Test')\n",
    "plt.plot(training_space, train_scores_1, 'r--', label='Train')\n",
    "\n",
    "plt.legend(loc='best')\n",
    "plt.xlabel('Training Space', size = 12)\n",
    "plt.ylabel('AUC Score', size = 12)\n",
    "plt.show()"
   ]
  },
  {
   "cell_type": "code",
   "execution_count": 166,
   "metadata": {
    "collapsed": true
   },
   "outputs": [],
   "source": [
    "model = KNeighborsClassifier(n_neighbors = 16, p=2)"
   ]
  },
  {
   "cell_type": "code",
   "execution_count": 167,
   "metadata": {},
   "outputs": [
    {
     "data": {
      "text/plain": [
       "KNeighborsClassifier(algorithm='auto', leaf_size=30, metric='minkowski',\n",
       "           metric_params=None, n_jobs=1, n_neighbors=16, p=2,\n",
       "           weights='uniform')"
      ]
     },
     "execution_count": 167,
     "metadata": {},
     "output_type": "execute_result"
    }
   ],
   "source": [
    "model.fit(x_train, y_train)"
   ]
  },
  {
   "cell_type": "code",
   "execution_count": 168,
   "metadata": {},
   "outputs": [
    {
     "name": "stderr",
     "output_type": "stream",
     "text": [
      "/Users/Weiyang/anaconda3/lib/python3.6/site-packages/sklearn/model_selection/_validation.py:1103: FutureWarning: Conversion of the second argument of issubdtype from `float` to `np.floating` is deprecated. In future, it will be treated as `np.float64 == np.dtype(float).type`.\n",
      "  if np.issubdtype(train_sizes_abs.dtype, np.float):\n"
     ]
    }
   ],
   "source": [
    "train_sizes, train_scores, test_scores = learning_curve(model, x_train, y_train, n_jobs=-1, cv=10, train_sizes=np.linspace(.1, 1.0, 100), verbose=0)"
   ]
  },
  {
   "cell_type": "code",
   "execution_count": 169,
   "metadata": {
    "collapsed": true
   },
   "outputs": [],
   "source": [
    "train_scores_mean = np.mean(train_scores, axis=1)\n",
    "train_scores_std = np.std(train_scores, axis=1)\n",
    "test_scores_mean = np.mean(test_scores, axis=1)\n",
    "test_scores_std = np.std(test_scores, axis=1)"
   ]
  },
  {
   "cell_type": "code",
   "execution_count": 180,
   "metadata": {},
   "outputs": [
    {
     "data": {
      "image/png": "[encoded data removed]",
      "text/plain": [
       "<matplotlib.figure.Figure at 0x1a19471b00>"
      ]
     },
     "metadata": {},
     "output_type": "display_data"
    }
   ],
   "source": [
    "plt.figure(figsize=(15,10))\n",
    "    \n",
    "plt.grid()\n",
    "    \n",
    "# plot the std deviation as a transparent range at each training set size\n",
    "plt.fill_between(train_sizes, train_scores_mean - train_scores_std, train_scores_mean + train_scores_std, alpha=0.1, color=\"r\")\n",
    "plt.fill_between(train_sizes, test_scores_mean - test_scores_std, test_scores_mean + test_scores_std, alpha=0.1, color=\"g\")\n",
    "    \n",
    "# plot the average training and test score lines at each training set size\n",
    "plt.plot(train_sizes, train_scores_mean, 'o-', color=\"r\", label = 'Training score')\n",
    "plt.plot(train_sizes, test_scores_mean, 'o-', color=\"g\", label =\"Cross-validation score\")\n",
    "    \n",
    "# sizes the window for readability and displays the plot\n",
    "# shows error from 0 to 1.1\n",
    "\n",
    "plt.title(\"K-Nearest Neighbors\")\n",
    "plt.legend(loc = 'lower right')\n",
    "plt.xlabel(\"Training examples\", size =12)\n",
    "plt.ylabel(\"Score\", size = 12)\n",
    "plt.ylim(0.5,0.85)\n",
    "plt.show()"
   ]
  },
  {
   "cell_type": "markdown",
   "metadata": {},
   "source": [
    "### Final Model"
   ]
  },
  {
   "cell_type": "code",
   "execution_count": 264,
   "metadata": {
    "collapsed": true
   },
   "outputs": [],
   "source": [
    "model_final = KNeighborsClassifier(n_jobs=-1, n_neighbors = 16, p=2)"
   ]
  },
  {
   "cell_type": "code",
   "execution_count": 265,
   "metadata": {
    "collapsed": true
   },
   "outputs": [],
   "source": [
    "x_new = x_train.iloc[:244,:]    \n",
    "y_new = y_train[:244]"
   ]
  },
  {
   "cell_type": "code",
   "execution_count": 266,
   "metadata": {},
   "outputs": [
    {
     "data": {
      "text/plain": [
       "KNeighborsClassifier(algorithm='auto', leaf_size=30, metric='minkowski',\n",
       "           metric_params=None, n_jobs=-1, n_neighbors=16, p=2,\n",
       "           weights='uniform')"
      ]
     },
     "execution_count": 266,
     "metadata": {},
     "output_type": "execute_result"
    }
   ],
   "source": [
    "model_final.fit(x_new, y_new)"
   ]
  },
  {
   "cell_type": "code",
   "execution_count": 267,
   "metadata": {
    "collapsed": true
   },
   "outputs": [],
   "source": [
    "prediction=model_final.predict(x_test)"
   ]
  },
  {
   "cell_type": "code",
   "execution_count": 271,
   "metadata": {},
   "outputs": [
    {
     "data": {
      "image/png": "[encoded data removed]",
      "text/plain": [
       "<matplotlib.figure.Figure at 0x1a1879af98>"
      ]
     },
     "metadata": {},
     "output_type": "display_data"
    },
    {
     "name": "stdout",
     "output_type": "stream",
     "text": [
      "Sensitivity for k-NN:  0.915\n",
      "Specificity for k-NN:  0.784\n",
      "F Score for k-NN:  0.784\n"
     ]
    }
   ],
   "source": [
    "cm = confusion_matrix(y_test, prediction)\n",
    "plt.figure(figsize = (5,5))\n",
    "plt.title('Final k-NN Model')\n",
    "sns.heatmap(cm, annot=True, fmt=\"d\")\n",
    "\n",
    "plt.show()\n",
    "\n",
    "sensitivity = round(cm[0,0]/(cm[0,0]+cm[0,1]),3)\n",
    "print('Sensitivity for k-NN: ', sensitivity )\n",
    "specificity = round(cm[1,1]/(cm[1,0]+cm[1,1]),3)\n",
    "print('Specificity for k-NN: ', specificity)\n",
    "f_score = round(f1_score(y_test, model_final.predict(x_test)),3)\n",
    "print('F Score for k-NN: ', f_score)"
   ]
  },
  {
   "cell_type": "code",
   "execution_count": 194,
   "metadata": {},
   "outputs": [
    {
     "data": {
      "image/png": "[encoded data removed]",
      "text/plain": [
       "<matplotlib.figure.Figure at 0x1a17a53ef0>"
      ]
     },
     "metadata": {},
     "output_type": "display_data"
    }
   ],
   "source": [
    "y_pred = model_final.predict(x_test).ravel()\n",
    "fpr, tpr, thresholds = roc_curve(y_test, y_pred)\n",
    "auc_curve = auc(fpr, tpr)\n",
    "\n",
    "plt.title('Receiver Operating Characteristic')\n",
    "plt.plot(fpr, tpr, 'b', label = 'AUC = %0.2f' % auc_curve)\n",
    "plt.legend(loc = 'lower right')\n",
    "plt.plot([0, 1], [0, 1],'r--')\n",
    "plt.xlim([0, 1])\n",
    "plt.ylim([0, 1])\n",
    "plt.ylabel('True Positive Rate')\n",
    "plt.xlabel('False Positive Rate')\n",
    "plt.show()"
   ]
  },
  {
   "cell_type": "code",
   "execution_count": 195,
   "metadata": {},
   "outputs": [
    {
     "name": "stdout",
     "output_type": "stream",
     "text": [
      "Accuracy of Base Model: 0.88 \n"
     ]
    }
   ],
   "source": [
    "score = round(accuracy_score(y_test, prediction),2)\n",
    "print('Accuracy of Base Model: {} '.format(score))"
   ]
  },
  {
   "cell_type": "markdown",
   "metadata": {},
   "source": [
    "### Visualizing Labels"
   ]
  },
  {
   "cell_type": "code",
   "execution_count": 196,
   "metadata": {
    "collapsed": true
   },
   "outputs": [],
   "source": [
    "from sklearn.decomposition import PCA"
   ]
  },
  {
   "cell_type": "code",
   "execution_count": 212,
   "metadata": {
    "collapsed": true
   },
   "outputs": [],
   "source": [
    "data1 = x_test.reset_index()"
   ]
  },
  {
   "cell_type": "code",
   "execution_count": 215,
   "metadata": {
    "collapsed": true
   },
   "outputs": [],
   "source": [
    "data1 = data1.drop(['index'], axis = 1)"
   ]
  },
  {
   "cell_type": "code",
   "execution_count": 216,
   "metadata": {
    "collapsed": true
   },
   "outputs": [],
   "source": [
    "data2 = pd.DataFrame(prediction)"
   ]
  },
  {
   "cell_type": "code",
   "execution_count": 221,
   "metadata": {
    "collapsed": true
   },
   "outputs": [],
   "source": [
    "visual_dataset = pd.concat([data1, data2], axis = 1)"
   ]
  },
  {
   "cell_type": "code",
   "execution_count": 224,
   "metadata": {},
   "outputs": [
    {
     "data": {
      "text/plain": [
       "(131, 29)"
      ]
     },
     "execution_count": 224,
     "metadata": {},
     "output_type": "execute_result"
    }
   ],
   "source": [
    "visual_dataset.shape"
   ]
  },
  {
   "cell_type": "code",
   "execution_count": 197,
   "metadata": {
    "collapsed": true
   },
   "outputs": [],
   "source": [
    "model_visuals = PCA(n_components = 3)"
   ]
  },
  {
   "cell_type": "code",
   "execution_count": 198,
   "metadata": {},
   "outputs": [
    {
     "data": {
      "text/plain": [
       "PCA(copy=True, iterated_power='auto', n_components=3, random_state=None,\n",
       "  svd_solver='auto', tol=0.0, whiten=False)"
      ]
     },
     "execution_count": 198,
     "metadata": {},
     "output_type": "execute_result"
    }
   ],
   "source": [
    "model_visuals.fit(x_test)"
   ]
  },
  {
   "cell_type": "code",
   "execution_count": 200,
   "metadata": {
    "collapsed": true
   },
   "outputs": [],
   "source": [
    "X_3D = model_visuals.transform(x_test)"
   ]
  },
  {
   "cell_type": "code",
   "execution_count": 231,
   "metadata": {
    "collapsed": true
   },
   "outputs": [],
   "source": [
    "from mpl_toolkits.mplot3d import Axes3D"
   ]
  },
  {
   "cell_type": "code",
   "execution_count": 232,
   "metadata": {},
   "outputs": [
    {
     "data": {
      "image/png": "[encoded data removed]",
      "text/plain": [
       "<matplotlib.figure.Figure at 0x1a179ff9b0>"
      ]
     },
     "metadata": {},
     "output_type": "display_data"
    }
   ],
   "source": [
    "fig = plt.figure()\n",
    "ax = Axes3D(fig)\n",
    "\n",
    "ax.scatter(xs = X_3D[:,1], ys = X_3D[:,0], zs=X_3D[:,2], zdir='z', c = visual_dataset.iloc[:,28])\n",
    "plt.show()"
   ]
  },
  {
   "cell_type": "code",
   "execution_count": 256,
   "metadata": {},
   "outputs": [],
   "source": [
    "data11 = x_test.reset_index()\n",
    "data11 = data11.drop(['index'], axis = 1)\n",
    "data21 = pd.DataFrame(prediction).reset_index().drop(['index'], axis = 1)\n",
    "data22 = pd.DataFrame(y_test).reset_index().drop(['index'], axis = 1)\n",
    "\n",
    "visual_dataset1 = pd.concat([data11, data22, data21], axis = 1)\n",
    "\n",
    "model_visuals1 = PCA(n_components = 2)\n",
    "model_visuals1.fit(x_test)\n",
    "\n",
    "X_2D = model_visuals1.transform(x_test)\n",
    "X_2D = pd.DataFrame(X_2D)"
   ]
  },
  {
   "cell_type": "code",
   "execution_count": 258,
   "metadata": {},
   "outputs": [],
   "source": [
    "visual_dataset1.columns = ['gender', 'SeniorCitizen', 'Partner', 'Dependents', 'PhoneService', 'OnlineSecurity', 'OnlineBackup', 'DeviceProtection', 'TechSupport', 'StreamingTV', 'StreamingMovies', 'PaperlessBilling', 'MultipleLines_No', 'MultipleLines_No phone service', 'MultipleLines_Yes', 'InternetService_DSL', 'InternetService_Fiber optic', 'InternetService_No', 'Contract_Month-to-month', 'Contract_One year', 'Contract_Two year', 'PaymentMethod_Bank transfer (automatic)', 'PaymentMethod_Credit card (automatic)', 'PaymentMethod_Electronic check', 'PaymentMethod_Mailed check', 'tenure', 'MonthlyCharges', 'TotalCharges', 'actual', 'predicted']"
   ]
  },
  {
   "cell_type": "code",
   "execution_count": 259,
   "metadata": {
    "collapsed": true
   },
   "outputs": [],
   "source": [
    "visual_dataset1 = pd.concat([visual_dataset1, X_2D], axis = 1)"
   ]
  },
  {
   "cell_type": "code",
   "execution_count": 261,
   "metadata": {},
   "outputs": [],
   "source": [
    "visual_dataset1.columns = ['gender', 'SeniorCitizen', 'Partner', 'Dependents', 'PhoneService', 'OnlineSecurity', 'OnlineBackup', 'DeviceProtection', 'TechSupport', 'StreamingTV', 'StreamingMovies', 'PaperlessBilling', 'MultipleLines_No', 'MultipleLines_No phone service', 'MultipleLines_Yes', 'InternetService_DSL', 'InternetService_Fiber optic', 'InternetService_No', 'Contract_Month-to-month', 'Contract_One year', 'Contract_Two year', 'PaymentMethod_Bank transfer (automatic)', 'PaymentMethod_Credit card (automatic)', 'PaymentMethod_Electronic check', 'PaymentMethod_Mailed check', 'tenure', 'MonthlyCharges', 'TotalCharges', 'actual', 'predicted', 'PCA1', 'PCA2']"
   ]
  },
  {
   "cell_type": "code",
   "execution_count": 262,
   "metadata": {},
   "outputs": [
    {
     "data": {
      "text/plain": [
       "<seaborn.axisgrid.FacetGrid at 0x1a18810f60>"
      ]
     },
     "execution_count": 262,
     "metadata": {},
     "output_type": "execute_result"
    },
    {
     "data": {
      "image/png": "[encoded data removed]",
      "text/plain": [
       "<matplotlib.figure.Figure at 0x1a188100b8>"
      ]
     },
     "metadata": {},
     "output_type": "display_data"
    }
   ],
   "source": [
    "sns.lmplot('PCA1', 'PCA2', data=visual_dataset1, hue='actual',col='predicted', fit_reg=False, palette='tab10')"
   ]
  }
 ],
 "metadata": {
  "kernelspec": {
   "display_name": "Python 3",
   "language": "python",
   "name": "python3"
  },
  "language_info": {
   "codemirror_mode": {
    "name": "ipython",
    "version": 3
   },
   "file_extension": ".py",
   "mimetype": "text/x-python",
   "name": "python",
   "nbconvert_exporter": "python",
   "pygments_lexer": "ipython3",
   "version": "3.6.2"
  }
 },
 "nbformat": 4,
 "nbformat_minor": 2
}
