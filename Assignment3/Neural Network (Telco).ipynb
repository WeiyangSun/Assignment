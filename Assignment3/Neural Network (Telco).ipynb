{
 "cells": [
  {
   "cell_type": "code",
   "execution_count": 1,
   "metadata": {},
   "outputs": [
    {
     "name": "stderr",
     "output_type": "stream",
     "text": [
      "/Users/Weiyang/anaconda3/lib/python3.6/site-packages/h5py/__init__.py:34: FutureWarning: Conversion of the second argument of issubdtype from `float` to `np.floating` is deprecated. In future, it will be treated as `np.float64 == np.dtype(float).type`.\n",
      "  from ._conv import register_converters as _register_converters\n",
      "Using TensorFlow backend.\n"
     ]
    }
   ],
   "source": [
    "import pandas as pd\n",
    "import numpy as np\n",
    "import matplotlib.pyplot as plt\n",
    "\n",
    "import os\n",
    "import seaborn as sns\n",
    "import time\n",
    "\n",
    "from sklearn.model_selection import train_test_split\n",
    "\n",
    "from sklearn.preprocessing import MinMaxScaler\n",
    "from sklearn.preprocessing import LabelEncoder\n",
    "from sklearn.preprocessing import OneHotEncoder\n",
    "from sklearn.preprocessing import StandardScaler\n",
    "\n",
    "from sklearn.model_selection import GridSearchCV\n",
    "from sklearn.model_selection import learning_curve\n",
    "from sklearn.model_selection import validation_curve\n",
    "from sklearn.model_selection import ShuffleSplit\n",
    "from sklearn.model_selection import cross_val_score\n",
    "from sklearn.model_selection import StratifiedKFold\n",
    "\n",
    "from keras.models import Sequential\n",
    "from keras.layers import Dense\n",
    "from keras.wrappers.scikit_learn import KerasClassifier\n",
    "\n",
    "from sklearn.metrics import confusion_matrix, mean_squared_error, r2_score, mean_absolute_error\n",
    "from sklearn.metrics import roc_auc_score, accuracy_score, roc_curve, auc, f1_score\n",
    "from sklearn.metrics import classification_report, scorer, precision_score, recall_score"
   ]
  },
  {
   "cell_type": "code",
   "execution_count": 2,
   "metadata": {
    "collapsed": true
   },
   "outputs": [],
   "source": [
    "%matplotlib inline"
   ]
  },
  {
   "cell_type": "code",
   "execution_count": 3,
   "metadata": {
    "collapsed": true
   },
   "outputs": [],
   "source": [
    "pd.set_option('display.width', 4000)\n",
    "pd.set_option('max_colwidth', 4000)\n",
    "pd.set_option('max_columns', 200)\n",
    "pd.set_option('max_rows', 200)"
   ]
  },
  {
   "cell_type": "code",
   "execution_count": 4,
   "metadata": {
    "collapsed": true
   },
   "outputs": [],
   "source": [
    "os.chdir('/Users/Weiyang/Desktop/Git/Assignment/Assignment3/Data')"
   ]
  },
  {
   "cell_type": "code",
   "execution_count": 5,
   "metadata": {
    "collapsed": true
   },
   "outputs": [],
   "source": [
    "dataset = pd.read_csv('telco-churn.csv', delimiter = ',')"
   ]
  },
  {
   "cell_type": "markdown",
   "metadata": {},
   "source": [
    "### Inspecting Data"
   ]
  },
  {
   "cell_type": "code",
   "execution_count": 6,
   "metadata": {},
   "outputs": [
    {
     "data": {
      "text/html": [
       "<div>\n",
       "<style>\n",
       "    .dataframe thead tr:only-child th {\n",
       "        text-align: right;\n",
       "    }\n",
       "\n",
       "    .dataframe thead th {\n",
       "        text-align: left;\n",
       "    }\n",
       "\n",
       "    .dataframe tbody tr th {\n",
       "        vertical-align: top;\n",
       "    }\n",
       "</style>\n",
       "<table border=\"1\" class=\"dataframe\">\n",
       "  <thead>\n",
       "    <tr style=\"text-align: right;\">\n",
       "      <th></th>\n",
       "      <th>customerID</th>\n",
       "      <th>gender</th>\n",
       "      <th>SeniorCitizen</th>\n",
       "      <th>Partner</th>\n",
       "      <th>Dependents</th>\n",
       "      <th>tenure</th>\n",
       "      <th>PhoneService</th>\n",
       "      <th>MultipleLines</th>\n",
       "      <th>InternetService</th>\n",
       "      <th>OnlineSecurity</th>\n",
       "      <th>OnlineBackup</th>\n",
       "      <th>DeviceProtection</th>\n",
       "      <th>TechSupport</th>\n",
       "      <th>StreamingTV</th>\n",
       "      <th>StreamingMovies</th>\n",
       "      <th>Contract</th>\n",
       "      <th>PaperlessBilling</th>\n",
       "      <th>PaymentMethod</th>\n",
       "      <th>MonthlyCharges</th>\n",
       "      <th>TotalCharges</th>\n",
       "      <th>Churn</th>\n",
       "    </tr>\n",
       "  </thead>\n",
       "  <tbody>\n",
       "    <tr>\n",
       "      <th>0</th>\n",
       "      <td>7590-VHVEG</td>\n",
       "      <td>Female</td>\n",
       "      <td>0</td>\n",
       "      <td>Yes</td>\n",
       "      <td>No</td>\n",
       "      <td>1</td>\n",
       "      <td>No</td>\n",
       "      <td>No phone service</td>\n",
       "      <td>DSL</td>\n",
       "      <td>No</td>\n",
       "      <td>Yes</td>\n",
       "      <td>No</td>\n",
       "      <td>No</td>\n",
       "      <td>No</td>\n",
       "      <td>No</td>\n",
       "      <td>Month-to-month</td>\n",
       "      <td>Yes</td>\n",
       "      <td>Electronic check</td>\n",
       "      <td>29.85</td>\n",
       "      <td>29.85</td>\n",
       "      <td>No</td>\n",
       "    </tr>\n",
       "    <tr>\n",
       "      <th>1</th>\n",
       "      <td>5575-GNVDE</td>\n",
       "      <td>Male</td>\n",
       "      <td>0</td>\n",
       "      <td>No</td>\n",
       "      <td>No</td>\n",
       "      <td>34</td>\n",
       "      <td>Yes</td>\n",
       "      <td>No</td>\n",
       "      <td>DSL</td>\n",
       "      <td>Yes</td>\n",
       "      <td>No</td>\n",
       "      <td>Yes</td>\n",
       "      <td>No</td>\n",
       "      <td>No</td>\n",
       "      <td>No</td>\n",
       "      <td>One year</td>\n",
       "      <td>No</td>\n",
       "      <td>Mailed check</td>\n",
       "      <td>56.95</td>\n",
       "      <td>1889.5</td>\n",
       "      <td>No</td>\n",
       "    </tr>\n",
       "    <tr>\n",
       "      <th>2</th>\n",
       "      <td>3668-QPYBK</td>\n",
       "      <td>Male</td>\n",
       "      <td>0</td>\n",
       "      <td>No</td>\n",
       "      <td>No</td>\n",
       "      <td>2</td>\n",
       "      <td>Yes</td>\n",
       "      <td>No</td>\n",
       "      <td>DSL</td>\n",
       "      <td>Yes</td>\n",
       "      <td>Yes</td>\n",
       "      <td>No</td>\n",
       "      <td>No</td>\n",
       "      <td>No</td>\n",
       "      <td>No</td>\n",
       "      <td>Month-to-month</td>\n",
       "      <td>Yes</td>\n",
       "      <td>Mailed check</td>\n",
       "      <td>53.85</td>\n",
       "      <td>108.15</td>\n",
       "      <td>Yes</td>\n",
       "    </tr>\n",
       "    <tr>\n",
       "      <th>3</th>\n",
       "      <td>7795-CFOCW</td>\n",
       "      <td>Male</td>\n",
       "      <td>0</td>\n",
       "      <td>No</td>\n",
       "      <td>No</td>\n",
       "      <td>45</td>\n",
       "      <td>No</td>\n",
       "      <td>No phone service</td>\n",
       "      <td>DSL</td>\n",
       "      <td>Yes</td>\n",
       "      <td>No</td>\n",
       "      <td>Yes</td>\n",
       "      <td>Yes</td>\n",
       "      <td>No</td>\n",
       "      <td>No</td>\n",
       "      <td>One year</td>\n",
       "      <td>No</td>\n",
       "      <td>Bank transfer (automatic)</td>\n",
       "      <td>42.30</td>\n",
       "      <td>1840.75</td>\n",
       "      <td>No</td>\n",
       "    </tr>\n",
       "    <tr>\n",
       "      <th>4</th>\n",
       "      <td>9237-HQITU</td>\n",
       "      <td>Female</td>\n",
       "      <td>0</td>\n",
       "      <td>No</td>\n",
       "      <td>No</td>\n",
       "      <td>2</td>\n",
       "      <td>Yes</td>\n",
       "      <td>No</td>\n",
       "      <td>Fiber optic</td>\n",
       "      <td>No</td>\n",
       "      <td>No</td>\n",
       "      <td>No</td>\n",
       "      <td>No</td>\n",
       "      <td>No</td>\n",
       "      <td>No</td>\n",
       "      <td>Month-to-month</td>\n",
       "      <td>Yes</td>\n",
       "      <td>Electronic check</td>\n",
       "      <td>70.70</td>\n",
       "      <td>151.65</td>\n",
       "      <td>Yes</td>\n",
       "    </tr>\n",
       "  </tbody>\n",
       "</table>\n",
       "</div>"
      ],
      "text/plain": [
       "   customerID  gender  SeniorCitizen Partner Dependents  tenure PhoneService     MultipleLines InternetService OnlineSecurity OnlineBackup DeviceProtection TechSupport StreamingTV StreamingMovies        Contract PaperlessBilling              PaymentMethod  MonthlyCharges TotalCharges Churn\n",
       "0  7590-VHVEG  Female              0     Yes         No       1           No  No phone service             DSL             No          Yes               No          No          No              No  Month-to-month              Yes           Electronic check           29.85        29.85    No\n",
       "1  5575-GNVDE    Male              0      No         No      34          Yes                No             DSL            Yes           No              Yes          No          No              No        One year               No               Mailed check           56.95       1889.5    No\n",
       "2  3668-QPYBK    Male              0      No         No       2          Yes                No             DSL            Yes          Yes               No          No          No              No  Month-to-month              Yes               Mailed check           53.85       108.15   Yes\n",
       "3  7795-CFOCW    Male              0      No         No      45           No  No phone service             DSL            Yes           No              Yes         Yes          No              No        One year               No  Bank transfer (automatic)           42.30      1840.75    No\n",
       "4  9237-HQITU  Female              0      No         No       2          Yes                No     Fiber optic             No           No               No          No          No              No  Month-to-month              Yes           Electronic check           70.70       151.65   Yes"
      ]
     },
     "execution_count": 6,
     "metadata": {},
     "output_type": "execute_result"
    }
   ],
   "source": [
    "dataset.head()"
   ]
  },
  {
   "cell_type": "code",
   "execution_count": 7,
   "metadata": {},
   "outputs": [
    {
     "name": "stdout",
     "output_type": "stream",
     "text": [
      "Rows     :  7043\n",
      "Columns  :  21\n",
      "\n",
      "Features : \n",
      " ['customerID', 'gender', 'SeniorCitizen', 'Partner', 'Dependents', 'tenure', 'PhoneService', 'MultipleLines', 'InternetService', 'OnlineSecurity', 'OnlineBackup', 'DeviceProtection', 'TechSupport', 'StreamingTV', 'StreamingMovies', 'Contract', 'PaperlessBilling', 'PaymentMethod', 'MonthlyCharges', 'TotalCharges', 'Churn']\n",
      "\n",
      "Missing values :   0\n",
      "\n",
      "Unique values :  \n",
      " customerID          7043\n",
      "gender                 2\n",
      "SeniorCitizen          2\n",
      "Partner                2\n",
      "Dependents             2\n",
      "tenure                73\n",
      "PhoneService           2\n",
      "MultipleLines          3\n",
      "InternetService        3\n",
      "OnlineSecurity         3\n",
      "OnlineBackup           3\n",
      "DeviceProtection       3\n",
      "TechSupport            3\n",
      "StreamingTV            3\n",
      "StreamingMovies        3\n",
      "Contract               3\n",
      "PaperlessBilling       2\n",
      "PaymentMethod          4\n",
      "MonthlyCharges      1585\n",
      "TotalCharges        6531\n",
      "Churn                  2\n",
      "dtype: int64\n"
     ]
    }
   ],
   "source": [
    "print (\"Rows     : \" ,dataset.shape[0])\n",
    "print (\"Columns  : \" ,dataset.shape[1])\n",
    "print (\"\\nFeatures : \\n\" ,dataset.columns.tolist())\n",
    "print (\"\\nMissing values :  \", dataset.isnull().sum().values.sum())\n",
    "print (\"\\nUnique values :  \\n\",dataset.nunique())"
   ]
  },
  {
   "cell_type": "markdown",
   "metadata": {},
   "source": [
    "### Data Manipulation"
   ]
  },
  {
   "cell_type": "markdown",
   "metadata": {},
   "source": [
    "#### For Total Charges"
   ]
  },
  {
   "cell_type": "code",
   "execution_count": 8,
   "metadata": {
    "collapsed": true
   },
   "outputs": [],
   "source": [
    "dataset['TotalCharges'] = dataset[\"TotalCharges\"].replace(\" \",np.nan)\n",
    "\n",
    "#Dropping null values from total charges column which contain .15% missing data \n",
    "dataset = dataset[dataset[\"TotalCharges\"].notnull()]\n",
    "dataset = dataset.reset_index()[dataset.columns]\n",
    "\n",
    "#convert to float type\n",
    "dataset[\"TotalCharges\"] = dataset[\"TotalCharges\"].astype(float)"
   ]
  },
  {
   "cell_type": "markdown",
   "metadata": {},
   "source": [
    "#### Re-Classifying No Internet Service to No"
   ]
  },
  {
   "cell_type": "code",
   "execution_count": 9,
   "metadata": {
    "collapsed": true
   },
   "outputs": [],
   "source": [
    "replace_cols = [ 'OnlineSecurity', 'OnlineBackup', 'DeviceProtection', 'TechSupport','StreamingTV', 'StreamingMovies']\n",
    "\n",
    "for i in replace_cols : \n",
    "    dataset[i]  = dataset[i].replace({'No internet service' : 'No'})\n",
    "    \n",
    "dataset[\"SeniorCitizen\"] = dataset[\"SeniorCitizen\"].replace({1:\"Yes\",0:\"No\"})"
   ]
  },
  {
   "cell_type": "markdown",
   "metadata": {},
   "source": [
    "#### Seperating Churn and Non-Churn Customers"
   ]
  },
  {
   "cell_type": "code",
   "execution_count": 10,
   "metadata": {
    "collapsed": true
   },
   "outputs": [],
   "source": [
    "churn = dataset[dataset[\"Churn\"] == \"Yes\"]\n",
    "not_churn = dataset[dataset[\"Churn\"] == \"No\"]"
   ]
  },
  {
   "cell_type": "markdown",
   "metadata": {},
   "source": [
    "### Data Pre-Processing"
   ]
  },
  {
   "cell_type": "markdown",
   "metadata": {},
   "source": [
    "#### Seperating into Categorical and Numerical Columns"
   ]
  },
  {
   "cell_type": "code",
   "execution_count": 11,
   "metadata": {
    "collapsed": true
   },
   "outputs": [],
   "source": [
    "Id_col = ['customerID']\n",
    "target_col = [\"Churn\"]\n",
    "\n",
    "#categorical columns\n",
    "categorical_cols   = dataset.nunique()[dataset.nunique() < 6].keys().tolist()\n",
    "categorical_cols   = [x for x in categorical_cols if x not in target_col]\n",
    "\n",
    "#numerical columns\n",
    "numerical_cols   = [x for x in dataset.columns if x not in categorical_cols + target_col + Id_col]\n",
    "\n",
    "#Binary columns with 2 values\n",
    "binary_cols   = dataset.nunique()[dataset.nunique() == 2].keys().tolist()\n",
    "\n",
    "#Columns more than 2 values\n",
    "multi_cols = [i for i in categorical_cols if i not in binary_cols]"
   ]
  },
  {
   "cell_type": "markdown",
   "metadata": {},
   "source": [
    "#### Label Encoding Binary Columns"
   ]
  },
  {
   "cell_type": "code",
   "execution_count": 12,
   "metadata": {
    "collapsed": true
   },
   "outputs": [],
   "source": [
    "le = LabelEncoder()\n",
    "\n",
    "for i in binary_cols :\n",
    "    dataset[i] = le.fit_transform(dataset[i])"
   ]
  },
  {
   "cell_type": "markdown",
   "metadata": {},
   "source": [
    "#### Dummy Variables for Multi-categorical Columns"
   ]
  },
  {
   "cell_type": "code",
   "execution_count": 13,
   "metadata": {
    "collapsed": true
   },
   "outputs": [],
   "source": [
    "dataset = pd.get_dummies(data = dataset,columns = multi_cols)"
   ]
  },
  {
   "cell_type": "markdown",
   "metadata": {},
   "source": [
    "#### Scaling Numerical Values"
   ]
  },
  {
   "cell_type": "code",
   "execution_count": 14,
   "metadata": {
    "collapsed": true
   },
   "outputs": [],
   "source": [
    "std = MinMaxScaler()\n",
    "\n",
    "scaled = std.fit_transform(dataset[numerical_cols])\n",
    "scaled = pd.DataFrame(scaled,columns=numerical_cols)"
   ]
  },
  {
   "cell_type": "markdown",
   "metadata": {},
   "source": [
    "#### Final Pre-processing"
   ]
  },
  {
   "cell_type": "code",
   "execution_count": 15,
   "metadata": {
    "collapsed": true
   },
   "outputs": [],
   "source": [
    "df_telcom = dataset.copy()\n",
    "\n",
    "dataset = dataset.drop(numerical_cols,axis = 1)\n",
    "dataset = dataset.merge(scaled,left_index=True,right_index=True,how = \"left\")"
   ]
  },
  {
   "cell_type": "markdown",
   "metadata": {},
   "source": [
    "### Performing Random Sampling to cut down Dataset Size for Faster Processing"
   ]
  },
  {
   "cell_type": "code",
   "execution_count": 16,
   "metadata": {
    "collapsed": true
   },
   "outputs": [],
   "source": [
    "import random"
   ]
  },
  {
   "cell_type": "code",
   "execution_count": 17,
   "metadata": {
    "collapsed": true
   },
   "outputs": [],
   "source": [
    "dataset = dataset.sample(395)"
   ]
  },
  {
   "cell_type": "markdown",
   "metadata": {},
   "source": [
    "##### This has been made the same size as the comparative Student Performance Dataset"
   ]
  },
  {
   "cell_type": "code",
   "execution_count": 18,
   "metadata": {},
   "outputs": [
    {
     "data": {
      "text/plain": [
       "(395, 30)"
      ]
     },
     "execution_count": 18,
     "metadata": {},
     "output_type": "execute_result"
    }
   ],
   "source": [
    "dataset.shape"
   ]
  },
  {
   "cell_type": "markdown",
   "metadata": {},
   "source": [
    "### Seperating Data into Train & Test"
   ]
  },
  {
   "cell_type": "code",
   "execution_count": 19,
   "metadata": {
    "collapsed": true
   },
   "outputs": [],
   "source": [
    "y_labels = dataset.pop('Churn')"
   ]
  },
  {
   "cell_type": "code",
   "execution_count": 20,
   "metadata": {
    "collapsed": true
   },
   "outputs": [],
   "source": [
    "dataset = dataset.drop(['customerID'], axis=1)"
   ]
  },
  {
   "cell_type": "code",
   "execution_count": 21,
   "metadata": {
    "collapsed": true
   },
   "outputs": [],
   "source": [
    "x_train, x_test, y_train, y_test = train_test_split(dataset, y_labels, test_size = 0.33, random_state = 777)"
   ]
  },
  {
   "cell_type": "code",
   "execution_count": 22,
   "metadata": {},
   "outputs": [
    {
     "name": "stdout",
     "output_type": "stream",
     "text": [
      "(264, 28)\n"
     ]
    }
   ],
   "source": [
    "print(x_train.shape)"
   ]
  },
  {
   "cell_type": "code",
   "execution_count": 23,
   "metadata": {},
   "outputs": [
    {
     "name": "stdout",
     "output_type": "stream",
     "text": [
      "(264,)\n"
     ]
    }
   ],
   "source": [
    "print(y_train.shape)"
   ]
  },
  {
   "cell_type": "code",
   "execution_count": 24,
   "metadata": {},
   "outputs": [
    {
     "name": "stdout",
     "output_type": "stream",
     "text": [
      "(131, 28)\n"
     ]
    }
   ],
   "source": [
    "print(x_test.shape)"
   ]
  },
  {
   "cell_type": "code",
   "execution_count": 25,
   "metadata": {},
   "outputs": [
    {
     "name": "stdout",
     "output_type": "stream",
     "text": [
      "(131,)\n"
     ]
    }
   ],
   "source": [
    "print(y_test.shape)"
   ]
  },
  {
   "cell_type": "markdown",
   "metadata": {},
   "source": [
    "## Artifical Neural Network (With Feature Scaling)"
   ]
  },
  {
   "cell_type": "markdown",
   "metadata": {},
   "source": [
    "### Base Model with 1 input, 1 hidden and 1 output layer (28-14-1 nodes)"
   ]
  },
  {
   "cell_type": "markdown",
   "metadata": {},
   "source": [
    "#### Using ReLu Activation"
   ]
  },
  {
   "cell_type": "code",
   "execution_count": 26,
   "metadata": {
    "collapsed": true
   },
   "outputs": [],
   "source": [
    "#Model Creation\n",
    "model = Sequential()\n",
    "model.add(Dense(28, input_dim=28, kernel_initializer='normal', activation='relu'))\n",
    "model.add(Dense(14, kernel_initializer='normal', activation='relu'))\n",
    "model.add(Dense(1, kernel_initializer='normal', activation='sigmoid'))"
   ]
  },
  {
   "cell_type": "code",
   "execution_count": 27,
   "metadata": {
    "collapsed": true
   },
   "outputs": [],
   "source": [
    "#Model Compilation\n",
    "model.compile(loss='binary_crossentropy', optimizer='adam', metrics=['accuracy'])"
   ]
  },
  {
   "cell_type": "code",
   "execution_count": 28,
   "metadata": {},
   "outputs": [
    {
     "data": {
      "text/plain": [
       "<keras.callbacks.History at 0x108ea7dd8>"
      ]
     },
     "execution_count": 28,
     "metadata": {},
     "output_type": "execute_result"
    }
   ],
   "source": [
    "model.fit(x_train, y_train, epochs=150, batch_size=5, verbose=0)"
   ]
  },
  {
   "cell_type": "markdown",
   "metadata": {},
   "source": [
    "##### Note: Verbose has been set to 0 so that progress bar will not appear"
   ]
  },
  {
   "cell_type": "code",
   "execution_count": 29,
   "metadata": {
    "collapsed": true
   },
   "outputs": [],
   "source": [
    "predictions = model.predict(x_test)"
   ]
  },
  {
   "cell_type": "code",
   "execution_count": 30,
   "metadata": {
    "collapsed": true
   },
   "outputs": [],
   "source": [
    "threshold = 0.5\n",
    "predictions = (predictions > threshold)"
   ]
  },
  {
   "cell_type": "code",
   "execution_count": 31,
   "metadata": {
    "collapsed": true
   },
   "outputs": [],
   "source": [
    "cm = confusion_matrix(y_test, predictions)"
   ]
  },
  {
   "cell_type": "code",
   "execution_count": 32,
   "metadata": {},
   "outputs": [
    {
     "data": {
      "text/plain": [
       "<matplotlib.axes._subplots.AxesSubplot at 0x108f39c18>"
      ]
     },
     "execution_count": 32,
     "metadata": {},
     "output_type": "execute_result"
    },
    {
     "data": {
      "image/png": "[encoded data removed]",
      "text/plain": [
       "<matplotlib.figure.Figure at 0x1a1ac80710>"
      ]
     },
     "metadata": {},
     "output_type": "display_data"
    }
   ],
   "source": [
    "plt.figure(figsize = (5,5))\n",
    "\n",
    "sns.heatmap(cm, annot=True, fmt=\"d\")"
   ]
  },
  {
   "cell_type": "code",
   "execution_count": 33,
   "metadata": {
    "collapsed": true
   },
   "outputs": [],
   "source": [
    "y_pred_keras = model.predict(x_test).ravel()\n",
    "fpr_keras, tpr_keras, thresholds_keras = roc_curve(y_test, y_pred_keras)\n",
    "auc_keras = auc(fpr_keras, tpr_keras)"
   ]
  },
  {
   "cell_type": "code",
   "execution_count": 34,
   "metadata": {},
   "outputs": [
    {
     "data": {
      "image/png": "[encoded data removed]",
      "text/plain": [
       "<matplotlib.figure.Figure at 0x1a1ac078d0>"
      ]
     },
     "metadata": {},
     "output_type": "display_data"
    }
   ],
   "source": [
    "plt.title('Receiver Operating Characteristic')\n",
    "plt.plot(fpr_keras, tpr_keras, 'b', label = 'AUC = %0.2f' % auc_keras)\n",
    "plt.legend(loc = 'lower right')\n",
    "plt.plot([0, 1], [0, 1],'r--')\n",
    "plt.xlim([0, 1])\n",
    "plt.ylim([0, 1])\n",
    "plt.ylabel('True Positive Rate')\n",
    "plt.xlabel('False Positive Rate')\n",
    "plt.show()"
   ]
  },
  {
   "cell_type": "code",
   "execution_count": 35,
   "metadata": {},
   "outputs": [
    {
     "name": "stdout",
     "output_type": "stream",
     "text": [
      "Accuracy of Base Model: 0.74 \n"
     ]
    }
   ],
   "source": [
    "score = round(accuracy_score(y_test, predictions),2)\n",
    "\n",
    "print('Accuracy of Base Model: {} '.format(score))"
   ]
  },
  {
   "cell_type": "code",
   "execution_count": 36,
   "metadata": {
    "scrolled": true
   },
   "outputs": [
    {
     "name": "stdout",
     "output_type": "stream",
     "text": [
      "131/131 [==============================] - 0s 810us/step\n",
      "\n",
      "acc: 74.05%\n"
     ]
    }
   ],
   "source": [
    "scores = model.evaluate(x_test, y_test)\n",
    "print(\"\\n%s: %.2f%%\" % (model.metrics_names[1], scores[1]*100))"
   ]
  },
  {
   "cell_type": "markdown",
   "metadata": {},
   "source": [
    "#### Using Sigmoid Activation"
   ]
  },
  {
   "cell_type": "code",
   "execution_count": 37,
   "metadata": {
    "collapsed": true
   },
   "outputs": [],
   "source": [
    "#Model Creation\n",
    "model2 = Sequential()\n",
    "model2.add(Dense(28, input_dim=28, kernel_initializer='normal', activation='sigmoid'))\n",
    "model2.add(Dense(14, kernel_initializer='normal', activation='sigmoid'))\n",
    "model2.add(Dense(1, kernel_initializer='normal', activation='sigmoid'))\n",
    "\n",
    "#Model Compilation\n",
    "model2.compile(loss='binary_crossentropy', optimizer='adam', metrics=['accuracy'])"
   ]
  },
  {
   "cell_type": "code",
   "execution_count": 38,
   "metadata": {},
   "outputs": [
    {
     "data": {
      "text/plain": [
       "<keras.callbacks.History at 0x1a1b0ed2b0>"
      ]
     },
     "execution_count": 38,
     "metadata": {},
     "output_type": "execute_result"
    }
   ],
   "source": [
    "model2.fit(x_train, y_train, epochs=150, batch_size=5, verbose=0)"
   ]
  },
  {
   "cell_type": "markdown",
   "metadata": {},
   "source": [
    "##### Note: Verbose has been set to 0 so that progress bar will not appear"
   ]
  },
  {
   "cell_type": "code",
   "execution_count": 39,
   "metadata": {
    "collapsed": true
   },
   "outputs": [],
   "source": [
    "predictions2 = model2.predict(x_test)"
   ]
  },
  {
   "cell_type": "code",
   "execution_count": 40,
   "metadata": {},
   "outputs": [
    {
     "data": {
      "text/plain": [
       "<matplotlib.axes._subplots.AxesSubplot at 0x1a1adca240>"
      ]
     },
     "execution_count": 40,
     "metadata": {},
     "output_type": "execute_result"
    },
    {
     "data": {
      "image/png": "[encoded data removed]",
      "text/plain": [
       "<matplotlib.figure.Figure at 0x1a1b1f6860>"
      ]
     },
     "metadata": {},
     "output_type": "display_data"
    }
   ],
   "source": [
    "threshold = 0.5\n",
    "predictions2 = (predictions2 > threshold)\n",
    "\n",
    "cm2 = confusion_matrix(y_test, predictions2)\n",
    "plt.figure(figsize = (5,5))\n",
    "\n",
    "sns.heatmap(cm2, annot=True, fmt=\"d\")"
   ]
  },
  {
   "cell_type": "code",
   "execution_count": 41,
   "metadata": {},
   "outputs": [
    {
     "data": {
      "image/png": "[encoded data removed]",
      "text/plain": [
       "<matplotlib.figure.Figure at 0x1a1b1fa8d0>"
      ]
     },
     "metadata": {},
     "output_type": "display_data"
    }
   ],
   "source": [
    "y_pred_keras = model2.predict(x_test).ravel()\n",
    "fpr_keras, tpr_keras, thresholds_keras = roc_curve(y_test, y_pred_keras)\n",
    "auc_keras = auc(fpr_keras, tpr_keras)\n",
    "\n",
    "plt.title('Receiver Operating Characteristic')\n",
    "plt.plot(fpr_keras, tpr_keras, 'b', label = 'AUC = %0.2f' % auc_keras)\n",
    "plt.legend(loc = 'lower right')\n",
    "plt.plot([0, 1], [0, 1],'r--')\n",
    "plt.xlim([0, 1])\n",
    "plt.ylim([0, 1])\n",
    "plt.ylabel('True Positive Rate')\n",
    "plt.xlabel('False Positive Rate')\n",
    "plt.show()"
   ]
  },
  {
   "cell_type": "code",
   "execution_count": 42,
   "metadata": {
    "scrolled": true
   },
   "outputs": [
    {
     "name": "stdout",
     "output_type": "stream",
     "text": [
      "Accuracy of Base Model: 0.76 \n",
      "131/131 [==============================] - 0s 535us/step\n",
      "\n",
      "acc: 76.34%\n"
     ]
    }
   ],
   "source": [
    "score = round(accuracy_score(y_test, predictions2),2)\n",
    "\n",
    "print('Accuracy of Base Model: {} '.format(score))\n",
    "\n",
    "scores = model2.evaluate(x_test, y_test)\n",
    "print(\"\\n%s: %.2f%%\" % (model2.metrics_names[1], scores[1]*100))"
   ]
  },
  {
   "cell_type": "markdown",
   "metadata": {},
   "source": [
    "#### Using Tanh Activation"
   ]
  },
  {
   "cell_type": "code",
   "execution_count": 44,
   "metadata": {
    "collapsed": true
   },
   "outputs": [],
   "source": [
    "#Model Creation\n",
    "model3 = Sequential()\n",
    "model3.add(Dense(28, input_dim=28, kernel_initializer='normal', activation='tanh'))\n",
    "model3.add(Dense(14, kernel_initializer='normal', activation='tanh'))\n",
    "model3.add(Dense(1, kernel_initializer='normal', activation='sigmoid'))\n",
    "\n",
    "#Model Compilation\n",
    "model3.compile(loss='binary_crossentropy', optimizer='adam', metrics=['accuracy'])"
   ]
  },
  {
   "cell_type": "code",
   "execution_count": 45,
   "metadata": {},
   "outputs": [
    {
     "data": {
      "text/plain": [
       "<keras.callbacks.History at 0x1a1adca5f8>"
      ]
     },
     "execution_count": 45,
     "metadata": {},
     "output_type": "execute_result"
    }
   ],
   "source": [
    "model3.fit(x_train, y_train, epochs=150, batch_size=5, verbose=0)"
   ]
  },
  {
   "cell_type": "markdown",
   "metadata": {},
   "source": [
    "##### Note: Verbose has been set to 0 so that progress bar will not appear"
   ]
  },
  {
   "cell_type": "code",
   "execution_count": 46,
   "metadata": {
    "collapsed": true
   },
   "outputs": [],
   "source": [
    "predictions3 = model3.predict(x_test)"
   ]
  },
  {
   "cell_type": "code",
   "execution_count": 47,
   "metadata": {},
   "outputs": [
    {
     "data": {
      "text/plain": [
       "<matplotlib.axes._subplots.AxesSubplot at 0x1a1b858f98>"
      ]
     },
     "execution_count": 47,
     "metadata": {},
     "output_type": "execute_result"
    },
    {
     "data": {
      "image/png": "[encoded data removed]",
      "text/plain": [
       "<matplotlib.figure.Figure at 0x1a1b8585f8>"
      ]
     },
     "metadata": {},
     "output_type": "display_data"
    }
   ],
   "source": [
    "threshold = 0.5\n",
    "predictions3 = (predictions3 > threshold)\n",
    "\n",
    "cm3 = confusion_matrix(y_test, predictions3)\n",
    "plt.figure(figsize = (5,5))\n",
    "\n",
    "sns.heatmap(cm3, annot=True, fmt=\"d\")"
   ]
  },
  {
   "cell_type": "code",
   "execution_count": 48,
   "metadata": {},
   "outputs": [
    {
     "data": {
      "image/png": "[encoded data removed]",
      "text/plain": [
       "<matplotlib.figure.Figure at 0x1a1ac0ef98>"
      ]
     },
     "metadata": {},
     "output_type": "display_data"
    }
   ],
   "source": [
    "y_pred_keras = model3.predict(x_test).ravel()\n",
    "fpr_keras, tpr_keras, thresholds_keras = roc_curve(y_test, y_pred_keras)\n",
    "auc_keras = auc(fpr_keras, tpr_keras)\n",
    "\n",
    "plt.title('Receiver Operating Characteristic')\n",
    "plt.plot(fpr_keras, tpr_keras, 'b', label = 'AUC = %0.2f' % auc_keras)\n",
    "plt.legend(loc = 'lower right')\n",
    "plt.plot([0, 1], [0, 1],'r--')\n",
    "plt.xlim([0, 1])\n",
    "plt.ylim([0, 1])\n",
    "plt.ylabel('True Positive Rate')\n",
    "plt.xlabel('False Positive Rate')\n",
    "plt.show()"
   ]
  },
  {
   "cell_type": "code",
   "execution_count": 49,
   "metadata": {
    "scrolled": true
   },
   "outputs": [
    {
     "name": "stdout",
     "output_type": "stream",
     "text": [
      "Accuracy of Base Model: 0.74 \n",
      "131/131 [==============================] - 0s 970us/step\n",
      "\n",
      "acc: 74.05%\n"
     ]
    }
   ],
   "source": [
    "score = round(accuracy_score(y_test, predictions3),2)\n",
    "\n",
    "print('Accuracy of Base Model: {} '.format(score))\n",
    "\n",
    "scores = model3.evaluate(x_test, y_test)\n",
    "print(\"\\n%s: %.2f%%\" % (model3.metrics_names[1], scores[1]*100))"
   ]
  },
  {
   "cell_type": "markdown",
   "metadata": {},
   "source": [
    "### Changing Number of Epochs for 3 Baseline Models"
   ]
  },
  {
   "cell_type": "markdown",
   "metadata": {},
   "source": [
    "##### Comments: Model - Relu ; Model2 - Sigmoid ; Model3 - Tanh"
   ]
  },
  {
   "cell_type": "code",
   "execution_count": 50,
   "metadata": {
    "collapsed": true,
    "scrolled": true
   },
   "outputs": [],
   "source": [
    "scores = []\n",
    "times = []\n",
    "epoch = np.arange(1,200)\n",
    "    \n",
    "for x in epoch:\n",
    "    model.fit(x_train, y_train, epochs=x, batch_size=10, verbose=0)\n",
    "    times.append(x)\n",
    "    score = model.evaluate(x_test, y_test, verbose=0)[1]\n",
    "    scores.append(score)"
   ]
  },
  {
   "cell_type": "code",
   "execution_count": 62,
   "metadata": {
    "collapsed": true,
    "scrolled": true
   },
   "outputs": [],
   "source": [
    "scores2 = []\n",
    "times2 = []\n",
    "epoch = np.arange(1,200)\n",
    "    \n",
    "for x in epoch:\n",
    "    model2.fit(x_train, y_train, epochs=x, batch_size=10, verbose=0)\n",
    "    times2.append(x)\n",
    "    score2 = model2.evaluate(x_test, y_test, verbose=0)[1]\n",
    "    scores2.append(score2)"
   ]
  },
  {
   "cell_type": "code",
   "execution_count": 63,
   "metadata": {
    "collapsed": true,
    "scrolled": true
   },
   "outputs": [],
   "source": [
    "scores3 = []\n",
    "times3 = []\n",
    "epoch = np.arange(1,200)\n",
    "    \n",
    "for x in epoch:\n",
    "    model3.fit(x_train, y_train, epochs=x, batch_size=10, verbose=0)\n",
    "    times3.append(x)\n",
    "    score3 = model3.evaluate(x_test, y_test, verbose=0)[1]\n",
    "    scores3.append(score3)"
   ]
  },
  {
   "cell_type": "code",
   "execution_count": 64,
   "metadata": {
    "collapsed": true
   },
   "outputs": [],
   "source": [
    "final_results = pd.DataFrame()\n",
    "final_results['epochs'] = times\n",
    "final_results['model1_score'] = scores\n",
    "final_results['model2_score'] = scores2\n",
    "final_results['model3_score'] = scores3"
   ]
  },
  {
   "cell_type": "code",
   "execution_count": 113,
   "metadata": {},
   "outputs": [
    {
     "name": "stdout",
     "output_type": "stream",
     "text": [
      "The # of Epochs that gave the best accuracy for ReLu Model is 63\n",
      "The # of Epochs that gave the best accuracy for Sigmoid Model is 1\n",
      "The # of Epochs that gave the best accuracy for Tanh Model is 1\n"
     ]
    }
   ],
   "source": [
    "print('The # of Epochs that gave the best accuracy for ReLu Model is {}'.format(int(final_results.loc[final_results['model1_score'].idxmax()][0])))\n",
    "print('The # of Epochs that gave the best accuracy for Sigmoid Model is {}'.format(int(final_results.loc[final_results['model2_score'].idxmax()][0])))\n",
    "print('The # of Epochs that gave the best accuracy for Tanh Model is {}'.format(int(final_results.loc[final_results['model3_score'].idxmax()][0])))"
   ]
  },
  {
   "cell_type": "code",
   "execution_count": 103,
   "metadata": {},
   "outputs": [
    {
     "data": {
      "image/png": "[encoded data removed]",
      "text/plain": [
       "<matplotlib.figure.Figure at 0x1a1b2d1dd8>"
      ]
     },
     "metadata": {},
     "output_type": "display_data"
    }
   ],
   "source": [
    "plt.figure(figsize=(15,10))\n",
    "\n",
    "plt.plot(times, scores, 'r-', label='Relu Model')\n",
    "plt.plot(times, scores2, 'b-', label='Sigmoid Model')\n",
    "plt.plot(times, scores3, '-', label='Tanh Model')\n",
    "\n",
    "plt.legend(loc='best')\n",
    "plt.xlabel('Epochs', size = 12)\n",
    "plt.ylabel('Accuracy', size = 12)\n",
    "plt.show()"
   ]
  },
  {
   "cell_type": "markdown",
   "metadata": {},
   "source": [
    "### Changing Number of Batch Sizes for 3 Baseline Models"
   ]
  },
  {
   "cell_type": "markdown",
   "metadata": {},
   "source": [
    "#### Note: Number of Epochs is set at 63/1/1"
   ]
  },
  {
   "cell_type": "markdown",
   "metadata": {},
   "source": [
    "##### Comments: Model - Relu ; Model2 - Sigmoid ; Model3 - Tanh"
   ]
  },
  {
   "cell_type": "code",
   "execution_count": 116,
   "metadata": {
    "collapsed": true
   },
   "outputs": [],
   "source": [
    "#Model Creation\n",
    "model = Sequential()\n",
    "model.add(Dense(28, input_dim=28, kernel_initializer='normal', activation='relu'))\n",
    "model.add(Dense(14, kernel_initializer='normal', activation='relu'))\n",
    "model.add(Dense(1, kernel_initializer='normal', activation='sigmoid'))\n",
    "\n",
    "#Model Compilation\n",
    "model.compile(loss='binary_crossentropy', optimizer='adam', metrics=['accuracy'])"
   ]
  },
  {
   "cell_type": "code",
   "execution_count": 117,
   "metadata": {},
   "outputs": [
    {
     "data": {
      "text/plain": [
       "<keras.callbacks.History at 0x1a1b84cb38>"
      ]
     },
     "execution_count": 117,
     "metadata": {},
     "output_type": "execute_result"
    }
   ],
   "source": [
    "model.fit(x_train, y_train, epochs=150, batch_size=5, verbose=0)"
   ]
  },
  {
   "cell_type": "code",
   "execution_count": 118,
   "metadata": {
    "collapsed": true
   },
   "outputs": [],
   "source": [
    "#Model Creation\n",
    "model2 = Sequential()\n",
    "model2.add(Dense(28, input_dim=28, kernel_initializer='normal', activation='sigmoid'))\n",
    "model2.add(Dense(14, kernel_initializer='normal', activation='sigmoid'))\n",
    "model2.add(Dense(1, kernel_initializer='normal', activation='sigmoid'))\n",
    "\n",
    "#Model Compilation\n",
    "model2.compile(loss='binary_crossentropy', optimizer='adam', metrics=['accuracy'])"
   ]
  },
  {
   "cell_type": "code",
   "execution_count": 119,
   "metadata": {},
   "outputs": [
    {
     "data": {
      "text/plain": [
       "<keras.callbacks.History at 0x1a1ab5eb00>"
      ]
     },
     "execution_count": 119,
     "metadata": {},
     "output_type": "execute_result"
    }
   ],
   "source": [
    "model2.fit(x_train, y_train, epochs=150, batch_size=5, verbose=0)"
   ]
  },
  {
   "cell_type": "code",
   "execution_count": 120,
   "metadata": {
    "collapsed": true
   },
   "outputs": [],
   "source": [
    "#Model Creation\n",
    "model3 = Sequential()\n",
    "model3.add(Dense(28, input_dim=28, kernel_initializer='normal', activation='tanh'))\n",
    "model3.add(Dense(14, kernel_initializer='normal', activation='tanh'))\n",
    "model3.add(Dense(1, kernel_initializer='normal', activation='sigmoid'))\n",
    "\n",
    "#Model Compilation\n",
    "model3.compile(loss='binary_crossentropy', optimizer='adam', metrics=['accuracy'])"
   ]
  },
  {
   "cell_type": "code",
   "execution_count": 121,
   "metadata": {},
   "outputs": [
    {
     "data": {
      "text/plain": [
       "<keras.callbacks.History at 0x1a1a1c5a58>"
      ]
     },
     "execution_count": 121,
     "metadata": {},
     "output_type": "execute_result"
    }
   ],
   "source": [
    "model3.fit(x_train, y_train, epochs=150, batch_size=5, verbose=0)"
   ]
  },
  {
   "cell_type": "code",
   "execution_count": 122,
   "metadata": {
    "collapsed": true,
    "scrolled": true
   },
   "outputs": [],
   "source": [
    "scores = []\n",
    "times = []\n",
    "batch_size = np.arange(1,200)\n",
    "    \n",
    "for x in batch_size:\n",
    "    model.fit(x_train, y_train, epochs=63, batch_size=x, verbose=0)\n",
    "    times.append(x)\n",
    "    score = model.evaluate(x_test, y_test, verbose=0)[1]\n",
    "    scores.append(score)"
   ]
  },
  {
   "cell_type": "code",
   "execution_count": 123,
   "metadata": {
    "collapsed": true,
    "scrolled": true
   },
   "outputs": [],
   "source": [
    "scores2 = []\n",
    "times2 = []\n",
    "batch_size = np.arange(1,200)\n",
    "    \n",
    "for x in batch_size:\n",
    "    model2.fit(x_train, y_train, epochs=1, batch_size=x, verbose=0)\n",
    "    times2.append(x)\n",
    "    score2 = model2.evaluate(x_test, y_test, verbose=0)[1]\n",
    "    scores2.append(score2)"
   ]
  },
  {
   "cell_type": "code",
   "execution_count": 124,
   "metadata": {
    "collapsed": true,
    "scrolled": true
   },
   "outputs": [],
   "source": [
    "scores3 = []\n",
    "times3 = []\n",
    "batch_size = np.arange(1,200)\n",
    "    \n",
    "for x in batch_size:\n",
    "    model3.fit(x_train, y_train, epochs=1, batch_size=x, verbose=0)\n",
    "    times3.append(x)\n",
    "    score3 = model3.evaluate(x_test, y_test, verbose=0)[1]\n",
    "    scores3.append(score3)"
   ]
  },
  {
   "cell_type": "code",
   "execution_count": 125,
   "metadata": {
    "collapsed": true
   },
   "outputs": [],
   "source": [
    "final_bs = pd.DataFrame()\n",
    "final_bs['batch_size'] = times\n",
    "final_bs['model1_score'] = scores\n",
    "final_bs['model2_score'] = scores2\n",
    "final_bs['model3_score'] = scores3"
   ]
  },
  {
   "cell_type": "code",
   "execution_count": 126,
   "metadata": {},
   "outputs": [
    {
     "name": "stdout",
     "output_type": "stream",
     "text": [
      "The batch size that gave the best accuracy for ReLu Model is 6\n",
      "The batch size that gave the best accuracy for Sigmoid Model is 1\n",
      "The batch size that gave the best accuracy for Tanh Model is 2\n"
     ]
    }
   ],
   "source": [
    "print('The batch size that gave the best accuracy for ReLu Model is {}'.format(int(final_bs.loc[final_bs['model1_score'].idxmax()][0])))\n",
    "print('The batch size that gave the best accuracy for Sigmoid Model is {}'.format(int(final_bs.loc[final_bs['model2_score'].idxmax()][0])))\n",
    "print('The batch size that gave the best accuracy for Tanh Model is {}'.format(int(final_bs.loc[final_bs['model3_score'].idxmax()][0])))"
   ]
  },
  {
   "cell_type": "code",
   "execution_count": 127,
   "metadata": {},
   "outputs": [
    {
     "data": {
      "image/png": "[encoded data removed]",
      "text/plain": [
       "<matplotlib.figure.Figure at 0x1a1dffdcc0>"
      ]
     },
     "metadata": {},
     "output_type": "display_data"
    }
   ],
   "source": [
    "plt.figure(figsize=(15,10))\n",
    "\n",
    "plt.plot(times, scores, 'r-', label='Relu Model')\n",
    "plt.plot(times, scores2, 'b-', label='Sigmoid Model')\n",
    "plt.plot(times, scores3, '-', label='Tanh Model')\n",
    "\n",
    "plt.legend(loc='best')\n",
    "plt.xlabel('Batch Size', size = 12)\n",
    "plt.ylabel('Accuracy', size = 12)\n",
    "plt.show()"
   ]
  },
  {
   "cell_type": "markdown",
   "metadata": {},
   "source": [
    "### From all 3 models, it would seem that ReLu with epochs = 63 and batch size of 6 gives us the best accuracy"
   ]
  },
  {
   "cell_type": "code",
   "execution_count": 129,
   "metadata": {
    "collapsed": true
   },
   "outputs": [],
   "source": [
    "#Model Creation\n",
    "model = Sequential()\n",
    "model.add(Dense(28, input_dim=28, kernel_initializer='normal', activation='relu'))\n",
    "model.add(Dense(14, kernel_initializer='normal', activation='relu'))\n",
    "model.add(Dense(1, kernel_initializer='normal', activation='sigmoid'))\n",
    "\n",
    "#Model Compilation\n",
    "model.compile(loss='binary_crossentropy', optimizer='adam', metrics=['accuracy'])"
   ]
  },
  {
   "cell_type": "code",
   "execution_count": 130,
   "metadata": {},
   "outputs": [
    {
     "data": {
      "text/plain": [
       "<keras.callbacks.History at 0x1a1acabac8>"
      ]
     },
     "execution_count": 130,
     "metadata": {},
     "output_type": "execute_result"
    }
   ],
   "source": [
    "model.fit(x_train, y_train, epochs=63, batch_size=6, verbose=0)"
   ]
  },
  {
   "cell_type": "code",
   "execution_count": 131,
   "metadata": {
    "collapsed": true
   },
   "outputs": [],
   "source": [
    "predictions = model.predict(x_test)"
   ]
  },
  {
   "cell_type": "code",
   "execution_count": 132,
   "metadata": {},
   "outputs": [
    {
     "data": {
      "text/plain": [
       "<matplotlib.axes._subplots.AxesSubplot at 0x1a1e452908>"
      ]
     },
     "execution_count": 132,
     "metadata": {},
     "output_type": "execute_result"
    },
    {
     "data": {
      "image/png": "[encoded data removed]",
      "text/plain": [
       "<matplotlib.figure.Figure at 0x1a1e461f60>"
      ]
     },
     "metadata": {},
     "output_type": "display_data"
    }
   ],
   "source": [
    "threshold = 0.5\n",
    "predictions = (predictions > threshold)\n",
    "\n",
    "cm = confusion_matrix(y_test, predictions)\n",
    "plt.figure(figsize = (5,5))\n",
    "\n",
    "sns.heatmap(cm, annot=True, fmt=\"d\")"
   ]
  },
  {
   "cell_type": "code",
   "execution_count": 133,
   "metadata": {},
   "outputs": [
    {
     "data": {
      "image/png": "[encoded data removed]",
      "text/plain": [
       "<matplotlib.figure.Figure at 0x1a1e06d128>"
      ]
     },
     "metadata": {},
     "output_type": "display_data"
    }
   ],
   "source": [
    "y_pred_keras = model.predict(x_test).ravel()\n",
    "fpr_keras, tpr_keras, thresholds_keras = roc_curve(y_test, y_pred_keras)\n",
    "auc_keras = auc(fpr_keras, tpr_keras)\n",
    "\n",
    "plt.title('Receiver Operating Characteristic')\n",
    "plt.plot(fpr_keras, tpr_keras, 'b', label = 'AUC = %0.2f' % auc_keras)\n",
    "plt.legend(loc = 'lower right')\n",
    "plt.plot([0, 1], [0, 1],'r--')\n",
    "plt.xlim([0, 1])\n",
    "plt.ylim([0, 1])\n",
    "plt.ylabel('True Positive Rate')\n",
    "plt.xlabel('False Positive Rate')\n",
    "plt.show()"
   ]
  },
  {
   "cell_type": "code",
   "execution_count": 134,
   "metadata": {
    "scrolled": true
   },
   "outputs": [
    {
     "name": "stdout",
     "output_type": "stream",
     "text": [
      "Accuracy of Base Model: 0.76 \n",
      "131/131 [==============================] - 0s 2ms/step\n",
      "\n",
      "acc: 76.34%\n"
     ]
    }
   ],
   "source": [
    "score = round(accuracy_score(y_test, predictions),2)\n",
    "\n",
    "print('Accuracy of Base Model: {} '.format(score))\n",
    "\n",
    "scores = model.evaluate(x_test, y_test)\n",
    "print(\"\\n%s: %.2f%%\" % (model.metrics_names[1], scores[1]*100))"
   ]
  },
  {
   "cell_type": "markdown",
   "metadata": {},
   "source": [
    "#### Tuning Optimizer"
   ]
  },
  {
   "cell_type": "code",
   "execution_count": 169,
   "metadata": {
    "collapsed": true
   },
   "outputs": [],
   "source": [
    "scores = []\n",
    "times = []\n",
    "optimizer = ['SGD', 'RMSprop', 'Adagrad', 'Adadelta', 'Adam', 'Adamax', 'Nadam']\n",
    "\n",
    "for x in optimizer:\n",
    "    #Create Model\n",
    "    model = Sequential()\n",
    "    model.add(Dense(28, input_dim=28, kernel_initializer='normal', activation='relu'))\n",
    "    model.add(Dense(14, kernel_initializer='normal', activation='relu'))\n",
    "    model.add(Dense(1, kernel_initializer='normal', activation='sigmoid'))\n",
    "    # Compile model\n",
    "    model.compile(loss='binary_crossentropy', optimizer=x, metrics=['accuracy'])\n",
    "    \n",
    "    #Fitting Model\n",
    "    model.fit(x_train, y_train, epochs=63, batch_size=6, verbose=0)\n",
    "    times.append(x)\n",
    "    score = model.evaluate(x_test, y_test, verbose=0)[1]\n",
    "    scores.append(score)"
   ]
  },
  {
   "cell_type": "code",
   "execution_count": 170,
   "metadata": {
    "collapsed": true
   },
   "outputs": [],
   "source": [
    "scores2 = []\n",
    "times = []\n",
    "optimizer = ['SGD', 'RMSprop', 'Adagrad', 'Adadelta', 'Adam', 'Adamax', 'Nadam']\n",
    "\n",
    "for x in optimizer:\n",
    "    #Create Model\n",
    "    model2 = Sequential()\n",
    "    model2.add(Dense(28, input_dim=28, kernel_initializer='normal', activation='sigmoid'))\n",
    "    model2.add(Dense(14, kernel_initializer='normal', activation='sigmoid'))\n",
    "    model2.add(Dense(1, kernel_initializer='normal', activation='sigmoid'))\n",
    "    # Compile model\n",
    "    model2.compile(loss='binary_crossentropy', optimizer=x, metrics=['accuracy'])\n",
    "    \n",
    "    #Fitting Model\n",
    "    model2.fit(x_train, y_train, epochs=1, batch_size=1, verbose=0)\n",
    "    times.append(x)\n",
    "    score2 = model2.evaluate(x_test, y_test, verbose=0)[1]\n",
    "    scores2.append(score2)"
   ]
  },
  {
   "cell_type": "code",
   "execution_count": 171,
   "metadata": {
    "collapsed": true
   },
   "outputs": [],
   "source": [
    "scores3 = []\n",
    "times = []\n",
    "optimizer = ['SGD', 'RMSprop', 'Adagrad', 'Adadelta', 'Adam', 'Adamax', 'Nadam']\n",
    "\n",
    "for x in optimizer:\n",
    "    #Create Model\n",
    "    model3 = Sequential()\n",
    "    model3.add(Dense(28, input_dim=28, kernel_initializer='normal', activation='tanh'))\n",
    "    model3.add(Dense(14, kernel_initializer='normal', activation='tanh'))\n",
    "    model3.add(Dense(1, kernel_initializer='normal', activation='sigmoid'))\n",
    "    # Compile model\n",
    "    model3.compile(loss='binary_crossentropy', optimizer=x, metrics=['accuracy'])\n",
    "    \n",
    "    #Fitting Model\n",
    "    model3.fit(x_train, y_train, epochs=1, batch_size=2, verbose=0)\n",
    "    times.append(x)\n",
    "    score3 = model3.evaluate(x_test, y_test, verbose=0)[1]\n",
    "    scores3.append(score3)"
   ]
  },
  {
   "cell_type": "code",
   "execution_count": 172,
   "metadata": {
    "collapsed": true
   },
   "outputs": [],
   "source": [
    "final_optimizer = pd.DataFrame()\n",
    "final_optimizer['Optimizer'] = times\n",
    "final_optimizer['ReLu'] = scores\n",
    "final_optimizer['Sigmoid'] = scores2\n",
    "final_optimizer['Tanh'] = scores3"
   ]
  },
  {
   "cell_type": "code",
   "execution_count": 173,
   "metadata": {
    "scrolled": true
   },
   "outputs": [
    {
     "data": {
      "text/html": [
       "<div>\n",
       "<style>\n",
       "    .dataframe thead tr:only-child th {\n",
       "        text-align: right;\n",
       "    }\n",
       "\n",
       "    .dataframe thead th {\n",
       "        text-align: left;\n",
       "    }\n",
       "\n",
       "    .dataframe tbody tr th {\n",
       "        vertical-align: top;\n",
       "    }\n",
       "</style>\n",
       "<table border=\"1\" class=\"dataframe\">\n",
       "  <thead>\n",
       "    <tr style=\"text-align: right;\">\n",
       "      <th></th>\n",
       "      <th>Optimizer</th>\n",
       "      <th>ReLu</th>\n",
       "      <th>Sigmoid</th>\n",
       "      <th>Tanh</th>\n",
       "    </tr>\n",
       "  </thead>\n",
       "  <tbody>\n",
       "    <tr>\n",
       "      <th>0</th>\n",
       "      <td>SGD</td>\n",
       "      <td>0.786260</td>\n",
       "      <td>0.78626</td>\n",
       "      <td>0.786260</td>\n",
       "    </tr>\n",
       "    <tr>\n",
       "      <th>1</th>\n",
       "      <td>RMSprop</td>\n",
       "      <td>0.763359</td>\n",
       "      <td>0.78626</td>\n",
       "      <td>0.786260</td>\n",
       "    </tr>\n",
       "    <tr>\n",
       "      <th>2</th>\n",
       "      <td>Adagrad</td>\n",
       "      <td>0.770992</td>\n",
       "      <td>0.78626</td>\n",
       "      <td>0.786260</td>\n",
       "    </tr>\n",
       "    <tr>\n",
       "      <th>3</th>\n",
       "      <td>Adadelta</td>\n",
       "      <td>0.732824</td>\n",
       "      <td>0.78626</td>\n",
       "      <td>0.748092</td>\n",
       "    </tr>\n",
       "    <tr>\n",
       "      <th>4</th>\n",
       "      <td>Adam</td>\n",
       "      <td>0.755725</td>\n",
       "      <td>0.78626</td>\n",
       "      <td>0.786260</td>\n",
       "    </tr>\n",
       "    <tr>\n",
       "      <th>5</th>\n",
       "      <td>Adamax</td>\n",
       "      <td>0.755725</td>\n",
       "      <td>0.78626</td>\n",
       "      <td>0.786260</td>\n",
       "    </tr>\n",
       "    <tr>\n",
       "      <th>6</th>\n",
       "      <td>Nadam</td>\n",
       "      <td>0.740458</td>\n",
       "      <td>0.78626</td>\n",
       "      <td>0.778626</td>\n",
       "    </tr>\n",
       "  </tbody>\n",
       "</table>\n",
       "</div>"
      ],
      "text/plain": [
       "  Optimizer      ReLu  Sigmoid      Tanh\n",
       "0       SGD  0.786260  0.78626  0.786260\n",
       "1   RMSprop  0.763359  0.78626  0.786260\n",
       "2   Adagrad  0.770992  0.78626  0.786260\n",
       "3  Adadelta  0.732824  0.78626  0.748092\n",
       "4      Adam  0.755725  0.78626  0.786260\n",
       "5    Adamax  0.755725  0.78626  0.786260\n",
       "6     Nadam  0.740458  0.78626  0.778626"
      ]
     },
     "execution_count": 173,
     "metadata": {},
     "output_type": "execute_result"
    }
   ],
   "source": [
    "final_optimizer"
   ]
  },
  {
   "cell_type": "code",
   "execution_count": 176,
   "metadata": {},
   "outputs": [
    {
     "data": {
      "image/png": "[encoded data removed]",
      "text/plain": [
       "<matplotlib.figure.Figure at 0x1a20dc1860>"
      ]
     },
     "metadata": {},
     "output_type": "display_data"
    }
   ],
   "source": [
    "index = np.arange(len(times))\n",
    "\n",
    "fig, ax = plt.subplots(figsize=(15,10))\n",
    "bar_width = 0.25\n",
    "opacity = 0.7\n",
    " \n",
    "rects1 = plt.bar(index, scores, bar_width,\n",
    "                 alpha=opacity,\n",
    "                 color='b',\n",
    "                 label='ReLu')\n",
    " \n",
    "rects2 = plt.bar(index + bar_width, scores2, bar_width,\n",
    "                 alpha=opacity,\n",
    "                 color='g',\n",
    "                 label='Sigmoid')\n",
    "\n",
    "rects3 = plt.bar(index + 2*bar_width, scores3, bar_width,\n",
    "                 alpha=opacity,\n",
    "                 color='r',\n",
    "                 label='Tanh')\n",
    " \n",
    "plt.xlabel('Optimizers', size = 12)\n",
    "plt.ylabel('Scores', size = 12)\n",
    "plt.ylim(0.6,0.8)\n",
    "plt.title('Scores by Optimizers')\n",
    "plt.xticks(index + bar_width, ('SGD', 'RMSprop', 'Adagrad', 'Adadelta', 'Adam', 'Adamax', 'Nadam'), size = 12)\n",
    "plt.legend(loc='best')\n",
    " \n",
    "plt.show()"
   ]
  },
  {
   "cell_type": "markdown",
   "metadata": {},
   "source": [
    "### Since SGD is consistently the best for all 3 base models, it shall be adopted as the default optimizer"
   ]
  },
  {
   "cell_type": "code",
   "execution_count": 178,
   "metadata": {
    "collapsed": true
   },
   "outputs": [],
   "source": [
    "from keras.optimizers import SGD"
   ]
  },
  {
   "cell_type": "code",
   "execution_count": 184,
   "metadata": {
    "collapsed": true
   },
   "outputs": [],
   "source": [
    "scores = []\n",
    "times = []\n",
    "learn_rate = [0.001, 0.002, 0.003, 0.004, 0.005, 0.01, 0.02, 0.03, 0.04, 0.05, 0.1, 0.2, 0.3, 0.4, 0.5, 0.6, 0.7, 0.8, 0.9, 1.0]\n",
    "\n",
    "for x in learn_rate:\n",
    "    #Create Model\n",
    "    model = Sequential()\n",
    "    model.add(Dense(28, input_dim=28, kernel_initializer='normal', activation='relu'))\n",
    "    model.add(Dense(14, kernel_initializer='normal', activation='relu'))\n",
    "    model.add(Dense(1, kernel_initializer='normal', activation='sigmoid'))\n",
    "    # Compile model\n",
    "    optimizer = SGD(lr=x, momentum=0.0)\n",
    "    model.compile(loss='binary_crossentropy', optimizer=optimizer, metrics=['accuracy'])\n",
    "    \n",
    "    #Fitting Model\n",
    "    model.fit(x_train, y_train, epochs=63, batch_size=6, verbose=0)\n",
    "    times.append(x)\n",
    "    score = model.evaluate(x_test, y_test, verbose=0)[1]\n",
    "    scores.append(score)"
   ]
  },
  {
   "cell_type": "code",
   "execution_count": 185,
   "metadata": {
    "collapsed": true
   },
   "outputs": [],
   "source": [
    "scores2 = []\n",
    "times = []\n",
    "learn_rate = [0.001, 0.002, 0.003, 0.004, 0.005, 0.01, 0.02, 0.03, 0.04, 0.05, 0.1, 0.2, 0.3, 0.4, 0.5, 0.6, 0.7, 0.8, 0.9, 1.0]\n",
    "\n",
    "for x in learn_rate:\n",
    "    #Create Model\n",
    "    model2 = Sequential()\n",
    "    model2.add(Dense(28, input_dim=28, kernel_initializer='normal', activation='sigmoid'))\n",
    "    model2.add(Dense(14, kernel_initializer='normal', activation='sigmoid'))\n",
    "    model2.add(Dense(1, kernel_initializer='normal', activation='sigmoid'))\n",
    "    # Compile model\n",
    "    optimizer = SGD(lr=x, momentum=0.0)\n",
    "    model2.compile(loss='binary_crossentropy', optimizer=optimizer, metrics=['accuracy'])\n",
    "    \n",
    "    #Fitting Model\n",
    "    model2.fit(x_train, y_train, epochs=1, batch_size=1, verbose=0)\n",
    "    times.append(x)\n",
    "    score2 = model2.evaluate(x_test, y_test, verbose=0)[1]\n",
    "    scores2.append(score2)"
   ]
  },
  {
   "cell_type": "code",
   "execution_count": 186,
   "metadata": {
    "collapsed": true
   },
   "outputs": [],
   "source": [
    "scores3 = []\n",
    "times = []\n",
    "learn_rate = [0.001, 0.002, 0.003, 0.004, 0.005, 0.01, 0.02, 0.03, 0.04, 0.05, 0.1, 0.2, 0.3, 0.4, 0.5, 0.6, 0.7, 0.8, 0.9, 1.0]\n",
    "\n",
    "for x in learn_rate:\n",
    "    #Create Model\n",
    "    model3 = Sequential()\n",
    "    model3.add(Dense(28, input_dim=28, kernel_initializer='normal', activation='tanh'))\n",
    "    model3.add(Dense(14, kernel_initializer='normal', activation='tanh'))\n",
    "    model3.add(Dense(1, kernel_initializer='normal', activation='sigmoid'))\n",
    "    # Compile model\n",
    "    optimizer = SGD(lr=x, momentum=0.0)\n",
    "    model3.compile(loss='binary_crossentropy', optimizer=optimizer, metrics=['accuracy'])\n",
    "    \n",
    "    #Fitting Model\n",
    "    model3.fit(x_train, y_train, epochs=1, batch_size=2, verbose=0)\n",
    "    times.append(x)\n",
    "    score3 = model3.evaluate(x_test, y_test, verbose=0)[1]\n",
    "    scores3.append(score3)"
   ]
  },
  {
   "cell_type": "code",
   "execution_count": 187,
   "metadata": {
    "collapsed": true
   },
   "outputs": [],
   "source": [
    "final_lr = pd.DataFrame()\n",
    "final_lr['Learning_Rate'] = times\n",
    "final_lr['ReLu'] = scores\n",
    "final_lr['Sigmoid'] = scores2\n",
    "final_lr['Tanh'] = scores3"
   ]
  },
  {
   "cell_type": "code",
   "execution_count": 190,
   "metadata": {
    "scrolled": true
   },
   "outputs": [
    {
     "data": {
      "text/html": [
       "<div>\n",
       "<style>\n",
       "    .dataframe thead tr:only-child th {\n",
       "        text-align: right;\n",
       "    }\n",
       "\n",
       "    .dataframe thead th {\n",
       "        text-align: left;\n",
       "    }\n",
       "\n",
       "    .dataframe tbody tr th {\n",
       "        vertical-align: top;\n",
       "    }\n",
       "</style>\n",
       "<table border=\"1\" class=\"dataframe\">\n",
       "  <thead>\n",
       "    <tr style=\"text-align: right;\">\n",
       "      <th></th>\n",
       "      <th>ReLu</th>\n",
       "      <th>Sigmoid</th>\n",
       "      <th>Tanh</th>\n",
       "    </tr>\n",
       "    <tr>\n",
       "      <th>Learning_Rate</th>\n",
       "      <th></th>\n",
       "      <th></th>\n",
       "      <th></th>\n",
       "    </tr>\n",
       "  </thead>\n",
       "  <tbody>\n",
       "    <tr>\n",
       "      <th>0.001</th>\n",
       "      <td>0.786260</td>\n",
       "      <td>0.78626</td>\n",
       "      <td>0.786260</td>\n",
       "    </tr>\n",
       "    <tr>\n",
       "      <th>0.002</th>\n",
       "      <td>0.786260</td>\n",
       "      <td>0.78626</td>\n",
       "      <td>0.786260</td>\n",
       "    </tr>\n",
       "    <tr>\n",
       "      <th>0.003</th>\n",
       "      <td>0.786260</td>\n",
       "      <td>0.78626</td>\n",
       "      <td>0.786260</td>\n",
       "    </tr>\n",
       "    <tr>\n",
       "      <th>0.004</th>\n",
       "      <td>0.786260</td>\n",
       "      <td>0.78626</td>\n",
       "      <td>0.786260</td>\n",
       "    </tr>\n",
       "    <tr>\n",
       "      <th>0.005</th>\n",
       "      <td>0.786260</td>\n",
       "      <td>0.78626</td>\n",
       "      <td>0.786260</td>\n",
       "    </tr>\n",
       "    <tr>\n",
       "      <th>0.010</th>\n",
       "      <td>0.786260</td>\n",
       "      <td>0.78626</td>\n",
       "      <td>0.786260</td>\n",
       "    </tr>\n",
       "    <tr>\n",
       "      <th>0.020</th>\n",
       "      <td>0.786260</td>\n",
       "      <td>0.78626</td>\n",
       "      <td>0.786260</td>\n",
       "    </tr>\n",
       "    <tr>\n",
       "      <th>0.030</th>\n",
       "      <td>0.770992</td>\n",
       "      <td>0.78626</td>\n",
       "      <td>0.786260</td>\n",
       "    </tr>\n",
       "    <tr>\n",
       "      <th>0.040</th>\n",
       "      <td>0.778626</td>\n",
       "      <td>0.78626</td>\n",
       "      <td>0.786260</td>\n",
       "    </tr>\n",
       "    <tr>\n",
       "      <th>0.050</th>\n",
       "      <td>0.709924</td>\n",
       "      <td>0.78626</td>\n",
       "      <td>0.786260</td>\n",
       "    </tr>\n",
       "    <tr>\n",
       "      <th>0.100</th>\n",
       "      <td>0.709924</td>\n",
       "      <td>0.78626</td>\n",
       "      <td>0.786260</td>\n",
       "    </tr>\n",
       "    <tr>\n",
       "      <th>0.200</th>\n",
       "      <td>0.694656</td>\n",
       "      <td>0.78626</td>\n",
       "      <td>0.786260</td>\n",
       "    </tr>\n",
       "    <tr>\n",
       "      <th>0.300</th>\n",
       "      <td>0.694656</td>\n",
       "      <td>0.78626</td>\n",
       "      <td>0.786260</td>\n",
       "    </tr>\n",
       "    <tr>\n",
       "      <th>0.400</th>\n",
       "      <td>0.717557</td>\n",
       "      <td>0.78626</td>\n",
       "      <td>0.725191</td>\n",
       "    </tr>\n",
       "    <tr>\n",
       "      <th>0.500</th>\n",
       "      <td>0.679389</td>\n",
       "      <td>0.78626</td>\n",
       "      <td>0.786260</td>\n",
       "    </tr>\n",
       "    <tr>\n",
       "      <th>0.600</th>\n",
       "      <td>0.725191</td>\n",
       "      <td>0.78626</td>\n",
       "      <td>0.770992</td>\n",
       "    </tr>\n",
       "    <tr>\n",
       "      <th>0.700</th>\n",
       "      <td>0.709924</td>\n",
       "      <td>0.78626</td>\n",
       "      <td>0.748092</td>\n",
       "    </tr>\n",
       "    <tr>\n",
       "      <th>0.800</th>\n",
       "      <td>0.786260</td>\n",
       "      <td>0.78626</td>\n",
       "      <td>0.610687</td>\n",
       "    </tr>\n",
       "    <tr>\n",
       "      <th>0.900</th>\n",
       "      <td>0.748092</td>\n",
       "      <td>0.21374</td>\n",
       "      <td>0.732824</td>\n",
       "    </tr>\n",
       "    <tr>\n",
       "      <th>1.000</th>\n",
       "      <td>0.786260</td>\n",
       "      <td>0.78626</td>\n",
       "      <td>0.786260</td>\n",
       "    </tr>\n",
       "  </tbody>\n",
       "</table>\n",
       "</div>"
      ],
      "text/plain": [
       "                   ReLu  Sigmoid      Tanh\n",
       "Learning_Rate                             \n",
       "0.001          0.786260  0.78626  0.786260\n",
       "0.002          0.786260  0.78626  0.786260\n",
       "0.003          0.786260  0.78626  0.786260\n",
       "0.004          0.786260  0.78626  0.786260\n",
       "0.005          0.786260  0.78626  0.786260\n",
       "0.010          0.786260  0.78626  0.786260\n",
       "0.020          0.786260  0.78626  0.786260\n",
       "0.030          0.770992  0.78626  0.786260\n",
       "0.040          0.778626  0.78626  0.786260\n",
       "0.050          0.709924  0.78626  0.786260\n",
       "0.100          0.709924  0.78626  0.786260\n",
       "0.200          0.694656  0.78626  0.786260\n",
       "0.300          0.694656  0.78626  0.786260\n",
       "0.400          0.717557  0.78626  0.725191\n",
       "0.500          0.679389  0.78626  0.786260\n",
       "0.600          0.725191  0.78626  0.770992\n",
       "0.700          0.709924  0.78626  0.748092\n",
       "0.800          0.786260  0.78626  0.610687\n",
       "0.900          0.748092  0.21374  0.732824\n",
       "1.000          0.786260  0.78626  0.786260"
      ]
     },
     "execution_count": 190,
     "metadata": {},
     "output_type": "execute_result"
    }
   ],
   "source": [
    "final_lr.set_index('Learning_Rate')"
   ]
  },
  {
   "cell_type": "code",
   "execution_count": 193,
   "metadata": {},
   "outputs": [
    {
     "name": "stdout",
     "output_type": "stream",
     "text": [
      "The learning rate that gave the best accuracy for ReLu Model is 0.02\n",
      "The learning rate that gave the best accuracy for Sigmoid Model is 0.001\n",
      "The learning rate that gave the best accuracy for Tanh Model is 0.2\n"
     ]
    }
   ],
   "source": [
    "print('The learning rate that gave the best accuracy for ReLu Model is {}'.format((final_lr.loc[final_lr['ReLu'].idxmax()][0])))\n",
    "print('The learning rate that gave the best accuracy for Sigmoid Model is {}'.format((final_lr.loc[final_lr['Sigmoid'].idxmax()][0])))\n",
    "print('The learning rate that gave the best accuracy for Tanh Model is {}'.format((final_lr.loc[final_lr['Tanh'].idxmax()][0])))"
   ]
  },
  {
   "cell_type": "code",
   "execution_count": 194,
   "metadata": {
    "scrolled": false
   },
   "outputs": [
    {
     "data": {
      "image/png": "[encoded data removed]",
      "text/plain": [
       "<matplotlib.figure.Figure at 0x1a278b8198>"
      ]
     },
     "metadata": {},
     "output_type": "display_data"
    }
   ],
   "source": [
    "plt.figure(figsize=(15,10))\n",
    "\n",
    "plt.plot(times, scores, 'r-', label='Relu Model')\n",
    "plt.plot(times, scores2, 'b-', label='Sigmoid Model')\n",
    "plt.plot(times, scores3, '-', label='Tanh Model')\n",
    "\n",
    "plt.legend(loc='best')\n",
    "plt.xlabel('Learning Rate', size = 12)\n",
    "plt.ylabel('Accuracy', size = 12)\n",
    "plt.show()"
   ]
  },
  {
   "cell_type": "markdown",
   "metadata": {},
   "source": [
    "#### Tuning for Momentum"
   ]
  },
  {
   "cell_type": "code",
   "execution_count": 195,
   "metadata": {
    "collapsed": true
   },
   "outputs": [],
   "source": [
    "scores = []\n",
    "times = []\n",
    "momentum = [0.0, 0.1, 0.2, 0.3, 0.4, 0.5, 0.6, 0.7, 0.8, 0.9, 1.0]\n",
    "\n",
    "for x in momentum:\n",
    "    #Create Model\n",
    "    model = Sequential()\n",
    "    model.add(Dense(28, input_dim=28, kernel_initializer='normal', activation='relu'))\n",
    "    model.add(Dense(14, kernel_initializer='normal', activation='relu'))\n",
    "    model.add(Dense(1, kernel_initializer='normal', activation='sigmoid'))\n",
    "    # Compile model\n",
    "    optimizer = SGD(lr=0.02, momentum=x)\n",
    "    model.compile(loss='binary_crossentropy', optimizer=optimizer, metrics=['accuracy'])\n",
    "    \n",
    "    #Fitting Model\n",
    "    model.fit(x_train, y_train, epochs=63, batch_size=6, verbose=0)\n",
    "    times.append(x)\n",
    "    score = model.evaluate(x_test, y_test, verbose=0)[1]\n",
    "    scores.append(score)"
   ]
  },
  {
   "cell_type": "code",
   "execution_count": 196,
   "metadata": {
    "collapsed": true
   },
   "outputs": [],
   "source": [
    "scores2 = []\n",
    "times = []\n",
    "momentum = [0.0, 0.1, 0.2, 0.3, 0.4, 0.5, 0.6, 0.7, 0.8, 0.9, 1.0]\n",
    "\n",
    "for x in momentum:\n",
    "    #Create Model\n",
    "    model2 = Sequential()\n",
    "    model2.add(Dense(28, input_dim=28, kernel_initializer='normal', activation='sigmoid'))\n",
    "    model2.add(Dense(14, kernel_initializer='normal', activation='sigmoid'))\n",
    "    model2.add(Dense(1, kernel_initializer='normal', activation='sigmoid'))\n",
    "    # Compile model\n",
    "    optimizer = SGD(lr=0.001, momentum=x)\n",
    "    model2.compile(loss='binary_crossentropy', optimizer=optimizer, metrics=['accuracy'])\n",
    "    \n",
    "    #Fitting Model\n",
    "    model2.fit(x_train, y_train, epochs=1, batch_size=1, verbose=0)\n",
    "    times.append(x)\n",
    "    score2 = model2.evaluate(x_test, y_test, verbose=0)[1]\n",
    "    scores2.append(score2)"
   ]
  },
  {
   "cell_type": "code",
   "execution_count": 197,
   "metadata": {
    "collapsed": true
   },
   "outputs": [],
   "source": [
    "scores3 = []\n",
    "times = []\n",
    "momentum = [0.0, 0.1, 0.2, 0.3, 0.4, 0.5, 0.6, 0.7, 0.8, 0.9, 1.0]\n",
    "\n",
    "for x in momentum:\n",
    "    #Create Model\n",
    "    model3 = Sequential()\n",
    "    model3.add(Dense(28, input_dim=28, kernel_initializer='normal', activation='tanh'))\n",
    "    model3.add(Dense(14, kernel_initializer='normal', activation='tanh'))\n",
    "    model3.add(Dense(1, kernel_initializer='normal', activation='sigmoid'))\n",
    "    # Compile model\n",
    "    optimizer = SGD(lr=0.2, momentum=x)\n",
    "    model3.compile(loss='binary_crossentropy', optimizer=optimizer, metrics=['accuracy'])\n",
    "    \n",
    "    #Fitting Model\n",
    "    model3.fit(x_train, y_train, epochs=1, batch_size=2, verbose=0)\n",
    "    times.append(x)\n",
    "    score3 = model3.evaluate(x_test, y_test, verbose=0)[1]\n",
    "    scores3.append(score3)"
   ]
  },
  {
   "cell_type": "code",
   "execution_count": 200,
   "metadata": {
    "collapsed": true
   },
   "outputs": [],
   "source": [
    "final_momentum = pd.DataFrame()\n",
    "final_momentum['Momentum'] = times\n",
    "final_momentum['ReLu'] = scores\n",
    "final_momentum['Sigmoid'] = scores2\n",
    "final_momentum['Tanh'] = scores3"
   ]
  },
  {
   "cell_type": "code",
   "execution_count": 201,
   "metadata": {
    "scrolled": true
   },
   "outputs": [
    {
     "data": {
      "text/html": [
       "<div>\n",
       "<style>\n",
       "    .dataframe thead tr:only-child th {\n",
       "        text-align: right;\n",
       "    }\n",
       "\n",
       "    .dataframe thead th {\n",
       "        text-align: left;\n",
       "    }\n",
       "\n",
       "    .dataframe tbody tr th {\n",
       "        vertical-align: top;\n",
       "    }\n",
       "</style>\n",
       "<table border=\"1\" class=\"dataframe\">\n",
       "  <thead>\n",
       "    <tr style=\"text-align: right;\">\n",
       "      <th></th>\n",
       "      <th>ReLu</th>\n",
       "      <th>Sigmoid</th>\n",
       "      <th>Tanh</th>\n",
       "    </tr>\n",
       "    <tr>\n",
       "      <th>Momentum</th>\n",
       "      <th></th>\n",
       "      <th></th>\n",
       "      <th></th>\n",
       "    </tr>\n",
       "  </thead>\n",
       "  <tbody>\n",
       "    <tr>\n",
       "      <th>0.0</th>\n",
       "      <td>0.801527</td>\n",
       "      <td>0.78626</td>\n",
       "      <td>0.786260</td>\n",
       "    </tr>\n",
       "    <tr>\n",
       "      <th>0.1</th>\n",
       "      <td>0.786260</td>\n",
       "      <td>0.78626</td>\n",
       "      <td>0.786260</td>\n",
       "    </tr>\n",
       "    <tr>\n",
       "      <th>0.2</th>\n",
       "      <td>0.809160</td>\n",
       "      <td>0.78626</td>\n",
       "      <td>0.786260</td>\n",
       "    </tr>\n",
       "    <tr>\n",
       "      <th>0.3</th>\n",
       "      <td>0.793893</td>\n",
       "      <td>0.78626</td>\n",
       "      <td>0.786260</td>\n",
       "    </tr>\n",
       "    <tr>\n",
       "      <th>0.4</th>\n",
       "      <td>0.793893</td>\n",
       "      <td>0.78626</td>\n",
       "      <td>0.793893</td>\n",
       "    </tr>\n",
       "    <tr>\n",
       "      <th>0.5</th>\n",
       "      <td>0.748092</td>\n",
       "      <td>0.78626</td>\n",
       "      <td>0.587786</td>\n",
       "    </tr>\n",
       "    <tr>\n",
       "      <th>0.6</th>\n",
       "      <td>0.725191</td>\n",
       "      <td>0.78626</td>\n",
       "      <td>0.786260</td>\n",
       "    </tr>\n",
       "    <tr>\n",
       "      <th>0.7</th>\n",
       "      <td>0.725191</td>\n",
       "      <td>0.78626</td>\n",
       "      <td>0.801527</td>\n",
       "    </tr>\n",
       "    <tr>\n",
       "      <th>0.8</th>\n",
       "      <td>0.702290</td>\n",
       "      <td>0.78626</td>\n",
       "      <td>0.786260</td>\n",
       "    </tr>\n",
       "    <tr>\n",
       "      <th>0.9</th>\n",
       "      <td>0.694656</td>\n",
       "      <td>0.78626</td>\n",
       "      <td>0.786260</td>\n",
       "    </tr>\n",
       "    <tr>\n",
       "      <th>1.0</th>\n",
       "      <td>0.786260</td>\n",
       "      <td>0.21374</td>\n",
       "      <td>0.786260</td>\n",
       "    </tr>\n",
       "  </tbody>\n",
       "</table>\n",
       "</div>"
      ],
      "text/plain": [
       "              ReLu  Sigmoid      Tanh\n",
       "Momentum                             \n",
       "0.0       0.801527  0.78626  0.786260\n",
       "0.1       0.786260  0.78626  0.786260\n",
       "0.2       0.809160  0.78626  0.786260\n",
       "0.3       0.793893  0.78626  0.786260\n",
       "0.4       0.793893  0.78626  0.793893\n",
       "0.5       0.748092  0.78626  0.587786\n",
       "0.6       0.725191  0.78626  0.786260\n",
       "0.7       0.725191  0.78626  0.801527\n",
       "0.8       0.702290  0.78626  0.786260\n",
       "0.9       0.694656  0.78626  0.786260\n",
       "1.0       0.786260  0.21374  0.786260"
      ]
     },
     "execution_count": 201,
     "metadata": {},
     "output_type": "execute_result"
    }
   ],
   "source": [
    "final_momentum.set_index('Momentum')"
   ]
  },
  {
   "cell_type": "code",
   "execution_count": 202,
   "metadata": {},
   "outputs": [
    {
     "name": "stdout",
     "output_type": "stream",
     "text": [
      "The momentum that gave the best accuracy for ReLu Model is 0.2\n",
      "The momentum that gave the best accuracy for Sigmoid Model is 0.0\n",
      "The momentum that gave the best accuracy for Tanh Model is 0.7\n"
     ]
    }
   ],
   "source": [
    "print('The momentum that gave the best accuracy for ReLu Model is {}'.format((final_momentum.loc[final_momentum['ReLu'].idxmax()][0])))\n",
    "print('The momentum that gave the best accuracy for Sigmoid Model is {}'.format((final_momentum.loc[final_momentum['Sigmoid'].idxmax()][0])))\n",
    "print('The momentum that gave the best accuracy for Tanh Model is {}'.format((final_momentum.loc[final_momentum['Tanh'].idxmax()][0])))"
   ]
  },
  {
   "cell_type": "code",
   "execution_count": 203,
   "metadata": {
    "scrolled": false
   },
   "outputs": [
    {
     "data": {
      "image/png": "[encoded data removed]",
      "text/plain": [
       "<matplotlib.figure.Figure at 0x1a34fb82e8>"
      ]
     },
     "metadata": {},
     "output_type": "display_data"
    }
   ],
   "source": [
    "plt.figure(figsize=(15,10))\n",
    "\n",
    "plt.plot(times, scores, 'r-', label='Relu Model')\n",
    "plt.plot(times, scores2, 'b-', label='Sigmoid Model')\n",
    "plt.plot(times, scores3, '-', label='Tanh Model')\n",
    "\n",
    "plt.legend(loc='best')\n",
    "plt.xlabel('Momentum', size = 12)\n",
    "plt.ylabel('Accuracy', size = 12)\n",
    "plt.show()"
   ]
  },
  {
   "cell_type": "code",
   "execution_count": 204,
   "metadata": {
    "collapsed": true
   },
   "outputs": [],
   "source": [
    "#Model Creation\n",
    "model = Sequential()\n",
    "model.add(Dense(28, input_dim=28, kernel_initializer='normal', activation='relu'))\n",
    "model.add(Dense(14, kernel_initializer='normal', activation='relu'))\n",
    "model.add(Dense(1, kernel_initializer='normal', activation='sigmoid'))\n",
    "\n",
    "#Model Compilation\n",
    "optimizer = SGD(lr=0.02, momentum=0.2)\n",
    "model.compile(loss='binary_crossentropy', optimizer=optimizer, metrics=['accuracy'])"
   ]
  },
  {
   "cell_type": "code",
   "execution_count": 205,
   "metadata": {},
   "outputs": [
    {
     "data": {
      "text/plain": [
       "<keras.callbacks.History at 0x1a20e1b7b8>"
      ]
     },
     "execution_count": 205,
     "metadata": {},
     "output_type": "execute_result"
    }
   ],
   "source": [
    "model.fit(x_train, y_train, epochs=63, batch_size=6, verbose=0)"
   ]
  },
  {
   "cell_type": "code",
   "execution_count": 206,
   "metadata": {
    "collapsed": true
   },
   "outputs": [],
   "source": [
    "predictions = model.predict(x_test)"
   ]
  },
  {
   "cell_type": "code",
   "execution_count": 207,
   "metadata": {},
   "outputs": [
    {
     "data": {
      "text/plain": [
       "<matplotlib.axes._subplots.AxesSubplot at 0x1a3aea7d30>"
      ]
     },
     "execution_count": 207,
     "metadata": {},
     "output_type": "execute_result"
    },
    {
     "data": {
      "image/png": "[encoded data removed]",
      "text/plain": [
       "<matplotlib.figure.Figure at 0x1a3726efd0>"
      ]
     },
     "metadata": {},
     "output_type": "display_data"
    }
   ],
   "source": [
    "threshold = 0.5\n",
    "predictions = (predictions > threshold)\n",
    "\n",
    "cm = confusion_matrix(y_test, predictions)\n",
    "plt.figure(figsize = (5,5))\n",
    "\n",
    "sns.heatmap(cm, annot=True, fmt=\"d\")"
   ]
  },
  {
   "cell_type": "code",
   "execution_count": 208,
   "metadata": {},
   "outputs": [
    {
     "data": {
      "image/png": "[encoded data removed]",
      "text/plain": [
       "<matplotlib.figure.Figure at 0x1a3af53c18>"
      ]
     },
     "metadata": {},
     "output_type": "display_data"
    }
   ],
   "source": [
    "y_pred_keras = model.predict(x_test).ravel()\n",
    "fpr_keras, tpr_keras, thresholds_keras = roc_curve(y_test, y_pred_keras)\n",
    "auc_keras = auc(fpr_keras, tpr_keras)\n",
    "\n",
    "plt.title('Receiver Operating Characteristic')\n",
    "plt.plot(fpr_keras, tpr_keras, 'b', label = 'AUC = %0.2f' % auc_keras)\n",
    "plt.legend(loc = 'lower right')\n",
    "plt.plot([0, 1], [0, 1],'r--')\n",
    "plt.xlim([0, 1])\n",
    "plt.ylim([0, 1])\n",
    "plt.ylabel('True Positive Rate')\n",
    "plt.xlabel('False Positive Rate')\n",
    "plt.show()"
   ]
  },
  {
   "cell_type": "code",
   "execution_count": 209,
   "metadata": {
    "scrolled": true
   },
   "outputs": [
    {
     "name": "stdout",
     "output_type": "stream",
     "text": [
      "Accuracy of Base Model: 0.76 \n",
      "131/131 [==============================] - 3s 22ms/step\n",
      "\n",
      "acc: 76.34%\n"
     ]
    }
   ],
   "source": [
    "score = round(accuracy_score(y_test, predictions),2)\n",
    "\n",
    "print('Accuracy of Base Model: {} '.format(score))\n",
    "\n",
    "scores = model.evaluate(x_test, y_test)\n",
    "print(\"\\n%s: %.2f%%\" % (model.metrics_names[1], scores[1]*100))"
   ]
  },
  {
   "cell_type": "markdown",
   "metadata": {},
   "source": [
    "### Changing for Training Size"
   ]
  },
  {
   "cell_type": "code",
   "execution_count": 229,
   "metadata": {
    "collapsed": true
   },
   "outputs": [],
   "source": [
    "size = np.linspace(0.1,1,100)"
   ]
  },
  {
   "cell_type": "code",
   "execution_count": 237,
   "metadata": {
    "collapsed": true
   },
   "outputs": [],
   "source": [
    "sample_size = x_train.shape[0]*size"
   ]
  },
  {
   "cell_type": "code",
   "execution_count": 245,
   "metadata": {
    "collapsed": true
   },
   "outputs": [],
   "source": [
    "training_space = []\n",
    "\n",
    "for i in sample_size:\n",
    "    training_space.append(int(i))"
   ]
  },
  {
   "cell_type": "code",
   "execution_count": 284,
   "metadata": {
    "collapsed": true,
    "scrolled": true
   },
   "outputs": [],
   "source": [
    "test_scores_1 = []\n",
    "train_scores_1 = []\n",
    "\n",
    "for i in training_space:\n",
    "\n",
    "    x_new = x_train.sample(i, random_state = 777)\n",
    "    y_list = list(x_train.sample(i, random_state = 777).index)\n",
    "    \n",
    "    y_new = []\n",
    "    \n",
    "    for z in y_list:\n",
    "        \n",
    "        y_new.append(y_train[z])\n",
    "        \n",
    "    y_new = pd.DataFrame(y_new)\n",
    "    \n",
    "    #Model Creation\n",
    "    model = Sequential()\n",
    "    model.add(Dense(28, input_dim=28, kernel_initializer='normal', activation='relu'))\n",
    "    model.add(Dense(14, kernel_initializer='normal', activation='relu'))\n",
    "    model.add(Dense(1, kernel_initializer='normal', activation='sigmoid'))\n",
    "\n",
    "    #Model Compilation\n",
    "    optimizer = SGD(lr=0.02, momentum=0.2)\n",
    "    model.compile(loss='binary_crossentropy', optimizer=optimizer, metrics=['accuracy'])\n",
    "    \n",
    "    model.fit(x_new, y_new, epochs=63, batch_size=6, verbose=0)\n",
    "    \n",
    "    scores = model.evaluate(x_train, y_train, verbose=0)\n",
    "    train_scores_1.append(scores[1])\n",
    "    scores = model.evaluate(x_test, y_test, verbose=0)\n",
    "    test_scores_1.append(scores[1])"
   ]
  },
  {
   "cell_type": "code",
   "execution_count": 285,
   "metadata": {
    "collapsed": true,
    "scrolled": true
   },
   "outputs": [],
   "source": [
    "test_scores_2 = []\n",
    "train_scores_2 = []\n",
    "\n",
    "for i in training_space:\n",
    "\n",
    "    x_new = x_train.sample(i, random_state = 777)\n",
    "    y_list = list(x_train.sample(i, random_state = 777).index)\n",
    "    \n",
    "    y_new = []\n",
    "    \n",
    "    for z in y_list:\n",
    "        \n",
    "        y_new.append(y_train[z])\n",
    "        \n",
    "    y_new = pd.DataFrame(y_new)\n",
    "    \n",
    "    #Model Creation\n",
    "    model2 = Sequential()\n",
    "    model2.add(Dense(28, input_dim=28, kernel_initializer='normal', activation='sigmoid'))\n",
    "    model2.add(Dense(14, kernel_initializer='normal', activation='sigmoid'))\n",
    "    model2.add(Dense(1, kernel_initializer='normal', activation='sigmoid'))\n",
    "\n",
    "    #Model Compilation\n",
    "    optimizer = SGD(lr=0.001, momentum=0.0)\n",
    "    model2.compile(loss='binary_crossentropy', optimizer=optimizer, metrics=['accuracy'])\n",
    "    \n",
    "    model2.fit(x_new, y_new, epochs=1, batch_size=1, verbose=0)\n",
    "    \n",
    "    scores = model2.evaluate(x_train, y_train, verbose=0)\n",
    "    train_scores_2.append(scores[1])\n",
    "    scores = model2.evaluate(x_test, y_test, verbose=0)\n",
    "    test_scores_2.append(scores[1])"
   ]
  },
  {
   "cell_type": "code",
   "execution_count": 286,
   "metadata": {
    "collapsed": true,
    "scrolled": true
   },
   "outputs": [],
   "source": [
    "test_scores_3 = []\n",
    "train_scores_3 = []\n",
    "\n",
    "for i in training_space:\n",
    "\n",
    "    x_new = x_train.sample(i, random_state = 777)\n",
    "    y_list = list(x_train.sample(i, random_state = 777).index)\n",
    "    \n",
    "    y_new = []\n",
    "    \n",
    "    for z in y_list:\n",
    "        \n",
    "        y_new.append(y_train[z])\n",
    "        \n",
    "    y_new = pd.DataFrame(y_new)\n",
    "    \n",
    "    #Model Creation\n",
    "    model3 = Sequential()\n",
    "    model3.add(Dense(28, input_dim=28, kernel_initializer='normal', activation='tanh'))\n",
    "    model3.add(Dense(14, kernel_initializer='normal', activation='tanh'))\n",
    "    model3.add(Dense(1, kernel_initializer='normal', activation='sigmoid'))\n",
    "\n",
    "    #Model Compilation\n",
    "    optimizer = SGD(lr=0.2, momentum=0.7)\n",
    "    model3.compile(loss='binary_crossentropy', optimizer=optimizer, metrics=['accuracy'])\n",
    "    \n",
    "    model3.fit(x_new, y_new, epochs=1, batch_size=2, verbose=0)\n",
    "    \n",
    "    scores = model3.evaluate(x_train, y_train, verbose=0)\n",
    "    train_scores_3.append(scores[1])\n",
    "    scores = model3.evaluate(x_test, y_test, verbose=0)\n",
    "    test_scores_3.append(scores[1])"
   ]
  },
  {
   "cell_type": "code",
   "execution_count": 287,
   "metadata": {
    "collapsed": true
   },
   "outputs": [],
   "source": [
    "final_ts = pd.DataFrame()\n",
    "final_ts['Training_Size'] = training_space\n",
    "final_ts['ReLu_Train'] = train_scores_1\n",
    "final_ts['ReLu_Test'] = test_scores_1\n",
    "final_ts['Sigmoid_Train'] = train_scores_2\n",
    "final_ts['Sigmoid_Test'] = test_scores_2\n",
    "final_ts['Tanh_Train'] = train_scores_3\n",
    "final_ts['Tanh_Test'] = test_scores_3"
   ]
  },
  {
   "cell_type": "code",
   "execution_count": 288,
   "metadata": {
    "scrolled": true
   },
   "outputs": [
    {
     "data": {
      "text/html": [
       "<div>\n",
       "<style>\n",
       "    .dataframe thead tr:only-child th {\n",
       "        text-align: right;\n",
       "    }\n",
       "\n",
       "    .dataframe thead th {\n",
       "        text-align: left;\n",
       "    }\n",
       "\n",
       "    .dataframe tbody tr th {\n",
       "        vertical-align: top;\n",
       "    }\n",
       "</style>\n",
       "<table border=\"1\" class=\"dataframe\">\n",
       "  <thead>\n",
       "    <tr style=\"text-align: right;\">\n",
       "      <th></th>\n",
       "      <th>ReLu_Train</th>\n",
       "      <th>ReLu_Test</th>\n",
       "      <th>Sigmoid_Train</th>\n",
       "      <th>Sigmoid_Test</th>\n",
       "      <th>Tanh_Train</th>\n",
       "      <th>Tanh_Test</th>\n",
       "    </tr>\n",
       "    <tr>\n",
       "      <th>Training_Size</th>\n",
       "      <th></th>\n",
       "      <th></th>\n",
       "      <th></th>\n",
       "      <th></th>\n",
       "      <th></th>\n",
       "      <th></th>\n",
       "    </tr>\n",
       "  </thead>\n",
       "  <tbody>\n",
       "    <tr>\n",
       "      <th>26</th>\n",
       "      <td>0.738636</td>\n",
       "      <td>0.786260</td>\n",
       "      <td>0.261364</td>\n",
       "      <td>0.21374</td>\n",
       "      <td>0.738636</td>\n",
       "      <td>0.786260</td>\n",
       "    </tr>\n",
       "    <tr>\n",
       "      <th>28</th>\n",
       "      <td>0.738636</td>\n",
       "      <td>0.786260</td>\n",
       "      <td>0.261364</td>\n",
       "      <td>0.21374</td>\n",
       "      <td>0.738636</td>\n",
       "      <td>0.786260</td>\n",
       "    </tr>\n",
       "    <tr>\n",
       "      <th>31</th>\n",
       "      <td>0.738636</td>\n",
       "      <td>0.786260</td>\n",
       "      <td>0.738636</td>\n",
       "      <td>0.78626</td>\n",
       "      <td>0.738636</td>\n",
       "      <td>0.786260</td>\n",
       "    </tr>\n",
       "    <tr>\n",
       "      <th>33</th>\n",
       "      <td>0.738636</td>\n",
       "      <td>0.786260</td>\n",
       "      <td>0.261364</td>\n",
       "      <td>0.21374</td>\n",
       "      <td>0.738636</td>\n",
       "      <td>0.786260</td>\n",
       "    </tr>\n",
       "    <tr>\n",
       "      <th>36</th>\n",
       "      <td>0.738636</td>\n",
       "      <td>0.786260</td>\n",
       "      <td>0.738636</td>\n",
       "      <td>0.78626</td>\n",
       "      <td>0.738636</td>\n",
       "      <td>0.786260</td>\n",
       "    </tr>\n",
       "    <tr>\n",
       "      <th>38</th>\n",
       "      <td>0.738636</td>\n",
       "      <td>0.786260</td>\n",
       "      <td>0.738636</td>\n",
       "      <td>0.78626</td>\n",
       "      <td>0.738636</td>\n",
       "      <td>0.786260</td>\n",
       "    </tr>\n",
       "    <tr>\n",
       "      <th>40</th>\n",
       "      <td>0.738636</td>\n",
       "      <td>0.786260</td>\n",
       "      <td>0.738636</td>\n",
       "      <td>0.78626</td>\n",
       "      <td>0.738636</td>\n",
       "      <td>0.786260</td>\n",
       "    </tr>\n",
       "    <tr>\n",
       "      <th>43</th>\n",
       "      <td>0.738636</td>\n",
       "      <td>0.786260</td>\n",
       "      <td>0.261364</td>\n",
       "      <td>0.21374</td>\n",
       "      <td>0.738636</td>\n",
       "      <td>0.786260</td>\n",
       "    </tr>\n",
       "    <tr>\n",
       "      <th>45</th>\n",
       "      <td>0.738636</td>\n",
       "      <td>0.786260</td>\n",
       "      <td>0.738636</td>\n",
       "      <td>0.78626</td>\n",
       "      <td>0.738636</td>\n",
       "      <td>0.786260</td>\n",
       "    </tr>\n",
       "    <tr>\n",
       "      <th>48</th>\n",
       "      <td>0.738636</td>\n",
       "      <td>0.786260</td>\n",
       "      <td>0.261364</td>\n",
       "      <td>0.21374</td>\n",
       "      <td>0.738636</td>\n",
       "      <td>0.786260</td>\n",
       "    </tr>\n",
       "    <tr>\n",
       "      <th>50</th>\n",
       "      <td>0.738636</td>\n",
       "      <td>0.786260</td>\n",
       "      <td>0.738636</td>\n",
       "      <td>0.78626</td>\n",
       "      <td>0.738636</td>\n",
       "      <td>0.786260</td>\n",
       "    </tr>\n",
       "    <tr>\n",
       "      <th>52</th>\n",
       "      <td>0.738636</td>\n",
       "      <td>0.786260</td>\n",
       "      <td>0.738636</td>\n",
       "      <td>0.78626</td>\n",
       "      <td>0.738636</td>\n",
       "      <td>0.786260</td>\n",
       "    </tr>\n",
       "    <tr>\n",
       "      <th>55</th>\n",
       "      <td>0.738636</td>\n",
       "      <td>0.786260</td>\n",
       "      <td>0.738636</td>\n",
       "      <td>0.78626</td>\n",
       "      <td>0.738636</td>\n",
       "      <td>0.786260</td>\n",
       "    </tr>\n",
       "    <tr>\n",
       "      <th>57</th>\n",
       "      <td>0.738636</td>\n",
       "      <td>0.786260</td>\n",
       "      <td>0.261364</td>\n",
       "      <td>0.21374</td>\n",
       "      <td>0.738636</td>\n",
       "      <td>0.786260</td>\n",
       "    </tr>\n",
       "    <tr>\n",
       "      <th>60</th>\n",
       "      <td>0.738636</td>\n",
       "      <td>0.786260</td>\n",
       "      <td>0.738636</td>\n",
       "      <td>0.78626</td>\n",
       "      <td>0.738636</td>\n",
       "      <td>0.786260</td>\n",
       "    </tr>\n",
       "    <tr>\n",
       "      <th>62</th>\n",
       "      <td>0.738636</td>\n",
       "      <td>0.786260</td>\n",
       "      <td>0.738636</td>\n",
       "      <td>0.78626</td>\n",
       "      <td>0.738636</td>\n",
       "      <td>0.786260</td>\n",
       "    </tr>\n",
       "    <tr>\n",
       "      <th>64</th>\n",
       "      <td>0.738636</td>\n",
       "      <td>0.786260</td>\n",
       "      <td>0.738636</td>\n",
       "      <td>0.78626</td>\n",
       "      <td>0.738636</td>\n",
       "      <td>0.786260</td>\n",
       "    </tr>\n",
       "    <tr>\n",
       "      <th>67</th>\n",
       "      <td>0.738636</td>\n",
       "      <td>0.786260</td>\n",
       "      <td>0.261364</td>\n",
       "      <td>0.21374</td>\n",
       "      <td>0.738636</td>\n",
       "      <td>0.786260</td>\n",
       "    </tr>\n",
       "    <tr>\n",
       "      <th>69</th>\n",
       "      <td>0.738636</td>\n",
       "      <td>0.786260</td>\n",
       "      <td>0.738636</td>\n",
       "      <td>0.78626</td>\n",
       "      <td>0.738636</td>\n",
       "      <td>0.786260</td>\n",
       "    </tr>\n",
       "    <tr>\n",
       "      <th>72</th>\n",
       "      <td>0.738636</td>\n",
       "      <td>0.786260</td>\n",
       "      <td>0.738636</td>\n",
       "      <td>0.78626</td>\n",
       "      <td>0.738636</td>\n",
       "      <td>0.786260</td>\n",
       "    </tr>\n",
       "    <tr>\n",
       "      <th>74</th>\n",
       "      <td>0.738636</td>\n",
       "      <td>0.786260</td>\n",
       "      <td>0.738636</td>\n",
       "      <td>0.78626</td>\n",
       "      <td>0.738636</td>\n",
       "      <td>0.786260</td>\n",
       "    </tr>\n",
       "    <tr>\n",
       "      <th>76</th>\n",
       "      <td>0.738636</td>\n",
       "      <td>0.786260</td>\n",
       "      <td>0.738636</td>\n",
       "      <td>0.78626</td>\n",
       "      <td>0.738636</td>\n",
       "      <td>0.786260</td>\n",
       "    </tr>\n",
       "    <tr>\n",
       "      <th>79</th>\n",
       "      <td>0.738636</td>\n",
       "      <td>0.786260</td>\n",
       "      <td>0.261364</td>\n",
       "      <td>0.21374</td>\n",
       "      <td>0.738636</td>\n",
       "      <td>0.786260</td>\n",
       "    </tr>\n",
       "    <tr>\n",
       "      <th>81</th>\n",
       "      <td>0.738636</td>\n",
       "      <td>0.786260</td>\n",
       "      <td>0.738636</td>\n",
       "      <td>0.78626</td>\n",
       "      <td>0.738636</td>\n",
       "      <td>0.786260</td>\n",
       "    </tr>\n",
       "    <tr>\n",
       "      <th>84</th>\n",
       "      <td>0.738636</td>\n",
       "      <td>0.786260</td>\n",
       "      <td>0.261364</td>\n",
       "      <td>0.21374</td>\n",
       "      <td>0.738636</td>\n",
       "      <td>0.786260</td>\n",
       "    </tr>\n",
       "    <tr>\n",
       "      <th>86</th>\n",
       "      <td>0.738636</td>\n",
       "      <td>0.786260</td>\n",
       "      <td>0.261364</td>\n",
       "      <td>0.21374</td>\n",
       "      <td>0.738636</td>\n",
       "      <td>0.786260</td>\n",
       "    </tr>\n",
       "    <tr>\n",
       "      <th>88</th>\n",
       "      <td>0.738636</td>\n",
       "      <td>0.786260</td>\n",
       "      <td>0.738636</td>\n",
       "      <td>0.78626</td>\n",
       "      <td>0.738636</td>\n",
       "      <td>0.786260</td>\n",
       "    </tr>\n",
       "    <tr>\n",
       "      <th>91</th>\n",
       "      <td>0.738636</td>\n",
       "      <td>0.786260</td>\n",
       "      <td>0.738636</td>\n",
       "      <td>0.78626</td>\n",
       "      <td>0.738636</td>\n",
       "      <td>0.786260</td>\n",
       "    </tr>\n",
       "    <tr>\n",
       "      <th>93</th>\n",
       "      <td>0.738636</td>\n",
       "      <td>0.786260</td>\n",
       "      <td>0.738636</td>\n",
       "      <td>0.78626</td>\n",
       "      <td>0.738636</td>\n",
       "      <td>0.786260</td>\n",
       "    </tr>\n",
       "    <tr>\n",
       "      <th>96</th>\n",
       "      <td>0.738636</td>\n",
       "      <td>0.786260</td>\n",
       "      <td>0.738636</td>\n",
       "      <td>0.78626</td>\n",
       "      <td>0.738636</td>\n",
       "      <td>0.786260</td>\n",
       "    </tr>\n",
       "    <tr>\n",
       "      <th>98</th>\n",
       "      <td>0.738636</td>\n",
       "      <td>0.786260</td>\n",
       "      <td>0.738636</td>\n",
       "      <td>0.78626</td>\n",
       "      <td>0.738636</td>\n",
       "      <td>0.786260</td>\n",
       "    </tr>\n",
       "    <tr>\n",
       "      <th>100</th>\n",
       "      <td>0.738636</td>\n",
       "      <td>0.786260</td>\n",
       "      <td>0.738636</td>\n",
       "      <td>0.78626</td>\n",
       "      <td>0.738636</td>\n",
       "      <td>0.786260</td>\n",
       "    </tr>\n",
       "    <tr>\n",
       "      <th>103</th>\n",
       "      <td>0.738636</td>\n",
       "      <td>0.786260</td>\n",
       "      <td>0.738636</td>\n",
       "      <td>0.78626</td>\n",
       "      <td>0.738636</td>\n",
       "      <td>0.786260</td>\n",
       "    </tr>\n",
       "    <tr>\n",
       "      <th>105</th>\n",
       "      <td>0.738636</td>\n",
       "      <td>0.786260</td>\n",
       "      <td>0.738636</td>\n",
       "      <td>0.78626</td>\n",
       "      <td>0.738636</td>\n",
       "      <td>0.786260</td>\n",
       "    </tr>\n",
       "    <tr>\n",
       "      <th>107</th>\n",
       "      <td>0.738636</td>\n",
       "      <td>0.786260</td>\n",
       "      <td>0.738636</td>\n",
       "      <td>0.78626</td>\n",
       "      <td>0.738636</td>\n",
       "      <td>0.786260</td>\n",
       "    </tr>\n",
       "    <tr>\n",
       "      <th>110</th>\n",
       "      <td>0.738636</td>\n",
       "      <td>0.786260</td>\n",
       "      <td>0.738636</td>\n",
       "      <td>0.78626</td>\n",
       "      <td>0.738636</td>\n",
       "      <td>0.786260</td>\n",
       "    </tr>\n",
       "    <tr>\n",
       "      <th>112</th>\n",
       "      <td>0.738636</td>\n",
       "      <td>0.786260</td>\n",
       "      <td>0.261364</td>\n",
       "      <td>0.21374</td>\n",
       "      <td>0.738636</td>\n",
       "      <td>0.786260</td>\n",
       "    </tr>\n",
       "    <tr>\n",
       "      <th>115</th>\n",
       "      <td>0.738636</td>\n",
       "      <td>0.786260</td>\n",
       "      <td>0.738636</td>\n",
       "      <td>0.78626</td>\n",
       "      <td>0.738636</td>\n",
       "      <td>0.786260</td>\n",
       "    </tr>\n",
       "    <tr>\n",
       "      <th>117</th>\n",
       "      <td>0.738636</td>\n",
       "      <td>0.786260</td>\n",
       "      <td>0.738636</td>\n",
       "      <td>0.78626</td>\n",
       "      <td>0.738636</td>\n",
       "      <td>0.786260</td>\n",
       "    </tr>\n",
       "    <tr>\n",
       "      <th>120</th>\n",
       "      <td>0.738636</td>\n",
       "      <td>0.786260</td>\n",
       "      <td>0.738636</td>\n",
       "      <td>0.78626</td>\n",
       "      <td>0.738636</td>\n",
       "      <td>0.786260</td>\n",
       "    </tr>\n",
       "    <tr>\n",
       "      <th>122</th>\n",
       "      <td>0.738636</td>\n",
       "      <td>0.786260</td>\n",
       "      <td>0.738636</td>\n",
       "      <td>0.78626</td>\n",
       "      <td>0.738636</td>\n",
       "      <td>0.786260</td>\n",
       "    </tr>\n",
       "    <tr>\n",
       "      <th>124</th>\n",
       "      <td>0.738636</td>\n",
       "      <td>0.786260</td>\n",
       "      <td>0.738636</td>\n",
       "      <td>0.78626</td>\n",
       "      <td>0.738636</td>\n",
       "      <td>0.786260</td>\n",
       "    </tr>\n",
       "    <tr>\n",
       "      <th>127</th>\n",
       "      <td>0.738636</td>\n",
       "      <td>0.786260</td>\n",
       "      <td>0.738636</td>\n",
       "      <td>0.78626</td>\n",
       "      <td>0.738636</td>\n",
       "      <td>0.786260</td>\n",
       "    </tr>\n",
       "    <tr>\n",
       "      <th>129</th>\n",
       "      <td>0.738636</td>\n",
       "      <td>0.786260</td>\n",
       "      <td>0.738636</td>\n",
       "      <td>0.78626</td>\n",
       "      <td>0.738636</td>\n",
       "      <td>0.786260</td>\n",
       "    </tr>\n",
       "    <tr>\n",
       "      <th>132</th>\n",
       "      <td>0.738636</td>\n",
       "      <td>0.786260</td>\n",
       "      <td>0.738636</td>\n",
       "      <td>0.78626</td>\n",
       "      <td>0.738636</td>\n",
       "      <td>0.786260</td>\n",
       "    </tr>\n",
       "    <tr>\n",
       "      <th>134</th>\n",
       "      <td>0.738636</td>\n",
       "      <td>0.786260</td>\n",
       "      <td>0.738636</td>\n",
       "      <td>0.78626</td>\n",
       "      <td>0.738636</td>\n",
       "      <td>0.786260</td>\n",
       "    </tr>\n",
       "    <tr>\n",
       "      <th>136</th>\n",
       "      <td>0.738636</td>\n",
       "      <td>0.786260</td>\n",
       "      <td>0.738636</td>\n",
       "      <td>0.78626</td>\n",
       "      <td>0.738636</td>\n",
       "      <td>0.786260</td>\n",
       "    </tr>\n",
       "    <tr>\n",
       "      <th>139</th>\n",
       "      <td>0.738636</td>\n",
       "      <td>0.786260</td>\n",
       "      <td>0.738636</td>\n",
       "      <td>0.78626</td>\n",
       "      <td>0.757576</td>\n",
       "      <td>0.809160</td>\n",
       "    </tr>\n",
       "    <tr>\n",
       "      <th>141</th>\n",
       "      <td>0.738636</td>\n",
       "      <td>0.786260</td>\n",
       "      <td>0.738636</td>\n",
       "      <td>0.78626</td>\n",
       "      <td>0.738636</td>\n",
       "      <td>0.786260</td>\n",
       "    </tr>\n",
       "    <tr>\n",
       "      <th>144</th>\n",
       "      <td>0.738636</td>\n",
       "      <td>0.786260</td>\n",
       "      <td>0.738636</td>\n",
       "      <td>0.78626</td>\n",
       "      <td>0.738636</td>\n",
       "      <td>0.786260</td>\n",
       "    </tr>\n",
       "    <tr>\n",
       "      <th>146</th>\n",
       "      <td>0.738636</td>\n",
       "      <td>0.786260</td>\n",
       "      <td>0.738636</td>\n",
       "      <td>0.78626</td>\n",
       "      <td>0.761364</td>\n",
       "      <td>0.786260</td>\n",
       "    </tr>\n",
       "    <tr>\n",
       "      <th>148</th>\n",
       "      <td>0.768939</td>\n",
       "      <td>0.801527</td>\n",
       "      <td>0.738636</td>\n",
       "      <td>0.78626</td>\n",
       "      <td>0.738636</td>\n",
       "      <td>0.786260</td>\n",
       "    </tr>\n",
       "    <tr>\n",
       "      <th>151</th>\n",
       "      <td>0.738636</td>\n",
       "      <td>0.786260</td>\n",
       "      <td>0.738636</td>\n",
       "      <td>0.78626</td>\n",
       "      <td>0.738636</td>\n",
       "      <td>0.786260</td>\n",
       "    </tr>\n",
       "    <tr>\n",
       "      <th>153</th>\n",
       "      <td>0.738636</td>\n",
       "      <td>0.786260</td>\n",
       "      <td>0.738636</td>\n",
       "      <td>0.78626</td>\n",
       "      <td>0.738636</td>\n",
       "      <td>0.786260</td>\n",
       "    </tr>\n",
       "    <tr>\n",
       "      <th>156</th>\n",
       "      <td>0.738636</td>\n",
       "      <td>0.786260</td>\n",
       "      <td>0.738636</td>\n",
       "      <td>0.78626</td>\n",
       "      <td>0.768939</td>\n",
       "      <td>0.801527</td>\n",
       "    </tr>\n",
       "    <tr>\n",
       "      <th>158</th>\n",
       "      <td>0.738636</td>\n",
       "      <td>0.786260</td>\n",
       "      <td>0.738636</td>\n",
       "      <td>0.78626</td>\n",
       "      <td>0.738636</td>\n",
       "      <td>0.786260</td>\n",
       "    </tr>\n",
       "    <tr>\n",
       "      <th>160</th>\n",
       "      <td>0.738636</td>\n",
       "      <td>0.786260</td>\n",
       "      <td>0.738636</td>\n",
       "      <td>0.78626</td>\n",
       "      <td>0.750000</td>\n",
       "      <td>0.809160</td>\n",
       "    </tr>\n",
       "    <tr>\n",
       "      <th>163</th>\n",
       "      <td>0.738636</td>\n",
       "      <td>0.786260</td>\n",
       "      <td>0.738636</td>\n",
       "      <td>0.78626</td>\n",
       "      <td>0.738636</td>\n",
       "      <td>0.786260</td>\n",
       "    </tr>\n",
       "    <tr>\n",
       "      <th>165</th>\n",
       "      <td>0.738636</td>\n",
       "      <td>0.786260</td>\n",
       "      <td>0.738636</td>\n",
       "      <td>0.78626</td>\n",
       "      <td>0.738636</td>\n",
       "      <td>0.786260</td>\n",
       "    </tr>\n",
       "    <tr>\n",
       "      <th>168</th>\n",
       "      <td>0.738636</td>\n",
       "      <td>0.786260</td>\n",
       "      <td>0.738636</td>\n",
       "      <td>0.78626</td>\n",
       "      <td>0.738636</td>\n",
       "      <td>0.786260</td>\n",
       "    </tr>\n",
       "    <tr>\n",
       "      <th>170</th>\n",
       "      <td>0.738636</td>\n",
       "      <td>0.786260</td>\n",
       "      <td>0.738636</td>\n",
       "      <td>0.78626</td>\n",
       "      <td>0.738636</td>\n",
       "      <td>0.786260</td>\n",
       "    </tr>\n",
       "    <tr>\n",
       "      <th>172</th>\n",
       "      <td>0.738636</td>\n",
       "      <td>0.786260</td>\n",
       "      <td>0.738636</td>\n",
       "      <td>0.78626</td>\n",
       "      <td>0.738636</td>\n",
       "      <td>0.786260</td>\n",
       "    </tr>\n",
       "    <tr>\n",
       "      <th>175</th>\n",
       "      <td>0.738636</td>\n",
       "      <td>0.786260</td>\n",
       "      <td>0.738636</td>\n",
       "      <td>0.78626</td>\n",
       "      <td>0.791667</td>\n",
       "      <td>0.755725</td>\n",
       "    </tr>\n",
       "    <tr>\n",
       "      <th>177</th>\n",
       "      <td>0.806818</td>\n",
       "      <td>0.816794</td>\n",
       "      <td>0.738636</td>\n",
       "      <td>0.78626</td>\n",
       "      <td>0.738636</td>\n",
       "      <td>0.786260</td>\n",
       "    </tr>\n",
       "    <tr>\n",
       "      <th>180</th>\n",
       "      <td>0.738636</td>\n",
       "      <td>0.786260</td>\n",
       "      <td>0.738636</td>\n",
       "      <td>0.78626</td>\n",
       "      <td>0.738636</td>\n",
       "      <td>0.786260</td>\n",
       "    </tr>\n",
       "    <tr>\n",
       "      <th>182</th>\n",
       "      <td>0.738636</td>\n",
       "      <td>0.786260</td>\n",
       "      <td>0.738636</td>\n",
       "      <td>0.78626</td>\n",
       "      <td>0.765152</td>\n",
       "      <td>0.786260</td>\n",
       "    </tr>\n",
       "    <tr>\n",
       "      <th>184</th>\n",
       "      <td>0.738636</td>\n",
       "      <td>0.786260</td>\n",
       "      <td>0.738636</td>\n",
       "      <td>0.78626</td>\n",
       "      <td>0.750000</td>\n",
       "      <td>0.679389</td>\n",
       "    </tr>\n",
       "    <tr>\n",
       "      <th>187</th>\n",
       "      <td>0.791667</td>\n",
       "      <td>0.778626</td>\n",
       "      <td>0.738636</td>\n",
       "      <td>0.78626</td>\n",
       "      <td>0.738636</td>\n",
       "      <td>0.786260</td>\n",
       "    </tr>\n",
       "    <tr>\n",
       "      <th>189</th>\n",
       "      <td>0.803030</td>\n",
       "      <td>0.793893</td>\n",
       "      <td>0.738636</td>\n",
       "      <td>0.78626</td>\n",
       "      <td>0.738636</td>\n",
       "      <td>0.786260</td>\n",
       "    </tr>\n",
       "    <tr>\n",
       "      <th>191</th>\n",
       "      <td>0.780303</td>\n",
       "      <td>0.839695</td>\n",
       "      <td>0.738636</td>\n",
       "      <td>0.78626</td>\n",
       "      <td>0.784091</td>\n",
       "      <td>0.793893</td>\n",
       "    </tr>\n",
       "    <tr>\n",
       "      <th>194</th>\n",
       "      <td>0.742424</td>\n",
       "      <td>0.786260</td>\n",
       "      <td>0.738636</td>\n",
       "      <td>0.78626</td>\n",
       "      <td>0.757576</td>\n",
       "      <td>0.778626</td>\n",
       "    </tr>\n",
       "    <tr>\n",
       "      <th>196</th>\n",
       "      <td>0.784091</td>\n",
       "      <td>0.809160</td>\n",
       "      <td>0.738636</td>\n",
       "      <td>0.78626</td>\n",
       "      <td>0.738636</td>\n",
       "      <td>0.786260</td>\n",
       "    </tr>\n",
       "    <tr>\n",
       "      <th>199</th>\n",
       "      <td>0.738636</td>\n",
       "      <td>0.786260</td>\n",
       "      <td>0.738636</td>\n",
       "      <td>0.78626</td>\n",
       "      <td>0.541667</td>\n",
       "      <td>0.511450</td>\n",
       "    </tr>\n",
       "    <tr>\n",
       "      <th>201</th>\n",
       "      <td>0.810606</td>\n",
       "      <td>0.786260</td>\n",
       "      <td>0.738636</td>\n",
       "      <td>0.78626</td>\n",
       "      <td>0.784091</td>\n",
       "      <td>0.786260</td>\n",
       "    </tr>\n",
       "    <tr>\n",
       "      <th>204</th>\n",
       "      <td>0.768939</td>\n",
       "      <td>0.816794</td>\n",
       "      <td>0.738636</td>\n",
       "      <td>0.78626</td>\n",
       "      <td>0.738636</td>\n",
       "      <td>0.786260</td>\n",
       "    </tr>\n",
       "    <tr>\n",
       "      <th>206</th>\n",
       "      <td>0.803030</td>\n",
       "      <td>0.809160</td>\n",
       "      <td>0.738636</td>\n",
       "      <td>0.78626</td>\n",
       "      <td>0.666667</td>\n",
       "      <td>0.648855</td>\n",
       "    </tr>\n",
       "    <tr>\n",
       "      <th>208</th>\n",
       "      <td>0.780303</td>\n",
       "      <td>0.801527</td>\n",
       "      <td>0.738636</td>\n",
       "      <td>0.78626</td>\n",
       "      <td>0.568182</td>\n",
       "      <td>0.557252</td>\n",
       "    </tr>\n",
       "    <tr>\n",
       "      <th>211</th>\n",
       "      <td>0.814394</td>\n",
       "      <td>0.809160</td>\n",
       "      <td>0.738636</td>\n",
       "      <td>0.78626</td>\n",
       "      <td>0.375000</td>\n",
       "      <td>0.312977</td>\n",
       "    </tr>\n",
       "    <tr>\n",
       "      <th>213</th>\n",
       "      <td>0.738636</td>\n",
       "      <td>0.786260</td>\n",
       "      <td>0.738636</td>\n",
       "      <td>0.78626</td>\n",
       "      <td>0.738636</td>\n",
       "      <td>0.786260</td>\n",
       "    </tr>\n",
       "    <tr>\n",
       "      <th>215</th>\n",
       "      <td>0.814394</td>\n",
       "      <td>0.793893</td>\n",
       "      <td>0.738636</td>\n",
       "      <td>0.78626</td>\n",
       "      <td>0.738636</td>\n",
       "      <td>0.786260</td>\n",
       "    </tr>\n",
       "    <tr>\n",
       "      <th>218</th>\n",
       "      <td>0.806818</td>\n",
       "      <td>0.809160</td>\n",
       "      <td>0.738636</td>\n",
       "      <td>0.78626</td>\n",
       "      <td>0.746212</td>\n",
       "      <td>0.687023</td>\n",
       "    </tr>\n",
       "    <tr>\n",
       "      <th>220</th>\n",
       "      <td>0.818182</td>\n",
       "      <td>0.778626</td>\n",
       "      <td>0.738636</td>\n",
       "      <td>0.78626</td>\n",
       "      <td>0.738636</td>\n",
       "      <td>0.786260</td>\n",
       "    </tr>\n",
       "    <tr>\n",
       "      <th>223</th>\n",
       "      <td>0.787879</td>\n",
       "      <td>0.809160</td>\n",
       "      <td>0.738636</td>\n",
       "      <td>0.78626</td>\n",
       "      <td>0.791667</td>\n",
       "      <td>0.809160</td>\n",
       "    </tr>\n",
       "    <tr>\n",
       "      <th>225</th>\n",
       "      <td>0.810606</td>\n",
       "      <td>0.786260</td>\n",
       "      <td>0.738636</td>\n",
       "      <td>0.78626</td>\n",
       "      <td>0.738636</td>\n",
       "      <td>0.786260</td>\n",
       "    </tr>\n",
       "    <tr>\n",
       "      <th>227</th>\n",
       "      <td>0.818182</td>\n",
       "      <td>0.778626</td>\n",
       "      <td>0.738636</td>\n",
       "      <td>0.78626</td>\n",
       "      <td>0.693182</td>\n",
       "      <td>0.625954</td>\n",
       "    </tr>\n",
       "    <tr>\n",
       "      <th>230</th>\n",
       "      <td>0.806818</td>\n",
       "      <td>0.793893</td>\n",
       "      <td>0.738636</td>\n",
       "      <td>0.78626</td>\n",
       "      <td>0.734848</td>\n",
       "      <td>0.786260</td>\n",
       "    </tr>\n",
       "    <tr>\n",
       "      <th>232</th>\n",
       "      <td>0.806818</td>\n",
       "      <td>0.778626</td>\n",
       "      <td>0.738636</td>\n",
       "      <td>0.78626</td>\n",
       "      <td>0.738636</td>\n",
       "      <td>0.786260</td>\n",
       "    </tr>\n",
       "    <tr>\n",
       "      <th>235</th>\n",
       "      <td>0.821970</td>\n",
       "      <td>0.786260</td>\n",
       "      <td>0.738636</td>\n",
       "      <td>0.78626</td>\n",
       "      <td>0.753788</td>\n",
       "      <td>0.717557</td>\n",
       "    </tr>\n",
       "    <tr>\n",
       "      <th>237</th>\n",
       "      <td>0.799242</td>\n",
       "      <td>0.786260</td>\n",
       "      <td>0.738636</td>\n",
       "      <td>0.78626</td>\n",
       "      <td>0.787879</td>\n",
       "      <td>0.748092</td>\n",
       "    </tr>\n",
       "    <tr>\n",
       "      <th>240</th>\n",
       "      <td>0.810606</td>\n",
       "      <td>0.778626</td>\n",
       "      <td>0.738636</td>\n",
       "      <td>0.78626</td>\n",
       "      <td>0.787879</td>\n",
       "      <td>0.770992</td>\n",
       "    </tr>\n",
       "    <tr>\n",
       "      <th>242</th>\n",
       "      <td>0.810606</td>\n",
       "      <td>0.786260</td>\n",
       "      <td>0.738636</td>\n",
       "      <td>0.78626</td>\n",
       "      <td>0.738636</td>\n",
       "      <td>0.786260</td>\n",
       "    </tr>\n",
       "    <tr>\n",
       "      <th>244</th>\n",
       "      <td>0.787879</td>\n",
       "      <td>0.809160</td>\n",
       "      <td>0.738636</td>\n",
       "      <td>0.78626</td>\n",
       "      <td>0.787879</td>\n",
       "      <td>0.755725</td>\n",
       "    </tr>\n",
       "    <tr>\n",
       "      <th>247</th>\n",
       "      <td>0.818182</td>\n",
       "      <td>0.778626</td>\n",
       "      <td>0.738636</td>\n",
       "      <td>0.78626</td>\n",
       "      <td>0.757576</td>\n",
       "      <td>0.694656</td>\n",
       "    </tr>\n",
       "    <tr>\n",
       "      <th>249</th>\n",
       "      <td>0.818182</td>\n",
       "      <td>0.778626</td>\n",
       "      <td>0.738636</td>\n",
       "      <td>0.78626</td>\n",
       "      <td>0.719697</td>\n",
       "      <td>0.702290</td>\n",
       "    </tr>\n",
       "    <tr>\n",
       "      <th>251</th>\n",
       "      <td>0.810606</td>\n",
       "      <td>0.816794</td>\n",
       "      <td>0.738636</td>\n",
       "      <td>0.78626</td>\n",
       "      <td>0.780303</td>\n",
       "      <td>0.778626</td>\n",
       "    </tr>\n",
       "    <tr>\n",
       "      <th>254</th>\n",
       "      <td>0.803030</td>\n",
       "      <td>0.816794</td>\n",
       "      <td>0.738636</td>\n",
       "      <td>0.78626</td>\n",
       "      <td>0.738636</td>\n",
       "      <td>0.786260</td>\n",
       "    </tr>\n",
       "    <tr>\n",
       "      <th>256</th>\n",
       "      <td>0.829545</td>\n",
       "      <td>0.786260</td>\n",
       "      <td>0.738636</td>\n",
       "      <td>0.78626</td>\n",
       "      <td>0.738636</td>\n",
       "      <td>0.786260</td>\n",
       "    </tr>\n",
       "    <tr>\n",
       "      <th>259</th>\n",
       "      <td>0.799242</td>\n",
       "      <td>0.740458</td>\n",
       "      <td>0.738636</td>\n",
       "      <td>0.78626</td>\n",
       "      <td>0.738636</td>\n",
       "      <td>0.786260</td>\n",
       "    </tr>\n",
       "    <tr>\n",
       "      <th>261</th>\n",
       "      <td>0.829545</td>\n",
       "      <td>0.770992</td>\n",
       "      <td>0.738636</td>\n",
       "      <td>0.78626</td>\n",
       "      <td>0.787879</td>\n",
       "      <td>0.801527</td>\n",
       "    </tr>\n",
       "    <tr>\n",
       "      <th>264</th>\n",
       "      <td>0.829545</td>\n",
       "      <td>0.778626</td>\n",
       "      <td>0.738636</td>\n",
       "      <td>0.78626</td>\n",
       "      <td>0.780303</td>\n",
       "      <td>0.801527</td>\n",
       "    </tr>\n",
       "  </tbody>\n",
       "</table>\n",
       "</div>"
      ],
      "text/plain": [
       "               ReLu_Train  ReLu_Test  Sigmoid_Train  Sigmoid_Test  Tanh_Train  Tanh_Test\n",
       "Training_Size                                                                           \n",
       "26               0.738636   0.786260       0.261364       0.21374    0.738636   0.786260\n",
       "28               0.738636   0.786260       0.261364       0.21374    0.738636   0.786260\n",
       "31               0.738636   0.786260       0.738636       0.78626    0.738636   0.786260\n",
       "33               0.738636   0.786260       0.261364       0.21374    0.738636   0.786260\n",
       "36               0.738636   0.786260       0.738636       0.78626    0.738636   0.786260\n",
       "38               0.738636   0.786260       0.738636       0.78626    0.738636   0.786260\n",
       "40               0.738636   0.786260       0.738636       0.78626    0.738636   0.786260\n",
       "43               0.738636   0.786260       0.261364       0.21374    0.738636   0.786260\n",
       "45               0.738636   0.786260       0.738636       0.78626    0.738636   0.786260\n",
       "48               0.738636   0.786260       0.261364       0.21374    0.738636   0.786260\n",
       "50               0.738636   0.786260       0.738636       0.78626    0.738636   0.786260\n",
       "52               0.738636   0.786260       0.738636       0.78626    0.738636   0.786260\n",
       "55               0.738636   0.786260       0.738636       0.78626    0.738636   0.786260\n",
       "57               0.738636   0.786260       0.261364       0.21374    0.738636   0.786260\n",
       "60               0.738636   0.786260       0.738636       0.78626    0.738636   0.786260\n",
       "62               0.738636   0.786260       0.738636       0.78626    0.738636   0.786260\n",
       "64               0.738636   0.786260       0.738636       0.78626    0.738636   0.786260\n",
       "67               0.738636   0.786260       0.261364       0.21374    0.738636   0.786260\n",
       "69               0.738636   0.786260       0.738636       0.78626    0.738636   0.786260\n",
       "72               0.738636   0.786260       0.738636       0.78626    0.738636   0.786260\n",
       "74               0.738636   0.786260       0.738636       0.78626    0.738636   0.786260\n",
       "76               0.738636   0.786260       0.738636       0.78626    0.738636   0.786260\n",
       "79               0.738636   0.786260       0.261364       0.21374    0.738636   0.786260\n",
       "81               0.738636   0.786260       0.738636       0.78626    0.738636   0.786260\n",
       "84               0.738636   0.786260       0.261364       0.21374    0.738636   0.786260\n",
       "86               0.738636   0.786260       0.261364       0.21374    0.738636   0.786260\n",
       "88               0.738636   0.786260       0.738636       0.78626    0.738636   0.786260\n",
       "91               0.738636   0.786260       0.738636       0.78626    0.738636   0.786260\n",
       "93               0.738636   0.786260       0.738636       0.78626    0.738636   0.786260\n",
       "96               0.738636   0.786260       0.738636       0.78626    0.738636   0.786260\n",
       "98               0.738636   0.786260       0.738636       0.78626    0.738636   0.786260\n",
       "100              0.738636   0.786260       0.738636       0.78626    0.738636   0.786260\n",
       "103              0.738636   0.786260       0.738636       0.78626    0.738636   0.786260\n",
       "105              0.738636   0.786260       0.738636       0.78626    0.738636   0.786260\n",
       "107              0.738636   0.786260       0.738636       0.78626    0.738636   0.786260\n",
       "110              0.738636   0.786260       0.738636       0.78626    0.738636   0.786260\n",
       "112              0.738636   0.786260       0.261364       0.21374    0.738636   0.786260\n",
       "115              0.738636   0.786260       0.738636       0.78626    0.738636   0.786260\n",
       "117              0.738636   0.786260       0.738636       0.78626    0.738636   0.786260\n",
       "120              0.738636   0.786260       0.738636       0.78626    0.738636   0.786260\n",
       "122              0.738636   0.786260       0.738636       0.78626    0.738636   0.786260\n",
       "124              0.738636   0.786260       0.738636       0.78626    0.738636   0.786260\n",
       "127              0.738636   0.786260       0.738636       0.78626    0.738636   0.786260\n",
       "129              0.738636   0.786260       0.738636       0.78626    0.738636   0.786260\n",
       "132              0.738636   0.786260       0.738636       0.78626    0.738636   0.786260\n",
       "134              0.738636   0.786260       0.738636       0.78626    0.738636   0.786260\n",
       "136              0.738636   0.786260       0.738636       0.78626    0.738636   0.786260\n",
       "139              0.738636   0.786260       0.738636       0.78626    0.757576   0.809160\n",
       "141              0.738636   0.786260       0.738636       0.78626    0.738636   0.786260\n",
       "144              0.738636   0.786260       0.738636       0.78626    0.738636   0.786260\n",
       "146              0.738636   0.786260       0.738636       0.78626    0.761364   0.786260\n",
       "148              0.768939   0.801527       0.738636       0.78626    0.738636   0.786260\n",
       "151              0.738636   0.786260       0.738636       0.78626    0.738636   0.786260\n",
       "153              0.738636   0.786260       0.738636       0.78626    0.738636   0.786260\n",
       "156              0.738636   0.786260       0.738636       0.78626    0.768939   0.801527\n",
       "158              0.738636   0.786260       0.738636       0.78626    0.738636   0.786260\n",
       "160              0.738636   0.786260       0.738636       0.78626    0.750000   0.809160\n",
       "163              0.738636   0.786260       0.738636       0.78626    0.738636   0.786260\n",
       "165              0.738636   0.786260       0.738636       0.78626    0.738636   0.786260\n",
       "168              0.738636   0.786260       0.738636       0.78626    0.738636   0.786260\n",
       "170              0.738636   0.786260       0.738636       0.78626    0.738636   0.786260\n",
       "172              0.738636   0.786260       0.738636       0.78626    0.738636   0.786260\n",
       "175              0.738636   0.786260       0.738636       0.78626    0.791667   0.755725\n",
       "177              0.806818   0.816794       0.738636       0.78626    0.738636   0.786260\n",
       "180              0.738636   0.786260       0.738636       0.78626    0.738636   0.786260\n",
       "182              0.738636   0.786260       0.738636       0.78626    0.765152   0.786260\n",
       "184              0.738636   0.786260       0.738636       0.78626    0.750000   0.679389\n",
       "187              0.791667   0.778626       0.738636       0.78626    0.738636   0.786260\n",
       "189              0.803030   0.793893       0.738636       0.78626    0.738636   0.786260\n",
       "191              0.780303   0.839695       0.738636       0.78626    0.784091   0.793893\n",
       "194              0.742424   0.786260       0.738636       0.78626    0.757576   0.778626\n",
       "196              0.784091   0.809160       0.738636       0.78626    0.738636   0.786260\n",
       "199              0.738636   0.786260       0.738636       0.78626    0.541667   0.511450\n",
       "201              0.810606   0.786260       0.738636       0.78626    0.784091   0.786260\n",
       "204              0.768939   0.816794       0.738636       0.78626    0.738636   0.786260\n",
       "206              0.803030   0.809160       0.738636       0.78626    0.666667   0.648855\n",
       "208              0.780303   0.801527       0.738636       0.78626    0.568182   0.557252\n",
       "211              0.814394   0.809160       0.738636       0.78626    0.375000   0.312977\n",
       "213              0.738636   0.786260       0.738636       0.78626    0.738636   0.786260\n",
       "215              0.814394   0.793893       0.738636       0.78626    0.738636   0.786260\n",
       "218              0.806818   0.809160       0.738636       0.78626    0.746212   0.687023\n",
       "220              0.818182   0.778626       0.738636       0.78626    0.738636   0.786260\n",
       "223              0.787879   0.809160       0.738636       0.78626    0.791667   0.809160\n",
       "225              0.810606   0.786260       0.738636       0.78626    0.738636   0.786260\n",
       "227              0.818182   0.778626       0.738636       0.78626    0.693182   0.625954\n",
       "230              0.806818   0.793893       0.738636       0.78626    0.734848   0.786260\n",
       "232              0.806818   0.778626       0.738636       0.78626    0.738636   0.786260\n",
       "235              0.821970   0.786260       0.738636       0.78626    0.753788   0.717557\n",
       "237              0.799242   0.786260       0.738636       0.78626    0.787879   0.748092\n",
       "240              0.810606   0.778626       0.738636       0.78626    0.787879   0.770992\n",
       "242              0.810606   0.786260       0.738636       0.78626    0.738636   0.786260\n",
       "244              0.787879   0.809160       0.738636       0.78626    0.787879   0.755725\n",
       "247              0.818182   0.778626       0.738636       0.78626    0.757576   0.694656\n",
       "249              0.818182   0.778626       0.738636       0.78626    0.719697   0.702290\n",
       "251              0.810606   0.816794       0.738636       0.78626    0.780303   0.778626\n",
       "254              0.803030   0.816794       0.738636       0.78626    0.738636   0.786260\n",
       "256              0.829545   0.786260       0.738636       0.78626    0.738636   0.786260\n",
       "259              0.799242   0.740458       0.738636       0.78626    0.738636   0.786260\n",
       "261              0.829545   0.770992       0.738636       0.78626    0.787879   0.801527\n",
       "264              0.829545   0.778626       0.738636       0.78626    0.780303   0.801527"
      ]
     },
     "execution_count": 288,
     "metadata": {},
     "output_type": "execute_result"
    }
   ],
   "source": [
    "final_ts.set_index('Training_Size')"
   ]
  },
  {
   "cell_type": "code",
   "execution_count": 289,
   "metadata": {},
   "outputs": [
    {
     "name": "stdout",
     "output_type": "stream",
     "text": [
      "The training size that gave the best accuracy for ReLu Model is 191.0\n",
      "The training size that gave the best accuracy for Sigmoid Model is 31.0\n",
      "The training size that gave the best accuracy for Tanh Model is 223.0\n"
     ]
    }
   ],
   "source": [
    "print('The training size that gave the best accuracy for ReLu Model is {}'.format((final_ts.loc[final_ts['ReLu_Test'].idxmax()][0])))\n",
    "print('The training size that gave the best accuracy for Sigmoid Model is {}'.format((final_ts.loc[final_ts['Sigmoid_Test'].idxmax()][0])))\n",
    "print('The training size that gave the best accuracy for Tanh Model is {}'.format((final_ts.loc[final_ts['Tanh_Test'].idxmax()][0])))"
   ]
  },
  {
   "cell_type": "code",
   "execution_count": 290,
   "metadata": {
    "scrolled": false
   },
   "outputs": [
    {
     "data": {
      "image/png": "[encoded data removed]",
      "text/plain": [
       "<matplotlib.figure.Figure at 0x1a4ef85470>"
      ]
     },
     "metadata": {},
     "output_type": "display_data"
    }
   ],
   "source": [
    "plt.figure(figsize=(15,10))\n",
    "\n",
    "plt.plot(training_space, test_scores_1, 'r-', label='Relu Test')\n",
    "plt.plot(training_space, test_scores_2, 'b-', label='Sigmoid Test')\n",
    "plt.plot(training_space, test_scores_3, '-', label='Tanh Test')\n",
    "plt.plot(training_space, train_scores_1, 'r--', label='Relu Train')\n",
    "plt.plot(training_space, train_scores_2, 'b--', label='Sigmoid Train')\n",
    "plt.plot(training_space, train_scores_3, '--', label='Tanh Train')\n",
    "\n",
    "plt.legend(loc='best')\n",
    "plt.xlabel('Training Space', size = 12)\n",
    "plt.ylabel('Accuracy', size = 12)\n",
    "plt.show()"
   ]
  },
  {
   "cell_type": "markdown",
   "metadata": {},
   "source": [
    "### Final ReLu Model"
   ]
  },
  {
   "cell_type": "code",
   "execution_count": 319,
   "metadata": {
    "collapsed": true
   },
   "outputs": [],
   "source": [
    "#Model Creation\n",
    "model = Sequential()\n",
    "model.add(Dense(28, input_dim=28, kernel_initializer='normal', activation='relu'))\n",
    "model.add(Dense(14, kernel_initializer='normal', activation='relu'))\n",
    "model.add(Dense(1, kernel_initializer='normal', activation='sigmoid'))\n",
    "\n",
    "#Model Compilation\n",
    "optimizer = SGD(lr=0.02, momentum=0.2)\n",
    "model.compile(loss='binary_crossentropy', optimizer=optimizer, metrics=['accuracy'])"
   ]
  },
  {
   "cell_type": "code",
   "execution_count": 320,
   "metadata": {
    "collapsed": true
   },
   "outputs": [],
   "source": [
    "desired_size = 191"
   ]
  },
  {
   "cell_type": "code",
   "execution_count": 321,
   "metadata": {
    "collapsed": true
   },
   "outputs": [],
   "source": [
    "x_new = x_train.sample(desired_size, random_state = 777)"
   ]
  },
  {
   "cell_type": "code",
   "execution_count": 322,
   "metadata": {
    "collapsed": true
   },
   "outputs": [],
   "source": [
    "y_list = list(x_new.index)\n",
    "\n",
    "y_new = []\n",
    "\n",
    "for z in y_list:\n",
    "    \n",
    "    y_new.append(y_train[z])\n",
    "\n",
    "y_new = pd.DataFrame(y_new)"
   ]
  },
  {
   "cell_type": "code",
   "execution_count": 323,
   "metadata": {},
   "outputs": [
    {
     "name": "stdout",
     "output_type": "stream",
     "text": [
      "Epoch 1/63\n",
      "191/191 [==============================] - 43s 223ms/step - loss: 0.6686 - acc: 0.7644\n",
      "Epoch 2/63\n",
      "191/191 [==============================] - 1s 3ms/step - loss: 0.6298 - acc: 0.7644\n",
      "Epoch 3/63\n",
      "191/191 [==============================] - 1s 3ms/step - loss: 0.6034 - acc: 0.7644\n",
      "Epoch 4/63\n",
      "191/191 [==============================] - 1s 4ms/step - loss: 0.5854 - acc: 0.7644\n",
      "Epoch 5/63\n",
      "191/191 [==============================] - 1s 3ms/step - loss: 0.5731 - acc: 0.7644\n",
      "Epoch 6/63\n",
      "191/191 [==============================] - 0s 2ms/step - loss: 0.5646 - acc: 0.7644\n",
      "Epoch 7/63\n",
      "191/191 [==============================] - 0s 2ms/step - loss: 0.5592 - acc: 0.7644\n",
      "Epoch 8/63\n",
      "191/191 [==============================] - 1s 5ms/step - loss: 0.5551 - acc: 0.7644\n",
      "Epoch 9/63\n",
      "191/191 [==============================] - 1s 4ms/step - loss: 0.5521 - acc: 0.7644\n",
      "Epoch 10/63\n",
      "191/191 [==============================] - 0s 2ms/step - loss: 0.5500 - acc: 0.7644\n",
      "Epoch 11/63\n",
      "191/191 [==============================] - 1s 4ms/step - loss: 0.5484 - acc: 0.7644\n",
      "Epoch 12/63\n",
      "191/191 [==============================] - 1s 5ms/step - loss: 0.5473 - acc: 0.7644\n",
      "Epoch 13/63\n",
      "191/191 [==============================] - 1s 5ms/step - loss: 0.5465 - acc: 0.7644\n",
      "Epoch 14/63\n",
      "191/191 [==============================] - 0s 3ms/step - loss: 0.5458 - acc: 0.7644\n",
      "Epoch 15/63\n",
      "191/191 [==============================] - 0s 2ms/step - loss: 0.5453 - acc: 0.7644\n",
      "Epoch 16/63\n",
      "191/191 [==============================] - 1s 4ms/step - loss: 0.5448 - acc: 0.7644\n",
      "Epoch 17/63\n",
      "191/191 [==============================] - 1s 5ms/step - loss: 0.5445 - acc: 0.7644A: 0s - loss: 0.5528 - acc: 0\n",
      "Epoch 18/63\n",
      "191/191 [==============================] - 1s 5ms/step - loss: 0.5439 - acc: 0.7644\n",
      "Epoch 19/63\n",
      "191/191 [==============================] - 1s 3ms/step - loss: 0.5437 - acc: 0.7644\n",
      "Epoch 20/63\n",
      "191/191 [==============================] - 0s 3ms/step - loss: 0.5433 - acc: 0.7644\n",
      "Epoch 21/63\n",
      "191/191 [==============================] - 1s 3ms/step - loss: 0.5430 - acc: 0.7644\n",
      "Epoch 22/63\n",
      "191/191 [==============================] - 1s 5ms/step - loss: 0.5423 - acc: 0.7644\n",
      "Epoch 23/63\n",
      "191/191 [==============================] - 1s 3ms/step - loss: 0.5421 - acc: 0.7644\n",
      "Epoch 24/63\n",
      "191/191 [==============================] - 0s 2ms/step - loss: 0.5414 - acc: 0.7644\n",
      "Epoch 25/63\n",
      "191/191 [==============================] - 1s 4ms/step - loss: 0.5405 - acc: 0.7644A: 0s - loss: 0.5493 - acc: 0.7\n",
      "Epoch 26/63\n",
      "191/191 [==============================] - 1s 4ms/step - loss: 0.5399 - acc: 0.7644\n",
      "Epoch 27/63\n",
      "191/191 [==============================] - 1s 3ms/step - loss: 0.5389 - acc: 0.7644\n",
      "Epoch 28/63\n",
      "191/191 [==============================] - 1s 4ms/step - loss: 0.5382 - acc: 0.7644\n",
      "Epoch 29/63\n",
      "191/191 [==============================] - 1s 4ms/step - loss: 0.5370 - acc: 0.7644\n",
      "Epoch 30/63\n",
      "191/191 [==============================] - 1s 4ms/step - loss: 0.5354 - acc: 0.7644\n",
      "Epoch 31/63\n",
      "191/191 [==============================] - 0s 2ms/step - loss: 0.5340 - acc: 0.7644\n",
      "Epoch 32/63\n",
      "191/191 [==============================] - 0s 2ms/step - loss: 0.5321 - acc: 0.7644\n",
      "Epoch 33/63\n",
      "191/191 [==============================] - 0s 2ms/step - loss: 0.5303 - acc: 0.7644\n",
      "Epoch 34/63\n",
      "191/191 [==============================] - 1s 3ms/step - loss: 0.5275 - acc: 0.7644\n",
      "Epoch 35/63\n",
      "191/191 [==============================] - 1s 3ms/step - loss: 0.5248 - acc: 0.7644\n",
      "Epoch 36/63\n",
      "191/191 [==============================] - 0s 2ms/step - loss: 0.5216 - acc: 0.7644\n",
      "Epoch 37/63\n",
      "191/191 [==============================] - 1s 3ms/step - loss: 0.5180 - acc: 0.7644\n",
      "Epoch 38/63\n",
      "191/191 [==============================] - 1s 4ms/step - loss: 0.5141 - acc: 0.7644\n",
      "Epoch 39/63\n",
      "191/191 [==============================] - 1s 5ms/step - loss: 0.5102 - acc: 0.7644\n",
      "Epoch 40/63\n",
      "191/191 [==============================] - 0s 2ms/step - loss: 0.5053 - acc: 0.7644\n",
      "Epoch 41/63\n",
      "191/191 [==============================] - 1s 3ms/step - loss: 0.5007 - acc: 0.7644\n",
      "Epoch 42/63\n",
      "191/191 [==============================] - 0s 2ms/step - loss: 0.4956 - acc: 0.7644\n",
      "Epoch 43/63\n",
      "191/191 [==============================] - 0s 2ms/step - loss: 0.4907 - acc: 0.7644\n",
      "Epoch 44/63\n",
      "191/191 [==============================] - 1s 5ms/step - loss: 0.4851 - acc: 0.7644\n",
      "Epoch 45/63\n",
      "191/191 [==============================] - 1s 5ms/step - loss: 0.4800 - acc: 0.7644\n",
      "Epoch 46/63\n",
      "191/191 [==============================] - 1s 4ms/step - loss: 0.4741 - acc: 0.7644\n",
      "Epoch 47/63\n",
      "191/191 [==============================] - 1s 4ms/step - loss: 0.4686 - acc: 0.7644\n",
      "Epoch 48/63\n",
      "191/191 [==============================] - 0s 3ms/step - loss: 0.4634 - acc: 0.7644\n",
      "Epoch 49/63\n",
      "191/191 [==============================] - 1s 4ms/step - loss: 0.4581 - acc: 0.7644\n",
      "Epoch 50/63\n",
      "191/191 [==============================] - 1s 4ms/step - loss: 0.4534 - acc: 0.7644\n",
      "Epoch 51/63\n",
      "191/191 [==============================] - 0s 2ms/step - loss: 0.4479 - acc: 0.7644\n",
      "Epoch 52/63\n",
      "191/191 [==============================] - 0s 2ms/step - loss: 0.4450 - acc: 0.7644\n",
      "Epoch 53/63\n",
      "191/191 [==============================] - 0s 2ms/step - loss: 0.4401 - acc: 0.7644\n",
      "Epoch 54/63\n",
      " 36/191 [====>.........................] - ETA: 1s - loss: 0.4456 - acc: 0.7778"
     ]
    },
    {
     "name": "stderr",
     "output_type": "stream",
     "text": [
      "/Users/Weiyang/anaconda3/lib/python3.6/site-packages/keras/callbacks.py:120: UserWarning: Method on_batch_end() is slow compared to the batch update (0.103966). Check your callbacks.\n",
      "  % delta_t_median)\n"
     ]
    },
    {
     "name": "stdout",
     "output_type": "stream",
     "text": [
      "191/191 [==============================] - 1s 5ms/step - loss: 0.4362 - acc: 0.7644\n",
      "Epoch 55/63\n",
      "191/191 [==============================] - 1s 3ms/step - loss: 0.4331 - acc: 0.7644\n",
      "Epoch 56/63\n",
      "191/191 [==============================] - 0s 2ms/step - loss: 0.4289 - acc: 0.7644\n",
      "Epoch 57/63\n",
      "191/191 [==============================] - 0s 3ms/step - loss: 0.4267 - acc: 0.7644\n",
      "Epoch 58/63\n",
      "191/191 [==============================] - 0s 3ms/step - loss: 0.4228 - acc: 0.7644\n",
      "Epoch 59/63\n",
      "191/191 [==============================] - 1s 4ms/step - loss: 0.4211 - acc: 0.7644\n",
      "Epoch 60/63\n",
      "191/191 [==============================] - 1s 5ms/step - loss: 0.4179 - acc: 0.7644\n",
      "Epoch 61/63\n",
      "191/191 [==============================] - 1s 3ms/step - loss: 0.4163 - acc: 0.7644\n",
      "Epoch 62/63\n",
      "191/191 [==============================] - 0s 2ms/step - loss: 0.4133 - acc: 0.7644\n",
      "Epoch 63/63\n",
      "191/191 [==============================] - 1s 4ms/step - loss: 0.4110 - acc: 0.7644A: 0s - loss: 0.4300 - acc\n"
     ]
    },
    {
     "data": {
      "text/plain": [
       "<keras.callbacks.History at 0x1a83f828d0>"
      ]
     },
     "execution_count": 323,
     "metadata": {},
     "output_type": "execute_result"
    }
   ],
   "source": [
    "model.fit(x_new, y_new, epochs=63, batch_size=6, verbose=1)"
   ]
  },
  {
   "cell_type": "code",
   "execution_count": 324,
   "metadata": {
    "collapsed": true
   },
   "outputs": [],
   "source": [
    "predictions = model.predict(x_test)"
   ]
  },
  {
   "cell_type": "code",
   "execution_count": 329,
   "metadata": {},
   "outputs": [
    {
     "data": {
      "image/png": "[encoded data removed]",
      "text/plain": [
       "<matplotlib.figure.Figure at 0x1a85abbc18>"
      ]
     },
     "metadata": {},
     "output_type": "display_data"
    },
    {
     "name": "stdout",
     "output_type": "stream",
     "text": [
      "Sensitivity for ANN:  1.0\n",
      "Specificity for ANN:  0.0\n",
      "F Score for ANN:  0.0\n"
     ]
    },
    {
     "name": "stderr",
     "output_type": "stream",
     "text": [
      "/Users/Weiyang/anaconda3/lib/python3.6/site-packages/sklearn/metrics/classification.py:1135: UndefinedMetricWarning: F-score is ill-defined and being set to 0.0 due to no predicted samples.\n",
      "  'precision', 'predicted', average, warn_for)\n"
     ]
    }
   ],
   "source": [
    "threshold = 0.5\n",
    "predictions = (predictions > threshold)\n",
    "\n",
    "cm = confusion_matrix(y_test, predictions)\n",
    "plt.figure(figsize = (5,5))\n",
    "\n",
    "sns.heatmap(cm, annot=True, fmt=\"d\")\n",
    "plt.title('Final ANN Model')\n",
    "plt.show()\n",
    "\n",
    "sensitivity = round(cm[0,0]/(cm[0,0]+cm[0,1]),3)\n",
    "print('Sensitivity for ANN: ', sensitivity )\n",
    "specificity = round(cm[1,1]/(cm[1,0]+cm[1,1]),3)\n",
    "print('Specificity for ANN: ', specificity)\n",
    "f_score = round(f1_score(y_test, predictions),3)\n",
    "print('F Score for ANN: ', f_score)"
   ]
  },
  {
   "cell_type": "code",
   "execution_count": 301,
   "metadata": {},
   "outputs": [
    {
     "data": {
      "image/png": "[encoded data removed]",
      "text/plain": [
       "<matplotlib.figure.Figure at 0x1a3d01aeb8>"
      ]
     },
     "metadata": {},
     "output_type": "display_data"
    }
   ],
   "source": [
    "y_pred_keras = model.predict(x_test).ravel()\n",
    "fpr_keras, tpr_keras, thresholds_keras = roc_curve(y_test, y_pred_keras)\n",
    "auc_keras = auc(fpr_keras, tpr_keras)\n",
    "\n",
    "plt.title('Receiver Operating Characteristic')\n",
    "plt.plot(fpr_keras, tpr_keras, 'b', label = 'AUC = %0.2f' % auc_keras)\n",
    "plt.legend(loc = 'lower right')\n",
    "plt.plot([0, 1], [0, 1],'r--')\n",
    "plt.xlim([0, 1])\n",
    "plt.ylim([0, 1])\n",
    "plt.ylabel('True Positive Rate')\n",
    "plt.xlabel('False Positive Rate')\n",
    "plt.show()"
   ]
  },
  {
   "cell_type": "code",
   "execution_count": 302,
   "metadata": {
    "scrolled": true
   },
   "outputs": [
    {
     "name": "stdout",
     "output_type": "stream",
     "text": [
      "Accuracy of Base Model: 0.79 \n",
      "131/131 [==============================] - 18s 139ms/step\n",
      "\n",
      "acc: 78.63%\n"
     ]
    }
   ],
   "source": [
    "score = round(accuracy_score(y_test, predictions),2)\n",
    "\n",
    "print('Accuracy of Base Model: {} '.format(score))\n",
    "\n",
    "scores = model.evaluate(x_test, y_test)\n",
    "print(\"\\n%s: %.2f%%\" % (model.metrics_names[1], scores[1]*100))"
   ]
  },
  {
   "cell_type": "markdown",
   "metadata": {},
   "source": [
    "### For Comparison Graph"
   ]
  },
  {
   "cell_type": "code",
   "execution_count": 306,
   "metadata": {
    "collapsed": true
   },
   "outputs": [],
   "source": [
    "from sklearn.neighbors import KNeighborsClassifier"
   ]
  },
  {
   "cell_type": "code",
   "execution_count": 307,
   "metadata": {
    "collapsed": true
   },
   "outputs": [],
   "source": [
    "size = np.linspace(0.1,1,100)\n",
    "\n",
    "sample_size = x_train.shape[0]*size\n",
    "\n",
    "training_space = []\n",
    "\n",
    "for i in sample_size:\n",
    "    training_space.append(int(i))\n",
    "    \n",
    "k_test_scores_1 = []\n",
    "k_train_scores_1 = []\n",
    "\n",
    "for i in training_space:\n",
    "\n",
    "    x_new = x_train.iloc[:i,:]    \n",
    "    y_new = y_train[:i]\n",
    "    \n",
    "    #Model Creation\n",
    "    model_k = KNeighborsClassifier(n_neighbors = 16, p=2)\n",
    "    model_k.fit(x_new, y_new)\n",
    "    \n",
    "    train_pred = model_k.predict(x_train)\n",
    "    fpr, tpr, thresholds = roc_curve(y_train, train_pred)\n",
    "    roc_auc = auc(fpr, tpr)\n",
    "    k_train_scores_1.append(roc_auc)\n",
    "    \n",
    "    test_pred = model_k.predict(x_test)\n",
    "    fpr_test, tpr_test, thesholds_test = roc_curve(y_test, test_pred)\n",
    "    roc_auc_test = auc(fpr_test, tpr_test)\n",
    "    k_test_scores_1.append(roc_auc_test)"
   ]
  },
  {
   "cell_type": "code",
   "execution_count": 312,
   "metadata": {},
   "outputs": [
    {
     "data": {
      "image/png": "[encoded data removed]",
      "text/plain": [
       "<matplotlib.figure.Figure at 0x1a3e49fe10>"
      ]
     },
     "metadata": {},
     "output_type": "display_data"
    }
   ],
   "source": [
    "plt.figure(figsize=(15,10))\n",
    "\n",
    "plt.plot(training_space, test_scores_1, 'r-', label='Relu Test')\n",
    "plt.plot(training_space, test_scores_2, 'b-', label='Sigmoid Test')\n",
    "plt.plot(training_space, test_scores_3, '-', label='Tanh Test')\n",
    "plt.plot(training_space, k_test_scores_1, 'g-', label='k-Neighbor Test')\n",
    "\n",
    "plt.plot(training_space, train_scores_1, 'r--', label='Relu Train')\n",
    "plt.plot(training_space, train_scores_2, 'b--', label='Sigmoid Train')\n",
    "plt.plot(training_space, train_scores_3, '--', label='Tanh Train')\n",
    "plt.plot(training_space, k_train_scores_1, 'g--', label='k-Neighbor Train')\n",
    "\n",
    "\n",
    "plt.legend(loc='best')\n",
    "plt.title('AUC Comparison Graph')\n",
    "plt.xlabel('Training Space', size = 12)\n",
    "plt.ylabel('Area Under Curve', size = 12)\n",
    "plt.show()"
   ]
  }
 ],
 "metadata": {
  "kernelspec": {
   "display_name": "Python 3",
   "language": "python",
   "name": "python3"
  },
  "language_info": {
   "codemirror_mode": {
    "name": "ipython",
    "version": 3
   },
   "file_extension": ".py",
   "mimetype": "text/x-python",
   "name": "python",
   "nbconvert_exporter": "python",
   "pygments_lexer": "ipython3",
   "version": "3.6.2"
  }
 },
 "nbformat": 4,
 "nbformat_minor": 2
}
